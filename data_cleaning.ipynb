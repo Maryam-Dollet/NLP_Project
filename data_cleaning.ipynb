{
 "cells": [
  {
   "cell_type": "code",
   "execution_count": 110,
   "metadata": {},
   "outputs": [],
   "source": [
    "import pandas as pd\n",
    "import nltk\n",
    "from cleantext import clean\n",
    "import tqdm"
   ]
  },
  {
   "cell_type": "markdown",
   "metadata": {},
   "source": [
    "## Data importation"
   ]
  },
  {
   "cell_type": "code",
   "execution_count": 5,
   "metadata": {},
   "outputs": [],
   "source": [
    "reviews_df = pd.read_csv(\"data/reviews.csv\", sep=\";\")"
   ]
  },
  {
   "cell_type": "code",
   "execution_count": 9,
   "metadata": {},
   "outputs": [
    {
     "data": {
      "text/html": [
       "<div>\n",
       "<style scoped>\n",
       "    .dataframe tbody tr th:only-of-type {\n",
       "        vertical-align: middle;\n",
       "    }\n",
       "\n",
       "    .dataframe tbody tr th {\n",
       "        vertical-align: top;\n",
       "    }\n",
       "\n",
       "    .dataframe thead th {\n",
       "        text-align: right;\n",
       "    }\n",
       "</style>\n",
       "<table border=\"1\" class=\"dataframe\">\n",
       "  <thead>\n",
       "    <tr style=\"text-align: right;\">\n",
       "      <th></th>\n",
       "      <th>category_link</th>\n",
       "      <th>company_link</th>\n",
       "      <th>company_name</th>\n",
       "      <th>score</th>\n",
       "      <th>description</th>\n",
       "      <th>review_page_nb</th>\n",
       "      <th>review_link</th>\n",
       "      <th>review_score</th>\n",
       "      <th>review_title</th>\n",
       "      <th>review_text</th>\n",
       "      <th>category</th>\n",
       "    </tr>\n",
       "  </thead>\n",
       "  <tbody>\n",
       "    <tr>\n",
       "      <th>0</th>\n",
       "      <td>https://fr.trustpilot.com/categories/food_beve...</td>\n",
       "      <td>https://fr.trustpilot.com/review/lefourgon.com</td>\n",
       "      <td>Le Fourgon</td>\n",
       "      <td>4,9</td>\n",
       "      <td>Le Fourgon vous livre vos boissons consignées ...</td>\n",
       "      <td>329</td>\n",
       "      <td>https://fr.trustpilot.com/reviews/65a5388a60d6...</td>\n",
       "      <td>5</td>\n",
       "      <td>Application conviviale pour passer ses…</td>\n",
       "      <td>Application conviviale pour passer ses command...</td>\n",
       "      <td>food_beverages_tobacco</td>\n",
       "    </tr>\n",
       "    <tr>\n",
       "      <th>1</th>\n",
       "      <td>https://fr.trustpilot.com/categories/food_beve...</td>\n",
       "      <td>https://fr.trustpilot.com/review/lefourgon.com</td>\n",
       "      <td>Le Fourgon</td>\n",
       "      <td>4,9</td>\n",
       "      <td>Le Fourgon vous livre vos boissons consignées ...</td>\n",
       "      <td>329</td>\n",
       "      <td>https://fr.trustpilot.com/reviews/65a53245a223...</td>\n",
       "      <td>5</td>\n",
       "      <td>Très facile pour la commande</td>\n",
       "      <td>Très facile pour la commande, très rapide et l...</td>\n",
       "      <td>food_beverages_tobacco</td>\n",
       "    </tr>\n",
       "    <tr>\n",
       "      <th>2</th>\n",
       "      <td>https://fr.trustpilot.com/categories/food_beve...</td>\n",
       "      <td>https://fr.trustpilot.com/review/lefourgon.com</td>\n",
       "      <td>Le Fourgon</td>\n",
       "      <td>4,9</td>\n",
       "      <td>Le Fourgon vous livre vos boissons consignées ...</td>\n",
       "      <td>329</td>\n",
       "      <td>https://fr.trustpilot.com/reviews/659f0e15dd57...</td>\n",
       "      <td>5</td>\n",
       "      <td>Première expérience réussie !</td>\n",
       "      <td>Pour nous, c'était une première.Ravis d'avoir ...</td>\n",
       "      <td>food_beverages_tobacco</td>\n",
       "    </tr>\n",
       "    <tr>\n",
       "      <th>3</th>\n",
       "      <td>https://fr.trustpilot.com/categories/food_beve...</td>\n",
       "      <td>https://fr.trustpilot.com/review/lefourgon.com</td>\n",
       "      <td>Le Fourgon</td>\n",
       "      <td>4,9</td>\n",
       "      <td>Le Fourgon vous livre vos boissons consignées ...</td>\n",
       "      <td>329</td>\n",
       "      <td>https://fr.trustpilot.com/reviews/65a535a6ef47...</td>\n",
       "      <td>5</td>\n",
       "      <td>Livraison parfaite !!</td>\n",
       "      <td>Livraison parfaite !!! Tout est clair et respe...</td>\n",
       "      <td>food_beverages_tobacco</td>\n",
       "    </tr>\n",
       "    <tr>\n",
       "      <th>4</th>\n",
       "      <td>https://fr.trustpilot.com/categories/food_beve...</td>\n",
       "      <td>https://fr.trustpilot.com/review/lefourgon.com</td>\n",
       "      <td>Le Fourgon</td>\n",
       "      <td>4,9</td>\n",
       "      <td>Le Fourgon vous livre vos boissons consignées ...</td>\n",
       "      <td>329</td>\n",
       "      <td>https://fr.trustpilot.com/reviews/659e5c5b3f1e...</td>\n",
       "      <td>5</td>\n",
       "      <td>Livraison super efficace</td>\n",
       "      <td>Livraison super efficace, produits de qualités...</td>\n",
       "      <td>food_beverages_tobacco</td>\n",
       "    </tr>\n",
       "    <tr>\n",
       "      <th>...</th>\n",
       "      <td>...</td>\n",
       "      <td>...</td>\n",
       "      <td>...</td>\n",
       "      <td>...</td>\n",
       "      <td>...</td>\n",
       "      <td>...</td>\n",
       "      <td>...</td>\n",
       "      <td>...</td>\n",
       "      <td>...</td>\n",
       "      <td>...</td>\n",
       "      <td>...</td>\n",
       "    </tr>\n",
       "    <tr>\n",
       "      <th>235498</th>\n",
       "      <td>https://fr.trustpilot.com/categories/vehicles_...</td>\n",
       "      <td>https://fr.trustpilot.com/review/allpneus.com</td>\n",
       "      <td>Allpneus - APN Pneumatiques</td>\n",
       "      <td>4,6</td>\n",
       "      <td>\\nBienvenue chez Allpneus !\\nDepuis 2006, ALLP...</td>\n",
       "      <td>76</td>\n",
       "      <td>https://fr.trustpilot.com/reviews/659c57814912...</td>\n",
       "      <td>1</td>\n",
       "      <td>non conforme au descriptif du site</td>\n",
       "      <td>après une première livraison fausse : pas les ...</td>\n",
       "      <td>vehicles_transportation</td>\n",
       "    </tr>\n",
       "    <tr>\n",
       "      <th>235499</th>\n",
       "      <td>https://fr.trustpilot.com/categories/vehicles_...</td>\n",
       "      <td>https://fr.trustpilot.com/review/allpneus.com</td>\n",
       "      <td>Allpneus - APN Pneumatiques</td>\n",
       "      <td>4,6</td>\n",
       "      <td>\\nBienvenue chez Allpneus !\\nDepuis 2006, ALLP...</td>\n",
       "      <td>76</td>\n",
       "      <td>https://fr.trustpilot.com/reviews/6592e5f3cf8b...</td>\n",
       "      <td>4</td>\n",
       "      <td>presque parfait !! manque la facture !!</td>\n",
       "      <td>commande et livraison ok, paiement par carte i...</td>\n",
       "      <td>vehicles_transportation</td>\n",
       "    </tr>\n",
       "    <tr>\n",
       "      <th>235500</th>\n",
       "      <td>https://fr.trustpilot.com/categories/vehicles_...</td>\n",
       "      <td>https://fr.trustpilot.com/review/allpneus.com</td>\n",
       "      <td>Allpneus - APN Pneumatiques</td>\n",
       "      <td>4,6</td>\n",
       "      <td>\\nBienvenue chez Allpneus !\\nDepuis 2006, ALLP...</td>\n",
       "      <td>76</td>\n",
       "      <td>https://fr.trustpilot.com/reviews/65781d1656c0...</td>\n",
       "      <td>4</td>\n",
       "      <td>Parfait sauf le service de livraison</td>\n",
       "      <td>Rien a dire pour ALLPNEUS c'est parfait. Comma...</td>\n",
       "      <td>vehicles_transportation</td>\n",
       "    </tr>\n",
       "    <tr>\n",
       "      <th>235501</th>\n",
       "      <td>https://fr.trustpilot.com/categories/vehicles_...</td>\n",
       "      <td>https://fr.trustpilot.com/review/allpneus.com</td>\n",
       "      <td>Allpneus - APN Pneumatiques</td>\n",
       "      <td>4,6</td>\n",
       "      <td>\\nBienvenue chez Allpneus !\\nDepuis 2006, ALLP...</td>\n",
       "      <td>76</td>\n",
       "      <td>https://fr.trustpilot.com/reviews/658587017947...</td>\n",
       "      <td>5</td>\n",
       "      <td>j'ai trouvé chez vous la dimension peu…</td>\n",
       "      <td>j'ai trouvé chez vous la dimension peu courant...</td>\n",
       "      <td>vehicles_transportation</td>\n",
       "    </tr>\n",
       "    <tr>\n",
       "      <th>235502</th>\n",
       "      <td>https://fr.trustpilot.com/categories/vehicles_...</td>\n",
       "      <td>https://fr.trustpilot.com/review/allpneus.com</td>\n",
       "      <td>Allpneus - APN Pneumatiques</td>\n",
       "      <td>4,6</td>\n",
       "      <td>\\nBienvenue chez Allpneus !\\nDepuis 2006, ALLP...</td>\n",
       "      <td>76</td>\n",
       "      <td>https://fr.trustpilot.com/reviews/65943bef2496...</td>\n",
       "      <td>5</td>\n",
       "      <td>pneu remorque grande vitesse</td>\n",
       "      <td>commande rapide et conforme bien emballé super...</td>\n",
       "      <td>vehicles_transportation</td>\n",
       "    </tr>\n",
       "  </tbody>\n",
       "</table>\n",
       "<p>235503 rows × 11 columns</p>\n",
       "</div>"
      ],
      "text/plain": [
       "                                            category_link  \\\n",
       "0       https://fr.trustpilot.com/categories/food_beve...   \n",
       "1       https://fr.trustpilot.com/categories/food_beve...   \n",
       "2       https://fr.trustpilot.com/categories/food_beve...   \n",
       "3       https://fr.trustpilot.com/categories/food_beve...   \n",
       "4       https://fr.trustpilot.com/categories/food_beve...   \n",
       "...                                                   ...   \n",
       "235498  https://fr.trustpilot.com/categories/vehicles_...   \n",
       "235499  https://fr.trustpilot.com/categories/vehicles_...   \n",
       "235500  https://fr.trustpilot.com/categories/vehicles_...   \n",
       "235501  https://fr.trustpilot.com/categories/vehicles_...   \n",
       "235502  https://fr.trustpilot.com/categories/vehicles_...   \n",
       "\n",
       "                                          company_link  \\\n",
       "0       https://fr.trustpilot.com/review/lefourgon.com   \n",
       "1       https://fr.trustpilot.com/review/lefourgon.com   \n",
       "2       https://fr.trustpilot.com/review/lefourgon.com   \n",
       "3       https://fr.trustpilot.com/review/lefourgon.com   \n",
       "4       https://fr.trustpilot.com/review/lefourgon.com   \n",
       "...                                                ...   \n",
       "235498   https://fr.trustpilot.com/review/allpneus.com   \n",
       "235499   https://fr.trustpilot.com/review/allpneus.com   \n",
       "235500   https://fr.trustpilot.com/review/allpneus.com   \n",
       "235501   https://fr.trustpilot.com/review/allpneus.com   \n",
       "235502   https://fr.trustpilot.com/review/allpneus.com   \n",
       "\n",
       "                        company_name score  \\\n",
       "0                        Le Fourgon    4,9   \n",
       "1                        Le Fourgon    4,9   \n",
       "2                        Le Fourgon    4,9   \n",
       "3                        Le Fourgon    4,9   \n",
       "4                        Le Fourgon    4,9   \n",
       "...                              ...   ...   \n",
       "235498  Allpneus - APN Pneumatiques    4,6   \n",
       "235499  Allpneus - APN Pneumatiques    4,6   \n",
       "235500  Allpneus - APN Pneumatiques    4,6   \n",
       "235501  Allpneus - APN Pneumatiques    4,6   \n",
       "235502  Allpneus - APN Pneumatiques    4,6   \n",
       "\n",
       "                                              description  review_page_nb  \\\n",
       "0       Le Fourgon vous livre vos boissons consignées ...             329   \n",
       "1       Le Fourgon vous livre vos boissons consignées ...             329   \n",
       "2       Le Fourgon vous livre vos boissons consignées ...             329   \n",
       "3       Le Fourgon vous livre vos boissons consignées ...             329   \n",
       "4       Le Fourgon vous livre vos boissons consignées ...             329   \n",
       "...                                                   ...             ...   \n",
       "235498  \\nBienvenue chez Allpneus !\\nDepuis 2006, ALLP...              76   \n",
       "235499  \\nBienvenue chez Allpneus !\\nDepuis 2006, ALLP...              76   \n",
       "235500  \\nBienvenue chez Allpneus !\\nDepuis 2006, ALLP...              76   \n",
       "235501  \\nBienvenue chez Allpneus !\\nDepuis 2006, ALLP...              76   \n",
       "235502  \\nBienvenue chez Allpneus !\\nDepuis 2006, ALLP...              76   \n",
       "\n",
       "                                              review_link  review_score  \\\n",
       "0       https://fr.trustpilot.com/reviews/65a5388a60d6...             5   \n",
       "1       https://fr.trustpilot.com/reviews/65a53245a223...             5   \n",
       "2       https://fr.trustpilot.com/reviews/659f0e15dd57...             5   \n",
       "3       https://fr.trustpilot.com/reviews/65a535a6ef47...             5   \n",
       "4       https://fr.trustpilot.com/reviews/659e5c5b3f1e...             5   \n",
       "...                                                   ...           ...   \n",
       "235498  https://fr.trustpilot.com/reviews/659c57814912...             1   \n",
       "235499  https://fr.trustpilot.com/reviews/6592e5f3cf8b...             4   \n",
       "235500  https://fr.trustpilot.com/reviews/65781d1656c0...             4   \n",
       "235501  https://fr.trustpilot.com/reviews/658587017947...             5   \n",
       "235502  https://fr.trustpilot.com/reviews/65943bef2496...             5   \n",
       "\n",
       "                                   review_title  \\\n",
       "0       Application conviviale pour passer ses…   \n",
       "1                  Très facile pour la commande   \n",
       "2                 Première expérience réussie !   \n",
       "3                         Livraison parfaite !!   \n",
       "4                      Livraison super efficace   \n",
       "...                                         ...   \n",
       "235498       non conforme au descriptif du site   \n",
       "235499  presque parfait !! manque la facture !!   \n",
       "235500     Parfait sauf le service de livraison   \n",
       "235501  j'ai trouvé chez vous la dimension peu…   \n",
       "235502             pneu remorque grande vitesse   \n",
       "\n",
       "                                              review_text  \\\n",
       "0       Application conviviale pour passer ses command...   \n",
       "1       Très facile pour la commande, très rapide et l...   \n",
       "2       Pour nous, c'était une première.Ravis d'avoir ...   \n",
       "3       Livraison parfaite !!! Tout est clair et respe...   \n",
       "4       Livraison super efficace, produits de qualités...   \n",
       "...                                                   ...   \n",
       "235498  après une première livraison fausse : pas les ...   \n",
       "235499  commande et livraison ok, paiement par carte i...   \n",
       "235500  Rien a dire pour ALLPNEUS c'est parfait. Comma...   \n",
       "235501  j'ai trouvé chez vous la dimension peu courant...   \n",
       "235502  commande rapide et conforme bien emballé super...   \n",
       "\n",
       "                       category  \n",
       "0        food_beverages_tobacco  \n",
       "1        food_beverages_tobacco  \n",
       "2        food_beverages_tobacco  \n",
       "3        food_beverages_tobacco  \n",
       "4        food_beverages_tobacco  \n",
       "...                         ...  \n",
       "235498  vehicles_transportation  \n",
       "235499  vehicles_transportation  \n",
       "235500  vehicles_transportation  \n",
       "235501  vehicles_transportation  \n",
       "235502  vehicles_transportation  \n",
       "\n",
       "[235503 rows x 11 columns]"
      ]
     },
     "execution_count": 9,
     "metadata": {},
     "output_type": "execute_result"
    }
   ],
   "source": [
    "reviews_df"
   ]
  },
  {
   "cell_type": "markdown",
   "metadata": {},
   "source": [
    "## Text Data Cleaning"
   ]
  },
  {
   "cell_type": "code",
   "execution_count": 11,
   "metadata": {},
   "outputs": [],
   "source": [
    "reviews_df = reviews_df[[\"company_name\", \"score\", \"description\", \"review_score\", \"review_title\", \"review_text\", \"category\"]]"
   ]
  },
  {
   "cell_type": "code",
   "execution_count": 12,
   "metadata": {},
   "outputs": [
    {
     "data": {
      "text/html": [
       "<div>\n",
       "<style scoped>\n",
       "    .dataframe tbody tr th:only-of-type {\n",
       "        vertical-align: middle;\n",
       "    }\n",
       "\n",
       "    .dataframe tbody tr th {\n",
       "        vertical-align: top;\n",
       "    }\n",
       "\n",
       "    .dataframe thead th {\n",
       "        text-align: right;\n",
       "    }\n",
       "</style>\n",
       "<table border=\"1\" class=\"dataframe\">\n",
       "  <thead>\n",
       "    <tr style=\"text-align: right;\">\n",
       "      <th></th>\n",
       "      <th>company_name</th>\n",
       "      <th>score</th>\n",
       "      <th>description</th>\n",
       "      <th>review_score</th>\n",
       "      <th>review_title</th>\n",
       "      <th>review_text</th>\n",
       "      <th>category</th>\n",
       "    </tr>\n",
       "  </thead>\n",
       "  <tbody>\n",
       "    <tr>\n",
       "      <th>0</th>\n",
       "      <td>Le Fourgon</td>\n",
       "      <td>4,9</td>\n",
       "      <td>Le Fourgon vous livre vos boissons consignées ...</td>\n",
       "      <td>5</td>\n",
       "      <td>Application conviviale pour passer ses…</td>\n",
       "      <td>Application conviviale pour passer ses command...</td>\n",
       "      <td>food_beverages_tobacco</td>\n",
       "    </tr>\n",
       "    <tr>\n",
       "      <th>1</th>\n",
       "      <td>Le Fourgon</td>\n",
       "      <td>4,9</td>\n",
       "      <td>Le Fourgon vous livre vos boissons consignées ...</td>\n",
       "      <td>5</td>\n",
       "      <td>Très facile pour la commande</td>\n",
       "      <td>Très facile pour la commande, très rapide et l...</td>\n",
       "      <td>food_beverages_tobacco</td>\n",
       "    </tr>\n",
       "    <tr>\n",
       "      <th>2</th>\n",
       "      <td>Le Fourgon</td>\n",
       "      <td>4,9</td>\n",
       "      <td>Le Fourgon vous livre vos boissons consignées ...</td>\n",
       "      <td>5</td>\n",
       "      <td>Première expérience réussie !</td>\n",
       "      <td>Pour nous, c'était une première.Ravis d'avoir ...</td>\n",
       "      <td>food_beverages_tobacco</td>\n",
       "    </tr>\n",
       "    <tr>\n",
       "      <th>3</th>\n",
       "      <td>Le Fourgon</td>\n",
       "      <td>4,9</td>\n",
       "      <td>Le Fourgon vous livre vos boissons consignées ...</td>\n",
       "      <td>5</td>\n",
       "      <td>Livraison parfaite !!</td>\n",
       "      <td>Livraison parfaite !!! Tout est clair et respe...</td>\n",
       "      <td>food_beverages_tobacco</td>\n",
       "    </tr>\n",
       "    <tr>\n",
       "      <th>4</th>\n",
       "      <td>Le Fourgon</td>\n",
       "      <td>4,9</td>\n",
       "      <td>Le Fourgon vous livre vos boissons consignées ...</td>\n",
       "      <td>5</td>\n",
       "      <td>Livraison super efficace</td>\n",
       "      <td>Livraison super efficace, produits de qualités...</td>\n",
       "      <td>food_beverages_tobacco</td>\n",
       "    </tr>\n",
       "    <tr>\n",
       "      <th>...</th>\n",
       "      <td>...</td>\n",
       "      <td>...</td>\n",
       "      <td>...</td>\n",
       "      <td>...</td>\n",
       "      <td>...</td>\n",
       "      <td>...</td>\n",
       "      <td>...</td>\n",
       "    </tr>\n",
       "    <tr>\n",
       "      <th>235498</th>\n",
       "      <td>Allpneus - APN Pneumatiques</td>\n",
       "      <td>4,6</td>\n",
       "      <td>\\nBienvenue chez Allpneus !\\nDepuis 2006, ALLP...</td>\n",
       "      <td>1</td>\n",
       "      <td>non conforme au descriptif du site</td>\n",
       "      <td>après une première livraison fausse : pas les ...</td>\n",
       "      <td>vehicles_transportation</td>\n",
       "    </tr>\n",
       "    <tr>\n",
       "      <th>235499</th>\n",
       "      <td>Allpneus - APN Pneumatiques</td>\n",
       "      <td>4,6</td>\n",
       "      <td>\\nBienvenue chez Allpneus !\\nDepuis 2006, ALLP...</td>\n",
       "      <td>4</td>\n",
       "      <td>presque parfait !! manque la facture !!</td>\n",
       "      <td>commande et livraison ok, paiement par carte i...</td>\n",
       "      <td>vehicles_transportation</td>\n",
       "    </tr>\n",
       "    <tr>\n",
       "      <th>235500</th>\n",
       "      <td>Allpneus - APN Pneumatiques</td>\n",
       "      <td>4,6</td>\n",
       "      <td>\\nBienvenue chez Allpneus !\\nDepuis 2006, ALLP...</td>\n",
       "      <td>4</td>\n",
       "      <td>Parfait sauf le service de livraison</td>\n",
       "      <td>Rien a dire pour ALLPNEUS c'est parfait. Comma...</td>\n",
       "      <td>vehicles_transportation</td>\n",
       "    </tr>\n",
       "    <tr>\n",
       "      <th>235501</th>\n",
       "      <td>Allpneus - APN Pneumatiques</td>\n",
       "      <td>4,6</td>\n",
       "      <td>\\nBienvenue chez Allpneus !\\nDepuis 2006, ALLP...</td>\n",
       "      <td>5</td>\n",
       "      <td>j'ai trouvé chez vous la dimension peu…</td>\n",
       "      <td>j'ai trouvé chez vous la dimension peu courant...</td>\n",
       "      <td>vehicles_transportation</td>\n",
       "    </tr>\n",
       "    <tr>\n",
       "      <th>235502</th>\n",
       "      <td>Allpneus - APN Pneumatiques</td>\n",
       "      <td>4,6</td>\n",
       "      <td>\\nBienvenue chez Allpneus !\\nDepuis 2006, ALLP...</td>\n",
       "      <td>5</td>\n",
       "      <td>pneu remorque grande vitesse</td>\n",
       "      <td>commande rapide et conforme bien emballé super...</td>\n",
       "      <td>vehicles_transportation</td>\n",
       "    </tr>\n",
       "  </tbody>\n",
       "</table>\n",
       "<p>235503 rows × 7 columns</p>\n",
       "</div>"
      ],
      "text/plain": [
       "                        company_name score  \\\n",
       "0                        Le Fourgon    4,9   \n",
       "1                        Le Fourgon    4,9   \n",
       "2                        Le Fourgon    4,9   \n",
       "3                        Le Fourgon    4,9   \n",
       "4                        Le Fourgon    4,9   \n",
       "...                              ...   ...   \n",
       "235498  Allpneus - APN Pneumatiques    4,6   \n",
       "235499  Allpneus - APN Pneumatiques    4,6   \n",
       "235500  Allpneus - APN Pneumatiques    4,6   \n",
       "235501  Allpneus - APN Pneumatiques    4,6   \n",
       "235502  Allpneus - APN Pneumatiques    4,6   \n",
       "\n",
       "                                              description  review_score  \\\n",
       "0       Le Fourgon vous livre vos boissons consignées ...             5   \n",
       "1       Le Fourgon vous livre vos boissons consignées ...             5   \n",
       "2       Le Fourgon vous livre vos boissons consignées ...             5   \n",
       "3       Le Fourgon vous livre vos boissons consignées ...             5   \n",
       "4       Le Fourgon vous livre vos boissons consignées ...             5   \n",
       "...                                                   ...           ...   \n",
       "235498  \\nBienvenue chez Allpneus !\\nDepuis 2006, ALLP...             1   \n",
       "235499  \\nBienvenue chez Allpneus !\\nDepuis 2006, ALLP...             4   \n",
       "235500  \\nBienvenue chez Allpneus !\\nDepuis 2006, ALLP...             4   \n",
       "235501  \\nBienvenue chez Allpneus !\\nDepuis 2006, ALLP...             5   \n",
       "235502  \\nBienvenue chez Allpneus !\\nDepuis 2006, ALLP...             5   \n",
       "\n",
       "                                   review_title  \\\n",
       "0       Application conviviale pour passer ses…   \n",
       "1                  Très facile pour la commande   \n",
       "2                 Première expérience réussie !   \n",
       "3                         Livraison parfaite !!   \n",
       "4                      Livraison super efficace   \n",
       "...                                         ...   \n",
       "235498       non conforme au descriptif du site   \n",
       "235499  presque parfait !! manque la facture !!   \n",
       "235500     Parfait sauf le service de livraison   \n",
       "235501  j'ai trouvé chez vous la dimension peu…   \n",
       "235502             pneu remorque grande vitesse   \n",
       "\n",
       "                                              review_text  \\\n",
       "0       Application conviviale pour passer ses command...   \n",
       "1       Très facile pour la commande, très rapide et l...   \n",
       "2       Pour nous, c'était une première.Ravis d'avoir ...   \n",
       "3       Livraison parfaite !!! Tout est clair et respe...   \n",
       "4       Livraison super efficace, produits de qualités...   \n",
       "...                                                   ...   \n",
       "235498  après une première livraison fausse : pas les ...   \n",
       "235499  commande et livraison ok, paiement par carte i...   \n",
       "235500  Rien a dire pour ALLPNEUS c'est parfait. Comma...   \n",
       "235501  j'ai trouvé chez vous la dimension peu courant...   \n",
       "235502  commande rapide et conforme bien emballé super...   \n",
       "\n",
       "                       category  \n",
       "0        food_beverages_tobacco  \n",
       "1        food_beverages_tobacco  \n",
       "2        food_beverages_tobacco  \n",
       "3        food_beverages_tobacco  \n",
       "4        food_beverages_tobacco  \n",
       "...                         ...  \n",
       "235498  vehicles_transportation  \n",
       "235499  vehicles_transportation  \n",
       "235500  vehicles_transportation  \n",
       "235501  vehicles_transportation  \n",
       "235502  vehicles_transportation  \n",
       "\n",
       "[235503 rows x 7 columns]"
      ]
     },
     "execution_count": 12,
     "metadata": {},
     "output_type": "execute_result"
    }
   ],
   "source": [
    "reviews_df"
   ]
  },
  {
   "cell_type": "markdown",
   "metadata": {},
   "source": [
    "cleantext library to remove emojis and line breaks"
   ]
  },
  {
   "cell_type": "code",
   "execution_count": 30,
   "metadata": {},
   "outputs": [
    {
     "data": {
      "text/plain": [
       "'Le Fourgon vous livre vos boissons consignées à domicile :\\n🍶 la commande se passe sur lefourgon.com : bières, jus, sodas, eaux, lait, vins, soupes, spririteux, & co.\\n🚚 nous vous livrons gratuitement chez vous sur le créneau choisi\\n🌱 et au passage suivant on récupère vos bouteilles vides qu’on renvoie lavées au producteur pour ré-emploi #zerodechet'"
      ]
     },
     "execution_count": 30,
     "metadata": {},
     "output_type": "execute_result"
    }
   ],
   "source": [
    "reviews_df[\"c\"].values[0]"
   ]
  },
  {
   "cell_type": "code",
   "execution_count": 32,
   "metadata": {},
   "outputs": [
    {
     "data": {
      "text/plain": [
       "\"Le Fourgon vous livre vos boissons consignees a domicile : la commande se passe sur lefourgon.com : bieres, jus, sodas, eaux, lait, vins, soupes, spririteux, & co. nous vous livrons gratuitement chez vous sur le creneau choisi et au passage suivant on recupere vos bouteilles vides qu'on renvoie lavees au producteur pour re-emploi zerodechet\""
      ]
     },
     "execution_count": 32,
     "metadata": {},
     "output_type": "execute_result"
    }
   ],
   "source": [
    "clean(reviews_df[\"description\"].values[0], no_emoji=True, no_line_breaks=True, lower=False).replace(\"#\", \"\")"
   ]
  },
  {
   "cell_type": "code",
   "execution_count": 33,
   "metadata": {},
   "outputs": [
    {
     "name": "stderr",
     "output_type": "stream",
     "text": [
      "C:\\Users\\marya\\AppData\\Local\\Temp\\ipykernel_31708\\2730620396.py:1: SettingWithCopyWarning: \n",
      "A value is trying to be set on a copy of a slice from a DataFrame.\n",
      "Try using .loc[row_indexer,col_indexer] = value instead\n",
      "\n",
      "See the caveats in the documentation: https://pandas.pydata.org/pandas-docs/stable/user_guide/indexing.html#returning-a-view-versus-a-copy\n",
      "  reviews_df[\"description\"] = reviews_df[\"description\"].apply(lambda x: clean(x, no_emoji=True, no_line_breaks=True, lower=False).replace(\"#\", \"\"))\n"
     ]
    }
   ],
   "source": [
    "reviews_df[\"description\"] = reviews_df[\"description\"].apply(lambda x: clean(x, no_emoji=True, no_line_breaks=True, lower=False).replace(\"#\", \"\"))"
   ]
  },
  {
   "cell_type": "code",
   "execution_count": 35,
   "metadata": {},
   "outputs": [
    {
     "data": {
      "text/plain": [
       "'\"Belleville Brulerie - Paris\" est une torrefaction de cafes de qualite en faveur du cafe frais, du cafe filtre, du cafe bodum et des assemblages.'"
      ]
     },
     "execution_count": 35,
     "metadata": {},
     "output_type": "execute_result"
    }
   ],
   "source": [
    "reviews_df[\"description\"].values[100]"
   ]
  },
  {
   "cell_type": "code",
   "execution_count": 36,
   "metadata": {},
   "outputs": [
    {
     "name": "stderr",
     "output_type": "stream",
     "text": [
      "C:\\Users\\marya\\AppData\\Local\\Temp\\ipykernel_31708\\3339734242.py:1: SettingWithCopyWarning: \n",
      "A value is trying to be set on a copy of a slice from a DataFrame.\n",
      "Try using .loc[row_indexer,col_indexer] = value instead\n",
      "\n",
      "See the caveats in the documentation: https://pandas.pydata.org/pandas-docs/stable/user_guide/indexing.html#returning-a-view-versus-a-copy\n",
      "  reviews_df[\"review_title\"] = reviews_df[\"review_title\"].apply(lambda x: clean(x, no_emoji=True, no_line_breaks=True, lower=False).replace(\"#\", \"\"))\n"
     ]
    }
   ],
   "source": [
    "reviews_df[\"review_title\"] = reviews_df[\"review_title\"].apply(lambda x: clean(x, no_emoji=True, no_line_breaks=True, lower=False).replace(\"#\", \"\"))"
   ]
  },
  {
   "cell_type": "code",
   "execution_count": 37,
   "metadata": {},
   "outputs": [
    {
     "name": "stderr",
     "output_type": "stream",
     "text": [
      "C:\\Users\\marya\\AppData\\Local\\Temp\\ipykernel_31708\\864621105.py:1: SettingWithCopyWarning: \n",
      "A value is trying to be set on a copy of a slice from a DataFrame.\n",
      "Try using .loc[row_indexer,col_indexer] = value instead\n",
      "\n",
      "See the caveats in the documentation: https://pandas.pydata.org/pandas-docs/stable/user_guide/indexing.html#returning-a-view-versus-a-copy\n",
      "  reviews_df[\"review_text\"] = reviews_df[\"review_text\"].apply(lambda x: clean(x, no_emoji=True, no_line_breaks=True, lower=False).replace(\"#\", \"\"))\n"
     ]
    }
   ],
   "source": [
    "reviews_df[\"review_text\"] = reviews_df[\"review_text\"].apply(lambda x: clean(x, no_emoji=True, no_line_breaks=True, lower=False).replace(\"#\", \"\"))"
   ]
  },
  {
   "cell_type": "code",
   "execution_count": 38,
   "metadata": {},
   "outputs": [
    {
     "data": {
      "text/html": [
       "<div>\n",
       "<style scoped>\n",
       "    .dataframe tbody tr th:only-of-type {\n",
       "        vertical-align: middle;\n",
       "    }\n",
       "\n",
       "    .dataframe tbody tr th {\n",
       "        vertical-align: top;\n",
       "    }\n",
       "\n",
       "    .dataframe thead th {\n",
       "        text-align: right;\n",
       "    }\n",
       "</style>\n",
       "<table border=\"1\" class=\"dataframe\">\n",
       "  <thead>\n",
       "    <tr style=\"text-align: right;\">\n",
       "      <th></th>\n",
       "      <th>company_name</th>\n",
       "      <th>score</th>\n",
       "      <th>description</th>\n",
       "      <th>review_score</th>\n",
       "      <th>review_title</th>\n",
       "      <th>review_text</th>\n",
       "      <th>category</th>\n",
       "    </tr>\n",
       "  </thead>\n",
       "  <tbody>\n",
       "    <tr>\n",
       "      <th>0</th>\n",
       "      <td>Le Fourgon</td>\n",
       "      <td>4,9</td>\n",
       "      <td>Le Fourgon vous livre vos boissons consignees ...</td>\n",
       "      <td>5</td>\n",
       "      <td>Application conviviale pour passer ses</td>\n",
       "      <td>Application conviviale pour passer ses command...</td>\n",
       "      <td>food_beverages_tobacco</td>\n",
       "    </tr>\n",
       "    <tr>\n",
       "      <th>1</th>\n",
       "      <td>Le Fourgon</td>\n",
       "      <td>4,9</td>\n",
       "      <td>Le Fourgon vous livre vos boissons consignees ...</td>\n",
       "      <td>5</td>\n",
       "      <td>Tres facile pour la commande</td>\n",
       "      <td>Tres facile pour la commande, tres rapide et l...</td>\n",
       "      <td>food_beverages_tobacco</td>\n",
       "    </tr>\n",
       "    <tr>\n",
       "      <th>2</th>\n",
       "      <td>Le Fourgon</td>\n",
       "      <td>4,9</td>\n",
       "      <td>Le Fourgon vous livre vos boissons consignees ...</td>\n",
       "      <td>5</td>\n",
       "      <td>Premiere experience reussie !</td>\n",
       "      <td>Pour nous, c'etait une premiere.Ravis d'avoir ...</td>\n",
       "      <td>food_beverages_tobacco</td>\n",
       "    </tr>\n",
       "    <tr>\n",
       "      <th>3</th>\n",
       "      <td>Le Fourgon</td>\n",
       "      <td>4,9</td>\n",
       "      <td>Le Fourgon vous livre vos boissons consignees ...</td>\n",
       "      <td>5</td>\n",
       "      <td>Livraison parfaite !!</td>\n",
       "      <td>Livraison parfaite !!! Tout est clair et respe...</td>\n",
       "      <td>food_beverages_tobacco</td>\n",
       "    </tr>\n",
       "    <tr>\n",
       "      <th>4</th>\n",
       "      <td>Le Fourgon</td>\n",
       "      <td>4,9</td>\n",
       "      <td>Le Fourgon vous livre vos boissons consignees ...</td>\n",
       "      <td>5</td>\n",
       "      <td>Livraison super efficace</td>\n",
       "      <td>Livraison super efficace, produits de qualites...</td>\n",
       "      <td>food_beverages_tobacco</td>\n",
       "    </tr>\n",
       "    <tr>\n",
       "      <th>...</th>\n",
       "      <td>...</td>\n",
       "      <td>...</td>\n",
       "      <td>...</td>\n",
       "      <td>...</td>\n",
       "      <td>...</td>\n",
       "      <td>...</td>\n",
       "      <td>...</td>\n",
       "    </tr>\n",
       "    <tr>\n",
       "      <th>235498</th>\n",
       "      <td>Allpneus - APN Pneumatiques</td>\n",
       "      <td>4,6</td>\n",
       "      <td>Bienvenue chez Allpneus ! Depuis 2006, ALLPNEU...</td>\n",
       "      <td>1</td>\n",
       "      <td>non conforme au descriptif du site</td>\n",
       "      <td>apres une premiere livraison fausse : pas les ...</td>\n",
       "      <td>vehicles_transportation</td>\n",
       "    </tr>\n",
       "    <tr>\n",
       "      <th>235499</th>\n",
       "      <td>Allpneus - APN Pneumatiques</td>\n",
       "      <td>4,6</td>\n",
       "      <td>Bienvenue chez Allpneus ! Depuis 2006, ALLPNEU...</td>\n",
       "      <td>4</td>\n",
       "      <td>presque parfait !! manque la facture !!</td>\n",
       "      <td>commande et livraison ok, paiement par carte i...</td>\n",
       "      <td>vehicles_transportation</td>\n",
       "    </tr>\n",
       "    <tr>\n",
       "      <th>235500</th>\n",
       "      <td>Allpneus - APN Pneumatiques</td>\n",
       "      <td>4,6</td>\n",
       "      <td>Bienvenue chez Allpneus ! Depuis 2006, ALLPNEU...</td>\n",
       "      <td>4</td>\n",
       "      <td>Parfait sauf le service de livraison</td>\n",
       "      <td>Rien a dire pour ALLPNEUS c'est parfait. Comma...</td>\n",
       "      <td>vehicles_transportation</td>\n",
       "    </tr>\n",
       "    <tr>\n",
       "      <th>235501</th>\n",
       "      <td>Allpneus - APN Pneumatiques</td>\n",
       "      <td>4,6</td>\n",
       "      <td>Bienvenue chez Allpneus ! Depuis 2006, ALLPNEU...</td>\n",
       "      <td>5</td>\n",
       "      <td>j'ai trouve chez vous la dimension peu</td>\n",
       "      <td>j'ai trouve chez vous la dimension peu courant...</td>\n",
       "      <td>vehicles_transportation</td>\n",
       "    </tr>\n",
       "    <tr>\n",
       "      <th>235502</th>\n",
       "      <td>Allpneus - APN Pneumatiques</td>\n",
       "      <td>4,6</td>\n",
       "      <td>Bienvenue chez Allpneus ! Depuis 2006, ALLPNEU...</td>\n",
       "      <td>5</td>\n",
       "      <td>pneu remorque grande vitesse</td>\n",
       "      <td>commande rapide et conforme bien emballe super...</td>\n",
       "      <td>vehicles_transportation</td>\n",
       "    </tr>\n",
       "  </tbody>\n",
       "</table>\n",
       "<p>235503 rows × 7 columns</p>\n",
       "</div>"
      ],
      "text/plain": [
       "                        company_name score  \\\n",
       "0                        Le Fourgon    4,9   \n",
       "1                        Le Fourgon    4,9   \n",
       "2                        Le Fourgon    4,9   \n",
       "3                        Le Fourgon    4,9   \n",
       "4                        Le Fourgon    4,9   \n",
       "...                              ...   ...   \n",
       "235498  Allpneus - APN Pneumatiques    4,6   \n",
       "235499  Allpneus - APN Pneumatiques    4,6   \n",
       "235500  Allpneus - APN Pneumatiques    4,6   \n",
       "235501  Allpneus - APN Pneumatiques    4,6   \n",
       "235502  Allpneus - APN Pneumatiques    4,6   \n",
       "\n",
       "                                              description  review_score  \\\n",
       "0       Le Fourgon vous livre vos boissons consignees ...             5   \n",
       "1       Le Fourgon vous livre vos boissons consignees ...             5   \n",
       "2       Le Fourgon vous livre vos boissons consignees ...             5   \n",
       "3       Le Fourgon vous livre vos boissons consignees ...             5   \n",
       "4       Le Fourgon vous livre vos boissons consignees ...             5   \n",
       "...                                                   ...           ...   \n",
       "235498  Bienvenue chez Allpneus ! Depuis 2006, ALLPNEU...             1   \n",
       "235499  Bienvenue chez Allpneus ! Depuis 2006, ALLPNEU...             4   \n",
       "235500  Bienvenue chez Allpneus ! Depuis 2006, ALLPNEU...             4   \n",
       "235501  Bienvenue chez Allpneus ! Depuis 2006, ALLPNEU...             5   \n",
       "235502  Bienvenue chez Allpneus ! Depuis 2006, ALLPNEU...             5   \n",
       "\n",
       "                                   review_title  \\\n",
       "0        Application conviviale pour passer ses   \n",
       "1                  Tres facile pour la commande   \n",
       "2                 Premiere experience reussie !   \n",
       "3                         Livraison parfaite !!   \n",
       "4                      Livraison super efficace   \n",
       "...                                         ...   \n",
       "235498       non conforme au descriptif du site   \n",
       "235499  presque parfait !! manque la facture !!   \n",
       "235500     Parfait sauf le service de livraison   \n",
       "235501   j'ai trouve chez vous la dimension peu   \n",
       "235502             pneu remorque grande vitesse   \n",
       "\n",
       "                                              review_text  \\\n",
       "0       Application conviviale pour passer ses command...   \n",
       "1       Tres facile pour la commande, tres rapide et l...   \n",
       "2       Pour nous, c'etait une premiere.Ravis d'avoir ...   \n",
       "3       Livraison parfaite !!! Tout est clair et respe...   \n",
       "4       Livraison super efficace, produits de qualites...   \n",
       "...                                                   ...   \n",
       "235498  apres une premiere livraison fausse : pas les ...   \n",
       "235499  commande et livraison ok, paiement par carte i...   \n",
       "235500  Rien a dire pour ALLPNEUS c'est parfait. Comma...   \n",
       "235501  j'ai trouve chez vous la dimension peu courant...   \n",
       "235502  commande rapide et conforme bien emballe super...   \n",
       "\n",
       "                       category  \n",
       "0        food_beverages_tobacco  \n",
       "1        food_beverages_tobacco  \n",
       "2        food_beverages_tobacco  \n",
       "3        food_beverages_tobacco  \n",
       "4        food_beverages_tobacco  \n",
       "...                         ...  \n",
       "235498  vehicles_transportation  \n",
       "235499  vehicles_transportation  \n",
       "235500  vehicles_transportation  \n",
       "235501  vehicles_transportation  \n",
       "235502  vehicles_transportation  \n",
       "\n",
       "[235503 rows x 7 columns]"
      ]
     },
     "execution_count": 38,
     "metadata": {},
     "output_type": "execute_result"
    }
   ],
   "source": [
    "reviews_df"
   ]
  },
  {
   "cell_type": "code",
   "execution_count": 39,
   "metadata": {},
   "outputs": [],
   "source": [
    "# reviews_df.to_csv(\"data/reviews_cleaned_1.csv\", sep=\";\", index=False)"
   ]
  },
  {
   "cell_type": "markdown",
   "metadata": {},
   "source": [
    "## Translate text"
   ]
  },
  {
   "cell_type": "markdown",
   "metadata": {},
   "source": [
    "does not work..."
   ]
  },
  {
   "cell_type": "code",
   "execution_count": 53,
   "metadata": {},
   "outputs": [],
   "source": [
    "from translate import Translator"
   ]
  },
  {
   "cell_type": "code",
   "execution_count": 99,
   "metadata": {},
   "outputs": [
    {
     "data": {
      "text/plain": [
       "'Not in accordance with the site description'"
      ]
     },
     "execution_count": 99,
     "metadata": {},
     "output_type": "execute_result"
    }
   ],
   "source": [
    "translator = Translator(from_lang=\"fr\", to_lang=\"en\")\n",
    "translation = translator.translate(\"Non conforme au descriptif du site\")\n",
    "translation"
   ]
  },
  {
   "cell_type": "code",
   "execution_count": 71,
   "metadata": {},
   "outputs": [
    {
     "data": {
      "text/plain": [
       "\"C'est un stylo\""
      ]
     },
     "execution_count": 71,
     "metadata": {},
     "output_type": "execute_result"
    }
   ],
   "source": [
    "from translate import Translator\n",
    "translator= Translator(to_lang=\"fr\")\n",
    "translation = translator.translate(\"This is a pen.\")\n",
    "translation"
   ]
  },
  {
   "cell_type": "markdown",
   "metadata": {},
   "source": [
    "works"
   ]
  },
  {
   "cell_type": "code",
   "execution_count": 77,
   "metadata": {},
   "outputs": [],
   "source": [
    "from deep_translator import GoogleTranslator\n",
    "\n",
    "# Use any translator you like, in this example GoogleTranslator\n",
    "translated = GoogleTranslator(source='auto', target='de').translate(\"keep it up, you are awesome\")  # output -> Weiter so, du bist großartig"
   ]
  },
  {
   "cell_type": "code",
   "execution_count": 78,
   "metadata": {},
   "outputs": [
    {
     "data": {
      "text/plain": [
       "'Mach weiter so, du bist großartig'"
      ]
     },
     "execution_count": 78,
     "metadata": {},
     "output_type": "execute_result"
    }
   ],
   "source": [
    "translated"
   ]
  },
  {
   "cell_type": "code",
   "execution_count": 81,
   "metadata": {},
   "outputs": [],
   "source": [
    "translated = GoogleTranslator(source='fr', target='en').translate(\"non conforme au descriptif du site\")"
   ]
  },
  {
   "cell_type": "code",
   "execution_count": 82,
   "metadata": {},
   "outputs": [
    {
     "data": {
      "text/plain": [
       "'not consistent with the site description'"
      ]
     },
     "execution_count": 82,
     "metadata": {},
     "output_type": "execute_result"
    }
   ],
   "source": [
    "translated"
   ]
  },
  {
   "cell_type": "code",
   "execution_count": 89,
   "metadata": {},
   "outputs": [],
   "source": [
    "company_df = reviews_df[[\"company_name\", \"score\", \"description\"]].drop_duplicates(subset=[\"company_name\"], ignore_index=True)"
   ]
  },
  {
   "cell_type": "code",
   "execution_count": 93,
   "metadata": {},
   "outputs": [],
   "source": [
    "company_df[\"description_len\"] = company_df[\"description\"].str.len()"
   ]
  },
  {
   "cell_type": "code",
   "execution_count": 109,
   "metadata": {},
   "outputs": [
    {
     "data": {
      "text/html": [
       "<div>\n",
       "<style scoped>\n",
       "    .dataframe tbody tr th:only-of-type {\n",
       "        vertical-align: middle;\n",
       "    }\n",
       "\n",
       "    .dataframe tbody tr th {\n",
       "        vertical-align: top;\n",
       "    }\n",
       "\n",
       "    .dataframe thead th {\n",
       "        text-align: right;\n",
       "    }\n",
       "</style>\n",
       "<table border=\"1\" class=\"dataframe\">\n",
       "  <thead>\n",
       "    <tr style=\"text-align: right;\">\n",
       "      <th></th>\n",
       "      <th>company_name</th>\n",
       "      <th>score</th>\n",
       "      <th>description</th>\n",
       "      <th>description_len</th>\n",
       "    </tr>\n",
       "  </thead>\n",
       "  <tbody>\n",
       "    <tr>\n",
       "      <th>708</th>\n",
       "      <td>educastream.com</td>\n",
       "      <td>3,5</td>\n",
       "      <td>Haec igitur Epicuri non probo, inquam. De cete...</td>\n",
       "      <td>8482</td>\n",
       "    </tr>\n",
       "    <tr>\n",
       "      <th>1785</th>\n",
       "      <td>ScanMarine TM (Cofrance SARL)</td>\n",
       "      <td>3,8</td>\n",
       "      <td>. SCANMARINE , . . The leading yacht broker in...</td>\n",
       "      <td>7586</td>\n",
       "    </tr>\n",
       "    <tr>\n",
       "      <th>3230</th>\n",
       "      <td>EDF ENR</td>\n",
       "      <td>3,3</td>\n",
       "      <td>Avis sur EDF ENR Filiale du groupe EDF, nous c...</td>\n",
       "      <td>9809</td>\n",
       "    </tr>\n",
       "    <tr>\n",
       "      <th>6811</th>\n",
       "      <td>Sofamobili</td>\n",
       "      <td>1,2</td>\n",
       "      <td>Le 01/08/2017 Le 01/08/2017 Cher Client, Je fa...</td>\n",
       "      <td>5167</td>\n",
       "    </tr>\n",
       "    <tr>\n",
       "      <th>7104</th>\n",
       "      <td>ethnik-shop.com</td>\n",
       "      <td>4,2</td>\n",
       "      <td>Ethnik-Shop, notre Boutique specialisee dans l...</td>\n",
       "      <td>5031</td>\n",
       "    </tr>\n",
       "    <tr>\n",
       "      <th>8441</th>\n",
       "      <td>HCOMMEHOME</td>\n",
       "      <td>2,1</td>\n",
       "      <td>Le 01/08/2017 Cher Client, Je fais suite a vot...</td>\n",
       "      <td>5153</td>\n",
       "    </tr>\n",
       "  </tbody>\n",
       "</table>\n",
       "</div>"
      ],
      "text/plain": [
       "                        company_name score  \\\n",
       "708                 educastream.com    3,5   \n",
       "1785  ScanMarine TM (Cofrance SARL)    3,8   \n",
       "3230                        EDF ENR    3,3   \n",
       "6811                     Sofamobili    1,2   \n",
       "7104                ethnik-shop.com    4,2   \n",
       "8441                     HCOMMEHOME    2,1   \n",
       "\n",
       "                                            description  description_len  \n",
       "708   Haec igitur Epicuri non probo, inquam. De cete...             8482  \n",
       "1785  . SCANMARINE , . . The leading yacht broker in...             7586  \n",
       "3230  Avis sur EDF ENR Filiale du groupe EDF, nous c...             9809  \n",
       "6811  Le 01/08/2017 Le 01/08/2017 Cher Client, Je fa...             5167  \n",
       "7104  Ethnik-Shop, notre Boutique specialisee dans l...             5031  \n",
       "8441  Le 01/08/2017 Cher Client, Je fais suite a vot...             5153  "
      ]
     },
     "execution_count": 109,
     "metadata": {},
     "output_type": "execute_result"
    }
   ],
   "source": [
    "company_df[company_df[\"description_len\"] >= 5000] "
   ]
  },
  {
   "cell_type": "code",
   "execution_count": 97,
   "metadata": {},
   "outputs": [],
   "source": [
    "# company_df.to_csv(\"data/company_desc.csv\", sep=\";\", index=False)"
   ]
  },
  {
   "cell_type": "code",
   "execution_count": 91,
   "metadata": {},
   "outputs": [
    {
     "ename": "NotValidLength",
     "evalue": "Haec igitur Epicuri non probo, inquam. De cetero vellem equidem aut ipse doctrinis fuisset instructior est enim, quod tibi ita videri necesse est, non satis politus iis artibus, quas qui tenent, eruditi appellantur aut ne deterruisset alios a studiis. quamquam te quidem video minime esse deterritum. Homines enim eruditos et sobrios ut infaustos et inutiles vitant, eo quoque accedente quod et nomenclatores adsueti haec et talia venditare, mercede accepta lucris quosdam et prandiis inserunt subditicios ignobiles et obscuros. Homines enim eruditos et sobrios ut infaustos et inutiles vitant, eo quoque accedente quod et nomenclatores adsueti haec et talia venditare, mercede accepta lucris quosdam et prandiis inserunt subditicios ignobiles et obscuros. Constituendi autem sunt qui sint in amicitia fines et quasi termini diligendi. De quibus tres video sententias ferri, quarum nullam probo, unam, ut eodem modo erga amicum adfecti simus, quo erga nosmet ipsos, alteram, ut nostra in amicos benevolentia illorum erga nos benevolentiae pariter aequaliterque respondeat, tertiam, ut, quanti quisque se ipse facit, tanti fiat ab amicis. Huic Arabia est conserta, ex alio latere Nabataeis contigua; opima varietate conmerciorum castrisque oppleta validis et castellis, quae ad repellendos gentium vicinarum excursus sollicitudo pervigil veterum per oportunos saltus erexit et cautos. haec quoque civitates habet inter oppida quaedam ingentes Bostram et Gerasam atque Philadelphiam murorum firmitate cautissimas. hanc provinciae inposito nomine rectoreque adtributo obtemperare legibus nostris Traianus conpulit imperator incolarum tumore saepe contunso cum glorioso marte Mediam urgeret et Parthos. Saepissime igitur mihi de amicitia cogitanti maxime illud considerandum videri solet, utrum propter imbecillitatem atque inopiam desiderata sit amicitia, ut dandis recipiendisque meritis quod quisque minus per se ipse posset, id acciperet ab alio vicissimque redderet, an esset hoc quidem proprium amicitiae, sed antiquior et pulchrior et magis a natura ipsa profecta alia causa. Amor enim, ex quo amicitia nominata est, princeps est ad benevolentiam coniungendam. Nam utilitates quidem etiam ab iis percipiuntur saepe qui simulatione amicitiae coluntur et observantur temporis causa, in amicitia autem nihil fictum est, nihil simulatum et, quidquid est, id est verum et voluntarium. Quapropter a natura mihi videtur potius quam ab indigentia orta amicitia, applicatione magis animi cum quodam sensu amandi quam cogitatione quantum illa res utilitatis esset habitura. Quod quidem quale sit, etiam in bestiis quibusdam animadverti potest, quae ex se natos ita amant ad quoddam tempus et ab eis ita amantur ut facile earum sensus appareat. Quod in homine multo est evidentius, primum ex ea caritate quae est inter natos et parentes, quae dirimi nisi detestabili scelere non potest; deinde cum similis sensus exstitit amoris, si aliquem nacti sumus cuius cum moribus et natura congruamus, quod in eo quasi lumen aliquod probitatis et virtutis perspicere videamur. Circa hos dies Lollianus primae lanuginis adulescens, Lampadi filius ex praefecto, exploratius causam Maximino spectante, convictus codicem noxiarum artium nondum per aetatem firmato consilio descripsisse, exulque mittendus, ut sperabatur, patris inpulsu provocavit ad principem, et iussus ad eius comitatum duci, de fumo, ut aiunt, in flammam traditus Phalangio Baeticae consulari cecidit funesti carnificis manu. Alii nullo quaerente vultus severitate adsimulata patrimonia sua in inmensum extollunt, cultorum ut puta feracium multiplicantes annuos fructus, quae a primo ad ultimum solem se abunde iactitant possidere, ignorantes profecto maiores suos, per quos ita magnitudo Romana porrigitur, non divitiis eluxisse sed per bella saevissima, nec opibus nec victu nec indumentorum vilitate gregariis militibus discrepantes opposita cuncta superasse virtute. Ardeo, mihi credite, Patres conscripti (id quod vosmet de me existimatis et facitis ipsi) incredibili quodam amore patriae, qui me amor et subvenire olim impendentibus periculis maximis cum dimicatione capitis, et rursum, cum omnia tela undique esse intenta in patriam viderem, subire coegit atque excipere unum pro universis. Hic me meus in rem publicam animus pristinus ac perennis cum C. Caesare reducit, reconciliat, restituit in gratiam. Haec dum oriens diu perferret, caeli reserato tepore Constantius consulatu suo septies et Caesaris ter egressus Arelate Valentiam petit, in Gundomadum et Vadomarium fratres Alamannorum reges arma moturus, quorum crebris excursibus vastabantur confines limitibus terrae Gallorum. Sed cautela nimia in peiores haeserat plagas, ut narrabimus postea, aemulis consarcinantibus insidias graves apud Constantium, cetera medium principem sed siquid auribus eius huius modi quivis infudisset ignotus, acerbum et inplacabilem et in hoc causarum titulo dissimilem sui. Quam ob rem ut ii qui superiores sunt submittere se debent in amicitia, sic quodam modo inferiores extollere. Sunt enim quidam qui molestas amicitias faciunt, cum ipsi se contemni putant; quod non fere contingit nisi iis qui etiam contemnendos se arbitrantur; qui hac opinione non modo verbis sed etiam opere levandi sunt. Saepissime igitur mihi de amicitia cogitanti maxime illud considerandum videri solet, utrum propter imbecillitatem atque inopiam desiderata sit amicitia, ut dandis recipiendisque meritis quod quisque minus per se ipse posset, id acciperet ab alio vicissimque redderet, an esset hoc quidem proprium amicitiae, sed antiquior et pulchrior et magis a natura ipsa profecta alia causa. Amor enim, ex quo amicitia nominata est, princeps est ad benevolentiam coniungendam. Nam utilitates quidem etiam ab iis percipiuntur saepe qui simulatione amicitiae coluntur et observantur temporis causa, in amicitia autem nihil fictum est, nihil simulatum et, quidquid est, id est verum et voluntarium. Huic Arabia est conserta, ex alio latere Nabataeis contigua; opima varietate conmerciorum castrisque oppleta validis et castellis, quae ad repellendos gentium vicinarum excursus sollicitudo pervigil veterum per oportunos saltus erexit et cautos. haec quoque civitates habet inter oppida quaedam ingentes Bostram et Gerasam atque Philadelphiam murorum firmitate cautissimas. hanc provinciae inposito nomine rectoreque adtributo obtemperare legibus nostris Traianus conpulit imperator incolarum tumore saepe contunso cum glorioso marte Mediam urgeret et Parthos. Sed quid est quod in hac causa maxime homines admirentur et reprehendant meum consilium, cum ego idem antea multa decreverim, que magis ad hominis dignitatem quam ad rei publicae necessitatem pertinerent? Supplicationem quindecim dierum decrevi sententia mea. Rei publicae satis erat tot dierum quot C. Mario ; dis immortalibus non erat exigua eadem gratulatio quae ex maximis bellis. Ergo ille cumulus dierum hominis est dignitati tributus. Ego vero sic intellego, Patres conscripti, nos hoc tempore in provinciis decernendis perpetuae pacis habere oportere rationem. Nam quis hoc non sentit omnia alia esse nobis vacua ab omni periculo atque etiam suspicione belli? Raptim igitur properantes ut motus sui rumores celeritate nimia praevenirent, vigore corporum ac levitate confisi per flexuosas semitas ad summitates collium tardius evadebant. et cum superatis difficultatibus arduis ad supercilia venissent fluvii Melanis alti et verticosi, qui pro muro tuetur accolas circumfusus, augente nocte adulta terrorem quievere paulisper lucem opperientes. arbitrabantur enim nullo inpediente transgressi inopino adcursu adposita quaeque vastare, sed in cassum labores pertulere gravissimos. Post haec Gallus Hierapolim profecturus ut expeditioni specie tenus adesset, Antiochensi plebi suppliciter obsecranti ut inediae dispelleret metum, quae per multas difficilisque causas adfore iam sperabatur, non ut mos est principibus, quorum diffusa potestas localibus subinde medetur aerumnis, disponi quicquam statuit vel ex provinciis alimenta transferri conterminis, sed consularem Syriae Theophilum prope adstantem ultima metuenti multitudini dedit id adsidue replicando quod invito rectore nullus egere poterit victu. Et hanc quidem praeter oppida multa duae civitates exornant Seleucia opus Seleuci regis, et Claudiopolis quam deduxit coloniam Claudius Caesar. Isaura enim antehac nimium potens, olim subversa ut rebellatrix interneciva aegre vestigia claritudinis pristinae monstrat admodum pauca. --> Text length need to be between 0 and 5000 characters",
     "output_type": "error",
     "traceback": [
      "\u001b[1;31m---------------------------------------------------------------------------\u001b[0m",
      "\u001b[1;31mNotValidLength\u001b[0m                            Traceback (most recent call last)",
      "Cell \u001b[1;32mIn[91], line 1\u001b[0m\n\u001b[1;32m----> 1\u001b[0m company_df[\u001b[38;5;124m\"\u001b[39m\u001b[38;5;124mdescription_en\u001b[39m\u001b[38;5;124m\"\u001b[39m] \u001b[38;5;241m=\u001b[39m \u001b[43mcompany_df\u001b[49m\u001b[43m[\u001b[49m\u001b[38;5;124;43m\"\u001b[39;49m\u001b[38;5;124;43mdescription\u001b[39;49m\u001b[38;5;124;43m\"\u001b[39;49m\u001b[43m]\u001b[49m\u001b[38;5;241;43m.\u001b[39;49m\u001b[43mapply\u001b[49m\u001b[43m(\u001b[49m\u001b[38;5;28;43;01mlambda\u001b[39;49;00m\u001b[43m \u001b[49m\u001b[43mx\u001b[49m\u001b[43m:\u001b[49m\u001b[43m \u001b[49m\u001b[43mGoogleTranslator\u001b[49m\u001b[43m(\u001b[49m\u001b[43msource\u001b[49m\u001b[38;5;241;43m=\u001b[39;49m\u001b[38;5;124;43m'\u001b[39;49m\u001b[38;5;124;43mfr\u001b[39;49m\u001b[38;5;124;43m'\u001b[39;49m\u001b[43m,\u001b[49m\u001b[43m \u001b[49m\u001b[43mtarget\u001b[49m\u001b[38;5;241;43m=\u001b[39;49m\u001b[38;5;124;43m'\u001b[39;49m\u001b[38;5;124;43men\u001b[39;49m\u001b[38;5;124;43m'\u001b[39;49m\u001b[43m)\u001b[49m\u001b[38;5;241;43m.\u001b[39;49m\u001b[43mtranslate\u001b[49m\u001b[43m(\u001b[49m\u001b[43mx\u001b[49m\u001b[43m)\u001b[49m\u001b[43m)\u001b[49m\n",
      "File \u001b[1;32mc:\\Users\\marya\\anaconda3\\envs\\nlp_project\\lib\\site-packages\\pandas\\core\\series.py:4764\u001b[0m, in \u001b[0;36mSeries.apply\u001b[1;34m(self, func, convert_dtype, args, by_row, **kwargs)\u001b[0m\n\u001b[0;32m   4629\u001b[0m \u001b[38;5;28;01mdef\u001b[39;00m \u001b[38;5;21mapply\u001b[39m(\n\u001b[0;32m   4630\u001b[0m     \u001b[38;5;28mself\u001b[39m,\n\u001b[0;32m   4631\u001b[0m     func: AggFuncType,\n\u001b[1;32m   (...)\u001b[0m\n\u001b[0;32m   4636\u001b[0m     \u001b[38;5;241m*\u001b[39m\u001b[38;5;241m*\u001b[39mkwargs,\n\u001b[0;32m   4637\u001b[0m ) \u001b[38;5;241m-\u001b[39m\u001b[38;5;241m>\u001b[39m DataFrame \u001b[38;5;241m|\u001b[39m Series:\n\u001b[0;32m   4638\u001b[0m \u001b[38;5;250m    \u001b[39m\u001b[38;5;124;03m\"\"\"\u001b[39;00m\n\u001b[0;32m   4639\u001b[0m \u001b[38;5;124;03m    Invoke function on values of Series.\u001b[39;00m\n\u001b[0;32m   4640\u001b[0m \n\u001b[1;32m   (...)\u001b[0m\n\u001b[0;32m   4755\u001b[0m \u001b[38;5;124;03m    dtype: float64\u001b[39;00m\n\u001b[0;32m   4756\u001b[0m \u001b[38;5;124;03m    \"\"\"\u001b[39;00m\n\u001b[0;32m   4757\u001b[0m     \u001b[38;5;28;01mreturn\u001b[39;00m \u001b[43mSeriesApply\u001b[49m\u001b[43m(\u001b[49m\n\u001b[0;32m   4758\u001b[0m \u001b[43m        \u001b[49m\u001b[38;5;28;43mself\u001b[39;49m\u001b[43m,\u001b[49m\n\u001b[0;32m   4759\u001b[0m \u001b[43m        \u001b[49m\u001b[43mfunc\u001b[49m\u001b[43m,\u001b[49m\n\u001b[0;32m   4760\u001b[0m \u001b[43m        \u001b[49m\u001b[43mconvert_dtype\u001b[49m\u001b[38;5;241;43m=\u001b[39;49m\u001b[43mconvert_dtype\u001b[49m\u001b[43m,\u001b[49m\n\u001b[0;32m   4761\u001b[0m \u001b[43m        \u001b[49m\u001b[43mby_row\u001b[49m\u001b[38;5;241;43m=\u001b[39;49m\u001b[43mby_row\u001b[49m\u001b[43m,\u001b[49m\n\u001b[0;32m   4762\u001b[0m \u001b[43m        \u001b[49m\u001b[43margs\u001b[49m\u001b[38;5;241;43m=\u001b[39;49m\u001b[43margs\u001b[49m\u001b[43m,\u001b[49m\n\u001b[0;32m   4763\u001b[0m \u001b[43m        \u001b[49m\u001b[43mkwargs\u001b[49m\u001b[38;5;241;43m=\u001b[39;49m\u001b[43mkwargs\u001b[49m\u001b[43m,\u001b[49m\n\u001b[1;32m-> 4764\u001b[0m \u001b[43m    \u001b[49m\u001b[43m)\u001b[49m\u001b[38;5;241;43m.\u001b[39;49m\u001b[43mapply\u001b[49m\u001b[43m(\u001b[49m\u001b[43m)\u001b[49m\n",
      "File \u001b[1;32mc:\\Users\\marya\\anaconda3\\envs\\nlp_project\\lib\\site-packages\\pandas\\core\\apply.py:1209\u001b[0m, in \u001b[0;36mSeriesApply.apply\u001b[1;34m(self)\u001b[0m\n\u001b[0;32m   1206\u001b[0m     \u001b[38;5;28;01mreturn\u001b[39;00m \u001b[38;5;28mself\u001b[39m\u001b[38;5;241m.\u001b[39mapply_compat()\n\u001b[0;32m   1208\u001b[0m \u001b[38;5;66;03m# self.func is Callable\u001b[39;00m\n\u001b[1;32m-> 1209\u001b[0m \u001b[38;5;28;01mreturn\u001b[39;00m \u001b[38;5;28;43mself\u001b[39;49m\u001b[38;5;241;43m.\u001b[39;49m\u001b[43mapply_standard\u001b[49m\u001b[43m(\u001b[49m\u001b[43m)\u001b[49m\n",
      "File \u001b[1;32mc:\\Users\\marya\\anaconda3\\envs\\nlp_project\\lib\\site-packages\\pandas\\core\\apply.py:1289\u001b[0m, in \u001b[0;36mSeriesApply.apply_standard\u001b[1;34m(self)\u001b[0m\n\u001b[0;32m   1283\u001b[0m \u001b[38;5;66;03m# row-wise access\u001b[39;00m\n\u001b[0;32m   1284\u001b[0m \u001b[38;5;66;03m# apply doesn't have a `na_action` keyword and for backward compat reasons\u001b[39;00m\n\u001b[0;32m   1285\u001b[0m \u001b[38;5;66;03m# we need to give `na_action=\"ignore\"` for categorical data.\u001b[39;00m\n\u001b[0;32m   1286\u001b[0m \u001b[38;5;66;03m# TODO: remove the `na_action=\"ignore\"` when that default has been changed in\u001b[39;00m\n\u001b[0;32m   1287\u001b[0m \u001b[38;5;66;03m#  Categorical (GH51645).\u001b[39;00m\n\u001b[0;32m   1288\u001b[0m action \u001b[38;5;241m=\u001b[39m \u001b[38;5;124m\"\u001b[39m\u001b[38;5;124mignore\u001b[39m\u001b[38;5;124m\"\u001b[39m \u001b[38;5;28;01mif\u001b[39;00m \u001b[38;5;28misinstance\u001b[39m(obj\u001b[38;5;241m.\u001b[39mdtype, CategoricalDtype) \u001b[38;5;28;01melse\u001b[39;00m \u001b[38;5;28;01mNone\u001b[39;00m\n\u001b[1;32m-> 1289\u001b[0m mapped \u001b[38;5;241m=\u001b[39m \u001b[43mobj\u001b[49m\u001b[38;5;241;43m.\u001b[39;49m\u001b[43m_map_values\u001b[49m\u001b[43m(\u001b[49m\n\u001b[0;32m   1290\u001b[0m \u001b[43m    \u001b[49m\u001b[43mmapper\u001b[49m\u001b[38;5;241;43m=\u001b[39;49m\u001b[43mcurried\u001b[49m\u001b[43m,\u001b[49m\u001b[43m \u001b[49m\u001b[43mna_action\u001b[49m\u001b[38;5;241;43m=\u001b[39;49m\u001b[43maction\u001b[49m\u001b[43m,\u001b[49m\u001b[43m \u001b[49m\u001b[43mconvert\u001b[49m\u001b[38;5;241;43m=\u001b[39;49m\u001b[38;5;28;43mself\u001b[39;49m\u001b[38;5;241;43m.\u001b[39;49m\u001b[43mconvert_dtype\u001b[49m\n\u001b[0;32m   1291\u001b[0m \u001b[43m\u001b[49m\u001b[43m)\u001b[49m\n\u001b[0;32m   1293\u001b[0m \u001b[38;5;28;01mif\u001b[39;00m \u001b[38;5;28mlen\u001b[39m(mapped) \u001b[38;5;129;01mand\u001b[39;00m \u001b[38;5;28misinstance\u001b[39m(mapped[\u001b[38;5;241m0\u001b[39m], ABCSeries):\n\u001b[0;32m   1294\u001b[0m     \u001b[38;5;66;03m# GH#43986 Need to do list(mapped) in order to get treated as nested\u001b[39;00m\n\u001b[0;32m   1295\u001b[0m     \u001b[38;5;66;03m#  See also GH#25959 regarding EA support\u001b[39;00m\n\u001b[0;32m   1296\u001b[0m     \u001b[38;5;28;01mreturn\u001b[39;00m obj\u001b[38;5;241m.\u001b[39m_constructor_expanddim(\u001b[38;5;28mlist\u001b[39m(mapped), index\u001b[38;5;241m=\u001b[39mobj\u001b[38;5;241m.\u001b[39mindex)\n",
      "File \u001b[1;32mc:\\Users\\marya\\anaconda3\\envs\\nlp_project\\lib\\site-packages\\pandas\\core\\base.py:921\u001b[0m, in \u001b[0;36mIndexOpsMixin._map_values\u001b[1;34m(self, mapper, na_action, convert)\u001b[0m\n\u001b[0;32m    918\u001b[0m \u001b[38;5;28;01mif\u001b[39;00m \u001b[38;5;28misinstance\u001b[39m(arr, ExtensionArray):\n\u001b[0;32m    919\u001b[0m     \u001b[38;5;28;01mreturn\u001b[39;00m arr\u001b[38;5;241m.\u001b[39mmap(mapper, na_action\u001b[38;5;241m=\u001b[39mna_action)\n\u001b[1;32m--> 921\u001b[0m \u001b[38;5;28;01mreturn\u001b[39;00m \u001b[43malgorithms\u001b[49m\u001b[38;5;241;43m.\u001b[39;49m\u001b[43mmap_array\u001b[49m\u001b[43m(\u001b[49m\u001b[43marr\u001b[49m\u001b[43m,\u001b[49m\u001b[43m \u001b[49m\u001b[43mmapper\u001b[49m\u001b[43m,\u001b[49m\u001b[43m \u001b[49m\u001b[43mna_action\u001b[49m\u001b[38;5;241;43m=\u001b[39;49m\u001b[43mna_action\u001b[49m\u001b[43m,\u001b[49m\u001b[43m \u001b[49m\u001b[43mconvert\u001b[49m\u001b[38;5;241;43m=\u001b[39;49m\u001b[43mconvert\u001b[49m\u001b[43m)\u001b[49m\n",
      "File \u001b[1;32mc:\\Users\\marya\\anaconda3\\envs\\nlp_project\\lib\\site-packages\\pandas\\core\\algorithms.py:1814\u001b[0m, in \u001b[0;36mmap_array\u001b[1;34m(arr, mapper, na_action, convert)\u001b[0m\n\u001b[0;32m   1812\u001b[0m values \u001b[38;5;241m=\u001b[39m arr\u001b[38;5;241m.\u001b[39mastype(\u001b[38;5;28mobject\u001b[39m, copy\u001b[38;5;241m=\u001b[39m\u001b[38;5;28;01mFalse\u001b[39;00m)\n\u001b[0;32m   1813\u001b[0m \u001b[38;5;28;01mif\u001b[39;00m na_action \u001b[38;5;129;01mis\u001b[39;00m \u001b[38;5;28;01mNone\u001b[39;00m:\n\u001b[1;32m-> 1814\u001b[0m     \u001b[38;5;28;01mreturn\u001b[39;00m \u001b[43mlib\u001b[49m\u001b[38;5;241;43m.\u001b[39;49m\u001b[43mmap_infer\u001b[49m\u001b[43m(\u001b[49m\u001b[43mvalues\u001b[49m\u001b[43m,\u001b[49m\u001b[43m \u001b[49m\u001b[43mmapper\u001b[49m\u001b[43m,\u001b[49m\u001b[43m \u001b[49m\u001b[43mconvert\u001b[49m\u001b[38;5;241;43m=\u001b[39;49m\u001b[43mconvert\u001b[49m\u001b[43m)\u001b[49m\n\u001b[0;32m   1815\u001b[0m \u001b[38;5;28;01melse\u001b[39;00m:\n\u001b[0;32m   1816\u001b[0m     \u001b[38;5;28;01mreturn\u001b[39;00m lib\u001b[38;5;241m.\u001b[39mmap_infer_mask(\n\u001b[0;32m   1817\u001b[0m         values, mapper, mask\u001b[38;5;241m=\u001b[39misna(values)\u001b[38;5;241m.\u001b[39mview(np\u001b[38;5;241m.\u001b[39muint8), convert\u001b[38;5;241m=\u001b[39mconvert\n\u001b[0;32m   1818\u001b[0m     )\n",
      "File \u001b[1;32mlib.pyx:2926\u001b[0m, in \u001b[0;36mpandas._libs.lib.map_infer\u001b[1;34m()\u001b[0m\n",
      "Cell \u001b[1;32mIn[91], line 1\u001b[0m, in \u001b[0;36m<lambda>\u001b[1;34m(x)\u001b[0m\n\u001b[1;32m----> 1\u001b[0m company_df[\u001b[38;5;124m\"\u001b[39m\u001b[38;5;124mdescription_en\u001b[39m\u001b[38;5;124m\"\u001b[39m] \u001b[38;5;241m=\u001b[39m company_df[\u001b[38;5;124m\"\u001b[39m\u001b[38;5;124mdescription\u001b[39m\u001b[38;5;124m\"\u001b[39m]\u001b[38;5;241m.\u001b[39mapply(\u001b[38;5;28;01mlambda\u001b[39;00m x: \u001b[43mGoogleTranslator\u001b[49m\u001b[43m(\u001b[49m\u001b[43msource\u001b[49m\u001b[38;5;241;43m=\u001b[39;49m\u001b[38;5;124;43m'\u001b[39;49m\u001b[38;5;124;43mfr\u001b[39;49m\u001b[38;5;124;43m'\u001b[39;49m\u001b[43m,\u001b[49m\u001b[43m \u001b[49m\u001b[43mtarget\u001b[49m\u001b[38;5;241;43m=\u001b[39;49m\u001b[38;5;124;43m'\u001b[39;49m\u001b[38;5;124;43men\u001b[39;49m\u001b[38;5;124;43m'\u001b[39;49m\u001b[43m)\u001b[49m\u001b[38;5;241;43m.\u001b[39;49m\u001b[43mtranslate\u001b[49m\u001b[43m(\u001b[49m\u001b[43mx\u001b[49m\u001b[43m)\u001b[49m)\n",
      "File \u001b[1;32mc:\\Users\\marya\\anaconda3\\envs\\nlp_project\\lib\\site-packages\\deep_translator\\google.py:57\u001b[0m, in \u001b[0;36mGoogleTranslator.translate\u001b[1;34m(self, text, **kwargs)\u001b[0m\n\u001b[0;32m     51\u001b[0m \u001b[38;5;28;01mdef\u001b[39;00m \u001b[38;5;21mtranslate\u001b[39m(\u001b[38;5;28mself\u001b[39m, text: \u001b[38;5;28mstr\u001b[39m, \u001b[38;5;241m*\u001b[39m\u001b[38;5;241m*\u001b[39mkwargs) \u001b[38;5;241m-\u001b[39m\u001b[38;5;241m>\u001b[39m \u001b[38;5;28mstr\u001b[39m:\n\u001b[0;32m     52\u001b[0m \u001b[38;5;250m    \u001b[39m\u001b[38;5;124;03m\"\"\"\u001b[39;00m\n\u001b[0;32m     53\u001b[0m \u001b[38;5;124;03m    function to translate a text\u001b[39;00m\n\u001b[0;32m     54\u001b[0m \u001b[38;5;124;03m    @param text: desired text to translate\u001b[39;00m\n\u001b[0;32m     55\u001b[0m \u001b[38;5;124;03m    @return: str: translated text\u001b[39;00m\n\u001b[0;32m     56\u001b[0m \u001b[38;5;124;03m    \"\"\"\u001b[39;00m\n\u001b[1;32m---> 57\u001b[0m     \u001b[38;5;28;01mif\u001b[39;00m \u001b[43mis_input_valid\u001b[49m\u001b[43m(\u001b[49m\u001b[43mtext\u001b[49m\u001b[43m,\u001b[49m\u001b[43m \u001b[49m\u001b[43mmax_chars\u001b[49m\u001b[38;5;241;43m=\u001b[39;49m\u001b[38;5;241;43m5000\u001b[39;49m\u001b[43m)\u001b[49m:\n\u001b[0;32m     58\u001b[0m         text \u001b[38;5;241m=\u001b[39m text\u001b[38;5;241m.\u001b[39mstrip()\n\u001b[0;32m     59\u001b[0m         \u001b[38;5;28;01mif\u001b[39;00m \u001b[38;5;28mself\u001b[39m\u001b[38;5;241m.\u001b[39m_same_source_target() \u001b[38;5;129;01mor\u001b[39;00m is_empty(text):\n",
      "File \u001b[1;32mc:\\Users\\marya\\anaconda3\\envs\\nlp_project\\lib\\site-packages\\deep_translator\\validate.py:41\u001b[0m, in \u001b[0;36mis_input_valid\u001b[1;34m(text, min_chars, max_chars)\u001b[0m\n\u001b[0;32m     39\u001b[0m     \u001b[38;5;28;01mraise\u001b[39;00m NotValidPayload(text)\n\u001b[0;32m     40\u001b[0m \u001b[38;5;28;01mif\u001b[39;00m max_chars \u001b[38;5;129;01mand\u001b[39;00m (\u001b[38;5;129;01mnot\u001b[39;00m min_chars \u001b[38;5;241m<\u001b[39m\u001b[38;5;241m=\u001b[39m \u001b[38;5;28mlen\u001b[39m(text) \u001b[38;5;241m<\u001b[39m max_chars):\n\u001b[1;32m---> 41\u001b[0m     \u001b[38;5;28;01mraise\u001b[39;00m NotValidLength(text, min_chars, max_chars)\n\u001b[0;32m     43\u001b[0m \u001b[38;5;28;01mreturn\u001b[39;00m \u001b[38;5;28;01mTrue\u001b[39;00m\n",
      "\u001b[1;31mNotValidLength\u001b[0m: Haec igitur Epicuri non probo, inquam. De cetero vellem equidem aut ipse doctrinis fuisset instructior est enim, quod tibi ita videri necesse est, non satis politus iis artibus, quas qui tenent, eruditi appellantur aut ne deterruisset alios a studiis. quamquam te quidem video minime esse deterritum. Homines enim eruditos et sobrios ut infaustos et inutiles vitant, eo quoque accedente quod et nomenclatores adsueti haec et talia venditare, mercede accepta lucris quosdam et prandiis inserunt subditicios ignobiles et obscuros. Homines enim eruditos et sobrios ut infaustos et inutiles vitant, eo quoque accedente quod et nomenclatores adsueti haec et talia venditare, mercede accepta lucris quosdam et prandiis inserunt subditicios ignobiles et obscuros. Constituendi autem sunt qui sint in amicitia fines et quasi termini diligendi. De quibus tres video sententias ferri, quarum nullam probo, unam, ut eodem modo erga amicum adfecti simus, quo erga nosmet ipsos, alteram, ut nostra in amicos benevolentia illorum erga nos benevolentiae pariter aequaliterque respondeat, tertiam, ut, quanti quisque se ipse facit, tanti fiat ab amicis. Huic Arabia est conserta, ex alio latere Nabataeis contigua; opima varietate conmerciorum castrisque oppleta validis et castellis, quae ad repellendos gentium vicinarum excursus sollicitudo pervigil veterum per oportunos saltus erexit et cautos. haec quoque civitates habet inter oppida quaedam ingentes Bostram et Gerasam atque Philadelphiam murorum firmitate cautissimas. hanc provinciae inposito nomine rectoreque adtributo obtemperare legibus nostris Traianus conpulit imperator incolarum tumore saepe contunso cum glorioso marte Mediam urgeret et Parthos. Saepissime igitur mihi de amicitia cogitanti maxime illud considerandum videri solet, utrum propter imbecillitatem atque inopiam desiderata sit amicitia, ut dandis recipiendisque meritis quod quisque minus per se ipse posset, id acciperet ab alio vicissimque redderet, an esset hoc quidem proprium amicitiae, sed antiquior et pulchrior et magis a natura ipsa profecta alia causa. Amor enim, ex quo amicitia nominata est, princeps est ad benevolentiam coniungendam. Nam utilitates quidem etiam ab iis percipiuntur saepe qui simulatione amicitiae coluntur et observantur temporis causa, in amicitia autem nihil fictum est, nihil simulatum et, quidquid est, id est verum et voluntarium. Quapropter a natura mihi videtur potius quam ab indigentia orta amicitia, applicatione magis animi cum quodam sensu amandi quam cogitatione quantum illa res utilitatis esset habitura. Quod quidem quale sit, etiam in bestiis quibusdam animadverti potest, quae ex se natos ita amant ad quoddam tempus et ab eis ita amantur ut facile earum sensus appareat. Quod in homine multo est evidentius, primum ex ea caritate quae est inter natos et parentes, quae dirimi nisi detestabili scelere non potest; deinde cum similis sensus exstitit amoris, si aliquem nacti sumus cuius cum moribus et natura congruamus, quod in eo quasi lumen aliquod probitatis et virtutis perspicere videamur. Circa hos dies Lollianus primae lanuginis adulescens, Lampadi filius ex praefecto, exploratius causam Maximino spectante, convictus codicem noxiarum artium nondum per aetatem firmato consilio descripsisse, exulque mittendus, ut sperabatur, patris inpulsu provocavit ad principem, et iussus ad eius comitatum duci, de fumo, ut aiunt, in flammam traditus Phalangio Baeticae consulari cecidit funesti carnificis manu. Alii nullo quaerente vultus severitate adsimulata patrimonia sua in inmensum extollunt, cultorum ut puta feracium multiplicantes annuos fructus, quae a primo ad ultimum solem se abunde iactitant possidere, ignorantes profecto maiores suos, per quos ita magnitudo Romana porrigitur, non divitiis eluxisse sed per bella saevissima, nec opibus nec victu nec indumentorum vilitate gregariis militibus discrepantes opposita cuncta superasse virtute. Ardeo, mihi credite, Patres conscripti (id quod vosmet de me existimatis et facitis ipsi) incredibili quodam amore patriae, qui me amor et subvenire olim impendentibus periculis maximis cum dimicatione capitis, et rursum, cum omnia tela undique esse intenta in patriam viderem, subire coegit atque excipere unum pro universis. Hic me meus in rem publicam animus pristinus ac perennis cum C. Caesare reducit, reconciliat, restituit in gratiam. Haec dum oriens diu perferret, caeli reserato tepore Constantius consulatu suo septies et Caesaris ter egressus Arelate Valentiam petit, in Gundomadum et Vadomarium fratres Alamannorum reges arma moturus, quorum crebris excursibus vastabantur confines limitibus terrae Gallorum. Sed cautela nimia in peiores haeserat plagas, ut narrabimus postea, aemulis consarcinantibus insidias graves apud Constantium, cetera medium principem sed siquid auribus eius huius modi quivis infudisset ignotus, acerbum et inplacabilem et in hoc causarum titulo dissimilem sui. Quam ob rem ut ii qui superiores sunt submittere se debent in amicitia, sic quodam modo inferiores extollere. Sunt enim quidam qui molestas amicitias faciunt, cum ipsi se contemni putant; quod non fere contingit nisi iis qui etiam contemnendos se arbitrantur; qui hac opinione non modo verbis sed etiam opere levandi sunt. Saepissime igitur mihi de amicitia cogitanti maxime illud considerandum videri solet, utrum propter imbecillitatem atque inopiam desiderata sit amicitia, ut dandis recipiendisque meritis quod quisque minus per se ipse posset, id acciperet ab alio vicissimque redderet, an esset hoc quidem proprium amicitiae, sed antiquior et pulchrior et magis a natura ipsa profecta alia causa. Amor enim, ex quo amicitia nominata est, princeps est ad benevolentiam coniungendam. Nam utilitates quidem etiam ab iis percipiuntur saepe qui simulatione amicitiae coluntur et observantur temporis causa, in amicitia autem nihil fictum est, nihil simulatum et, quidquid est, id est verum et voluntarium. Huic Arabia est conserta, ex alio latere Nabataeis contigua; opima varietate conmerciorum castrisque oppleta validis et castellis, quae ad repellendos gentium vicinarum excursus sollicitudo pervigil veterum per oportunos saltus erexit et cautos. haec quoque civitates habet inter oppida quaedam ingentes Bostram et Gerasam atque Philadelphiam murorum firmitate cautissimas. hanc provinciae inposito nomine rectoreque adtributo obtemperare legibus nostris Traianus conpulit imperator incolarum tumore saepe contunso cum glorioso marte Mediam urgeret et Parthos. Sed quid est quod in hac causa maxime homines admirentur et reprehendant meum consilium, cum ego idem antea multa decreverim, que magis ad hominis dignitatem quam ad rei publicae necessitatem pertinerent? Supplicationem quindecim dierum decrevi sententia mea. Rei publicae satis erat tot dierum quot C. Mario ; dis immortalibus non erat exigua eadem gratulatio quae ex maximis bellis. Ergo ille cumulus dierum hominis est dignitati tributus. Ego vero sic intellego, Patres conscripti, nos hoc tempore in provinciis decernendis perpetuae pacis habere oportere rationem. Nam quis hoc non sentit omnia alia esse nobis vacua ab omni periculo atque etiam suspicione belli? Raptim igitur properantes ut motus sui rumores celeritate nimia praevenirent, vigore corporum ac levitate confisi per flexuosas semitas ad summitates collium tardius evadebant. et cum superatis difficultatibus arduis ad supercilia venissent fluvii Melanis alti et verticosi, qui pro muro tuetur accolas circumfusus, augente nocte adulta terrorem quievere paulisper lucem opperientes. arbitrabantur enim nullo inpediente transgressi inopino adcursu adposita quaeque vastare, sed in cassum labores pertulere gravissimos. Post haec Gallus Hierapolim profecturus ut expeditioni specie tenus adesset, Antiochensi plebi suppliciter obsecranti ut inediae dispelleret metum, quae per multas difficilisque causas adfore iam sperabatur, non ut mos est principibus, quorum diffusa potestas localibus subinde medetur aerumnis, disponi quicquam statuit vel ex provinciis alimenta transferri conterminis, sed consularem Syriae Theophilum prope adstantem ultima metuenti multitudini dedit id adsidue replicando quod invito rectore nullus egere poterit victu. Et hanc quidem praeter oppida multa duae civitates exornant Seleucia opus Seleuci regis, et Claudiopolis quam deduxit coloniam Claudius Caesar. Isaura enim antehac nimium potens, olim subversa ut rebellatrix interneciva aegre vestigia claritudinis pristinae monstrat admodum pauca. --> Text length need to be between 0 and 5000 characters"
     ]
    }
   ],
   "source": [
    "company_df[\"description_en\"] = company_df[\"description\"].apply(lambda x: GoogleTranslator(source='fr', target='en').translate(x))"
   ]
  },
  {
   "cell_type": "code",
   "execution_count": 101,
   "metadata": {},
   "outputs": [
    {
     "data": {
      "text/plain": [
       "'Not in accordance with the site description'"
      ]
     },
     "execution_count": 101,
     "metadata": {},
     "output_type": "execute_result"
    }
   ],
   "source": [
    "translator = Translator(from_lang=\"fr\", to_lang=\"en\")\n",
    "translation = translator.translate(\"Non conforme au descriptif du site\")\n",
    "translation"
   ]
  },
  {
   "cell_type": "code",
   "execution_count": 105,
   "metadata": {},
   "outputs": [],
   "source": [
    "translated = company_df[company_df[\"description_len\"] > 5000][\"description\"].apply(lambda x: translator.translate(x))"
   ]
  },
  {
   "cell_type": "code",
   "execution_count": 108,
   "metadata": {},
   "outputs": [
    {
     "data": {
      "text/plain": [
       "array(['QUERY LENGTH LIMIT EXCEEDED. MAX ALLOWED QUERY : 500 CHARS QUERY LENGTH LIMIT EXCEEDED. MAX ALLOWED QUERY : 500 CHARS QUERY LENGTH LIMIT EXCEEDED. MAX ALLOWED QUERY : 500 CHARS QUERY LENGTH LIMIT EXCEEDED. MAX ALLOWED QUERY : 500 CHARS QUERY LENGTH LIMIT EXCEEDED. MAX ALLOWED QUERY : 500 CHARS QUERY LENGTH LIMIT EXCEEDED. MAX ALLOWED QUERY : 500 CHARS QUERY LENGTH LIMIT EXCEEDED. MAX ALLOWED QUERY : 500 CHARS QUERY LENGTH LIMIT EXCEEDED. MAX ALLOWED QUERY : 500 CHARS QUERY LENGTH LIMIT EXCEEDED. MAX ALLOWED QUERY : 500 CHARS',\n",
       "       'QUERY LENGTH LIMIT EXCEEDED. MAX ALLOWED QUERY : 500 CHARS QUERY LENGTH LIMIT EXCEEDED. MAX ALLOWED QUERY : 500 CHARS QUERY LENGTH LIMIT EXCEEDED. MAX ALLOWED QUERY : 500 CHARS QUERY LENGTH LIMIT EXCEEDED. MAX ALLOWED QUERY : 500 CHARS QUERY LENGTH LIMIT EXCEEDED. MAX ALLOWED QUERY : 500 CHARS QUERY LENGTH LIMIT EXCEEDED. MAX ALLOWED QUERY : 500 CHARS QUERY LENGTH LIMIT EXCEEDED. MAX ALLOWED QUERY : 500 CHARS QUERY LENGTH LIMIT EXCEEDED. MAX ALLOWED QUERY : 500 CHARS',\n",
       "       'QUERY LENGTH LIMIT EXCEEDED. MAX ALLOWED QUERY : 500 CHARS QUERY LENGTH LIMIT EXCEEDED. MAX ALLOWED QUERY : 500 CHARS QUERY LENGTH LIMIT EXCEEDED. MAX ALLOWED QUERY : 500 CHARS QUERY LENGTH LIMIT EXCEEDED. MAX ALLOWED QUERY : 500 CHARS QUERY LENGTH LIMIT EXCEEDED. MAX ALLOWED QUERY : 500 CHARS QUERY LENGTH LIMIT EXCEEDED. MAX ALLOWED QUERY : 500 CHARS QUERY LENGTH LIMIT EXCEEDED. MAX ALLOWED QUERY : 500 CHARS QUERY LENGTH LIMIT EXCEEDED. MAX ALLOWED QUERY : 500 CHARS QUERY LENGTH LIMIT EXCEEDED. MAX ALLOWED QUERY : 500 CHARS QUERY LENGTH LIMIT EXCEEDED. MAX ALLOWED QUERY : 500 CHARS',\n",
       "       'QUERY LENGTH LIMIT EXCEEDED. MAX ALLOWED QUERY : 500 CHARS QUERY LENGTH LIMIT EXCEEDED. MAX ALLOWED QUERY : 500 CHARS QUERY LENGTH LIMIT EXCEEDED. MAX ALLOWED QUERY : 500 CHARS QUERY LENGTH LIMIT EXCEEDED. MAX ALLOWED QUERY : 500 CHARS QUERY LENGTH LIMIT EXCEEDED. MAX ALLOWED QUERY : 500 CHARS that together we will find a favourable outcome to this problem. In the meantime, please believe, dear customer, has the assurance of my perfect consideration. Mr. LEROY',\n",
       "       'QUERY LENGTH LIMIT EXCEEDED. MAX ALLOWED QUERY : 500 CHARS QUERY LENGTH LIMIT EXCEEDED. MAX ALLOWED QUERY : 500 CHARS QUERY LENGTH LIMIT EXCEEDED. MAX ALLOWED QUERY : 500 CHARS QUERY LENGTH LIMIT EXCEEDED. MAX ALLOWED QUERY : 500 CHARS QUERY LENGTH LIMIT EXCEEDED. MAX ALLOWED QUERY : 500 CHARS in different countries, cultures and ethnicities.',\n",
       "       'QUERY LENGTH LIMIT EXCEEDED. MAX ALLOWED QUERY : 500 CHARS QUERY LENGTH LIMIT EXCEEDED. MAX ALLOWED QUERY : 500 CHARS QUERY LENGTH LIMIT EXCEEDED. MAX ALLOWED QUERY : 500 CHARS QUERY LENGTH LIMIT EXCEEDED. MAX ALLOWED QUERY : 500 CHARS QUERY LENGTH LIMIT EXCEEDED. MAX ALLOWED QUERY : 500 CHARS we will find a favorable outcome to this problem. In the meantime, please believe, dear customer, has the assurance of my perfect consideration. Mr. LEROY'],\n",
       "      dtype=object)"
      ]
     },
     "execution_count": 108,
     "metadata": {},
     "output_type": "execute_result"
    }
   ],
   "source": [
    "translated.values"
   ]
  },
  {
   "cell_type": "code",
   "execution_count": 115,
   "metadata": {},
   "outputs": [],
   "source": [
    "translator = GoogleTranslator(source='fr', target='en')\n",
    "# we want to translate all the contents of the \"description\" column except the ones that are longer than 4999 character\n",
    "# because the Google Translator API does not support more than 5000 characters\n",
    "# we will translate the longer ones later\n",
    "desc_en = []\n",
    "for desc in tqdm(company_df[\"description\"]):\n",
    "    if len(desc) > 5000:\n",
    "        sentences = desc.split(\".\")\n",
    "        translated = \"\"\n",
    "        for sentence in sentences:\n",
    "            translated_sentence = translator.translate(sentence)\n",
    "            if translated_sentence != None:\n",
    "                translated += translated_sentence + \". \" # we add the \".\" separator back\n",
    "        desc_en.append(translated)\n",
    "    else:\n",
    "        desc_en.append(translator.translate(desc))"
   ]
  },
  {
   "cell_type": "code",
   "execution_count": 116,
   "metadata": {},
   "outputs": [
    {
     "data": {
      "text/plain": [
       "['Haec igitur Epicuri non probo, inquam. De cetero vellem equidem aut ipse doctrinis futset instructior est enim, quod tibi ita videri necesse est, non satis politus iis artibus, quas qui tenent, eruditi appellantur aut ne deterruisset alios a studiis. quamquam te quidem video mini esse deterritum. Homines enim eruditos et sobrios ut infaustos et inutiles vitant, eo quoque accedente quod et nomenclatores adsueti haec et talia venditare, mercede accepted lucris quosdam et prandiis insert subditicios ignobiles et obscuros. Homines enim eruditos et sobrios ut infaustos et inutiles vitant, eo quoque accedente quod et nomenclatores adsueti haec et talia venditare, mercede accepted lucris quosdam et prandiis insert subditicios ignobiles et obscuros. Constituendi autem sunt qui sint in amicitia fines et quasi termini diligendi. De quibus tres video sentias ferri, quarum nullam probo, unam, ut eodem modo erga amicum adfecti simus, quo erga nosmet ipsos, alteram, ut nostra in amicos benevolentia illorum erga nos benevolentiae pariter aequaliterque respondeat, tertiam, ut, quanti quisque se ipse facit , tanti fiat ab amicis. Huic Arabia est conserta, ex alio latere Nabataeis contigua; opima varietate conmerciorum castrisk oppleta validis et castellis, quae ad repellendos gentium vicinarum excursus sollicitudo pervigil veterum per oportunos saltus erexit et cautos. haec quoque civitates habet inter oppida quaedam ingentes Bostram et Gerasam atque Philadelphiam murorum firmitate cautissimas. hanc provinciae inposito nomine rectoreque adtributo obtemperare legibus nostris Traianus conpulit imperator incolarum tumore saepe contunso cum glorioso marte Mediam urgeret et Parthos. Saepissime igitur mihi de amicitia cogitanti maxime illud considerandum videri solet, utrum propter imbecillitatem atque inopiam desiderata sit amicitia, ut dandis recipiendisque meritis quod quisque minus per se ipse posset, id acciperet ab alio vicissimque redderet, an esset hoc quidem proprium amicitiae, sed antiquior et pulchrior et magis a natura ipsa profecta alia causa. Amor enim, ex quo amicitia nominata est, princeps est ad benevolentiam coniungendam. Nam utilitates quidem etiam ab iis percipiuntur saepe qui simulatione amicitiae coluntur et observantur temporis causa, in amicitia autem nihil fictum est, nihil simulatum et, quidquid est, id est verum et voluntarium. Quapropter a natura mihi videtur potius quam ab indigentia orta amicitia, applicatione magis animi cum quodam sensu amandi quam cogitatione quantum illa res utilitatis esset habitura. Quod quidem quale sit, etiam in bestiis quibusdam animadverti potest, quae ex se natos ita lover ad quoddam tempus et ab eis ita amantur ut facile earum sensus appareat. Quod in homine multo est evidentius, primum ex ea caritate quae est inter natos et parentes, quae dirimi nisi detestabili scelere non potest; deinde cum similis sensus exstitit amoris, si aliquem nacti sumus cuius cum moribus et natura congruamus, quod in eo quasi lumen aliquod probitatis et virtutis perspicere videamur. Circa hos dies Lollianus primae lanuginis adulescens, Lampadi filius ex praefecto, exploratius causam Maximino spectante, convictus codicem noxiarum artium nondum per aetatem firmato consilio descripsisse, exulque mittendus, ut sperabatur, patris inpulsu provocavit ad principlem, et iussus ad eius comitatum duci, de fumo , ut aiunt, in flammam traditus Phalangio Baeticae consulari cecidit funesti carnificis manu. Alii nullo quaerente vultus severitate adsimulata patrimonia sua in inmensum extollunt, cultorum ut puta faitcium multiplicantes annuos fructus, quae a primo ad ultimum solem se abunde iactitant possidere, ignorantes profecto maiores suos, per quos ita magnitudo Romana porrigitur, non divitiis eluxisse sed per bella sa evissima , nec opibus nec victu nec indumentorum vilitate gregariis militibus discrepantes opposita cuncta superasse virtute. Ardeo, mihi credite, Patres conscripti (id quod vosmet de me existimatis et facitis ipsi) incredibili quodam amore patriae, qui me amor et subvenire olim impendentibus periculis maximis cum dimicatione capitis, et rursum, cum omnia tela undique esse intenta in patriam viderem, submite coegit atque excipere unum pro universis. Hic me meus in rem publicam animus pristinus ac perennis cum C. Caesare reducit, reconciliat, restitute in gratiam. Haec dum oriens diu perferret, caeli reserato tepore Constantius consulatu suo septies et Caesaris ter egressus Arelate Valentiam petit, in Gundomadum et Vadomarium fratres Alamannorum reges arma moturus, quorum crebris excursibus vastabantur confines limitibus terrae Gallorum. Sed cautela nimia in peiores haeserat plagas, ut narrabimus postea, aemulis consarcinantibus insidias graves apud Constantium, cetera medium principlem sed siquid auribus eius huius modi quivis infudisset ignotus, acerbum et inplacabilem et in hoc causarum titulo dissimilem sui. Quam ob rem ut ii qui superiores sunt submittere se debent in amicitia, sic quodam modo inferiores extollere. This is anyone who molestas amicitias faciunt, cum ipsi se contemni putant; quod non fere contingit nisi iis qui etiam contemnendos se arbitrantur; qui hac opinione non modo verbis sed etiam opere levandi sunt. Saepissime igitur mihi de amicitia cogitanti maxime illud considerandum videri solet, utrum propter imbecillitatem atque inopiam desiderata sit amicitia, ut dandis recipiendisque meritis quod quisque minus per se ipse posset, id acciperet ab alio vicissimque redderet, an esset hoc quidem proprium amicitiae, sed antiquior et pulchrior et magis a natura ipsa profecta alia causa. Amor enim, ex quo amicitia nominata est, princeps est ad benevolentiam coniungendam. Nam utilitates quidem etiam ab iis percipiuntur saepe qui simulatione amicitiae coluntur et observantur temporis causa, in amicitia autem nihil fictum est, nihil simulatum et, quidquid est, id est verum et voluntarium. Huic Arabia est conserta, ex alio latere Nabataeis contigua; opima varietate conmerciorum castrisk oppleta validis et castellis, quae ad repellendos gentium vicinarum excursus sollicitudo pervigil veterum per oportunos saltus erexit et cautos. haec quoque civitates habet inter oppida quaedam ingentes Bostram et Gerasam atque Philadelphiam murorum firmitate cautissimas. hanc provinciae inposito nomine rectoreque adtributo obtemperare legibus nostris Traianus conpulit imperator incolarum tumore saepe contunso cum glorioso marte Mediam urgeret et Parthos. Sed quid est quod in hac causa maxim homines admirentur et reprehendant meum consilium, cum ego idem antea multa decreverim, que magis ad hominis dignitatem quam ad rei publicae necessitatem pertinent? Supplicationem quindecim dierum decreviisentia mea. Rei publicae satis erat tot dierum quot C. Mario; dis immortalibus non erat exigua eadem gratulatio quae ex maximis bellis. Ergo ille cumulus dierum hominis est dignitati tributus. Ego vero sic intellego, Patres conscripti, nos hoc tempore in provinciis decernendis perpetuae pacis habere oportere rationem. Nam quis hoc non sentit omnia alia esse nobis vacua ab omni periculo atque etiam suspicione belli? Raptim igitur properantes ut motus sui rumores celeritate nimia praevenisent, vigore corporum ac levitate confisi per flexuosas semitas ad summitates collium tardius evadebant. et cum superatis difficultyatibus arduis ad supercilia venisent fluvii Melanis alti et verticosi, qui pro muro tuetur accolas circumfusus, augente nocte adulta terrorem quievere paulisper lucem opperientes. arbitrabantur enim nullo inpediente transgressi inopino adcursu adposita quaeque vastare, sed in cassum labores pertulere gravissimos. Post haec Gallus Hierapolim profecturus ut expeditioni specie tenus adesset, Antiochensi plebi suppliciter obsecranti ut inediae dispelleret metum, quae per multas difficilisque causas adfore iam sperabatur, non ut mos est principibus, quorum diffusa potestas localibus subinde medetur aerumnis, disponi quicquam statutit vel ex provin ciis feda transferri conterminis, sed consularem Syriae Theophilum prope adstantem ultima metuenti multitudini dedit id adsidue replicando quod invito rectore nullus egere poterit victu. Et hanc quidem praeter oppida multa duae civitates exornant Seleucia opus Seleuci regis, et Claudiopolis quam deduxit coloniam Claudius Caesar. Isaura enim antehac nimium potens, olim subversa ut rebellatrix interneciva aegre vestigia claritudinis pristinae monstrat admodum pauca. . ',\n",
       " \". SCANMARINE,. . The leading yacht broker in South of France and Monaco. . Cofrance SARL (ScanMarine TM) ( ). . , Negresco. , , () Organization for the Register of Insurance Intermediaries (ORIAS). 14005763. ISO 9000. : (PYA Professional Yachting Association), (YBAA The Yacht Brokers Association of America, Inc. ), (ECPY The European committee for professional yachting). , Cofrance SARL (ScanMarine TM) , ,. . . CIC. CERES. , (www. aviav. ru),. Cofrance SARL. Cofrance SARL (ScanMarine TM) - ,. Cofrance SARL (ScanMarine TM) was established in the South of France in the scenic Mediterranean city of Nice. Cofrance SARL has since become a leading player in the yacht brokerage market for Russian speaking clients chartering boats in Monaco, France and Mediterranean area. Our principal corporate mission is to provide world-class sale and purchase (S&P) support for super yachts, yachts and private boats. This dedicated support is tailored to each client's needs and specific requirements. Additionally, Cofrance SARL provides support and provisioning for super yachts, yachts and private boats. Dr.. Vitaly Arkhangelskiy, whose background encompasses port management, shipping and marine insurance, has over 20 years of experience in Russia and in Europe. Our office is located in the historical center of Nice, just behind the famous Negresco Hotel. Our in-house insurance and financial brokerage is regulated by the French Organisme pour le Registre des Intermediaires en Assurance (ORIAS). The ORIAS registration number is 14005763. Our yachting business is ISO 9000 certified and in our daily operations we use best practices, coupled with a rigorous application of total quality management (TQM). Our major sale and purchase transactions are done through major London-based or Paris-based legal companies, using their clients' accounts. Our considerable experience in comprehensive yacht service ensures that we can provide a complete, turnkey service. We have access to the best in the industry worldwide, thus giving our customers client-specific advice and support, whatever their requirements. Cofrance SARL is a member of major international yacht and professional associations: PYA (Professional Yachting Association), YBAA (The Yacht Brokers Association of America, Inc. ), ECPY (The European committee for professional yachting). We are key Russian speaking players in yearly industry exhibitions, particularly in Monaco, Paris, Cannes and Genoa. Our Professional Liability is insured based on major international industry requirements. Our daily business practices are based on standard industry contracts. We are steadily improving and expanding our operation. Our goal is to implement MYBA e-contract in 2017. Client funds are kept in dedicated client accounts with the CIC Bank in France and are managed by Chartered Accountant Company CERES in France. Cofrance SARL complies with the Statutes and Internal Rules and Regulations of major international yachting association, in particular with rules concerning tax, social security clearance, and absence of criminal record. As an additional service, we offer our clients aviation charter broker service (www. aviav. ru). Cofrance collaborates with yachting companies in Russia and CIS as business producers. Long lasting partnership relations with them is one of our major assets. Our heritage is our knowledge and experience on how to do business with Russian speaking clients in Russia, Ukraine, Kazakhstan, Belorussia, Azerbaijan, etc.. This corporate know-how is based on our European values, anti-money laundering control and modern KYC procedures which includes sanction list control. In conclusion, Cofrance SARL (ScanMarine TM) is your reliable English and Russian speaking partner in the sunny, friendly French Riviera and Monaco region. We are also well represented and active in social media. The company Cofrance SARL (ScanMarine TM) was created in the beautiful city of Nice on the Mediterranean coast of France. Cofrance SARL has become a major player in the yacht charter brokerage market for Russian-speaking clients in Monaco, France and the Mediterranean region.. The main area of \\u200b\\u200bour activity is the provision of very high level services in the sale and acquisition of mega-yachts, yachts and private boats. This support is personalized to meet the specific needs and requirements of each client. Furthermore, Cofrance SARL provides monitoring and supply of mega-yachts, yachts and private boats. The doctor. Vitaly Arkhangelskiy, specialist in port management, maritime transport and marine insurance, has more than 20 years of experience in Russia and Europe. Our offices are located in the historic center of Nice, just behind the Negresco hotel.. Our insurance and financial brokerage activities are regulated by ORIAS, Organization for the Register of Insurance Intermediaries[1]. We are registered there under ORIAS number 14005763. Our activities in the field of pleasure boating have obtained ISO 9000 certification and we follow best practices accompanied by rigorous application of total quality management.. Our main purchase-sale operations are carried out via legal firms located in London or Paris and via their client accounts.. Our extensive experience in all areas of recreational boating allows us to provide a complete range of turnkey solutions. We have access to the best global resources, providing the best advice and service to our clients whatever their requirements.. Cofrance SARL is part of the main international yachting associations: PYA (Professional Yachting Association), YBAA (Yacht Brokerage Association of America, Inc.. ), ECPY (European Committee for Professional Yachting). We are the main Russian-speaking actors of the annual specialized exhibitions, particularly in Monaco, Paris, Cannes and Genoa. Our professional responsibility is ensured in accordance with the main international rules in the field. Our daily practices are based on standard contracts used in the industry. Our clients' funds are held in client accounts dedicated to the CIC bank in France and are managed by CERES, the French society of chartered accountants.. Cofrance SARL meets the requirements of the Statutes and Internal Regulations of the main international association in the field of yachting, in particular the requirements concerning taxation and social security and the absence of criminal convictions.. As additional services, we offer our clients the air charter brokerage service (http://www. samolet. fr/) (www. aviav. ru). Cofrance works with yachting companies in Russia and the CIS providing business. Our long-standing partnership relationships are one of our main assets. Our strong point is our experience working with Russian-speaking clients in Russia, Ukraine, Kazakhstan, Belarus, Azerbaijan etc.. This know-how of our company is based on our European values, anti-money laundering control and modern KYS (deep knowledge of the customer) procedures including control of the sanctions list. To conclude, Cofrance SARL (ScanMarine TM) is your trusted partner, speaking English and Russian in the sunny and hospitable region of the French Riviera and Monaco.. . \",\n",
       " 'Opinion on EDF ENR Subsidiary of the EDF group, we design, market, install and maintain turnkey photovoltaic solar solutions for the roofs of individuals, professionals and communities. By combining the innovation capacity of a start-up with the industrial power of the EDF group, our vocation is to develop the local production of renewable, carbon-free and environmentally friendly energy.. With more than 60,000 customers, we are today the leader in solar photovoltaic roofing in France.. Proximity with our customers, the quality of our products and the performance of our installation network are the leitmotif of our daily action. We are proud to have been supporting the energy transition for fifteen years and participating in the emergence of a world where everyone can become a producer of their own green electricity and an actor in its consumption.. Bring some sunshine into your energy! Key dates of the EDF ENR brand Here are the key dates in the evolution of the EDF ENR company: - 2007: Photon Technologies is created by Roland BARTHEZ, founder of Total Energie Tenesol in 1983. - 2010: Photon Technologies is integrated into EDF Renewables and becomes EDF ENR Solaire. - 2016: EDF ENR Solaire revolutionizes the market by launching its 100% self-consumption offer for individuals under the name “Mon Soleil & Moi”. - 2018: Thanks to the Solar Plan, the EDF group becomes a key player in photovoltaics in France. - 2019: EDF ENR Solaire joins the CST (Customers, Services and Territories) division of EDF and is now renamed EDF ENR. Key figures for the EDF ENR brand - More than 65,000 installations in private homes in France. - A market share in France in self-consumption which has increased by more than 20%. - An overall turnover of 300 million euros in 2022 in France and the French Overseas Territories (with Sunzil, 50% owned by EDF ENR). - 105 MWp of own installations (with Sunzil, 50% owned by EDF ENR). - More than 2,700 installations among professionals and communities in France - 7 locations overseas as of January 1, 2023 (via Sunzil, 50% owned by EDF ENR). - More than 950 employees. - More than 2,500 agricultural, industrial and community customers trust EDF ENR The vocation of EDF ENR Since 2007, EDF\\'s mission has remained constant and is even more closely aligned with the values \\u200b\\u200bof our current society: promoting local creation renewable energy, clean and respectful of the ecosystem. EDF ENR\\'s solutions for individuals EDF ENR\\'s \"Mon Soleil & Moi\" offer, whether for installations on the roof, on the terrace or in the garden, offers varied possibilities: - Solar panels on the roof: EDF ENR helps customers choose the best solar panel installation for their needs, thus transforming their roof into a source of renewable energy. This makes it possible to produce electricity using the sun, thus reducing the energy bill while becoming the owner of part of the electricity generated.. - Solar panels on the roof terrace: For houses with flat and solid roofs, EDF ENR offers solar installations adapted to the energy needs of customers, thus exploiting the roof terrace for the production of renewable electricity. - Solar panels in the garden: If using the roof is not possible, EDF ENR offers an alternative by installing photovoltaic solar panels on the ground. This solution makes it possible to become a producer of green electricity by using solar panels placed in the garden on weighted supports, without requiring modification of the roof. The company stands out for its ability to innovate: - Remote control allows you to effectively manage all the electrical devices in your home. By re-evaluating the way you use energy and adjusting when you consume it, you can optimize your overall energy footprint.. - The thermodynamic water heater constitutes an ecological solution for producing domestic hot water using solar energy, thus offering living comfort and significant energy savings. - The solar electricity generated can be consumed at any time, even at night, thanks to a stationary battery which stores the green energy produced. This allows continuous use even on less sunny days. - The charging station for electric vehicles, coupled with a photovoltaic module, allows you to recharge your vehicle at home, thus using solar energy to power your journeys. - The heat pump uses thermal energy to heat or cool your home, which contributes to more efficient use of energy. Photovoltaic solutions for businesses and communities - Rooftop solar power plant: EDF ENR offers photovoltaic solutions for roofs in France, whether flat or sloping. These solutions make it possible to produce, consume and sell renewable electricity, while respecting Climate & Resilience regulations and preserving the watertightness of buildings.. - Ground solar power plant: If the roof is not suitable, EDF ENR offers the possibility of creating a ground solar power plant on unused land. This solution enhances real estate assets by producing green electricity at an advantageous cost in the long term, regardless of the location in France, provided that the land is sufficiently large and exposed to the sun.. - Photovoltaic shade: Photovoltaic shades protect vehicles from bad weather and power charging stations for electric vehicles. In addition to meeting Climate & Resilience regulations, this solution offers comfortable parking while improving the user experience.. EDF ENR: Responsible Commitment EDF ENR embodies responsibility and conscience in all its actions. Its uncompromising commitment is the cornerstone of the quality of its products and services, as well as the safety of its teams and its infrastructures.. From the excellence of its equipment to the precision of its support, its reliability is indisputable. The company deploys constant efforts in favor of the environment, translated into concrete actions. Finally, its expertise in the field of photovoltaics is constantly evolving, thus ensuring its leadership in this dynamic sector.. The advantages of opting for EDF ENR - EDF ENR uses advanced technologies (AI, drones, advanced devices) to monitor and maintain optimal performance in solar installations. - With nearly 15 years of expertise, the company monitors thousands of solar electricity producers spread across 2000 power plants, generating 190 MWp of production. - All stages of EDF ENR products and processes are certified according to photovoltaic industry standards, such as ISO 9001/14001, QUALIF\\'ELEC, and the AQPV brand. - EDF ENR teams receive regular training to stay up to date with the latest intervention techniques and methods. - EDF ENR intervenes at your home in the event of problems with your solar panels whether the company is your supplier or not. The company\\'s objective is to allow all homes to benefit from a functional and optimal installation.. - The company\\'s national presence ensures great flexibility and responsiveness in the event of a breakdown detected in electrical production, with competent teams intervening quickly to resolve problems. EDF ENR customer service EDF ENR customer service is at your disposal to answer your needs and questions, whether you are an individual or a professional. For individual customers, you can contact customer service on 0 809 404 004. They are available Monday to Friday from 9 a.m. to 7 p.m. and Saturday from 9 a.m. to 1 p.m.. If you are a professional customer, you can contact customer service on 0 811 090 404. They are at your disposal Monday to Friday from 9 a.m. to 5:30 p.m.. The EDF ENR customer service team is here to assist you, whether for information on the services offered, questions about your solar installation, or any other need related to your contract. They are at your disposal to provide you with the best possible service. Why present EDF ENR customer reviews? Presenting the opinions of EDF ENR customers is of significant importance on several levels. - Develop a relationship of trust and transparency with customers. - Help future customers make informed decisions by providing information on the quality of products and services. - Use customer feedback to constantly improve products and services. - Strengthen the satisfaction and loyalty of current customers while attracting new customers, which contributes to business growth. Are EDF ENR customer reviews authentic? EDF ENR customer reviews are undeniably authentic thanks to the Custplace solution. This platform offers a 100% authentication guarantee, because only customers who have actually had an experience with EDF ENR have the possibility of leaving a review. This rigorous approach ensures that each review comes from a real person who has used EDF ENR services, thus sharing their impressions and feelings after having benefited from these services.. This authenticity reinforces confidence in the reviews and contributes to reliably informing future EDF ENR customers.. . ',\n",
       " \"01/08/2017 01/08/2017 Dear Customer, I am following up on your order placed within the HCH group and more particularly within my brand SOFAMOBILI, through the website www. sofamobili. com. First of all and with the most complete transparency, I wanted to thank you for your trust, and it is for this reason and because it is my duty that I wanted to share with you the difficulties encountered by the HCH group. The first difficulty being: During the 2016-2017 financial year, we were victims of a problem with our main carrier. The latter allowed himself to break the goods but did not consider himself liable for them.. A summons before the court is in progress to recover the damage. (1. 000. 000). To deal with these disputes, the group had to place new orders for goods, and incurred new transport costs to properly deliver to its customers.. This is not without consequences, since we had to disburse colossal sums. (1. 500. 000) Consequently, I decided to structure this logistics part, and I contracted with the GUISNEL group, to ensure future deliveries. This flawless reputation that this mover conveys is a guarantee of reassurance for our group. The second difficulty being: In March 2017, the brand noticed an accounting error putting it in development difficulties. It emerged that the brand paid a public body twice by mistake. Given that the sums exceed one million euros, the reimbursement procedures requested last March are long and can take up to 6 months. So to protect the entire group, I decided with the order of my advisors to legally redress my brand on 05/07/2017. This is in no way a court decision but a request that I requested following the expected sums. The fact remains that this is not a liquidation because my business is viable, but rather a temporary difficulty that I am encountering. This is why I wanted to inform you that all orders will be honored without difficulty but I apologize for the delay which may be recorded following the summer period, the annual holidays of suppliers, and the financial difficulty encountered the sign. It is important to specify that I expect a return to normal around mid-September. All deliveries will therefore be made between mid-September and early October. On the other hand, if you request a refund, I will unfortunately be unable to reimburse you because the terms of recovery are strict.. The only possibility of circumventing this procedure is to transform the amount of your order into the form of a purchase voucher.. Otherwise, maintaining the order is strongly recommended, because in the event of cancellation, the reimbursement period can be up to 10 years.. So that you can be reassured, please know that my customer service remains at your disposal, by email or by telephone, the contact details of which are displayed on the site.. I am putting in place human resources during this period to avoid telephone reception being saturated. I recommend that you contact this service during off-peak periods allowing you to be taken care of quickly. Please note that the HCH group is the first major player in the sale of living room furniture on the internet, and that we deliver more than 150. 000 customers each year. This is why we have been in high demand by telephone lately.. Allow me to draw your attention dear customer, to remind you that your current purchasing experience remains exceptional and in no way reflects the brand image of our group. Also, I would be grateful if you would avoid publishing unfavorable opinions on the brand, because these opinions can have an inverse effect on the sustainability of the brand: You are aware that these opinions play a determining role on potential buyers. By creating astonishment and worry, this will aggravate the already delicate situation and may undermine recovery.. Otherwise, the consequences will be worsened, and will jeopardize the outcome of your order.. I am fully aware of the problem and I am very seriously committed to taking all measures to reduce all the inconveniences.. It is therefore in everyone's interest to be understanding and patient so that together we can settle the order quickly.. Being close to my partners and my community managers (social networks), I was able, thanks to the comments of my customers, to make the decision to stop the collaboration with the suppliers and carriers who impacted their satisfaction. Today, all conditions to satisfy you will be respected. I remain certain that other customers will provide their support and that together we will find a favorable outcome to this problem.. In the meantime, please believe, dear customer, in the assurance of my perfect consideration.. Mr LEROY. \",\n",
       " \"Ethnik-Shop, our Boutique specializing in 100% HANDMADE. We are a young team passionate about items made from noble, natural and handmade materials, by artisans imbued with richness and ancestral know-how.. Here we allow you to virtually travel to different countries, cultures and ethnicities. Hello, Ethnik is a French company, created in January 2022 in STRASBOURG, by a Franco-Tunisian, in love with Tunisia and wishing to promote its culture through its crafts. I created this company after 18 years of living in Tunisia. I worked for a large mass distribution company, which allowed me to discover the entire Tunisian territory, its culture, its architecture, its history.. Back in France, I decided to take the plunge and live a dream, that of Ambassador of Tunisian Artisans (I proclaimed myself). I am constantly looking for purely Tunisian products, handmade, of pure Tunisian tradition to display them on my E-Commerce site hosted in France www. ethnic-shop. com. Founder. GUEMATI Mouad About Tunisian Crafts. It employs approximately 350,000 people, which represents 9.7% of the Tunisian active population, and contributes 3.8% of the gross domestic product and 2.32% of exports (fifty million Tunisian dinars in 2005 of which 47.3 to France). The regions of Nabeul and Kairouan are the two main centers of artisanal production in the country, the first for ceramics and the second for carpets.. Artisans are represented at the level of the National Federation of Crafts which is attached to the employers' organization of the Tunisian Union of Industry, Commerce and Crafts. The State intervenes through the National Crafts Office, a public enterprise created in 1959 and placed under the supervision of the Ministry of Commerce and Crafts, whose functions are to supervise the sector through training, studies economic, promotion, assistance to artisans, development of international cooperation, etc.. and to market artisanal products, particularly to tourists. In 1990, its strictly commercial functions were entrusted to a separate company: the Company for the Marketing of Craft Products (SOCOPA). Fairs, exhibitions and exhibitions are organized regularly, in particular the Artisanal Creation Fair which takes place in March each year.. There is also a National Day of Traditional Clothing which takes place on March 16 each year during which the President of the Republic distinguishes artisans. Tunisian civil servants are then required to dress in traditional clothing. Tunisia has experienced different historical periods. Populated since prehistoric times, it was the cradle of the brilliant Carthaginian civilization.. From the 1st century BC. VS. the Romans made it one of the major producers of wheat and olive oil intended to supply Rome. Tunisia, which became the kingdom of the Vandals at the time of the great migration of Germanic peoples, was reconquered at the beginning of the sixth century by the Byzantines of Justinian. The Arabs took over Tunisia in the middle of the seventh century, they introduced Islam there.. Kairouan becomes the center of a brilliant Muslim civilization. Tunisia will suffer the political and religious divisions of the Arab-Muslim world. Most often its leaders try to escape the authority of the caliphs of Damascus, Baghdad or Cairo.. In 1574, Tunisia became a province of the Ottoman Turkish Empire; but the bey of Tunis achieves near independence. In the ninth century, different beys modernized the country, but put Tunisia heavily in debt. In 1882, France imposed its protectorate on the government of the Bey of Tunis. The economy is modernized. But Tunisian nationalists demand independence. During the Second World War in 1943, Tunisia was the site of confrontation between the Anglo-American armies and the German army.. After the war, nationalist agitation led by Habib Bourguiba's Neo-Destour party resumed. In 1956, France withdrew from Tunisia, which became independent.. President Bourguiba secularizes the country by making important societal reforms, but he imposes the single party. From 1987, President Ben Ali continued the work of Bourguiba. but gradually Tunisia becomes a police state and the president's entourage gets rich by controlling the economy. In January 2011, after a month of popular demonstrations, Ben Ali was forced to leave Tunisia.. ABOUT US Welcome to Ethnik-Shop, our Boutique specializing in 100% HANDMADE. We are a young team passionate about items made from noble, natural and handmade materials, by artisans imbued with richness and ancestral know-how.. Here we allow you to virtually travel to different countries, cultures and ethnicities. . \",\n",
       " \"01/08/2017 Dear Customer, I am following up on your order placed within the HCH group and more particularly within my brand HCOMMEHOME, through the website www. hcommehome. com. First of all and with the most complete transparency, I wanted to thank you for your trust, and it is for this reason and because it is my duty that I wanted to share with you the difficulties encountered by the HCH group. The first difficulty being: During the 2016-2017 financial year, we were victims of a problem with our main carrier. The latter allowed himself to break the goods but did not consider himself liable for them.. A summons before the court is in progress to recover the damage. (1. 000. 000). To deal with these disputes, the group had to place new orders for goods, and incurred new transport costs to properly deliver to its customers.. This is not without consequences, since we had to disburse colossal sums. (1. 500. 000) Consequently, I decided to structure this logistics part, and I contracted with the GUISNEL group, to ensure future deliveries. This flawless reputation that this mover conveys is a guarantee of reassurance for our group. The second difficulty being: In March 2017, the brand noticed an accounting error putting it in development difficulties. It emerged that the brand paid a public body twice by mistake. Given that the sums exceed one million euros, the reimbursement procedures requested last March are long and can take up to 6 months. So to protect the entire group, I decided with the order of my advisors to legally redress my brand on 05/07/2017. This is in no way a court decision but a request that I requested following the expected sums. The fact remains that this is not a liquidation because my business is viable, but rather a temporary difficulty that I am encountering. This is why I wanted to inform you that all orders will be honored without difficulty but I apologize for the delay which may be recorded following the summer period, the annual holidays of suppliers, and the financial difficulty encountered the sign. It is important to specify that I expect a return to normal around mid-September. All deliveries will therefore be made between mid-September and early October. On the other hand, if you request a refund, I will unfortunately be unable to reimburse you because the terms of recovery are strict.. The only possibility of circumventing this procedure is to transform the amount of your order into the form of a purchase voucher.. Otherwise, maintaining the order is strongly recommended, because in the event of cancellation, the reimbursement period can be up to 10 years.. So that you can be reassured, please know that my customer service remains at your disposal, by email or by telephone, the contact details of which are displayed on the site.. I am putting in place human resources during this period to avoid telephone reception being saturated. I recommend that you contact this service during off-peak periods allowing you to be taken care of quickly. Please note that the HCH group is the first major player in the sale of living room furniture on the internet, and that we deliver more than 150. 000 customers each year. This is why we have been in high demand by telephone lately.. Allow me to draw your attention dear customer, to remind you that your current purchasing experience remains exceptional and in no way reflects the brand image of our group. Also, I would be grateful if you would avoid publishing unfavorable opinions on the brand, because these opinions can have an inverse effect on the sustainability of the brand: You are aware that these opinions play a determining role on potential buyers. By creating astonishment and worry, this will aggravate the already delicate situation and may undermine recovery.. Otherwise, the consequences will be worsened, and will jeopardize the outcome of your order.. I am fully aware of the problem and I am very seriously committed to taking all measures to reduce all the inconveniences.. It is therefore in everyone's interest to be understanding and patient so that together we can settle the order quickly.. Being close to my partners and my community managers (social networks), I was able, thanks to the comments of my customers, to make the decision to stop the collaboration with the suppliers and carriers who impacted their satisfaction. Today, all conditions to satisfy you will be respected. I remain certain that other customers will provide their support and that together we will find a favorable outcome to this problem.. In the meantime, please believe, dear customer, in the assurance of my perfect consideration.. Mr LEROY. \"]"
      ]
     },
     "execution_count": 116,
     "metadata": {},
     "output_type": "execute_result"
    }
   ],
   "source": [
    "desc_en"
   ]
  },
  {
   "cell_type": "code",
   "execution_count": null,
   "metadata": {},
   "outputs": [],
   "source": []
  }
 ],
 "metadata": {
  "kernelspec": {
   "display_name": "NLP",
   "language": "python",
   "name": "python3"
  },
  "language_info": {
   "codemirror_mode": {
    "name": "ipython",
    "version": 3
   },
   "file_extension": ".py",
   "mimetype": "text/x-python",
   "name": "python",
   "nbconvert_exporter": "python",
   "pygments_lexer": "ipython3",
   "version": "3.10.13"
  }
 },
 "nbformat": 4,
 "nbformat_minor": 2
}
