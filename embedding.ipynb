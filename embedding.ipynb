{
 "cells": [
  {
   "cell_type": "code",
   "execution_count": null,
   "metadata": {},
   "outputs": [],
   "source": [
    "import pickle"
   ]
  },
  {
   "cell_type": "markdown",
   "metadata": {},
   "source": [
    "# Embedding model trainings"
   ]
  },
  {
   "cell_type": "markdown",
   "metadata": {},
   "source": [
    "### Embed company descriptions"
   ]
  },
  {
   "cell_type": "markdown",
   "metadata": {},
   "source": [
    "#### Import Data"
   ]
  },
  {
   "cell_type": "code",
   "execution_count": null,
   "metadata": {},
   "outputs": [],
   "source": [
    "with open(\"pipes/pipe4\", \"rb\") as fp:   # Unpickling\n",
    "    pipe4 = pickle.load(fp)"
   ]
  },
  {
   "cell_type": "code",
   "execution_count": null,
   "metadata": {},
   "outputs": [
    {
     "data": {
      "text/plain": [
       "[['le',\n",
       "  'fourgon',\n",
       "  'delivers',\n",
       "  'stored',\n",
       "  'drinks',\n",
       "  'home',\n",
       "  'order',\n",
       "  'placed',\n",
       "  'lefourgon.com',\n",
       "  'beers',\n",
       "  'juices',\n",
       "  'sodas',\n",
       "  'water',\n",
       "  'milk',\n",
       "  'wines',\n",
       "  'soups',\n",
       "  'spirits',\n",
       "  'co.',\n",
       "  'deliver',\n",
       "  'home',\n",
       "  'free',\n",
       "  'charge',\n",
       "  'chosen',\n",
       "  'niche',\n",
       "  'next',\n",
       "  'visit',\n",
       "  'collect',\n",
       "  'empty',\n",
       "  'bottles',\n",
       "  'return',\n",
       "  'washed',\n",
       "  'producer',\n",
       "  'reuse',\n",
       "  'zerodechet']]"
      ]
     },
     "metadata": {},
     "output_type": "display_data"
    }
   ],
   "source": [
    "pipe4[0]"
   ]
  },
  {
   "cell_type": "code",
   "execution_count": null,
   "metadata": {},
   "outputs": [],
   "source": [
    "from gensim.models import FastText, Word2Vec"
   ]
  },
  {
   "cell_type": "markdown",
   "metadata": {},
   "source": [
    "#### Word2Vec"
   ]
  },
  {
   "cell_type": "code",
   "execution_count": null,
   "metadata": {},
   "outputs": [],
   "source": []
  },
  {
   "cell_type": "markdown",
   "metadata": {},
   "source": [
    "#### Fasttext"
   ]
  },
  {
   "cell_type": "code",
   "execution_count": null,
   "metadata": {},
   "outputs": [],
   "source": []
  },
  {
   "cell_type": "markdown",
   "metadata": {},
   "source": [
    "#### GloVe"
   ]
  },
  {
   "cell_type": "code",
   "execution_count": null,
   "metadata": {},
   "outputs": [],
   "source": []
  }
 ],
 "metadata": {
  "kernelspec": {
   "display_name": "nlp_project",
   "language": "python",
   "name": "python3"
  },
  "language_info": {
   "name": "python",
   "version": "3.10.13"
  }
 },
 "nbformat": 4,
 "nbformat_minor": 2
}
