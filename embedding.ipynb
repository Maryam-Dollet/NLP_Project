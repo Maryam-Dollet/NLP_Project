{
 "cells": [
  {
   "cell_type": "code",
   "execution_count": 25,
   "metadata": {},
   "outputs": [],
   "source": [
    "import pickle\n",
    "import pandas as pd\n",
    "import spacy\n",
    "import re\n",
    "from time import time\n",
    "import multiprocessing"
   ]
  },
  {
   "cell_type": "markdown",
   "metadata": {},
   "source": [
    "# Embedding model trainings"
   ]
  },
  {
   "cell_type": "markdown",
   "metadata": {},
   "source": [
    "### Embed company descriptions"
   ]
  },
  {
   "cell_type": "markdown",
   "metadata": {},
   "source": [
    "#### Import Data"
   ]
  },
  {
   "cell_type": "code",
   "execution_count": null,
   "metadata": {},
   "outputs": [],
   "source": [
    "with open(\"pipes/pipe4\", \"rb\") as fp:   # Unpickling\n",
    "    pipe4 = pickle.load(fp)"
   ]
  },
  {
   "cell_type": "code",
   "execution_count": null,
   "metadata": {},
   "outputs": [
    {
     "data": {
      "text/plain": [
       "[['le',\n",
       "  'fourgon',\n",
       "  'delivers',\n",
       "  'stored',\n",
       "  'drinks',\n",
       "  'home',\n",
       "  'order',\n",
       "  'placed',\n",
       "  'lefourgon.com',\n",
       "  'beers',\n",
       "  'juices',\n",
       "  'sodas',\n",
       "  'water',\n",
       "  'milk',\n",
       "  'wines',\n",
       "  'soups',\n",
       "  'spirits',\n",
       "  'co.',\n",
       "  'deliver',\n",
       "  'home',\n",
       "  'free',\n",
       "  'charge',\n",
       "  'chosen',\n",
       "  'niche',\n",
       "  'next',\n",
       "  'visit',\n",
       "  'collect',\n",
       "  'empty',\n",
       "  'bottles',\n",
       "  'return',\n",
       "  'washed',\n",
       "  'producer',\n",
       "  'reuse',\n",
       "  'zerodechet']]"
      ]
     },
     "metadata": {},
     "output_type": "display_data"
    }
   ],
   "source": [
    "pipe4[0]"
   ]
  },
  {
   "cell_type": "code",
   "execution_count": 3,
   "metadata": {},
   "outputs": [],
   "source": [
    "company_df = pd.read_csv(\"data/company_desc_translated.csv\", sep=\";\")[[\"company_name\", \"description_en\"]]"
   ]
  },
  {
   "cell_type": "code",
   "execution_count": 4,
   "metadata": {},
   "outputs": [
    {
     "data": {
      "text/html": [
       "<div>\n",
       "<style scoped>\n",
       "    .dataframe tbody tr th:only-of-type {\n",
       "        vertical-align: middle;\n",
       "    }\n",
       "\n",
       "    .dataframe tbody tr th {\n",
       "        vertical-align: top;\n",
       "    }\n",
       "\n",
       "    .dataframe thead th {\n",
       "        text-align: right;\n",
       "    }\n",
       "</style>\n",
       "<table border=\"1\" class=\"dataframe\">\n",
       "  <thead>\n",
       "    <tr style=\"text-align: right;\">\n",
       "      <th></th>\n",
       "      <th>company_name</th>\n",
       "      <th>description_en</th>\n",
       "    </tr>\n",
       "  </thead>\n",
       "  <tbody>\n",
       "    <tr>\n",
       "      <th>0</th>\n",
       "      <td>Le Fourgon</td>\n",
       "      <td>Le Fourgon delivers your stored drinks to your...</td>\n",
       "    </tr>\n",
       "    <tr>\n",
       "      <th>1</th>\n",
       "      <td>Comptoir des Vignes</td>\n",
       "      <td>Comptoir des Vignes is a brand of cellars spec...</td>\n",
       "    </tr>\n",
       "    <tr>\n",
       "      <th>2</th>\n",
       "      <td>Shin Sekai</td>\n",
       "      <td>Welcome to our Trustpilot page! Shin Sekai is ...</td>\n",
       "    </tr>\n",
       "    <tr>\n",
       "      <th>3</th>\n",
       "      <td>Nutri Naturel</td>\n",
       "      <td>Nutri-Naturel.com, the leading online organic ...</td>\n",
       "    </tr>\n",
       "    <tr>\n",
       "      <th>4</th>\n",
       "      <td>Maison Martin - Le Piment Français</td>\n",
       "      <td>Maison Martin - Le Piment Francais is the firs...</td>\n",
       "    </tr>\n",
       "    <tr>\n",
       "      <th>...</th>\n",
       "      <td>...</td>\n",
       "      <td>...</td>\n",
       "    </tr>\n",
       "    <tr>\n",
       "      <th>12991</th>\n",
       "      <td>Ljbautoparts</td>\n",
       "      <td>Sale of auto body spare parts online: fender, ...</td>\n",
       "    </tr>\n",
       "    <tr>\n",
       "      <th>12992</th>\n",
       "      <td>Aéroports de Paris</td>\n",
       "      <td>Aeroports de Paris, with its three platforms, ...</td>\n",
       "    </tr>\n",
       "    <tr>\n",
       "      <th>12993</th>\n",
       "      <td>Online SAS</td>\n",
       "      <td>Shared hosting with unlimited traffic, domain ...</td>\n",
       "    </tr>\n",
       "    <tr>\n",
       "      <th>12994</th>\n",
       "      <td>shopequitation</td>\n",
       "      <td>Online specialist in the sale of horse riding ...</td>\n",
       "    </tr>\n",
       "    <tr>\n",
       "      <th>12995</th>\n",
       "      <td>Odyssee Transfer</td>\n",
       "      <td>Private shuttle company between airports, trai...</td>\n",
       "    </tr>\n",
       "  </tbody>\n",
       "</table>\n",
       "<p>12996 rows × 2 columns</p>\n",
       "</div>"
      ],
      "text/plain": [
       "                              company_name  \\\n",
       "0                              Le Fourgon    \n",
       "1                     Comptoir des Vignes    \n",
       "2                              Shin Sekai    \n",
       "3                           Nutri Naturel    \n",
       "4      Maison Martin - Le Piment Français    \n",
       "...                                    ...   \n",
       "12991                        Ljbautoparts    \n",
       "12992                  Aéroports de Paris    \n",
       "12993                          Online SAS    \n",
       "12994                      shopequitation    \n",
       "12995                    Odyssee Transfer    \n",
       "\n",
       "                                          description_en  \n",
       "0      Le Fourgon delivers your stored drinks to your...  \n",
       "1      Comptoir des Vignes is a brand of cellars spec...  \n",
       "2      Welcome to our Trustpilot page! Shin Sekai is ...  \n",
       "3      Nutri-Naturel.com, the leading online organic ...  \n",
       "4      Maison Martin - Le Piment Francais is the firs...  \n",
       "...                                                  ...  \n",
       "12991  Sale of auto body spare parts online: fender, ...  \n",
       "12992  Aeroports de Paris, with its three platforms, ...  \n",
       "12993  Shared hosting with unlimited traffic, domain ...  \n",
       "12994  Online specialist in the sale of horse riding ...  \n",
       "12995  Private shuttle company between airports, trai...  \n",
       "\n",
       "[12996 rows x 2 columns]"
      ]
     },
     "execution_count": 4,
     "metadata": {},
     "output_type": "execute_result"
    }
   ],
   "source": [
    "company_df"
   ]
  },
  {
   "cell_type": "markdown",
   "metadata": {},
   "source": [
    "### Data Cleaning"
   ]
  },
  {
   "cell_type": "code",
   "execution_count": 6,
   "metadata": {},
   "outputs": [],
   "source": [
    "nlp = spacy.load(\"en_core_web_sm\") "
   ]
  },
  {
   "cell_type": "code",
   "execution_count": 7,
   "metadata": {},
   "outputs": [],
   "source": [
    "def cleaning(doc):\n",
    "    # Lemmatizes and removes stopwords\n",
    "    # doc needs to be a spacy Doc object\n",
    "    txt = [token.lemma_ for token in doc if not token.is_stop and len(token.text) > 2]\n",
    "\n",
    "    if len(txt) > 2:\n",
    "        return ' '.join(txt)"
   ]
  },
  {
   "cell_type": "code",
   "execution_count": 9,
   "metadata": {},
   "outputs": [],
   "source": [
    "brief_cleaning = (re.sub(\"[^A-Za-z']+\", ' ', str(row)).lower() for row in company_df['description_en'])"
   ]
  },
  {
   "cell_type": "code",
   "execution_count": 11,
   "metadata": {},
   "outputs": [
    {
     "name": "stdout",
     "output_type": "stream",
     "text": [
      "Time to clean up everything: 1.1 mins\n"
     ]
    }
   ],
   "source": [
    "txt = [cleaning(doc) for doc in nlp.pipe(brief_cleaning, batch_size=5000)]"
   ]
  },
  {
   "cell_type": "code",
   "execution_count": 12,
   "metadata": {},
   "outputs": [
    {
     "data": {
      "text/plain": [
       "(11365, 1)"
      ]
     },
     "execution_count": 12,
     "metadata": {},
     "output_type": "execute_result"
    }
   ],
   "source": [
    "df_clean = pd.DataFrame({'clean': txt})\n",
    "df_clean = df_clean.dropna().drop_duplicates()\n",
    "df_clean.shape"
   ]
  },
  {
   "cell_type": "code",
   "execution_count": 13,
   "metadata": {},
   "outputs": [
    {
     "data": {
      "text/html": [
       "<div>\n",
       "<style scoped>\n",
       "    .dataframe tbody tr th:only-of-type {\n",
       "        vertical-align: middle;\n",
       "    }\n",
       "\n",
       "    .dataframe tbody tr th {\n",
       "        vertical-align: top;\n",
       "    }\n",
       "\n",
       "    .dataframe thead th {\n",
       "        text-align: right;\n",
       "    }\n",
       "</style>\n",
       "<table border=\"1\" class=\"dataframe\">\n",
       "  <thead>\n",
       "    <tr style=\"text-align: right;\">\n",
       "      <th></th>\n",
       "      <th>clean</th>\n",
       "    </tr>\n",
       "  </thead>\n",
       "  <tbody>\n",
       "    <tr>\n",
       "      <th>0</th>\n",
       "      <td>fourgon deliver store drink home order place l...</td>\n",
       "    </tr>\n",
       "    <tr>\n",
       "      <th>1</th>\n",
       "      <td>comptoir des vigne brand cellar specialize win...</td>\n",
       "    </tr>\n",
       "    <tr>\n",
       "      <th>2</th>\n",
       "      <td>welcome trustpilot page shin sekai online figu...</td>\n",
       "    </tr>\n",
       "    <tr>\n",
       "      <th>3</th>\n",
       "      <td>nutri naturel com lead online organic grocery ...</td>\n",
       "    </tr>\n",
       "    <tr>\n",
       "      <th>4</th>\n",
       "      <td>maison martin piment francais brand artisanal ...</td>\n",
       "    </tr>\n",
       "    <tr>\n",
       "      <th>...</th>\n",
       "      <td>...</td>\n",
       "    </tr>\n",
       "    <tr>\n",
       "      <th>12991</th>\n",
       "      <td>sale auto body spare part online fender bumper...</td>\n",
       "    </tr>\n",
       "    <tr>\n",
       "      <th>12992</th>\n",
       "      <td>aeroport paris platform major connection point...</td>\n",
       "    </tr>\n",
       "    <tr>\n",
       "      <th>12993</th>\n",
       "      <td>share host unlimited traffic domain dedicated ...</td>\n",
       "    </tr>\n",
       "    <tr>\n",
       "      <th>12994</th>\n",
       "      <td>online specialist sale horse ride equipment sa...</td>\n",
       "    </tr>\n",
       "    <tr>\n",
       "      <th>12995</th>\n",
       "      <td>private shuttle company airport train station ...</td>\n",
       "    </tr>\n",
       "  </tbody>\n",
       "</table>\n",
       "<p>11365 rows × 1 columns</p>\n",
       "</div>"
      ],
      "text/plain": [
       "                                                   clean\n",
       "0      fourgon deliver store drink home order place l...\n",
       "1      comptoir des vigne brand cellar specialize win...\n",
       "2      welcome trustpilot page shin sekai online figu...\n",
       "3      nutri naturel com lead online organic grocery ...\n",
       "4      maison martin piment francais brand artisanal ...\n",
       "...                                                  ...\n",
       "12991  sale auto body spare part online fender bumper...\n",
       "12992  aeroport paris platform major connection point...\n",
       "12993  share host unlimited traffic domain dedicated ...\n",
       "12994  online specialist sale horse ride equipment sa...\n",
       "12995  private shuttle company airport train station ...\n",
       "\n",
       "[11365 rows x 1 columns]"
      ]
     },
     "execution_count": 13,
     "metadata": {},
     "output_type": "execute_result"
    }
   ],
   "source": [
    "df_clean"
   ]
  },
  {
   "cell_type": "code",
   "execution_count": 14,
   "metadata": {},
   "outputs": [
    {
     "data": {
      "text/plain": [
       "array([['fourgon deliver store drink home order place lefourgon com beers juice sodas water milk wine soup spirit deliver home free charge choose niche visit collect bottle return wash producer reuse zerodechet']],\n",
       "      dtype=object)"
      ]
     },
     "execution_count": 14,
     "metadata": {},
     "output_type": "execute_result"
    }
   ],
   "source": [
    "df_clean.head(1).values"
   ]
  },
  {
   "cell_type": "code",
   "execution_count": 15,
   "metadata": {},
   "outputs": [],
   "source": [
    "from gensim.models.phrases import Phrases, Phraser"
   ]
  },
  {
   "cell_type": "code",
   "execution_count": 16,
   "metadata": {},
   "outputs": [],
   "source": [
    "sent = [row.split() for row in df_clean['clean']]"
   ]
  },
  {
   "cell_type": "code",
   "execution_count": 17,
   "metadata": {},
   "outputs": [],
   "source": [
    "phrases = Phrases(sent, min_count=30, progress_per=10000)"
   ]
  },
  {
   "cell_type": "code",
   "execution_count": 18,
   "metadata": {},
   "outputs": [],
   "source": [
    "bigram = Phraser(phrases)"
   ]
  },
  {
   "cell_type": "code",
   "execution_count": 19,
   "metadata": {},
   "outputs": [],
   "source": [
    "sentences = bigram[sent]"
   ]
  },
  {
   "cell_type": "code",
   "execution_count": 20,
   "metadata": {},
   "outputs": [
    {
     "data": {
      "text/plain": [
       "['fourgon',\n",
       " 'deliver',\n",
       " 'store',\n",
       " 'drink',\n",
       " 'home',\n",
       " 'order',\n",
       " 'place',\n",
       " 'lefourgon',\n",
       " 'com',\n",
       " 'beers',\n",
       " 'juice',\n",
       " 'sodas',\n",
       " 'water',\n",
       " 'milk',\n",
       " 'wine',\n",
       " 'soup',\n",
       " 'spirit',\n",
       " 'deliver_home',\n",
       " 'free_charge',\n",
       " 'choose',\n",
       " 'niche',\n",
       " 'visit',\n",
       " 'collect',\n",
       " 'bottle',\n",
       " 'return',\n",
       " 'wash',\n",
       " 'producer',\n",
       " 'reuse',\n",
       " 'zerodechet']"
      ]
     },
     "execution_count": 20,
     "metadata": {},
     "output_type": "execute_result"
    }
   ],
   "source": [
    "sentences[0]"
   ]
  },
  {
   "cell_type": "code",
   "execution_count": 22,
   "metadata": {},
   "outputs": [],
   "source": [
    "from collections import defaultdict "
   ]
  },
  {
   "cell_type": "code",
   "execution_count": 23,
   "metadata": {},
   "outputs": [
    {
     "data": {
      "text/plain": [
       "26671"
      ]
     },
     "execution_count": 23,
     "metadata": {},
     "output_type": "execute_result"
    }
   ],
   "source": [
    "word_freq = defaultdict(int)\n",
    "for sent in sentences:\n",
    "    for i in sent:\n",
    "        word_freq[i] += 1\n",
    "len(word_freq)"
   ]
  },
  {
   "cell_type": "code",
   "execution_count": 24,
   "metadata": {},
   "outputs": [
    {
     "data": {
      "text/plain": [
       "['offer',\n",
       " 'product',\n",
       " 'service',\n",
       " 'france',\n",
       " 'find',\n",
       " 'quality',\n",
       " 'good',\n",
       " 'brand',\n",
       " 'online',\n",
       " 'support']"
      ]
     },
     "execution_count": 24,
     "metadata": {},
     "output_type": "execute_result"
    }
   ],
   "source": [
    "sorted(word_freq, key=word_freq.get, reverse=True)[:10]"
   ]
  },
  {
   "cell_type": "code",
   "execution_count": 30,
   "metadata": {},
   "outputs": [
    {
     "data": {
      "text/plain": [
       "16"
      ]
     },
     "execution_count": 30,
     "metadata": {},
     "output_type": "execute_result"
    }
   ],
   "source": [
    "cores = multiprocessing.cpu_count() # Count the number of cores in a computer\n",
    "cores"
   ]
  },
  {
   "cell_type": "markdown",
   "metadata": {},
   "source": [
    "#### Word2Vec"
   ]
  },
  {
   "cell_type": "code",
   "execution_count": 27,
   "metadata": {},
   "outputs": [],
   "source": [
    "from gensim.models import FastText, Word2Vec"
   ]
  },
  {
   "cell_type": "code",
   "execution_count": 31,
   "metadata": {},
   "outputs": [],
   "source": [
    "w2v_model = Word2Vec(min_count=20,\n",
    "                     window=2,\n",
    "                     sample=6e-5, \n",
    "                     alpha=0.03, \n",
    "                     min_alpha=0.0007, \n",
    "                     negative=20,\n",
    "                     workers=cores-1)"
   ]
  },
  {
   "cell_type": "code",
   "execution_count": 32,
   "metadata": {},
   "outputs": [
    {
     "name": "stdout",
     "output_type": "stream",
     "text": [
      "Time to build vocab: 0.01 mins\n"
     ]
    }
   ],
   "source": [
    "w2v_model.build_vocab(sentences, progress_per=10000)"
   ]
  },
  {
   "cell_type": "code",
   "execution_count": 33,
   "metadata": {},
   "outputs": [
    {
     "name": "stdout",
     "output_type": "stream",
     "text": [
      "Time to train the model: 0.23 mins\n"
     ]
    }
   ],
   "source": [
    "w2v_model.train(sentences, total_examples=w2v_model.corpus_count, epochs=30, report_delay=1)"
   ]
  },
  {
   "cell_type": "code",
   "execution_count": 35,
   "metadata": {},
   "outputs": [
    {
     "name": "stdout",
     "output_type": "stream",
     "text": [
      "high_quality: 0.7049179673194885\n",
      "competitive_price: 0.6737679839134216\n",
      "parapharmacy: 0.6604810953140259\n",
      "food_supplement: 0.6533199548721313\n",
      "assortment: 0.6437912583351135\n",
      "organic: 0.6400367617607117\n",
      "range: 0.6325221657752991\n",
      "aquarium: 0.6325218081474304\n",
      "farming: 0.6221839785575867\n",
      "frozen: 0.6185584664344788\n"
     ]
    }
   ],
   "source": [
    "similar_words = w2v_model.wv.most_similar(positive=[\"product\"])\n",
    "for word, similarity in similar_words:\n",
    "    print(f\"{word}: {similarity}\")"
   ]
  },
  {
   "cell_type": "markdown",
   "metadata": {},
   "source": [
    "#### Fasttext"
   ]
  },
  {
   "cell_type": "code",
   "execution_count": null,
   "metadata": {},
   "outputs": [],
   "source": []
  },
  {
   "cell_type": "markdown",
   "metadata": {},
   "source": [
    "#### GloVe"
   ]
  },
  {
   "cell_type": "code",
   "execution_count": null,
   "metadata": {},
   "outputs": [],
   "source": []
  }
 ],
 "metadata": {
  "kernelspec": {
   "display_name": "nlp_project",
   "language": "python",
   "name": "python3"
  },
  "language_info": {
   "codemirror_mode": {
    "name": "ipython",
    "version": 3
   },
   "file_extension": ".py",
   "mimetype": "text/x-python",
   "name": "python",
   "nbconvert_exporter": "python",
   "pygments_lexer": "ipython3",
   "version": "3.10.13"
  }
 },
 "nbformat": 4,
 "nbformat_minor": 2
}
