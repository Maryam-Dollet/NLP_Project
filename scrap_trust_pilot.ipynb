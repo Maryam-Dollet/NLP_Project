{
 "cells": [
  {
   "cell_type": "code",
   "execution_count": 1,
   "metadata": {},
   "outputs": [],
   "source": [
    "import requests\n",
    "from bs4 import BeautifulSoup\n",
    "import json\n",
    "import pandas as pd\n",
    "import numpy as np"
   ]
  },
  {
   "cell_type": "code",
   "execution_count": 32,
   "metadata": {},
   "outputs": [],
   "source": [
    "def get_trustpilot_links():\n",
    "    # get all trustpilot links\n",
    "    URL = \"https://fr.trustpilot.com/categories\"\n",
    "    page = requests.get(URL)\n",
    "\n",
    "    soup = BeautifulSoup(page.content, \"html.parser\")\n",
    "    results = soup.find_all(\"div\", class_=\"styles_heading__nxYa7\")\n",
    "    category_links = []\n",
    "    for i in results:\n",
    "        category_links.append(\"https://fr.trustpilot.com/\" + i.find(\"a\", href=True)['href'] + \"?verified=true\")\n",
    "    \n",
    "    # get maximum pages of the category links\n",
    "    category_link_page = []\n",
    "    for link in category_links:\n",
    "        page = requests.get(link)\n",
    "\n",
    "        soup = BeautifulSoup(page.content, \"html.parser\")\n",
    "        results = soup.find(\"nav\", class_=\"pagination_pagination___F1qS\")\n",
    "\n",
    "        max_page = results.find_all(\"a\", href=True)[-2].text\n",
    "\n",
    "        category_link_page.append([link, max_page])\n",
    "\n",
    "    return category_link_page"
   ]
  },
  {
   "cell_type": "code",
   "execution_count": 33,
   "metadata": {},
   "outputs": [],
   "source": [
    "category_links = get_trustpilot_links()"
   ]
  },
  {
   "cell_type": "code",
   "execution_count": 34,
   "metadata": {},
   "outputs": [
    {
     "data": {
      "text/plain": [
       "[['https://fr.trustpilot.com//categories/food_beverages_tobacco?verified=true',\n",
       "  '52'],\n",
       " ['https://fr.trustpilot.com//categories/animals_pets?verified=true', '15'],\n",
       " ['https://fr.trustpilot.com//categories/money_insurance?verified=true', '84'],\n",
       " ['https://fr.trustpilot.com//categories/beauty_wellbeing?verified=true',\n",
       "  '60'],\n",
       " ['https://fr.trustpilot.com//categories/construction_manufactoring?verified=true',\n",
       "  '62'],\n",
       " ['https://fr.trustpilot.com//categories/education_training?verified=true',\n",
       "  '64'],\n",
       " ['https://fr.trustpilot.com//categories/electronics_technology?verified=true',\n",
       "  '104'],\n",
       " ['https://fr.trustpilot.com//categories/events_entertainment?verified=true',\n",
       "  '72'],\n",
       " ['https://fr.trustpilot.com//categories/hobbies_crafts?verified=true', '44'],\n",
       " ['https://fr.trustpilot.com//categories/home_garden?verified=true', '108'],\n",
       " ['https://fr.trustpilot.com//categories/media_publishing?verified=true',\n",
       "  '38'],\n",
       " ['https://fr.trustpilot.com//categories/restaurants_bars?verified=true',\n",
       "  '11'],\n",
       " ['https://fr.trustpilot.com//categories/health_medical?verified=true', '30'],\n",
       " ['https://fr.trustpilot.com//categories/utilities?verified=true', '8'],\n",
       " ['https://fr.trustpilot.com//categories/home_services?verified=true', '29'],\n",
       " ['https://fr.trustpilot.com//categories/business_services?verified=true',\n",
       "  '159'],\n",
       " ['https://fr.trustpilot.com//categories/legal_services_government?verified=true',\n",
       "  '16'],\n",
       " ['https://fr.trustpilot.com//categories/public_local_services?verified=true',\n",
       "  '22'],\n",
       " ['https://fr.trustpilot.com//categories/shopping_fashion?verified=true',\n",
       "  '107'],\n",
       " ['https://fr.trustpilot.com//categories/sports?verified=true', '26'],\n",
       " ['https://fr.trustpilot.com//categories/travel_vacation?verified=true', '39'],\n",
       " ['https://fr.trustpilot.com//categories/vehicles_transportation?verified=true',\n",
       "  '61']]"
      ]
     },
     "execution_count": 34,
     "metadata": {},
     "output_type": "execute_result"
    }
   ],
   "source": [
    "category_links"
   ]
  },
  {
   "cell_type": "code",
   "execution_count": null,
   "metadata": {},
   "outputs": [],
   "source": []
  }
 ],
 "metadata": {
  "kernelspec": {
   "display_name": "nlp_project",
   "language": "python",
   "name": "python3"
  },
  "language_info": {
   "codemirror_mode": {
    "name": "ipython",
    "version": 3
   },
   "file_extension": ".py",
   "mimetype": "text/x-python",
   "name": "python",
   "nbconvert_exporter": "python",
   "pygments_lexer": "ipython3",
   "version": "3.10.13"
  }
 },
 "nbformat": 4,
 "nbformat_minor": 2
}
