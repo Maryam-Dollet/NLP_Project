{
 "cells": [
  {
   "cell_type": "code",
   "execution_count": null,
   "metadata": {},
   "outputs": [],
   "source": [
    "from gensim import corpora\n",
    "\n",
    "#creating term dictionary\n",
    "%time dictionary = corpora.Dictionary(movie_plot)\n",
    "\n",
    "#filter out terms which occurs in less than 4 documents and more than 20% of the documents.\n",
    "#NOTE: Since we have smaller dataset, we will keep this commented for now.\n",
    "\n",
    "#dictionary.filter_extremes(no_below=4, no_above=0.2)\n",
    "\n",
    "#list of few which which can be further removed\n",
    "stoplist = set('hello and if this can would should could tell ask stop come go')\n",
    "stop_ids = [dictionary.token2id[stopword] for stopword in stoplist if stopword in dictionary.token2id]\n",
    "dictionary.filter_tokens(stop_ids)"
   ]
  },
  {
   "cell_type": "code",
   "execution_count": null,
   "metadata": {},
   "outputs": [],
   "source": [
    "corpus = [dictionary.doc2bow(desc) for desc in movie_plot]\n",
    "word_frequencies = [[(dictionary[id], frequency) for id, frequency in line] for line in corpus[0:3]]"
   ]
  },
  {
   "cell_type": "code",
   "execution_count": null,
   "metadata": {},
   "outputs": [],
   "source": [
    "movie_tfidf_model = gensim.models.TfidfModel(corpus, id2word=dictionary)\n",
    "movie_lsi_model = gensim.models.LsiModel(movie_tfidf_model[corpus], id2word=dictionary, num_topics=300)\n",
    "\n",
    "#Serialize and Store the corpus locally for easy retrival whenver required.\n",
    "gensim.corpora.MmCorpus.serialize('movie_tfidf_model_mm', movie_tfidf_model[corpus])\n",
    "gensim.corpora.MmCorpus.serialize('movie_lsi_model_mm',movie_lsi_model[movie_tfidf_model[corpus]])\n",
    "\n",
    "#Load the indexed corpus\n",
    "movie_tfidf_corpus = gensim.corpora.MmCorpus('movie_tfidf_model_mm')\n",
    "movie_lsi_corpus = gensim.corpora.MmCorpus('movie_lsi_model_mm')\n",
    "\n",
    "#Load the MatrixSimilarity\n",
    "from gensim.similarities import MatrixSimilarity\n",
    "movie_index = MatrixSimilarity(movie_lsi_corpus, num_features = movie_lsi_corpus.num_terms)"
   ]
  },
  {
   "cell_type": "code",
   "execution_count": null,
   "metadata": {},
   "outputs": [],
   "source": [
    "from operator import itemgetter\n",
    "\n",
    "def search_similar_movies(search_term):\n",
    "\n",
    "    query_bow = dictionary.doc2bow(spacy_tokenizer(search_term))\n",
    "    query_tfidf = movie_tfidf_model[query_bow]\n",
    "    query_lsi = movie_lsi_model[query_tfidf]\n",
    "\n",
    "    movie_index.num_best = 5\n",
    "\n",
    "    movies_list = movie_index[query_lsi]\n",
    "\n",
    "    movies_list.sort(key=itemgetter(1), reverse=True)\n",
    "    movie_names = []\n",
    "\n",
    "    for j, movie in enumerate(movies_list):\n",
    "\n",
    "        movie_names.append (\n",
    "            {\n",
    "                'Relevance': round((movie[1] * 100),2),\n",
    "                'Movie Title': df_movies['title'][movie[0]],\n",
    "                'Movie Plot': df_movies['wiki_plot'][movie[0]]\n",
    "            }\n",
    "\n",
    "        )\n",
    "        if j == (movie_index.num_best-1):\n",
    "            break\n",
    "\n",
    "    return pd.DataFrame(movie_names, columns=['Relevance','Movie Title','Movie Plot'])"
   ]
  }
 ],
 "metadata": {
  "language_info": {
   "name": "python"
  }
 },
 "nbformat": 4,
 "nbformat_minor": 2
}
