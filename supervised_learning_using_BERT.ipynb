{
 "cells": [
  {
   "cell_type": "markdown",
   "metadata": {},
   "source": [
    "## Supervised Learning using BERT for Sentiment Analysis and Notation Prediction"
   ]
  },
  {
   "cell_type": "markdown",
   "metadata": {},
   "source": [
    "### Data Extraction and Preprocessing (we follow the same process as in data_cleaning but we keep a different sample of the data)"
   ]
  },
  {
   "cell_type": "code",
   "execution_count": 45,
   "metadata": {},
   "outputs": [],
   "source": [
    "import pandas as pd\n",
    "import nltk\n",
    "from cleantext import clean\n",
    "import tqdm\n",
    "import numpy as np\n",
    "from deep_translator import GoogleTranslator"
   ]
  },
  {
   "cell_type": "code",
   "execution_count": 46,
   "metadata": {},
   "outputs": [
    {
     "data": {
      "text/html": [
       "<div>\n",
       "<style scoped>\n",
       "    .dataframe tbody tr th:only-of-type {\n",
       "        vertical-align: middle;\n",
       "    }\n",
       "\n",
       "    .dataframe tbody tr th {\n",
       "        vertical-align: top;\n",
       "    }\n",
       "\n",
       "    .dataframe thead th {\n",
       "        text-align: right;\n",
       "    }\n",
       "</style>\n",
       "<table border=\"1\" class=\"dataframe\">\n",
       "  <thead>\n",
       "    <tr style=\"text-align: right;\">\n",
       "      <th></th>\n",
       "      <th>category_link</th>\n",
       "      <th>company_link</th>\n",
       "      <th>company_name</th>\n",
       "      <th>score</th>\n",
       "      <th>description</th>\n",
       "      <th>review_page_nb</th>\n",
       "      <th>review_link</th>\n",
       "      <th>review_score</th>\n",
       "      <th>review_title</th>\n",
       "      <th>review_text</th>\n",
       "      <th>category</th>\n",
       "    </tr>\n",
       "  </thead>\n",
       "  <tbody>\n",
       "    <tr>\n",
       "      <th>0</th>\n",
       "      <td>https://fr.trustpilot.com/categories/food_beverages_tobacco?verified=true</td>\n",
       "      <td>https://fr.trustpilot.com/review/lefourgon.com</td>\n",
       "      <td>Le Fourgon</td>\n",
       "      <td>4,9</td>\n",
       "      <td>Le Fourgon vous livre vos boissons consignées à domicile :\\n🍶 la commande se passe sur lefourgon.com : bières, jus, sodas, eaux, lait, vins, soupes, spririteux, &amp; co.\\n🚚 nous vous livrons gratuitement chez vous sur le créneau choisi\\n🌱 et au passage suivant on récupère vos bouteilles vides qu’on renvoie lavées au producteur pour ré-emploi #zerodechet</td>\n",
       "      <td>329</td>\n",
       "      <td>https://fr.trustpilot.com/reviews/65a5388a60d6a4425263fe42</td>\n",
       "      <td>5</td>\n",
       "      <td>Application conviviale pour passer ses…</td>\n",
       "      <td>Application conviviale pour passer ses commandes. Manquent juste les ingrédients pas évidents à trouver.Notification par SMS peu de temps avant le créneau choisi pour un créneau précis de 20 minutes.Livreurs agréables.Merci le Fourgon !</td>\n",
       "      <td>food_beverages_tobacco</td>\n",
       "    </tr>\n",
       "    <tr>\n",
       "      <th>1</th>\n",
       "      <td>https://fr.trustpilot.com/categories/food_beverages_tobacco?verified=true</td>\n",
       "      <td>https://fr.trustpilot.com/review/lefourgon.com</td>\n",
       "      <td>Le Fourgon</td>\n",
       "      <td>4,9</td>\n",
       "      <td>Le Fourgon vous livre vos boissons consignées à domicile :\\n🍶 la commande se passe sur lefourgon.com : bières, jus, sodas, eaux, lait, vins, soupes, spririteux, &amp; co.\\n🚚 nous vous livrons gratuitement chez vous sur le créneau choisi\\n🌱 et au passage suivant on récupère vos bouteilles vides qu’on renvoie lavées au producteur pour ré-emploi #zerodechet</td>\n",
       "      <td>329</td>\n",
       "      <td>https://fr.trustpilot.com/reviews/65a53245a223c5f420a9cee3</td>\n",
       "      <td>5</td>\n",
       "      <td>Très facile pour la commande</td>\n",
       "      <td>Très facile pour la commande, très rapide et livraison très professionnelle! Le livreur a apporté les bacs chez nous car ils étaient lourds! 12 bouteilles par bacs... soit 12kg sans compter le poids des bouteilles. Très pro et sympa!Vraiment chouette et écologique! On recommandera sans hésiter! Fini les microparticules de plastique!</td>\n",
       "      <td>food_beverages_tobacco</td>\n",
       "    </tr>\n",
       "    <tr>\n",
       "      <th>2</th>\n",
       "      <td>https://fr.trustpilot.com/categories/food_beverages_tobacco?verified=true</td>\n",
       "      <td>https://fr.trustpilot.com/review/lefourgon.com</td>\n",
       "      <td>Le Fourgon</td>\n",
       "      <td>4,9</td>\n",
       "      <td>Le Fourgon vous livre vos boissons consignées à domicile :\\n🍶 la commande se passe sur lefourgon.com : bières, jus, sodas, eaux, lait, vins, soupes, spririteux, &amp; co.\\n🚚 nous vous livrons gratuitement chez vous sur le créneau choisi\\n🌱 et au passage suivant on récupère vos bouteilles vides qu’on renvoie lavées au producteur pour ré-emploi #zerodechet</td>\n",
       "      <td>329</td>\n",
       "      <td>https://fr.trustpilot.com/reviews/659f0e15dd570fb981a1d433</td>\n",
       "      <td>5</td>\n",
       "      <td>Première expérience réussie !</td>\n",
       "      <td>Pour nous, c'était une première.Ravis d'avoir trouvé un système de consigne pour un choix plus large de produits qu'en magasin.Créneau horaire de livraison respecté, avec une information précise sur l'approche du livreur.Livreur sympathique, souriant et serviable.À bientôt pour une nouvelle commande !</td>\n",
       "      <td>food_beverages_tobacco</td>\n",
       "    </tr>\n",
       "  </tbody>\n",
       "</table>\n",
       "</div>"
      ],
      "text/plain": [
       "                                                               category_link  \\\n",
       "0  https://fr.trustpilot.com/categories/food_beverages_tobacco?verified=true   \n",
       "1  https://fr.trustpilot.com/categories/food_beverages_tobacco?verified=true   \n",
       "2  https://fr.trustpilot.com/categories/food_beverages_tobacco?verified=true   \n",
       "\n",
       "                                     company_link company_name score  \\\n",
       "0  https://fr.trustpilot.com/review/lefourgon.com  Le Fourgon    4,9   \n",
       "1  https://fr.trustpilot.com/review/lefourgon.com  Le Fourgon    4,9   \n",
       "2  https://fr.trustpilot.com/review/lefourgon.com  Le Fourgon    4,9   \n",
       "\n",
       "                                                                                                                                                                                                                                                                                                                                                        description  \\\n",
       "0  Le Fourgon vous livre vos boissons consignées à domicile :\\n🍶 la commande se passe sur lefourgon.com : bières, jus, sodas, eaux, lait, vins, soupes, spririteux, & co.\\n🚚 nous vous livrons gratuitement chez vous sur le créneau choisi\\n🌱 et au passage suivant on récupère vos bouteilles vides qu’on renvoie lavées au producteur pour ré-emploi #zerodechet   \n",
       "1  Le Fourgon vous livre vos boissons consignées à domicile :\\n🍶 la commande se passe sur lefourgon.com : bières, jus, sodas, eaux, lait, vins, soupes, spririteux, & co.\\n🚚 nous vous livrons gratuitement chez vous sur le créneau choisi\\n🌱 et au passage suivant on récupère vos bouteilles vides qu’on renvoie lavées au producteur pour ré-emploi #zerodechet   \n",
       "2  Le Fourgon vous livre vos boissons consignées à domicile :\\n🍶 la commande se passe sur lefourgon.com : bières, jus, sodas, eaux, lait, vins, soupes, spririteux, & co.\\n🚚 nous vous livrons gratuitement chez vous sur le créneau choisi\\n🌱 et au passage suivant on récupère vos bouteilles vides qu’on renvoie lavées au producteur pour ré-emploi #zerodechet   \n",
       "\n",
       "   review_page_nb                                                 review_link  \\\n",
       "0             329  https://fr.trustpilot.com/reviews/65a5388a60d6a4425263fe42   \n",
       "1             329  https://fr.trustpilot.com/reviews/65a53245a223c5f420a9cee3   \n",
       "2             329  https://fr.trustpilot.com/reviews/659f0e15dd570fb981a1d433   \n",
       "\n",
       "   review_score                             review_title  \\\n",
       "0             5  Application conviviale pour passer ses…   \n",
       "1             5             Très facile pour la commande   \n",
       "2             5            Première expérience réussie !   \n",
       "\n",
       "                                                                                                                                                                                                                                                                                                                                      review_text  \\\n",
       "0                                                                                                    Application conviviale pour passer ses commandes. Manquent juste les ingrédients pas évidents à trouver.Notification par SMS peu de temps avant le créneau choisi pour un créneau précis de 20 minutes.Livreurs agréables.Merci le Fourgon !   \n",
       "1  Très facile pour la commande, très rapide et livraison très professionnelle! Le livreur a apporté les bacs chez nous car ils étaient lourds! 12 bouteilles par bacs... soit 12kg sans compter le poids des bouteilles. Très pro et sympa!Vraiment chouette et écologique! On recommandera sans hésiter! Fini les microparticules de plastique!   \n",
       "2                                  Pour nous, c'était une première.Ravis d'avoir trouvé un système de consigne pour un choix plus large de produits qu'en magasin.Créneau horaire de livraison respecté, avec une information précise sur l'approche du livreur.Livreur sympathique, souriant et serviable.À bientôt pour une nouvelle commande !   \n",
       "\n",
       "                 category  \n",
       "0  food_beverages_tobacco  \n",
       "1  food_beverages_tobacco  \n",
       "2  food_beverages_tobacco  "
      ]
     },
     "execution_count": 46,
     "metadata": {},
     "output_type": "execute_result"
    }
   ],
   "source": [
    "reviews_df = pd.read_csv(\"data/reviews.csv\", sep=\";\")\n",
    "reviews_df.head(3)"
   ]
  },
  {
   "cell_type": "code",
   "execution_count": 47,
   "metadata": {},
   "outputs": [],
   "source": [
    "reviews_df = reviews_df[[\"company_name\", \"score\", \"review_score\", \"review_title\", \"review_text\", \"category\"]]"
   ]
  },
  {
   "cell_type": "code",
   "execution_count": 48,
   "metadata": {},
   "outputs": [
    {
     "data": {
      "text/html": [
       "<div>\n",
       "<style scoped>\n",
       "    .dataframe tbody tr th:only-of-type {\n",
       "        vertical-align: middle;\n",
       "    }\n",
       "\n",
       "    .dataframe tbody tr th {\n",
       "        vertical-align: top;\n",
       "    }\n",
       "\n",
       "    .dataframe thead th {\n",
       "        text-align: right;\n",
       "    }\n",
       "</style>\n",
       "<table border=\"1\" class=\"dataframe\">\n",
       "  <thead>\n",
       "    <tr style=\"text-align: right;\">\n",
       "      <th></th>\n",
       "      <th>company_name</th>\n",
       "      <th>score</th>\n",
       "      <th>review_score</th>\n",
       "      <th>review_title</th>\n",
       "      <th>review_text</th>\n",
       "      <th>category</th>\n",
       "      <th>review</th>\n",
       "    </tr>\n",
       "  </thead>\n",
       "  <tbody>\n",
       "    <tr>\n",
       "      <th>0</th>\n",
       "      <td>Le Fourgon</td>\n",
       "      <td>4,9</td>\n",
       "      <td>5</td>\n",
       "      <td>Application conviviale pour passer ses…</td>\n",
       "      <td>Application conviviale pour passer ses commandes. Manquent juste les ingrédients pas évidents à trouver.Notification par SMS peu de temps avant le créneau choisi pour un créneau précis de 20 minutes.Livreurs agréables.Merci le Fourgon !</td>\n",
       "      <td>food_beverages_tobacco</td>\n",
       "      <td>Application conviviale pour passer ses… Application conviviale pour passer ses commandes. Manquent juste les ingrédients pas évidents à trouver.Notification par SMS peu de temps avant le créneau choisi pour un créneau précis de 20 minutes.Livreurs agréables.Merci le Fourgon !</td>\n",
       "    </tr>\n",
       "    <tr>\n",
       "      <th>1</th>\n",
       "      <td>Le Fourgon</td>\n",
       "      <td>4,9</td>\n",
       "      <td>5</td>\n",
       "      <td>Très facile pour la commande</td>\n",
       "      <td>Très facile pour la commande, très rapide et livraison très professionnelle! Le livreur a apporté les bacs chez nous car ils étaient lourds! 12 bouteilles par bacs... soit 12kg sans compter le poids des bouteilles. Très pro et sympa!Vraiment chouette et écologique! On recommandera sans hésiter! Fini les microparticules de plastique!</td>\n",
       "      <td>food_beverages_tobacco</td>\n",
       "      <td>Très facile pour la commande Très facile pour la commande, très rapide et livraison très professionnelle! Le livreur a apporté les bacs chez nous car ils étaient lourds! 12 bouteilles par bacs... soit 12kg sans compter le poids des bouteilles. Très pro et sympa!Vraiment chouette et écologique! On recommandera sans hésiter! Fini les microparticules de plastique!</td>\n",
       "    </tr>\n",
       "    <tr>\n",
       "      <th>2</th>\n",
       "      <td>Le Fourgon</td>\n",
       "      <td>4,9</td>\n",
       "      <td>5</td>\n",
       "      <td>Première expérience réussie !</td>\n",
       "      <td>Pour nous, c'était une première.Ravis d'avoir trouvé un système de consigne pour un choix plus large de produits qu'en magasin.Créneau horaire de livraison respecté, avec une information précise sur l'approche du livreur.Livreur sympathique, souriant et serviable.À bientôt pour une nouvelle commande !</td>\n",
       "      <td>food_beverages_tobacco</td>\n",
       "      <td>Première expérience réussie ! Pour nous, c'était une première.Ravis d'avoir trouvé un système de consigne pour un choix plus large de produits qu'en magasin.Créneau horaire de livraison respecté, avec une information précise sur l'approche du livreur.Livreur sympathique, souriant et serviable.À bientôt pour une nouvelle commande !</td>\n",
       "    </tr>\n",
       "  </tbody>\n",
       "</table>\n",
       "</div>"
      ],
      "text/plain": [
       "  company_name score  review_score                             review_title  \\\n",
       "0  Le Fourgon    4,9             5  Application conviviale pour passer ses…   \n",
       "1  Le Fourgon    4,9             5             Très facile pour la commande   \n",
       "2  Le Fourgon    4,9             5            Première expérience réussie !   \n",
       "\n",
       "                                                                                                                                                                                                                                                                                                                                      review_text  \\\n",
       "0                                                                                                    Application conviviale pour passer ses commandes. Manquent juste les ingrédients pas évidents à trouver.Notification par SMS peu de temps avant le créneau choisi pour un créneau précis de 20 minutes.Livreurs agréables.Merci le Fourgon !   \n",
       "1  Très facile pour la commande, très rapide et livraison très professionnelle! Le livreur a apporté les bacs chez nous car ils étaient lourds! 12 bouteilles par bacs... soit 12kg sans compter le poids des bouteilles. Très pro et sympa!Vraiment chouette et écologique! On recommandera sans hésiter! Fini les microparticules de plastique!   \n",
       "2                                  Pour nous, c'était une première.Ravis d'avoir trouvé un système de consigne pour un choix plus large de produits qu'en magasin.Créneau horaire de livraison respecté, avec une information précise sur l'approche du livreur.Livreur sympathique, souriant et serviable.À bientôt pour une nouvelle commande !   \n",
       "\n",
       "                 category  \\\n",
       "0  food_beverages_tobacco   \n",
       "1  food_beverages_tobacco   \n",
       "2  food_beverages_tobacco   \n",
       "\n",
       "                                                                                                                                                                                                                                                                                                                                                                        review  \n",
       "0                                                                                         Application conviviale pour passer ses… Application conviviale pour passer ses commandes. Manquent juste les ingrédients pas évidents à trouver.Notification par SMS peu de temps avant le créneau choisi pour un créneau précis de 20 minutes.Livreurs agréables.Merci le Fourgon !  \n",
       "1  Très facile pour la commande Très facile pour la commande, très rapide et livraison très professionnelle! Le livreur a apporté les bacs chez nous car ils étaient lourds! 12 bouteilles par bacs... soit 12kg sans compter le poids des bouteilles. Très pro et sympa!Vraiment chouette et écologique! On recommandera sans hésiter! Fini les microparticules de plastique!  \n",
       "2                                 Première expérience réussie ! Pour nous, c'était une première.Ravis d'avoir trouvé un système de consigne pour un choix plus large de produits qu'en magasin.Créneau horaire de livraison respecté, avec une information précise sur l'approche du livreur.Livreur sympathique, souriant et serviable.À bientôt pour une nouvelle commande !  "
      ]
     },
     "execution_count": 48,
     "metadata": {},
     "output_type": "execute_result"
    }
   ],
   "source": [
    "# we merge the title and the text of the review\n",
    "reviews_df[\"review\"] = reviews_df[\"review_title\"] + \" \" + reviews_df[\"review_text\"]\n",
    "reviews_df.head(3)"
   ]
  },
  {
   "cell_type": "code",
   "execution_count": 49,
   "metadata": {},
   "outputs": [
    {
     "data": {
      "text/plain": [
       "'Application conviviale pour passer ses Application conviviale pour passer ses commandes. Manquent juste les ingredients pas evidents a trouver.Notification par SMS peu de temps avant le creneau choisi pour un creneau precis de 20 minutes.Livreurs agreables.Merci le Fourgon !'"
      ]
     },
     "execution_count": 49,
     "metadata": {},
     "output_type": "execute_result"
    }
   ],
   "source": [
    "clean(reviews_df[\"review\"].values[0], no_emoji=True, no_line_breaks=True, lower=False).replace(\"#\", \"\")"
   ]
  },
  {
   "cell_type": "code",
   "execution_count": 50,
   "metadata": {},
   "outputs": [],
   "source": [
    "reviews_df[\"review\"] = reviews_df[\"review\"].apply(lambda x: clean(x, no_emoji=True, no_line_breaks=True, lower=False).replace(\"#\", \"\"))"
   ]
  },
  {
   "cell_type": "code",
   "execution_count": 51,
   "metadata": {},
   "outputs": [
    {
     "data": {
      "text/plain": [
       "\"Exceptionnel La brulerie Belleville est devenue mon unique fournisseur en cafe, le cafe est vraiment d'une qualite exceptionnelle ! De plus, le service apres-vente est d'une qualite humaine devenue bien rare a present !\""
      ]
     },
     "execution_count": 51,
     "metadata": {},
     "output_type": "execute_result"
    }
   ],
   "source": [
    "reviews_df[\"review\"].values[100]"
   ]
  },
  {
   "cell_type": "markdown",
   "metadata": {},
   "source": [
    "#### We Keep only a sample of the data (the top 100 companies with the most reviews) Because of the traduction cost of the \"review\" column"
   ]
  },
  {
   "cell_type": "code",
   "execution_count": 58,
   "metadata": {},
   "outputs": [
    {
     "data": {
      "text/plain": [
       "company_name\n",
       "Hardloop          236\n",
       "Alltricks         210\n",
       "Ekosport          140\n",
       "vertbaudet        140\n",
       "Mode Tactique     120\n",
       "Weenect           120\n",
       "AAAEP             120\n",
       "Handball Store    111\n",
       "Meyclub           100\n",
       "Bleen             100\n",
       "Name: count, dtype: int64"
      ]
     },
     "execution_count": 58,
     "metadata": {},
     "output_type": "execute_result"
    }
   ],
   "source": [
    "# number of reviews per company\n",
    "reviews_df[\"company_name\"].value_counts()[:10]"
   ]
  },
  {
   "cell_type": "code",
   "execution_count": 60,
   "metadata": {},
   "outputs": [
    {
     "data": {
      "text/plain": [
       "235503"
      ]
     },
     "execution_count": 60,
     "metadata": {},
     "output_type": "execute_result"
    }
   ],
   "source": [
    "# number of reviews in all the dataset\n",
    "len(reviews_df)"
   ]
  },
  {
   "cell_type": "code",
   "execution_count": 53,
   "metadata": {},
   "outputs": [
    {
     "data": {
      "text/plain": [
       "'Hardloop\\xa0'"
      ]
     },
     "execution_count": 53,
     "metadata": {},
     "output_type": "execute_result"
    }
   ],
   "source": [
    "# print the first company name\n",
    "reviews_df[\"company_name\"].value_counts().index[0]"
   ]
  },
  {
   "cell_type": "code",
   "execution_count": 54,
   "metadata": {},
   "outputs": [
    {
     "data": {
      "text/plain": [
       "'Hardloop'"
      ]
     },
     "execution_count": 54,
     "metadata": {},
     "output_type": "execute_result"
    }
   ],
   "source": [
    "reviews_df[\"company_name\"] = reviews_df[\"company_name\"].apply(lambda x: x.replace(\"\\xa0\", \"\") if x != \"\\xa0\" else x)\n",
    "reviews_df[\"company_name\"].value_counts().index[0]"
   ]
  },
  {
   "cell_type": "code",
   "execution_count": 62,
   "metadata": {},
   "outputs": [
    {
     "data": {
      "text/plain": [
       "8972"
      ]
     },
     "execution_count": 62,
     "metadata": {},
     "output_type": "execute_result"
    }
   ],
   "source": [
    "# we keep only the reviews of the first 100 companies in terms of number of reviews\n",
    "revsample_df = reviews_df[reviews_df[\"company_name\"].isin(reviews_df[\"company_name\"].value_counts()[:100].index)]\n",
    "revsample_df[\"company_name\"].value_counts().sum()"
   ]
  },
  {
   "cell_type": "code",
   "execution_count": 56,
   "metadata": {},
   "outputs": [
    {
     "data": {
      "text/plain": [
       "company_name\n",
       "Hardloop          236\n",
       "Alltricks         210\n",
       "vertbaudet        140\n",
       "Ekosport          140\n",
       "Mode Tactique     120\n",
       "Weenect           120\n",
       "AAAEP             120\n",
       "Handball Store    111\n",
       "Bleen             100\n",
       "Meyclub           100\n",
       "Name: count, dtype: int64"
      ]
     },
     "execution_count": 56,
     "metadata": {},
     "output_type": "execute_result"
    }
   ],
   "source": [
    "revsample_df[\"company_name\"].value_counts()[:10]"
   ]
  },
  {
   "cell_type": "code",
   "execution_count": 65,
   "metadata": {},
   "outputs": [],
   "source": [
    "revsample_df = revsample_df.dropna(ignore_index=True)"
   ]
  },
  {
   "cell_type": "code",
   "execution_count": 67,
   "metadata": {},
   "outputs": [
    {
     "data": {
      "text/html": [
       "<div>\n",
       "<style scoped>\n",
       "    .dataframe tbody tr th:only-of-type {\n",
       "        vertical-align: middle;\n",
       "    }\n",
       "\n",
       "    .dataframe tbody tr th {\n",
       "        vertical-align: top;\n",
       "    }\n",
       "\n",
       "    .dataframe thead th {\n",
       "        text-align: right;\n",
       "    }\n",
       "</style>\n",
       "<table border=\"1\" class=\"dataframe\">\n",
       "  <thead>\n",
       "    <tr style=\"text-align: right;\">\n",
       "      <th></th>\n",
       "      <th>company_name</th>\n",
       "      <th>score</th>\n",
       "      <th>review_score</th>\n",
       "      <th>review_title</th>\n",
       "      <th>review_text</th>\n",
       "      <th>category</th>\n",
       "      <th>review</th>\n",
       "    </tr>\n",
       "  </thead>\n",
       "  <tbody>\n",
       "    <tr>\n",
       "      <th>7658</th>\n",
       "      <td>Hardloop</td>\n",
       "      <td>4,5</td>\n",
       "      <td>1</td>\n",
       "      <td>Première commande sur ce site</td>\n",
       "      <td>Première commande sur ce site, et extrêmement déçue !Pantalon de randonnée commandé pour un cadeau de Noël début décembre, il n’est toujours pas réceptionné malgré les dates indiquées sur le site. Diverses relances auprès du service client par e-mail et Instagram afin d’obtenir à minima un retour sur la livraison ou sur un remboursement éventuel pour l’acheter ailleurs : aucun retour.Une honte.À fuir…Merci de supprimer mon adresse e-mail privée à ce commentaire (méthode très douteuse pour que je supprime mon commentaire négatif).</td>\n",
       "      <td>sports</td>\n",
       "      <td>Premiere commande sur ce site Premiere commande sur ce site, et extremement decue !Pantalon de randonnee commande pour un cadeau de Noel debut decembre, il n'est toujours pas receptionne malgre les dates indiquees sur le site. Diverses relances aupres du service client par e-mail et Instagram afin d'obtenir a minima un retour sur la livraison ou sur un remboursement eventuel pour l'acheter ailleurs : aucun retour.Une honte.A fuirMerci de supprimer mon adresse e-mail privee a ce commentaire (methode tres douteuse pour que je supprime mon commentaire negatif).</td>\n",
       "    </tr>\n",
       "    <tr>\n",
       "      <th>7659</th>\n",
       "      <td>Hardloop</td>\n",
       "      <td>4,5</td>\n",
       "      <td>1</td>\n",
       "      <td>Pantalon à 150€ reçu 10 jours après la…</td>\n",
       "      <td>Pantalon à 150€ reçu 10 jours après la commande. Pour cause de taille trop grande, impossible d'obtenir un bon de retour pour retourner l'article, car le site émet systématiquement un message d'erreur quand on en fait la demande. Le numéro de tel du prétendu standard n'est en fait qu'un simple répondeur, où il n'est même pas possible de laisser un message.Finalement, après deux mails envoyés, j'ai fini par recevoir un bon de retour imprimable. Pas de remboursement reçu un mois après l'envoi... mais reçu immédiatement après après que j'aie renvoyé un mailde reclamation. À fuir.</td>\n",
       "      <td>sports</td>\n",
       "      <td>Pantalon a 150 recu 10 jours apres la Pantalon a 150 recu 10 jours apres la commande. Pour cause de taille trop grande, impossible d'obtenir un bon de retour pour retourner l'article, car le site emet systematiquement un message d'erreur quand on en fait la demande. Le numero de tel du pretendu standard n'est en fait qu'un simple repondeur, ou il n'est meme pas possible de laisser un message.Finalement, apres deux mails envoyes, j'ai fini par recevoir un bon de retour imprimable. Pas de remboursement recu un mois apres l'envoi... mais recu immediatement apres apres que j'aie renvoye un mailde reclamation. A fuir.</td>\n",
       "    </tr>\n",
       "    <tr>\n",
       "      <th>7660</th>\n",
       "      <td>Hardloop</td>\n",
       "      <td>4,5</td>\n",
       "      <td>5</td>\n",
       "      <td>Equipe très réactive en cas de problème…</td>\n",
       "      <td>Equipe très réactive en cas de problème sur une commande pour trouver des solutions.</td>\n",
       "      <td>sports</td>\n",
       "      <td>Equipe tres reactive en cas de probleme Equipe tres reactive en cas de probleme sur une commande pour trouver des solutions.</td>\n",
       "    </tr>\n",
       "    <tr>\n",
       "      <th>7661</th>\n",
       "      <td>Hardloop</td>\n",
       "      <td>4,5</td>\n",
       "      <td>4</td>\n",
       "      <td>Très bon service</td>\n",
       "      <td>Beaucoup de choix, produits bien emballés, et livraison rapide.</td>\n",
       "      <td>sports</td>\n",
       "      <td>Tres bon service Beaucoup de choix, produits bien emballes, et livraison rapide.</td>\n",
       "    </tr>\n",
       "    <tr>\n",
       "      <th>7662</th>\n",
       "      <td>Hardloop</td>\n",
       "      <td>4,5</td>\n",
       "      <td>5</td>\n",
       "      <td>Parfait</td>\n",
       "      <td>Parfait,  livraison rapide et service optimal,  je recommande</td>\n",
       "      <td>sports</td>\n",
       "      <td>Parfait Parfait, livraison rapide et service optimal, je recommande</td>\n",
       "    </tr>\n",
       "    <tr>\n",
       "      <th>...</th>\n",
       "      <td>...</td>\n",
       "      <td>...</td>\n",
       "      <td>...</td>\n",
       "      <td>...</td>\n",
       "      <td>...</td>\n",
       "      <td>...</td>\n",
       "      <td>...</td>\n",
       "    </tr>\n",
       "    <tr>\n",
       "      <th>8676</th>\n",
       "      <td>Hardloop</td>\n",
       "      <td>4,0</td>\n",
       "      <td>5</td>\n",
       "      <td>Competitive price, rapid delivery</td>\n",
       "      <td>Competitive price, rapid delivery to Poland</td>\n",
       "      <td>vehicles_transportation</td>\n",
       "      <td>Competitive price, rapid delivery Competitive price, rapid delivery to Poland</td>\n",
       "    </tr>\n",
       "    <tr>\n",
       "      <th>8677</th>\n",
       "      <td>Hardloop</td>\n",
       "      <td>4,0</td>\n",
       "      <td>1</td>\n",
       "      <td>Szczytem chamstwa nie jest dostarczyć…</td>\n",
       "      <td>Szczytem chamstwa nie jest dostarczyć produkt, który zgodnie z prawem zakupiłem, i który jest dostępny w sklepie, tylko dlatego, że właścicielowi nie podoba się kwota, za którą został sprzedany. W systemie była widoczna cena w promocji. I z niej korzystając kupiłem kurtkę Helly Hannsena. Anulowanie mojego kupna i zwrot pieniędzy zasłaniając się rzekomym błędem w wyświetlaniu ceny jest co najmniej nie na miejscu. Jeżeli nawet do takiego doszło właściciel powinien rozwiązywać tą kwestię, wśród swoich pracowników odpowiedzialnych za to, następnie wyciągać konsekwencje i żądać zadośćuczynienia z ich strony. A nie traktować kupującego jakby nie miał żadnych praw i nic nie znaczył. Sprawę moi prawnicy kierują do rzecznika praw konsumenta we Francji. Jeżeli trzeba będzie wejdą na ścieżkę prawną. W życiu nie zostałem w ten sposób potraktowany, zwłaszcza przed wyjazdem na narty, kiedy zamówiona przeze mnie odzież jest mi niezbędna. Zdecydowanie nie polecam tego sklepu.</td>\n",
       "      <td>vehicles_transportation</td>\n",
       "      <td>Szczytem chamstwa nie jest dostarczyc Szczytem chamstwa nie jest dostarczyc produkt, ktory zgodnie z prawem zakupiem, i ktory jest dostepny w sklepie, tylko dlatego, ze wascicielowi nie podoba sie kwota, za ktora zosta sprzedany. W systemie bya widoczna cena w promocji. I z niej korzystajac kupiem kurtke Helly Hannsena. Anulowanie mojego kupna i zwrot pieniedzy zasaniajac sie rzekomym bedem w wyswietlaniu ceny jest co najmniej nie na miejscu. Jezeli nawet do takiego doszo wasciciel powinien rozwiazywac ta kwestie, wsrod swoich pracownikow odpowiedzialnych za to, nastepnie wyciagac konsekwencje i zadac zadoscuczynienia z ich strony. A nie traktowac kupujacego jakby nie mia zadnych praw i nic nie znaczy. Sprawe moi prawnicy kieruja do rzecznika praw konsumenta we Francji. Jezeli trzeba bedzie wejda na sciezke prawna. W zyciu nie zostaem w ten sposob potraktowany, zwaszcza przed wyjazdem na narty, kiedy zamowiona przeze mnie odziez jest mi niezbedna. Zdecydowanie nie polecam tego sklepu.</td>\n",
       "    </tr>\n",
       "    <tr>\n",
       "      <th>8678</th>\n",
       "      <td>Hardloop</td>\n",
       "      <td>4,0</td>\n",
       "      <td>2</td>\n",
       "      <td>Wrong product in my shipment.</td>\n",
       "      <td>Wrong product in my shipment.No contact with information what to do - after my claim - no answer.</td>\n",
       "      <td>vehicles_transportation</td>\n",
       "      <td>Wrong product in my shipment. Wrong product in my shipment.No contact with information what to do - after my claim - no answer.</td>\n",
       "    </tr>\n",
       "    <tr>\n",
       "      <th>8679</th>\n",
       "      <td>Hardloop</td>\n",
       "      <td>4,0</td>\n",
       "      <td>1</td>\n",
       "      <td>Bad customer service</td>\n",
       "      <td>The order itself is ok but I wanted to return the product and no response from customer service :/</td>\n",
       "      <td>vehicles_transportation</td>\n",
       "      <td>Bad customer service The order itself is ok but I wanted to return the product and no response from customer service :/</td>\n",
       "    </tr>\n",
       "    <tr>\n",
       "      <th>8680</th>\n",
       "      <td>Hardloop</td>\n",
       "      <td>4,0</td>\n",
       "      <td>5</td>\n",
       "      <td>Dobra cena</td>\n",
       "      <td>Dobra cena, szybka wysyłka - firma i strona godna zaufania.</td>\n",
       "      <td>vehicles_transportation</td>\n",
       "      <td>Dobra cena Dobra cena, szybka wysyka - firma i strona godna zaufania.</td>\n",
       "    </tr>\n",
       "  </tbody>\n",
       "</table>\n",
       "<p>208 rows × 7 columns</p>\n",
       "</div>"
      ],
      "text/plain": [
       "     company_name score  review_score  \\\n",
       "7658     Hardloop   4,5             1   \n",
       "7659     Hardloop   4,5             1   \n",
       "7660     Hardloop   4,5             5   \n",
       "7661     Hardloop   4,5             4   \n",
       "7662     Hardloop   4,5             5   \n",
       "...           ...   ...           ...   \n",
       "8676     Hardloop   4,0             5   \n",
       "8677     Hardloop   4,0             1   \n",
       "8678     Hardloop   4,0             2   \n",
       "8679     Hardloop   4,0             1   \n",
       "8680     Hardloop   4,0             5   \n",
       "\n",
       "                                  review_title  \\\n",
       "7658             Première commande sur ce site   \n",
       "7659   Pantalon à 150€ reçu 10 jours après la…   \n",
       "7660  Equipe très réactive en cas de problème…   \n",
       "7661                          Très bon service   \n",
       "7662                                   Parfait   \n",
       "...                                        ...   \n",
       "8676         Competitive price, rapid delivery   \n",
       "8677    Szczytem chamstwa nie jest dostarczyć…   \n",
       "8678             Wrong product in my shipment.   \n",
       "8679                      Bad customer service   \n",
       "8680                                Dobra cena   \n",
       "\n",
       "                                                                                                                                                                                                                                                                                                                                                                                                                                                                                                                                                                                                                                                                                                                                                                                                                                                                                                                                                                                                         review_text  \\\n",
       "7658                                                                                                                                                                                                                                                                                                                                                                                                                                                         Première commande sur ce site, et extrêmement déçue !Pantalon de randonnée commandé pour un cadeau de Noël début décembre, il n’est toujours pas réceptionné malgré les dates indiquées sur le site. Diverses relances auprès du service client par e-mail et Instagram afin d’obtenir à minima un retour sur la livraison ou sur un remboursement éventuel pour l’acheter ailleurs : aucun retour.Une honte.À fuir…Merci de supprimer mon adresse e-mail privée à ce commentaire (méthode très douteuse pour que je supprime mon commentaire négatif).   \n",
       "7659                                                                                                                                                                                                                                                                                                                                                                                                         Pantalon à 150€ reçu 10 jours après la commande. Pour cause de taille trop grande, impossible d'obtenir un bon de retour pour retourner l'article, car le site émet systématiquement un message d'erreur quand on en fait la demande. Le numéro de tel du prétendu standard n'est en fait qu'un simple répondeur, où il n'est même pas possible de laisser un message.Finalement, après deux mails envoyés, j'ai fini par recevoir un bon de retour imprimable. Pas de remboursement reçu un mois après l'envoi... mais reçu immédiatement après après que j'aie renvoyé un mailde reclamation. À fuir.   \n",
       "7660                                                                                                                                                                                                                                                                                                                                                                                                                                                                                                                                                                                                                                                                                                                                                                                                                                                                                                                            Equipe très réactive en cas de problème sur une commande pour trouver des solutions.   \n",
       "7661                                                                                                                                                                                                                                                                                                                                                                                                                                                                                                                                                                                                                                                                                                                                                                                                                                                                                                                                                 Beaucoup de choix, produits bien emballés, et livraison rapide.   \n",
       "7662                                                                                                                                                                                                                                                                                                                                                                                                                                                                                                                                                                                                                                                                                                                                                                                                                                                                                                                                                   Parfait,  livraison rapide et service optimal,  je recommande   \n",
       "...                                                                                                                                                                                                                                                                                                                                                                                                                                                                                                                                                                                                                                                                                                                                                                                                                                                                                                                                                                                                              ...   \n",
       "8676                                                                                                                                                                                                                                                                                                                                                                                                                                                                                                                                                                                                                                                                                                                                                                                                                                                                                                                                                                     Competitive price, rapid delivery to Poland   \n",
       "8677  Szczytem chamstwa nie jest dostarczyć produkt, który zgodnie z prawem zakupiłem, i który jest dostępny w sklepie, tylko dlatego, że właścicielowi nie podoba się kwota, za którą został sprzedany. W systemie była widoczna cena w promocji. I z niej korzystając kupiłem kurtkę Helly Hannsena. Anulowanie mojego kupna i zwrot pieniędzy zasłaniając się rzekomym błędem w wyświetlaniu ceny jest co najmniej nie na miejscu. Jeżeli nawet do takiego doszło właściciel powinien rozwiązywać tą kwestię, wśród swoich pracowników odpowiedzialnych za to, następnie wyciągać konsekwencje i żądać zadośćuczynienia z ich strony. A nie traktować kupującego jakby nie miał żadnych praw i nic nie znaczył. Sprawę moi prawnicy kierują do rzecznika praw konsumenta we Francji. Jeżeli trzeba będzie wejdą na ścieżkę prawną. W życiu nie zostałem w ten sposób potraktowany, zwłaszcza przed wyjazdem na narty, kiedy zamówiona przeze mnie odzież jest mi niezbędna. Zdecydowanie nie polecam tego sklepu.   \n",
       "8678                                                                                                                                                                                                                                                                                                                                                                                                                                                                                                                                                                                                                                                                                                                                                                                                                                                                                                               Wrong product in my shipment.No contact with information what to do - after my claim - no answer.   \n",
       "8679                                                                                                                                                                                                                                                                                                                                                                                                                                                                                                                                                                                                                                                                                                                                                                                                                                                                                                              The order itself is ok but I wanted to return the product and no response from customer service :/   \n",
       "8680                                                                                                                                                                                                                                                                                                                                                                                                                                                                                                                                                                                                                                                                                                                                                                                                                                                                                                                                                     Dobra cena, szybka wysyłka - firma i strona godna zaufania.   \n",
       "\n",
       "                     category  \\\n",
       "7658                   sports   \n",
       "7659                   sports   \n",
       "7660                   sports   \n",
       "7661                   sports   \n",
       "7662                   sports   \n",
       "...                       ...   \n",
       "8676  vehicles_transportation   \n",
       "8677  vehicles_transportation   \n",
       "8678  vehicles_transportation   \n",
       "8679  vehicles_transportation   \n",
       "8680  vehicles_transportation   \n",
       "\n",
       "                                                                                                                                                                                                                                                                                                                                                                                                                                                                                                                                                                                                                                                                                                                                                                                                                                                                                                                                                                                                                                       review  \n",
       "7658                                                                                                                                                                                                                                                                                                                                                                                                                                                     Premiere commande sur ce site Premiere commande sur ce site, et extremement decue !Pantalon de randonnee commande pour un cadeau de Noel debut decembre, il n'est toujours pas receptionne malgre les dates indiquees sur le site. Diverses relances aupres du service client par e-mail et Instagram afin d'obtenir a minima un retour sur la livraison ou sur un remboursement eventuel pour l'acheter ailleurs : aucun retour.Une honte.A fuirMerci de supprimer mon adresse e-mail privee a ce commentaire (methode tres douteuse pour que je supprime mon commentaire negatif).  \n",
       "7659                                                                                                                                                                                                                                                                                                                                                                                             Pantalon a 150 recu 10 jours apres la Pantalon a 150 recu 10 jours apres la commande. Pour cause de taille trop grande, impossible d'obtenir un bon de retour pour retourner l'article, car le site emet systematiquement un message d'erreur quand on en fait la demande. Le numero de tel du pretendu standard n'est en fait qu'un simple repondeur, ou il n'est meme pas possible de laisser un message.Finalement, apres deux mails envoyes, j'ai fini par recevoir un bon de retour imprimable. Pas de remboursement recu un mois apres l'envoi... mais recu immediatement apres apres que j'aie renvoye un mailde reclamation. A fuir.  \n",
       "7660                                                                                                                                                                                                                                                                                                                                                                                                                                                                                                                                                                                                                                                                                                                                                                                                                                                                                                             Equipe tres reactive en cas de probleme Equipe tres reactive en cas de probleme sur une commande pour trouver des solutions.  \n",
       "7661                                                                                                                                                                                                                                                                                                                                                                                                                                                                                                                                                                                                                                                                                                                                                                                                                                                                                                                                                         Tres bon service Beaucoup de choix, produits bien emballes, et livraison rapide.  \n",
       "7662                                                                                                                                                                                                                                                                                                                                                                                                                                                                                                                                                                                                                                                                                                                                                                                                                                                                                                                                                                      Parfait Parfait, livraison rapide et service optimal, je recommande  \n",
       "...                                                                                                                                                                                                                                                                                                                                                                                                                                                                                                                                                                                                                                                                                                                                                                                                                                                                                                                                                                                                                                       ...  \n",
       "8676                                                                                                                                                                                                                                                                                                                                                                                                                                                                                                                                                                                                                                                                                                                                                                                                                                                                                                                                                            Competitive price, rapid delivery Competitive price, rapid delivery to Poland  \n",
       "8677  Szczytem chamstwa nie jest dostarczyc Szczytem chamstwa nie jest dostarczyc produkt, ktory zgodnie z prawem zakupiem, i ktory jest dostepny w sklepie, tylko dlatego, ze wascicielowi nie podoba sie kwota, za ktora zosta sprzedany. W systemie bya widoczna cena w promocji. I z niej korzystajac kupiem kurtke Helly Hannsena. Anulowanie mojego kupna i zwrot pieniedzy zasaniajac sie rzekomym bedem w wyswietlaniu ceny jest co najmniej nie na miejscu. Jezeli nawet do takiego doszo wasciciel powinien rozwiazywac ta kwestie, wsrod swoich pracownikow odpowiedzialnych za to, nastepnie wyciagac konsekwencje i zadac zadoscuczynienia z ich strony. A nie traktowac kupujacego jakby nie mia zadnych praw i nic nie znaczy. Sprawe moi prawnicy kieruja do rzecznika praw konsumenta we Francji. Jezeli trzeba bedzie wejda na sciezke prawna. W zyciu nie zostaem w ten sposob potraktowany, zwaszcza przed wyjazdem na narty, kiedy zamowiona przeze mnie odziez jest mi niezbedna. Zdecydowanie nie polecam tego sklepu.  \n",
       "8678                                                                                                                                                                                                                                                                                                                                                                                                                                                                                                                                                                                                                                                                                                                                                                                                                                                                                                          Wrong product in my shipment. Wrong product in my shipment.No contact with information what to do - after my claim - no answer.  \n",
       "8679                                                                                                                                                                                                                                                                                                                                                                                                                                                                                                                                                                                                                                                                                                                                                                                                                                                                                                                  Bad customer service The order itself is ok but I wanted to return the product and no response from customer service :/  \n",
       "8680                                                                                                                                                                                                                                                                                                                                                                                                                                                                                                                                                                                                                                                                                                                                                                                                                                                                                                                                                                    Dobra cena Dobra cena, szybka wysyka - firma i strona godna zaufania.  \n",
       "\n",
       "[208 rows x 7 columns]"
      ]
     },
     "execution_count": 67,
     "metadata": {},
     "output_type": "execute_result"
    }
   ],
   "source": [
    "# we display all the lines of the first company\n",
    "pd.set_option(\"display.max_colwidth\", None)\n",
    "revsample_df[revsample_df[\"company_name\"] == \"Hardloop\"]"
   ]
  },
  {
   "cell_type": "markdown",
   "metadata": {},
   "source": [
    "We keep only the reviews in french"
   ]
  },
  {
   "cell_type": "code",
   "execution_count": 71,
   "metadata": {},
   "outputs": [
    {
     "name": "stdout",
     "output_type": "stream",
     "text": [
      "['arabic', 'azerbaijani', 'basque', 'bengali', 'catalan', 'chinese', 'danish', 'dutch', 'english', 'finnish', 'french', 'german', 'greek', 'hebrew', 'hinglish', 'hungarian', 'indonesian', 'italian', 'kazakh', 'nepali', 'norwegian', 'portuguese', 'romanian', 'russian', 'slovene', 'spanish', 'swedish', 'tajik', 'turkish']\n"
     ]
    }
   ],
   "source": [
    "from nltk import wordpunct_tokenize\n",
    "from nltk.corpus import stopwords\n",
    "print(stopwords.fileids())"
   ]
  },
  {
   "cell_type": "code",
   "execution_count": 72,
   "metadata": {},
   "outputs": [],
   "source": [
    "def detecte_langage(message):\n",
    "    # on definie un dictionnaire vide\n",
    "    # {langue : nbre de stopwords communs \n",
    "    # entre langue et les mots de message}\n",
    "    languages_shared_words = {}\n",
    "    # tokenization en mots\n",
    "    words = wordpunct_tokenize(message)\n",
    "    for language in stopwords.fileids():\n",
    "        # stopwords pour chaque langue\n",
    "        stopwords_liste = stopwords.words(language)\n",
    "        # on retire les doublons\n",
    "        words = set(words)\n",
    "        # les mots communs entre stopwords \n",
    "        # d'une langue et les mots de message\n",
    "        common_elements = words.intersection(stopwords_liste)\n",
    "        # ajout du couple au dictionnaire\n",
    "        languages_shared_words[language] = len(common_elements)\n",
    "    # on retourne la langue avec le max de mots commun\n",
    "    return  max(languages_shared_words, key = languages_shared_words.get)"
   ]
  },
  {
   "cell_type": "code",
   "execution_count": 73,
   "metadata": {},
   "outputs": [],
   "source": [
    "# on applique la fonction pour chaque message sur la colonne review et on ne garde que les lignes ou la langue est en francais\n",
    "revsample_df[\"langue\"] = revsample_df[\"review\"].apply(detecte_langage)"
   ]
  },
  {
   "cell_type": "code",
   "execution_count": 74,
   "metadata": {},
   "outputs": [
    {
     "data": {
      "text/plain": [
       "company_name    7729\n",
       "score           7729\n",
       "review_score    7729\n",
       "review_title    7729\n",
       "review_text     7729\n",
       "category        7729\n",
       "review          7729\n",
       "langue          7729\n",
       "dtype: int64"
      ]
     },
     "execution_count": 74,
     "metadata": {},
     "output_type": "execute_result"
    }
   ],
   "source": [
    "revsample_df[revsample_df[\"langue\"] == \"french\"].count()"
   ]
  },
  {
   "cell_type": "code",
   "execution_count": 75,
   "metadata": {},
   "outputs": [],
   "source": [
    "revsample_df_fr = revsample_df[revsample_df[\"langue\"] == \"french\"]"
   ]
  },
  {
   "cell_type": "markdown",
   "metadata": {},
   "source": [
    "Training sample : "
   ]
  },
  {
   "cell_type": "code",
   "execution_count": 1,
   "metadata": {},
   "outputs": [
    {
     "name": "stderr",
     "output_type": "stream",
     "text": [
      "Neither PyTorch nor TensorFlow >= 2.0 have been found.Models won't be available and only tokenizers, configurationand file/data utilities can be used.\n"
     ]
    },
    {
     "ename": "ImportError",
     "evalue": "cannot import name 'CamembertTokenizer' from 'transformers' (c:\\Users\\gdetr\\anaconda3\\envs\\global\\Lib\\site-packages\\transformers\\__init__.py)",
     "output_type": "error",
     "traceback": [
      "\u001b[1;31m---------------------------------------------------------------------------\u001b[0m",
      "\u001b[1;31mImportError\u001b[0m                               Traceback (most recent call last)",
      "Cell \u001b[1;32mIn[1], line 1\u001b[0m\n\u001b[1;32m----> 1\u001b[0m \u001b[38;5;28;01mfrom\u001b[39;00m \u001b[38;5;21;01mtransformers\u001b[39;00m \u001b[38;5;28;01mimport\u001b[39;00m CamembertTokenizer\n",
      "\u001b[1;31mImportError\u001b[0m: cannot import name 'CamembertTokenizer' from 'transformers' (c:\\Users\\gdetr\\anaconda3\\envs\\global\\Lib\\site-packages\\transformers\\__init__.py)"
     ]
    }
   ],
   "source": [
    "from transformers import CamembertTokenizer"
   ]
  },
  {
   "cell_type": "code",
   "execution_count": 1,
   "metadata": {},
   "outputs": [
    {
     "name": "stdout",
     "output_type": "stream",
     "text": [
      "balvke\n"
     ]
    }
   ],
   "source": [
    "print(\"balvke\")"
   ]
  },
  {
   "cell_type": "code",
   "execution_count": 3,
   "metadata": {},
   "outputs": [
    {
     "name": "stdout",
     "output_type": "stream",
     "text": [
      "Looking in indexes: https://download.pytorch.org/whl/cu121\n",
      "Requirement already satisfied: torch in c:\\users\\gdetr\\appdata\\local\\packages\\pythonsoftwarefoundation.python.3.10_qbz5n2kfra8p0\\localcache\\local-packages\\python310\\site-packages (2.1.2+cu121)\n",
      "Requirement already satisfied: torchvision in c:\\users\\gdetr\\appdata\\local\\packages\\pythonsoftwarefoundation.python.3.10_qbz5n2kfra8p0\\localcache\\local-packages\\python310\\site-packages (0.16.2+cu121)\n",
      "Requirement already satisfied: torchaudio in c:\\users\\gdetr\\appdata\\local\\packages\\pythonsoftwarefoundation.python.3.10_qbz5n2kfra8p0\\localcache\\local-packages\\python310\\site-packages (2.1.2+cu121)\n",
      "Requirement already satisfied: filelock in c:\\users\\gdetr\\appdata\\local\\packages\\pythonsoftwarefoundation.python.3.10_qbz5n2kfra8p0\\localcache\\local-packages\\python310\\site-packages (from torch) (3.9.0)\n",
      "Requirement already satisfied: typing-extensions in c:\\users\\gdetr\\appdata\\local\\packages\\pythonsoftwarefoundation.python.3.10_qbz5n2kfra8p0\\localcache\\local-packages\\python310\\site-packages (from torch) (4.5.0)\n",
      "Requirement already satisfied: sympy in c:\\users\\gdetr\\appdata\\local\\packages\\pythonsoftwarefoundation.python.3.10_qbz5n2kfra8p0\\localcache\\local-packages\\python310\\site-packages (from torch) (1.12)\n",
      "Requirement already satisfied: networkx in c:\\users\\gdetr\\appdata\\local\\packages\\pythonsoftwarefoundation.python.3.10_qbz5n2kfra8p0\\localcache\\local-packages\\python310\\site-packages (from torch) (3.0)\n",
      "Requirement already satisfied: jinja2 in c:\\users\\gdetr\\appdata\\local\\packages\\pythonsoftwarefoundation.python.3.10_qbz5n2kfra8p0\\localcache\\local-packages\\python310\\site-packages (from torch) (3.1.2)\n",
      "Requirement already satisfied: fsspec in c:\\users\\gdetr\\appdata\\local\\packages\\pythonsoftwarefoundation.python.3.10_qbz5n2kfra8p0\\localcache\\local-packages\\python310\\site-packages (from torch) (2023.4.0)\n",
      "Requirement already satisfied: numpy in c:\\users\\gdetr\\appdata\\local\\packages\\pythonsoftwarefoundation.python.3.10_qbz5n2kfra8p0\\localcache\\local-packages\\python310\\site-packages (from torchvision) (1.24.2)\n",
      "Requirement already satisfied: requests in c:\\users\\gdetr\\appdata\\local\\packages\\pythonsoftwarefoundation.python.3.10_qbz5n2kfra8p0\\localcache\\local-packages\\python310\\site-packages (from torchvision) (2.28.2)\n",
      "Requirement already satisfied: pillow!=8.3.*,>=5.3.0 in c:\\users\\gdetr\\appdata\\local\\packages\\pythonsoftwarefoundation.python.3.10_qbz5n2kfra8p0\\localcache\\local-packages\\python310\\site-packages (from torchvision) (9.4.0)\n",
      "Requirement already satisfied: MarkupSafe>=2.0 in c:\\users\\gdetr\\appdata\\local\\packages\\pythonsoftwarefoundation.python.3.10_qbz5n2kfra8p0\\localcache\\local-packages\\python310\\site-packages (from jinja2->torch) (2.1.2)\n",
      "Requirement already satisfied: charset-normalizer<4,>=2 in c:\\users\\gdetr\\appdata\\local\\packages\\pythonsoftwarefoundation.python.3.10_qbz5n2kfra8p0\\localcache\\local-packages\\python310\\site-packages (from requests->torchvision) (3.0.1)\n",
      "Requirement already satisfied: idna<4,>=2.5 in c:\\users\\gdetr\\appdata\\local\\packages\\pythonsoftwarefoundation.python.3.10_qbz5n2kfra8p0\\localcache\\local-packages\\python310\\site-packages (from requests->torchvision) (2.10)\n",
      "Requirement already satisfied: urllib3<1.27,>=1.21.1 in c:\\users\\gdetr\\appdata\\local\\packages\\pythonsoftwarefoundation.python.3.10_qbz5n2kfra8p0\\localcache\\local-packages\\python310\\site-packages (from requests->torchvision) (1.26.14)\n",
      "Requirement already satisfied: certifi>=2017.4.17 in c:\\users\\gdetr\\appdata\\local\\packages\\pythonsoftwarefoundation.python.3.10_qbz5n2kfra8p0\\localcache\\local-packages\\python310\\site-packages (from requests->torchvision) (2022.12.7)\n",
      "Requirement already satisfied: mpmath>=0.19 in c:\\users\\gdetr\\appdata\\local\\packages\\pythonsoftwarefoundation.python.3.10_qbz5n2kfra8p0\\localcache\\local-packages\\python310\\site-packages (from sympy->torch) (1.3.0)\n"
     ]
    },
    {
     "name": "stderr",
     "output_type": "stream",
     "text": [
      "WARNING: There was an error checking the latest version of pip.\n"
     ]
    }
   ],
   "source": [
    "! pip install torch torchvision torchaudio --index-url https://download.pytorch.org/whl/cu121"
   ]
  },
  {
   "cell_type": "code",
   "execution_count": 8,
   "metadata": {},
   "outputs": [
    {
     "name": "stdout",
     "output_type": "stream",
     "text": [
      "Requirement already satisfied: torch==2.1.2+cu121 in c:\\users\\gdetr\\appdata\\local\\packages\\pythonsoftwarefoundation.python.3.10_qbz5n2kfra8p0\\localcache\\local-packages\\python310\\site-packages (2.1.2+cu121)\n",
      "Requirement already satisfied: torchvision==0.16.2+cu121 in c:\\users\\gdetr\\appdata\\local\\packages\\pythonsoftwarefoundation.python.3.10_qbz5n2kfra8p0\\localcache\\local-packages\\python310\\site-packages (0.16.2+cu121)\n",
      "Requirement already satisfied: torchaudio==2.1.2+cu121 in c:\\users\\gdetr\\appdata\\local\\packages\\pythonsoftwarefoundation.python.3.10_qbz5n2kfra8p0\\localcache\\local-packages\\python310\\site-packages (2.1.2+cu121)\n",
      "Requirement already satisfied: filelock in c:\\users\\gdetr\\appdata\\local\\packages\\pythonsoftwarefoundation.python.3.10_qbz5n2kfra8p0\\localcache\\local-packages\\python310\\site-packages (from torch==2.1.2+cu121) (3.9.0)\n",
      "Requirement already satisfied: typing-extensions in c:\\users\\gdetr\\appdata\\local\\packages\\pythonsoftwarefoundation.python.3.10_qbz5n2kfra8p0\\localcache\\local-packages\\python310\\site-packages (from torch==2.1.2+cu121) (4.5.0)\n",
      "Requirement already satisfied: sympy in c:\\users\\gdetr\\appdata\\local\\packages\\pythonsoftwarefoundation.python.3.10_qbz5n2kfra8p0\\localcache\\local-packages\\python310\\site-packages (from torch==2.1.2+cu121) (1.12)\n",
      "Requirement already satisfied: networkx in c:\\users\\gdetr\\appdata\\local\\packages\\pythonsoftwarefoundation.python.3.10_qbz5n2kfra8p0\\localcache\\local-packages\\python310\\site-packages (from torch==2.1.2+cu121) (3.0)\n",
      "Requirement already satisfied: jinja2 in c:\\users\\gdetr\\appdata\\local\\packages\\pythonsoftwarefoundation.python.3.10_qbz5n2kfra8p0\\localcache\\local-packages\\python310\\site-packages (from torch==2.1.2+cu121) (3.1.2)\n",
      "Requirement already satisfied: fsspec in c:\\users\\gdetr\\appdata\\local\\packages\\pythonsoftwarefoundation.python.3.10_qbz5n2kfra8p0\\localcache\\local-packages\\python310\\site-packages (from torch==2.1.2+cu121) (2023.4.0)\n",
      "Requirement already satisfied: numpy in c:\\users\\gdetr\\appdata\\local\\packages\\pythonsoftwarefoundation.python.3.10_qbz5n2kfra8p0\\localcache\\local-packages\\python310\\site-packages (from torchvision==0.16.2+cu121) (1.24.2)\n",
      "Requirement already satisfied: requests in c:\\users\\gdetr\\appdata\\local\\packages\\pythonsoftwarefoundation.python.3.10_qbz5n2kfra8p0\\localcache\\local-packages\\python310\\site-packages (from torchvision==0.16.2+cu121) (2.28.2)\n",
      "Requirement already satisfied: pillow!=8.3.*,>=5.3.0 in c:\\users\\gdetr\\appdata\\local\\packages\\pythonsoftwarefoundation.python.3.10_qbz5n2kfra8p0\\localcache\\local-packages\\python310\\site-packages (from torchvision==0.16.2+cu121) (9.4.0)\n",
      "Requirement already satisfied: MarkupSafe>=2.0 in c:\\users\\gdetr\\appdata\\local\\packages\\pythonsoftwarefoundation.python.3.10_qbz5n2kfra8p0\\localcache\\local-packages\\python310\\site-packages (from jinja2->torch==2.1.2+cu121) (2.1.2)\n",
      "Requirement already satisfied: charset-normalizer<4,>=2 in c:\\users\\gdetr\\appdata\\local\\packages\\pythonsoftwarefoundation.python.3.10_qbz5n2kfra8p0\\localcache\\local-packages\\python310\\site-packages (from requests->torchvision==0.16.2+cu121) (3.0.1)\n",
      "Requirement already satisfied: idna<4,>=2.5 in c:\\users\\gdetr\\appdata\\local\\packages\\pythonsoftwarefoundation.python.3.10_qbz5n2kfra8p0\\localcache\\local-packages\\python310\\site-packages (from requests->torchvision==0.16.2+cu121) (2.10)\n",
      "Requirement already satisfied: urllib3<1.27,>=1.21.1 in c:\\users\\gdetr\\appdata\\local\\packages\\pythonsoftwarefoundation.python.3.10_qbz5n2kfra8p0\\localcache\\local-packages\\python310\\site-packages (from requests->torchvision==0.16.2+cu121) (1.26.14)\n",
      "Requirement already satisfied: certifi>=2017.4.17 in c:\\users\\gdetr\\appdata\\local\\packages\\pythonsoftwarefoundation.python.3.10_qbz5n2kfra8p0\\localcache\\local-packages\\python310\\site-packages (from requests->torchvision==0.16.2+cu121) (2022.12.7)\n",
      "Requirement already satisfied: mpmath>=0.19 in c:\\users\\gdetr\\appdata\\local\\packages\\pythonsoftwarefoundation.python.3.10_qbz5n2kfra8p0\\localcache\\local-packages\\python310\\site-packages (from sympy->torch==2.1.2+cu121) (1.3.0)\n"
     ]
    },
    {
     "name": "stderr",
     "output_type": "stream",
     "text": [
      "WARNING: There was an error checking the latest version of pip.\n"
     ]
    }
   ],
   "source": [
    "! pip install torch==2.1.2+cu121 torchvision==0.16.2+cu121 torchaudio==2.1.2+cu121"
   ]
  },
  {
   "cell_type": "code",
   "execution_count": 9,
   "metadata": {},
   "outputs": [
    {
     "ename": "ModuleNotFoundError",
     "evalue": "No module named 'torch'",
     "output_type": "error",
     "traceback": [
      "\u001b[1;31m---------------------------------------------------------------------------\u001b[0m",
      "\u001b[1;31mModuleNotFoundError\u001b[0m                       Traceback (most recent call last)",
      "Cell \u001b[1;32mIn[9], line 1\u001b[0m\n\u001b[1;32m----> 1\u001b[0m \u001b[38;5;28;01mimport\u001b[39;00m \u001b[38;5;21;01mtorch\u001b[39;00m\n",
      "\u001b[1;31mModuleNotFoundError\u001b[0m: No module named 'torch'"
     ]
    }
   ],
   "source": [
    "import torch"
   ]
  },
  {
   "cell_type": "code",
   "execution_count": 4,
   "metadata": {},
   "outputs": [
    {
     "ename": "NameError",
     "evalue": "name 'torch' is not defined",
     "output_type": "error",
     "traceback": [
      "\u001b[1;31m---------------------------------------------------------------------------\u001b[0m",
      "\u001b[1;31mNameError\u001b[0m                                 Traceback (most recent call last)",
      "Cell \u001b[1;32mIn[4], line 1\u001b[0m\n\u001b[1;32m----> 1\u001b[0m \u001b[43mtorch\u001b[49m\u001b[38;5;241m.\u001b[39mcuda\u001b[38;5;241m.\u001b[39mis_available()\n",
      "\u001b[1;31mNameError\u001b[0m: name 'torch' is not defined"
     ]
    }
   ],
   "source": [
    "torch.cuda.is_available()"
   ]
  }
 ],
 "metadata": {
  "kernelspec": {
   "display_name": "global",
   "language": "python",
   "name": "python3"
  },
  "language_info": {
   "codemirror_mode": {
    "name": "ipython",
    "version": 3
   },
   "file_extension": ".py",
   "mimetype": "text/x-python",
   "name": "python",
   "nbconvert_exporter": "python",
   "pygments_lexer": "ipython3",
   "version": "3.12.0"
  }
 },
 "nbformat": 4,
 "nbformat_minor": 2
}
