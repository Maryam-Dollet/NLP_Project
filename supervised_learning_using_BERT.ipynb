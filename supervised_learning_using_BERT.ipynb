{
 "cells": [
  {
   "cell_type": "markdown",
   "metadata": {},
   "source": [
    "## Supervised Learning using BERT for Sentiment Analysis and Notation Prediction"
   ]
  },
  {
   "cell_type": "markdown",
   "metadata": {},
   "source": [
    "### Data Extraction and Preprocessing (we follow the same process as in data_cleaning but we keep a different sample of the data)"
   ]
  },
  {
   "cell_type": "code",
   "execution_count": 4,
   "metadata": {},
   "outputs": [
    {
     "name": "stderr",
     "output_type": "stream",
     "text": [
      "Since the GPL-licensed package `unidecode` is not installed, using Python's `unicodedata` package which yields worse results.\n"
     ]
    }
   ],
   "source": [
    "import pandas as pd\n",
    "import nltk\n",
    "from cleantext import clean\n",
    "import tqdm\n",
    "import numpy as np\n",
    "from deep_translator import GoogleTranslator\n",
    "import torch"
   ]
  },
  {
   "cell_type": "code",
   "execution_count": 22,
   "metadata": {},
   "outputs": [
    {
     "data": {
      "text/plain": [
       "True"
      ]
     },
     "execution_count": 22,
     "metadata": {},
     "output_type": "execute_result"
    }
   ],
   "source": [
    "torch.cuda.is_available()"
   ]
  },
  {
   "cell_type": "code",
   "execution_count": 23,
   "metadata": {},
   "outputs": [
    {
     "data": {
      "text/html": [
       "<div>\n",
       "<style scoped>\n",
       "    .dataframe tbody tr th:only-of-type {\n",
       "        vertical-align: middle;\n",
       "    }\n",
       "\n",
       "    .dataframe tbody tr th {\n",
       "        vertical-align: top;\n",
       "    }\n",
       "\n",
       "    .dataframe thead th {\n",
       "        text-align: right;\n",
       "    }\n",
       "</style>\n",
       "<table border=\"1\" class=\"dataframe\">\n",
       "  <thead>\n",
       "    <tr style=\"text-align: right;\">\n",
       "      <th></th>\n",
       "      <th>category_link</th>\n",
       "      <th>company_link</th>\n",
       "      <th>company_name</th>\n",
       "      <th>score</th>\n",
       "      <th>description</th>\n",
       "      <th>review_page_nb</th>\n",
       "      <th>review_link</th>\n",
       "      <th>review_score</th>\n",
       "      <th>review_title</th>\n",
       "      <th>review_text</th>\n",
       "      <th>category</th>\n",
       "    </tr>\n",
       "  </thead>\n",
       "  <tbody>\n",
       "    <tr>\n",
       "      <th>0</th>\n",
       "      <td>https://fr.trustpilot.com/categories/food_beverages_tobacco?verified=true</td>\n",
       "      <td>https://fr.trustpilot.com/review/lefourgon.com</td>\n",
       "      <td>Le Fourgon</td>\n",
       "      <td>4,9</td>\n",
       "      <td>Le Fourgon vous livre vos boissons consignées à domicile :\\n🍶 la commande se passe sur lefourgon.com : bières, jus, sodas, eaux, lait, vins, soupes, spririteux, &amp; co.\\n🚚 nous vous livrons gratuitement chez vous sur le créneau choisi\\n🌱 et au passage suivant on récupère vos bouteilles vides qu’on renvoie lavées au producteur pour ré-emploi #zerodechet</td>\n",
       "      <td>329</td>\n",
       "      <td>https://fr.trustpilot.com/reviews/65a5388a60d6a4425263fe42</td>\n",
       "      <td>5</td>\n",
       "      <td>Application conviviale pour passer ses…</td>\n",
       "      <td>Application conviviale pour passer ses commandes. Manquent juste les ingrédients pas évidents à trouver.Notification par SMS peu de temps avant le créneau choisi pour un créneau précis de 20 minutes.Livreurs agréables.Merci le Fourgon !</td>\n",
       "      <td>food_beverages_tobacco</td>\n",
       "    </tr>\n",
       "    <tr>\n",
       "      <th>1</th>\n",
       "      <td>https://fr.trustpilot.com/categories/food_beverages_tobacco?verified=true</td>\n",
       "      <td>https://fr.trustpilot.com/review/lefourgon.com</td>\n",
       "      <td>Le Fourgon</td>\n",
       "      <td>4,9</td>\n",
       "      <td>Le Fourgon vous livre vos boissons consignées à domicile :\\n🍶 la commande se passe sur lefourgon.com : bières, jus, sodas, eaux, lait, vins, soupes, spririteux, &amp; co.\\n🚚 nous vous livrons gratuitement chez vous sur le créneau choisi\\n🌱 et au passage suivant on récupère vos bouteilles vides qu’on renvoie lavées au producteur pour ré-emploi #zerodechet</td>\n",
       "      <td>329</td>\n",
       "      <td>https://fr.trustpilot.com/reviews/65a53245a223c5f420a9cee3</td>\n",
       "      <td>5</td>\n",
       "      <td>Très facile pour la commande</td>\n",
       "      <td>Très facile pour la commande, très rapide et livraison très professionnelle! Le livreur a apporté les bacs chez nous car ils étaient lourds! 12 bouteilles par bacs... soit 12kg sans compter le poids des bouteilles. Très pro et sympa!Vraiment chouette et écologique! On recommandera sans hésiter! Fini les microparticules de plastique!</td>\n",
       "      <td>food_beverages_tobacco</td>\n",
       "    </tr>\n",
       "    <tr>\n",
       "      <th>2</th>\n",
       "      <td>https://fr.trustpilot.com/categories/food_beverages_tobacco?verified=true</td>\n",
       "      <td>https://fr.trustpilot.com/review/lefourgon.com</td>\n",
       "      <td>Le Fourgon</td>\n",
       "      <td>4,9</td>\n",
       "      <td>Le Fourgon vous livre vos boissons consignées à domicile :\\n🍶 la commande se passe sur lefourgon.com : bières, jus, sodas, eaux, lait, vins, soupes, spririteux, &amp; co.\\n🚚 nous vous livrons gratuitement chez vous sur le créneau choisi\\n🌱 et au passage suivant on récupère vos bouteilles vides qu’on renvoie lavées au producteur pour ré-emploi #zerodechet</td>\n",
       "      <td>329</td>\n",
       "      <td>https://fr.trustpilot.com/reviews/659f0e15dd570fb981a1d433</td>\n",
       "      <td>5</td>\n",
       "      <td>Première expérience réussie !</td>\n",
       "      <td>Pour nous, c'était une première.Ravis d'avoir trouvé un système de consigne pour un choix plus large de produits qu'en magasin.Créneau horaire de livraison respecté, avec une information précise sur l'approche du livreur.Livreur sympathique, souriant et serviable.À bientôt pour une nouvelle commande !</td>\n",
       "      <td>food_beverages_tobacco</td>\n",
       "    </tr>\n",
       "  </tbody>\n",
       "</table>\n",
       "</div>"
      ],
      "text/plain": [
       "                                                               category_link  \\\n",
       "0  https://fr.trustpilot.com/categories/food_beverages_tobacco?verified=true   \n",
       "1  https://fr.trustpilot.com/categories/food_beverages_tobacco?verified=true   \n",
       "2  https://fr.trustpilot.com/categories/food_beverages_tobacco?verified=true   \n",
       "\n",
       "                                     company_link company_name score  \\\n",
       "0  https://fr.trustpilot.com/review/lefourgon.com  Le Fourgon    4,9   \n",
       "1  https://fr.trustpilot.com/review/lefourgon.com  Le Fourgon    4,9   \n",
       "2  https://fr.trustpilot.com/review/lefourgon.com  Le Fourgon    4,9   \n",
       "\n",
       "                                                                                                                                                                                                                                                                                                                                                        description  \\\n",
       "0  Le Fourgon vous livre vos boissons consignées à domicile :\\n🍶 la commande se passe sur lefourgon.com : bières, jus, sodas, eaux, lait, vins, soupes, spririteux, & co.\\n🚚 nous vous livrons gratuitement chez vous sur le créneau choisi\\n🌱 et au passage suivant on récupère vos bouteilles vides qu’on renvoie lavées au producteur pour ré-emploi #zerodechet   \n",
       "1  Le Fourgon vous livre vos boissons consignées à domicile :\\n🍶 la commande se passe sur lefourgon.com : bières, jus, sodas, eaux, lait, vins, soupes, spririteux, & co.\\n🚚 nous vous livrons gratuitement chez vous sur le créneau choisi\\n🌱 et au passage suivant on récupère vos bouteilles vides qu’on renvoie lavées au producteur pour ré-emploi #zerodechet   \n",
       "2  Le Fourgon vous livre vos boissons consignées à domicile :\\n🍶 la commande se passe sur lefourgon.com : bières, jus, sodas, eaux, lait, vins, soupes, spririteux, & co.\\n🚚 nous vous livrons gratuitement chez vous sur le créneau choisi\\n🌱 et au passage suivant on récupère vos bouteilles vides qu’on renvoie lavées au producteur pour ré-emploi #zerodechet   \n",
       "\n",
       "   review_page_nb                                                 review_link  \\\n",
       "0             329  https://fr.trustpilot.com/reviews/65a5388a60d6a4425263fe42   \n",
       "1             329  https://fr.trustpilot.com/reviews/65a53245a223c5f420a9cee3   \n",
       "2             329  https://fr.trustpilot.com/reviews/659f0e15dd570fb981a1d433   \n",
       "\n",
       "   review_score                             review_title  \\\n",
       "0             5  Application conviviale pour passer ses…   \n",
       "1             5             Très facile pour la commande   \n",
       "2             5            Première expérience réussie !   \n",
       "\n",
       "                                                                                                                                                                                                                                                                                                                                      review_text  \\\n",
       "0                                                                                                    Application conviviale pour passer ses commandes. Manquent juste les ingrédients pas évidents à trouver.Notification par SMS peu de temps avant le créneau choisi pour un créneau précis de 20 minutes.Livreurs agréables.Merci le Fourgon !   \n",
       "1  Très facile pour la commande, très rapide et livraison très professionnelle! Le livreur a apporté les bacs chez nous car ils étaient lourds! 12 bouteilles par bacs... soit 12kg sans compter le poids des bouteilles. Très pro et sympa!Vraiment chouette et écologique! On recommandera sans hésiter! Fini les microparticules de plastique!   \n",
       "2                                  Pour nous, c'était une première.Ravis d'avoir trouvé un système de consigne pour un choix plus large de produits qu'en magasin.Créneau horaire de livraison respecté, avec une information précise sur l'approche du livreur.Livreur sympathique, souriant et serviable.À bientôt pour une nouvelle commande !   \n",
       "\n",
       "                 category  \n",
       "0  food_beverages_tobacco  \n",
       "1  food_beverages_tobacco  \n",
       "2  food_beverages_tobacco  "
      ]
     },
     "execution_count": 23,
     "metadata": {},
     "output_type": "execute_result"
    }
   ],
   "source": [
    "reviews_df = pd.read_csv(\"data/reviews.csv\", sep=\";\")\n",
    "reviews_df.head(3)"
   ]
  },
  {
   "cell_type": "code",
   "execution_count": 24,
   "metadata": {},
   "outputs": [],
   "source": [
    "reviews_df = reviews_df[[\"company_name\", \"score\", \"review_score\", \"review_title\", \"review_text\", \"category\"]]"
   ]
  },
  {
   "cell_type": "code",
   "execution_count": 25,
   "metadata": {},
   "outputs": [
    {
     "data": {
      "text/html": [
       "<div>\n",
       "<style scoped>\n",
       "    .dataframe tbody tr th:only-of-type {\n",
       "        vertical-align: middle;\n",
       "    }\n",
       "\n",
       "    .dataframe tbody tr th {\n",
       "        vertical-align: top;\n",
       "    }\n",
       "\n",
       "    .dataframe thead th {\n",
       "        text-align: right;\n",
       "    }\n",
       "</style>\n",
       "<table border=\"1\" class=\"dataframe\">\n",
       "  <thead>\n",
       "    <tr style=\"text-align: right;\">\n",
       "      <th></th>\n",
       "      <th>company_name</th>\n",
       "      <th>score</th>\n",
       "      <th>review_score</th>\n",
       "      <th>review_title</th>\n",
       "      <th>review_text</th>\n",
       "      <th>category</th>\n",
       "      <th>review</th>\n",
       "    </tr>\n",
       "  </thead>\n",
       "  <tbody>\n",
       "    <tr>\n",
       "      <th>0</th>\n",
       "      <td>Le Fourgon</td>\n",
       "      <td>4,9</td>\n",
       "      <td>5</td>\n",
       "      <td>Application conviviale pour passer ses…</td>\n",
       "      <td>Application conviviale pour passer ses commandes. Manquent juste les ingrédients pas évidents à trouver.Notification par SMS peu de temps avant le créneau choisi pour un créneau précis de 20 minutes.Livreurs agréables.Merci le Fourgon !</td>\n",
       "      <td>food_beverages_tobacco</td>\n",
       "      <td>Application conviviale pour passer ses… Application conviviale pour passer ses commandes. Manquent juste les ingrédients pas évidents à trouver.Notification par SMS peu de temps avant le créneau choisi pour un créneau précis de 20 minutes.Livreurs agréables.Merci le Fourgon !</td>\n",
       "    </tr>\n",
       "    <tr>\n",
       "      <th>1</th>\n",
       "      <td>Le Fourgon</td>\n",
       "      <td>4,9</td>\n",
       "      <td>5</td>\n",
       "      <td>Très facile pour la commande</td>\n",
       "      <td>Très facile pour la commande, très rapide et livraison très professionnelle! Le livreur a apporté les bacs chez nous car ils étaient lourds! 12 bouteilles par bacs... soit 12kg sans compter le poids des bouteilles. Très pro et sympa!Vraiment chouette et écologique! On recommandera sans hésiter! Fini les microparticules de plastique!</td>\n",
       "      <td>food_beverages_tobacco</td>\n",
       "      <td>Très facile pour la commande Très facile pour la commande, très rapide et livraison très professionnelle! Le livreur a apporté les bacs chez nous car ils étaient lourds! 12 bouteilles par bacs... soit 12kg sans compter le poids des bouteilles. Très pro et sympa!Vraiment chouette et écologique! On recommandera sans hésiter! Fini les microparticules de plastique!</td>\n",
       "    </tr>\n",
       "    <tr>\n",
       "      <th>2</th>\n",
       "      <td>Le Fourgon</td>\n",
       "      <td>4,9</td>\n",
       "      <td>5</td>\n",
       "      <td>Première expérience réussie !</td>\n",
       "      <td>Pour nous, c'était une première.Ravis d'avoir trouvé un système de consigne pour un choix plus large de produits qu'en magasin.Créneau horaire de livraison respecté, avec une information précise sur l'approche du livreur.Livreur sympathique, souriant et serviable.À bientôt pour une nouvelle commande !</td>\n",
       "      <td>food_beverages_tobacco</td>\n",
       "      <td>Première expérience réussie ! Pour nous, c'était une première.Ravis d'avoir trouvé un système de consigne pour un choix plus large de produits qu'en magasin.Créneau horaire de livraison respecté, avec une information précise sur l'approche du livreur.Livreur sympathique, souriant et serviable.À bientôt pour une nouvelle commande !</td>\n",
       "    </tr>\n",
       "  </tbody>\n",
       "</table>\n",
       "</div>"
      ],
      "text/plain": [
       "  company_name score  review_score                             review_title  \\\n",
       "0  Le Fourgon    4,9             5  Application conviviale pour passer ses…   \n",
       "1  Le Fourgon    4,9             5             Très facile pour la commande   \n",
       "2  Le Fourgon    4,9             5            Première expérience réussie !   \n",
       "\n",
       "                                                                                                                                                                                                                                                                                                                                      review_text  \\\n",
       "0                                                                                                    Application conviviale pour passer ses commandes. Manquent juste les ingrédients pas évidents à trouver.Notification par SMS peu de temps avant le créneau choisi pour un créneau précis de 20 minutes.Livreurs agréables.Merci le Fourgon !   \n",
       "1  Très facile pour la commande, très rapide et livraison très professionnelle! Le livreur a apporté les bacs chez nous car ils étaient lourds! 12 bouteilles par bacs... soit 12kg sans compter le poids des bouteilles. Très pro et sympa!Vraiment chouette et écologique! On recommandera sans hésiter! Fini les microparticules de plastique!   \n",
       "2                                  Pour nous, c'était une première.Ravis d'avoir trouvé un système de consigne pour un choix plus large de produits qu'en magasin.Créneau horaire de livraison respecté, avec une information précise sur l'approche du livreur.Livreur sympathique, souriant et serviable.À bientôt pour une nouvelle commande !   \n",
       "\n",
       "                 category  \\\n",
       "0  food_beverages_tobacco   \n",
       "1  food_beverages_tobacco   \n",
       "2  food_beverages_tobacco   \n",
       "\n",
       "                                                                                                                                                                                                                                                                                                                                                                        review  \n",
       "0                                                                                         Application conviviale pour passer ses… Application conviviale pour passer ses commandes. Manquent juste les ingrédients pas évidents à trouver.Notification par SMS peu de temps avant le créneau choisi pour un créneau précis de 20 minutes.Livreurs agréables.Merci le Fourgon !  \n",
       "1  Très facile pour la commande Très facile pour la commande, très rapide et livraison très professionnelle! Le livreur a apporté les bacs chez nous car ils étaient lourds! 12 bouteilles par bacs... soit 12kg sans compter le poids des bouteilles. Très pro et sympa!Vraiment chouette et écologique! On recommandera sans hésiter! Fini les microparticules de plastique!  \n",
       "2                                 Première expérience réussie ! Pour nous, c'était une première.Ravis d'avoir trouvé un système de consigne pour un choix plus large de produits qu'en magasin.Créneau horaire de livraison respecté, avec une information précise sur l'approche du livreur.Livreur sympathique, souriant et serviable.À bientôt pour une nouvelle commande !  "
      ]
     },
     "execution_count": 25,
     "metadata": {},
     "output_type": "execute_result"
    }
   ],
   "source": [
    "# we merge the title and the text of the review\n",
    "reviews_df[\"review\"] = reviews_df[\"review_title\"] + \" \" + reviews_df[\"review_text\"]\n",
    "reviews_df.head(3)"
   ]
  },
  {
   "cell_type": "code",
   "execution_count": 26,
   "metadata": {},
   "outputs": [
    {
     "data": {
      "text/plain": [
       "'Application conviviale pour passer ses Application conviviale pour passer ses commandes. Manquent juste les ingredients pas evidents a trouver.Notification par SMS peu de temps avant le creneau choisi pour un creneau precis de 20 minutes.Livreurs agreables.Merci le Fourgon !'"
      ]
     },
     "execution_count": 26,
     "metadata": {},
     "output_type": "execute_result"
    }
   ],
   "source": [
    "clean(reviews_df[\"review\"].values[0], no_emoji=True, no_line_breaks=True, lower=False).replace(\"#\", \"\")"
   ]
  },
  {
   "cell_type": "code",
   "execution_count": 27,
   "metadata": {},
   "outputs": [],
   "source": [
    "reviews_df[\"review\"] = reviews_df[\"review\"].apply(lambda x: clean(x, no_emoji=True, no_line_breaks=True, lower=False).replace(\"#\", \"\"))"
   ]
  },
  {
   "cell_type": "code",
   "execution_count": 28,
   "metadata": {},
   "outputs": [
    {
     "data": {
      "text/plain": [
       "\"Exceptionnel La brulerie Belleville est devenue mon unique fournisseur en cafe, le cafe est vraiment d'une qualite exceptionnelle ! De plus, le service apres-vente est d'une qualite humaine devenue bien rare a present !\""
      ]
     },
     "execution_count": 28,
     "metadata": {},
     "output_type": "execute_result"
    }
   ],
   "source": [
    "reviews_df[\"review\"].values[100]"
   ]
  },
  {
   "cell_type": "markdown",
   "metadata": {},
   "source": [
    "#### We Keep only a sample of the data (the top 100 companies with the most reviews) Because of the traduction cost of the \"review\" column"
   ]
  },
  {
   "cell_type": "code",
   "execution_count": 29,
   "metadata": {},
   "outputs": [
    {
     "data": {
      "text/plain": [
       "company_name\n",
       "Hardloop           236\n",
       "Alltricks          210\n",
       "Ekosport           140\n",
       "vertbaudet         140\n",
       "Mode Tactique      120\n",
       "Weenect            120\n",
       "AAAEP              120\n",
       "Handball Store     111\n",
       "Meyclub            100\n",
       "Bleen              100\n",
       "Name: count, dtype: int64"
      ]
     },
     "execution_count": 29,
     "metadata": {},
     "output_type": "execute_result"
    }
   ],
   "source": [
    "# number of reviews per company\n",
    "reviews_df[\"company_name\"].value_counts()[:10]"
   ]
  },
  {
   "cell_type": "code",
   "execution_count": 30,
   "metadata": {},
   "outputs": [
    {
     "data": {
      "text/plain": [
       "235503"
      ]
     },
     "execution_count": 30,
     "metadata": {},
     "output_type": "execute_result"
    }
   ],
   "source": [
    "# number of reviews in all the dataset\n",
    "len(reviews_df)"
   ]
  },
  {
   "cell_type": "code",
   "execution_count": 31,
   "metadata": {},
   "outputs": [
    {
     "data": {
      "text/plain": [
       "'Hardloop\\xa0'"
      ]
     },
     "execution_count": 31,
     "metadata": {},
     "output_type": "execute_result"
    }
   ],
   "source": [
    "# print the first company name\n",
    "reviews_df[\"company_name\"].value_counts().index[0]"
   ]
  },
  {
   "cell_type": "code",
   "execution_count": 32,
   "metadata": {},
   "outputs": [
    {
     "data": {
      "text/plain": [
       "'Hardloop'"
      ]
     },
     "execution_count": 32,
     "metadata": {},
     "output_type": "execute_result"
    }
   ],
   "source": [
    "reviews_df[\"company_name\"] = reviews_df[\"company_name\"].apply(lambda x: x.replace(\"\\xa0\", \"\") if x != \"\\xa0\" else x)\n",
    "reviews_df[\"company_name\"].value_counts().index[0]"
   ]
  },
  {
   "cell_type": "code",
   "execution_count": 33,
   "metadata": {},
   "outputs": [
    {
     "data": {
      "text/plain": [
       "8972"
      ]
     },
     "execution_count": 33,
     "metadata": {},
     "output_type": "execute_result"
    }
   ],
   "source": [
    "# we keep only the reviews of the first 100 companies in terms of number of reviews\n",
    "revsample_df = reviews_df[reviews_df[\"company_name\"].isin(reviews_df[\"company_name\"].value_counts()[:100].index)]\n",
    "revsample_df[\"company_name\"].value_counts().sum()"
   ]
  },
  {
   "cell_type": "code",
   "execution_count": 34,
   "metadata": {},
   "outputs": [
    {
     "data": {
      "text/plain": [
       "company_name\n",
       "Hardloop          236\n",
       "Alltricks         210\n",
       "vertbaudet        140\n",
       "Ekosport          140\n",
       "Weenect           120\n",
       "Mode Tactique     120\n",
       "AAAEP             120\n",
       "Handball Store    111\n",
       "Plaquedeces.fr    100\n",
       "JACQUEMUS         100\n",
       "Name: count, dtype: int64"
      ]
     },
     "execution_count": 34,
     "metadata": {},
     "output_type": "execute_result"
    }
   ],
   "source": [
    "revsample_df[\"company_name\"].value_counts()[:10]"
   ]
  },
  {
   "cell_type": "code",
   "execution_count": 35,
   "metadata": {},
   "outputs": [],
   "source": [
    "revsample_df = revsample_df.dropna(ignore_index=True)"
   ]
  },
  {
   "cell_type": "code",
   "execution_count": 36,
   "metadata": {},
   "outputs": [
    {
     "data": {
      "text/html": [
       "<div>\n",
       "<style scoped>\n",
       "    .dataframe tbody tr th:only-of-type {\n",
       "        vertical-align: middle;\n",
       "    }\n",
       "\n",
       "    .dataframe tbody tr th {\n",
       "        vertical-align: top;\n",
       "    }\n",
       "\n",
       "    .dataframe thead th {\n",
       "        text-align: right;\n",
       "    }\n",
       "</style>\n",
       "<table border=\"1\" class=\"dataframe\">\n",
       "  <thead>\n",
       "    <tr style=\"text-align: right;\">\n",
       "      <th></th>\n",
       "      <th>company_name</th>\n",
       "      <th>score</th>\n",
       "      <th>review_score</th>\n",
       "      <th>review_title</th>\n",
       "      <th>review_text</th>\n",
       "      <th>category</th>\n",
       "      <th>review</th>\n",
       "    </tr>\n",
       "  </thead>\n",
       "  <tbody>\n",
       "    <tr>\n",
       "      <th>7658</th>\n",
       "      <td>Hardloop</td>\n",
       "      <td>4,5</td>\n",
       "      <td>1</td>\n",
       "      <td>Première commande sur ce site</td>\n",
       "      <td>Première commande sur ce site, et extrêmement déçue !Pantalon de randonnée commandé pour un cadeau de Noël début décembre, il n’est toujours pas réceptionné malgré les dates indiquées sur le site. Diverses relances auprès du service client par e-mail et Instagram afin d’obtenir à minima un retour sur la livraison ou sur un remboursement éventuel pour l’acheter ailleurs : aucun retour.Une honte.À fuir…Merci de supprimer mon adresse e-mail privée à ce commentaire (méthode très douteuse pour que je supprime mon commentaire négatif).</td>\n",
       "      <td>sports</td>\n",
       "      <td>Premiere commande sur ce site Premiere commande sur ce site, et extremement decue !Pantalon de randonnee commande pour un cadeau de Noel debut decembre, il n'est toujours pas receptionne malgre les dates indiquees sur le site. Diverses relances aupres du service client par e-mail et Instagram afin d'obtenir a minima un retour sur la livraison ou sur un remboursement eventuel pour l'acheter ailleurs : aucun retour.Une honte.A fuirMerci de supprimer mon adresse e-mail privee a ce commentaire (methode tres douteuse pour que je supprime mon commentaire negatif).</td>\n",
       "    </tr>\n",
       "    <tr>\n",
       "      <th>7659</th>\n",
       "      <td>Hardloop</td>\n",
       "      <td>4,5</td>\n",
       "      <td>1</td>\n",
       "      <td>Pantalon à 150€ reçu 10 jours après la…</td>\n",
       "      <td>Pantalon à 150€ reçu 10 jours après la commande. Pour cause de taille trop grande, impossible d'obtenir un bon de retour pour retourner l'article, car le site émet systématiquement un message d'erreur quand on en fait la demande. Le numéro de tel du prétendu standard n'est en fait qu'un simple répondeur, où il n'est même pas possible de laisser un message.Finalement, après deux mails envoyés, j'ai fini par recevoir un bon de retour imprimable. Pas de remboursement reçu un mois après l'envoi... mais reçu immédiatement après après que j'aie renvoyé un mailde reclamation. À fuir.</td>\n",
       "      <td>sports</td>\n",
       "      <td>Pantalon a 150 recu 10 jours apres la Pantalon a 150 recu 10 jours apres la commande. Pour cause de taille trop grande, impossible d'obtenir un bon de retour pour retourner l'article, car le site emet systematiquement un message d'erreur quand on en fait la demande. Le numero de tel du pretendu standard n'est en fait qu'un simple repondeur, ou il n'est meme pas possible de laisser un message.Finalement, apres deux mails envoyes, j'ai fini par recevoir un bon de retour imprimable. Pas de remboursement recu un mois apres l'envoi... mais recu immediatement apres apres que j'aie renvoye un mailde reclamation. A fuir.</td>\n",
       "    </tr>\n",
       "    <tr>\n",
       "      <th>7660</th>\n",
       "      <td>Hardloop</td>\n",
       "      <td>4,5</td>\n",
       "      <td>5</td>\n",
       "      <td>Equipe très réactive en cas de problème…</td>\n",
       "      <td>Equipe très réactive en cas de problème sur une commande pour trouver des solutions.</td>\n",
       "      <td>sports</td>\n",
       "      <td>Equipe tres reactive en cas de probleme Equipe tres reactive en cas de probleme sur une commande pour trouver des solutions.</td>\n",
       "    </tr>\n",
       "    <tr>\n",
       "      <th>7661</th>\n",
       "      <td>Hardloop</td>\n",
       "      <td>4,5</td>\n",
       "      <td>4</td>\n",
       "      <td>Très bon service</td>\n",
       "      <td>Beaucoup de choix, produits bien emballés, et livraison rapide.</td>\n",
       "      <td>sports</td>\n",
       "      <td>Tres bon service Beaucoup de choix, produits bien emballes, et livraison rapide.</td>\n",
       "    </tr>\n",
       "    <tr>\n",
       "      <th>7662</th>\n",
       "      <td>Hardloop</td>\n",
       "      <td>4,5</td>\n",
       "      <td>5</td>\n",
       "      <td>Parfait</td>\n",
       "      <td>Parfait,  livraison rapide et service optimal,  je recommande</td>\n",
       "      <td>sports</td>\n",
       "      <td>Parfait Parfait, livraison rapide et service optimal, je recommande</td>\n",
       "    </tr>\n",
       "    <tr>\n",
       "      <th>...</th>\n",
       "      <td>...</td>\n",
       "      <td>...</td>\n",
       "      <td>...</td>\n",
       "      <td>...</td>\n",
       "      <td>...</td>\n",
       "      <td>...</td>\n",
       "      <td>...</td>\n",
       "    </tr>\n",
       "    <tr>\n",
       "      <th>8676</th>\n",
       "      <td>Hardloop</td>\n",
       "      <td>4,0</td>\n",
       "      <td>5</td>\n",
       "      <td>Competitive price, rapid delivery</td>\n",
       "      <td>Competitive price, rapid delivery to Poland</td>\n",
       "      <td>vehicles_transportation</td>\n",
       "      <td>Competitive price, rapid delivery Competitive price, rapid delivery to Poland</td>\n",
       "    </tr>\n",
       "    <tr>\n",
       "      <th>8677</th>\n",
       "      <td>Hardloop</td>\n",
       "      <td>4,0</td>\n",
       "      <td>1</td>\n",
       "      <td>Szczytem chamstwa nie jest dostarczyć…</td>\n",
       "      <td>Szczytem chamstwa nie jest dostarczyć produkt, który zgodnie z prawem zakupiłem, i który jest dostępny w sklepie, tylko dlatego, że właścicielowi nie podoba się kwota, za którą został sprzedany. W systemie była widoczna cena w promocji. I z niej korzystając kupiłem kurtkę Helly Hannsena. Anulowanie mojego kupna i zwrot pieniędzy zasłaniając się rzekomym błędem w wyświetlaniu ceny jest co najmniej nie na miejscu. Jeżeli nawet do takiego doszło właściciel powinien rozwiązywać tą kwestię, wśród swoich pracowników odpowiedzialnych za to, następnie wyciągać konsekwencje i żądać zadośćuczynienia z ich strony. A nie traktować kupującego jakby nie miał żadnych praw i nic nie znaczył. Sprawę moi prawnicy kierują do rzecznika praw konsumenta we Francji. Jeżeli trzeba będzie wejdą na ścieżkę prawną. W życiu nie zostałem w ten sposób potraktowany, zwłaszcza przed wyjazdem na narty, kiedy zamówiona przeze mnie odzież jest mi niezbędna. Zdecydowanie nie polecam tego sklepu.</td>\n",
       "      <td>vehicles_transportation</td>\n",
       "      <td>Szczytem chamstwa nie jest dostarczyc Szczytem chamstwa nie jest dostarczyc produkt, ktory zgodnie z prawem zakupiem, i ktory jest dostepny w sklepie, tylko dlatego, ze wascicielowi nie podoba sie kwota, za ktora zosta sprzedany. W systemie bya widoczna cena w promocji. I z niej korzystajac kupiem kurtke Helly Hannsena. Anulowanie mojego kupna i zwrot pieniedzy zasaniajac sie rzekomym bedem w wyswietlaniu ceny jest co najmniej nie na miejscu. Jezeli nawet do takiego doszo wasciciel powinien rozwiazywac ta kwestie, wsrod swoich pracownikow odpowiedzialnych za to, nastepnie wyciagac konsekwencje i zadac zadoscuczynienia z ich strony. A nie traktowac kupujacego jakby nie mia zadnych praw i nic nie znaczy. Sprawe moi prawnicy kieruja do rzecznika praw konsumenta we Francji. Jezeli trzeba bedzie wejda na sciezke prawna. W zyciu nie zostaem w ten sposob potraktowany, zwaszcza przed wyjazdem na narty, kiedy zamowiona przeze mnie odziez jest mi niezbedna. Zdecydowanie nie polecam tego sklepu.</td>\n",
       "    </tr>\n",
       "    <tr>\n",
       "      <th>8678</th>\n",
       "      <td>Hardloop</td>\n",
       "      <td>4,0</td>\n",
       "      <td>2</td>\n",
       "      <td>Wrong product in my shipment.</td>\n",
       "      <td>Wrong product in my shipment.No contact with information what to do - after my claim - no answer.</td>\n",
       "      <td>vehicles_transportation</td>\n",
       "      <td>Wrong product in my shipment. Wrong product in my shipment.No contact with information what to do - after my claim - no answer.</td>\n",
       "    </tr>\n",
       "    <tr>\n",
       "      <th>8679</th>\n",
       "      <td>Hardloop</td>\n",
       "      <td>4,0</td>\n",
       "      <td>1</td>\n",
       "      <td>Bad customer service</td>\n",
       "      <td>The order itself is ok but I wanted to return the product and no response from customer service :/</td>\n",
       "      <td>vehicles_transportation</td>\n",
       "      <td>Bad customer service The order itself is ok but I wanted to return the product and no response from customer service :/</td>\n",
       "    </tr>\n",
       "    <tr>\n",
       "      <th>8680</th>\n",
       "      <td>Hardloop</td>\n",
       "      <td>4,0</td>\n",
       "      <td>5</td>\n",
       "      <td>Dobra cena</td>\n",
       "      <td>Dobra cena, szybka wysyłka - firma i strona godna zaufania.</td>\n",
       "      <td>vehicles_transportation</td>\n",
       "      <td>Dobra cena Dobra cena, szybka wysyka - firma i strona godna zaufania.</td>\n",
       "    </tr>\n",
       "  </tbody>\n",
       "</table>\n",
       "<p>208 rows × 7 columns</p>\n",
       "</div>"
      ],
      "text/plain": [
       "     company_name score  review_score  \\\n",
       "7658     Hardloop   4,5             1   \n",
       "7659     Hardloop   4,5             1   \n",
       "7660     Hardloop   4,5             5   \n",
       "7661     Hardloop   4,5             4   \n",
       "7662     Hardloop   4,5             5   \n",
       "...           ...   ...           ...   \n",
       "8676     Hardloop   4,0             5   \n",
       "8677     Hardloop   4,0             1   \n",
       "8678     Hardloop   4,0             2   \n",
       "8679     Hardloop   4,0             1   \n",
       "8680     Hardloop   4,0             5   \n",
       "\n",
       "                                  review_title  \\\n",
       "7658             Première commande sur ce site   \n",
       "7659   Pantalon à 150€ reçu 10 jours après la…   \n",
       "7660  Equipe très réactive en cas de problème…   \n",
       "7661                          Très bon service   \n",
       "7662                                   Parfait   \n",
       "...                                        ...   \n",
       "8676         Competitive price, rapid delivery   \n",
       "8677    Szczytem chamstwa nie jest dostarczyć…   \n",
       "8678             Wrong product in my shipment.   \n",
       "8679                      Bad customer service   \n",
       "8680                                Dobra cena   \n",
       "\n",
       "                                                                                                                                                                                                                                                                                                                                                                                                                                                                                                                                                                                                                                                                                                                                                                                                                                                                                                                                                                                                         review_text  \\\n",
       "7658                                                                                                                                                                                                                                                                                                                                                                                                                                                         Première commande sur ce site, et extrêmement déçue !Pantalon de randonnée commandé pour un cadeau de Noël début décembre, il n’est toujours pas réceptionné malgré les dates indiquées sur le site. Diverses relances auprès du service client par e-mail et Instagram afin d’obtenir à minima un retour sur la livraison ou sur un remboursement éventuel pour l’acheter ailleurs : aucun retour.Une honte.À fuir…Merci de supprimer mon adresse e-mail privée à ce commentaire (méthode très douteuse pour que je supprime mon commentaire négatif).   \n",
       "7659                                                                                                                                                                                                                                                                                                                                                                                                         Pantalon à 150€ reçu 10 jours après la commande. Pour cause de taille trop grande, impossible d'obtenir un bon de retour pour retourner l'article, car le site émet systématiquement un message d'erreur quand on en fait la demande. Le numéro de tel du prétendu standard n'est en fait qu'un simple répondeur, où il n'est même pas possible de laisser un message.Finalement, après deux mails envoyés, j'ai fini par recevoir un bon de retour imprimable. Pas de remboursement reçu un mois après l'envoi... mais reçu immédiatement après après que j'aie renvoyé un mailde reclamation. À fuir.   \n",
       "7660                                                                                                                                                                                                                                                                                                                                                                                                                                                                                                                                                                                                                                                                                                                                                                                                                                                                                                                            Equipe très réactive en cas de problème sur une commande pour trouver des solutions.   \n",
       "7661                                                                                                                                                                                                                                                                                                                                                                                                                                                                                                                                                                                                                                                                                                                                                                                                                                                                                                                                                 Beaucoup de choix, produits bien emballés, et livraison rapide.   \n",
       "7662                                                                                                                                                                                                                                                                                                                                                                                                                                                                                                                                                                                                                                                                                                                                                                                                                                                                                                                                                   Parfait,  livraison rapide et service optimal,  je recommande   \n",
       "...                                                                                                                                                                                                                                                                                                                                                                                                                                                                                                                                                                                                                                                                                                                                                                                                                                                                                                                                                                                                              ...   \n",
       "8676                                                                                                                                                                                                                                                                                                                                                                                                                                                                                                                                                                                                                                                                                                                                                                                                                                                                                                                                                                     Competitive price, rapid delivery to Poland   \n",
       "8677  Szczytem chamstwa nie jest dostarczyć produkt, który zgodnie z prawem zakupiłem, i który jest dostępny w sklepie, tylko dlatego, że właścicielowi nie podoba się kwota, za którą został sprzedany. W systemie była widoczna cena w promocji. I z niej korzystając kupiłem kurtkę Helly Hannsena. Anulowanie mojego kupna i zwrot pieniędzy zasłaniając się rzekomym błędem w wyświetlaniu ceny jest co najmniej nie na miejscu. Jeżeli nawet do takiego doszło właściciel powinien rozwiązywać tą kwestię, wśród swoich pracowników odpowiedzialnych za to, następnie wyciągać konsekwencje i żądać zadośćuczynienia z ich strony. A nie traktować kupującego jakby nie miał żadnych praw i nic nie znaczył. Sprawę moi prawnicy kierują do rzecznika praw konsumenta we Francji. Jeżeli trzeba będzie wejdą na ścieżkę prawną. W życiu nie zostałem w ten sposób potraktowany, zwłaszcza przed wyjazdem na narty, kiedy zamówiona przeze mnie odzież jest mi niezbędna. Zdecydowanie nie polecam tego sklepu.   \n",
       "8678                                                                                                                                                                                                                                                                                                                                                                                                                                                                                                                                                                                                                                                                                                                                                                                                                                                                                                               Wrong product in my shipment.No contact with information what to do - after my claim - no answer.   \n",
       "8679                                                                                                                                                                                                                                                                                                                                                                                                                                                                                                                                                                                                                                                                                                                                                                                                                                                                                                              The order itself is ok but I wanted to return the product and no response from customer service :/   \n",
       "8680                                                                                                                                                                                                                                                                                                                                                                                                                                                                                                                                                                                                                                                                                                                                                                                                                                                                                                                                                     Dobra cena, szybka wysyłka - firma i strona godna zaufania.   \n",
       "\n",
       "                     category  \\\n",
       "7658                   sports   \n",
       "7659                   sports   \n",
       "7660                   sports   \n",
       "7661                   sports   \n",
       "7662                   sports   \n",
       "...                       ...   \n",
       "8676  vehicles_transportation   \n",
       "8677  vehicles_transportation   \n",
       "8678  vehicles_transportation   \n",
       "8679  vehicles_transportation   \n",
       "8680  vehicles_transportation   \n",
       "\n",
       "                                                                                                                                                                                                                                                                                                                                                                                                                                                                                                                                                                                                                                                                                                                                                                                                                                                                                                                                                                                                                                       review  \n",
       "7658                                                                                                                                                                                                                                                                                                                                                                                                                                                     Premiere commande sur ce site Premiere commande sur ce site, et extremement decue !Pantalon de randonnee commande pour un cadeau de Noel debut decembre, il n'est toujours pas receptionne malgre les dates indiquees sur le site. Diverses relances aupres du service client par e-mail et Instagram afin d'obtenir a minima un retour sur la livraison ou sur un remboursement eventuel pour l'acheter ailleurs : aucun retour.Une honte.A fuirMerci de supprimer mon adresse e-mail privee a ce commentaire (methode tres douteuse pour que je supprime mon commentaire negatif).  \n",
       "7659                                                                                                                                                                                                                                                                                                                                                                                             Pantalon a 150 recu 10 jours apres la Pantalon a 150 recu 10 jours apres la commande. Pour cause de taille trop grande, impossible d'obtenir un bon de retour pour retourner l'article, car le site emet systematiquement un message d'erreur quand on en fait la demande. Le numero de tel du pretendu standard n'est en fait qu'un simple repondeur, ou il n'est meme pas possible de laisser un message.Finalement, apres deux mails envoyes, j'ai fini par recevoir un bon de retour imprimable. Pas de remboursement recu un mois apres l'envoi... mais recu immediatement apres apres que j'aie renvoye un mailde reclamation. A fuir.  \n",
       "7660                                                                                                                                                                                                                                                                                                                                                                                                                                                                                                                                                                                                                                                                                                                                                                                                                                                                                                             Equipe tres reactive en cas de probleme Equipe tres reactive en cas de probleme sur une commande pour trouver des solutions.  \n",
       "7661                                                                                                                                                                                                                                                                                                                                                                                                                                                                                                                                                                                                                                                                                                                                                                                                                                                                                                                                                         Tres bon service Beaucoup de choix, produits bien emballes, et livraison rapide.  \n",
       "7662                                                                                                                                                                                                                                                                                                                                                                                                                                                                                                                                                                                                                                                                                                                                                                                                                                                                                                                                                                      Parfait Parfait, livraison rapide et service optimal, je recommande  \n",
       "...                                                                                                                                                                                                                                                                                                                                                                                                                                                                                                                                                                                                                                                                                                                                                                                                                                                                                                                                                                                                                                       ...  \n",
       "8676                                                                                                                                                                                                                                                                                                                                                                                                                                                                                                                                                                                                                                                                                                                                                                                                                                                                                                                                                            Competitive price, rapid delivery Competitive price, rapid delivery to Poland  \n",
       "8677  Szczytem chamstwa nie jest dostarczyc Szczytem chamstwa nie jest dostarczyc produkt, ktory zgodnie z prawem zakupiem, i ktory jest dostepny w sklepie, tylko dlatego, ze wascicielowi nie podoba sie kwota, za ktora zosta sprzedany. W systemie bya widoczna cena w promocji. I z niej korzystajac kupiem kurtke Helly Hannsena. Anulowanie mojego kupna i zwrot pieniedzy zasaniajac sie rzekomym bedem w wyswietlaniu ceny jest co najmniej nie na miejscu. Jezeli nawet do takiego doszo wasciciel powinien rozwiazywac ta kwestie, wsrod swoich pracownikow odpowiedzialnych za to, nastepnie wyciagac konsekwencje i zadac zadoscuczynienia z ich strony. A nie traktowac kupujacego jakby nie mia zadnych praw i nic nie znaczy. Sprawe moi prawnicy kieruja do rzecznika praw konsumenta we Francji. Jezeli trzeba bedzie wejda na sciezke prawna. W zyciu nie zostaem w ten sposob potraktowany, zwaszcza przed wyjazdem na narty, kiedy zamowiona przeze mnie odziez jest mi niezbedna. Zdecydowanie nie polecam tego sklepu.  \n",
       "8678                                                                                                                                                                                                                                                                                                                                                                                                                                                                                                                                                                                                                                                                                                                                                                                                                                                                                                          Wrong product in my shipment. Wrong product in my shipment.No contact with information what to do - after my claim - no answer.  \n",
       "8679                                                                                                                                                                                                                                                                                                                                                                                                                                                                                                                                                                                                                                                                                                                                                                                                                                                                                                                  Bad customer service The order itself is ok but I wanted to return the product and no response from customer service :/  \n",
       "8680                                                                                                                                                                                                                                                                                                                                                                                                                                                                                                                                                                                                                                                                                                                                                                                                                                                                                                                                                                    Dobra cena Dobra cena, szybka wysyka - firma i strona godna zaufania.  \n",
       "\n",
       "[208 rows x 7 columns]"
      ]
     },
     "execution_count": 36,
     "metadata": {},
     "output_type": "execute_result"
    }
   ],
   "source": [
    "# we display all the lines of the first company\n",
    "pd.set_option(\"display.max_colwidth\", None)\n",
    "revsample_df[revsample_df[\"company_name\"] == \"Hardloop\"]"
   ]
  },
  {
   "cell_type": "markdown",
   "metadata": {},
   "source": [
    "We keep only the reviews in french"
   ]
  },
  {
   "cell_type": "code",
   "execution_count": 37,
   "metadata": {},
   "outputs": [
    {
     "name": "stdout",
     "output_type": "stream",
     "text": [
      "['arabic', 'azerbaijani', 'basque', 'bengali', 'catalan', 'chinese', 'danish', 'dutch', 'english', 'finnish', 'french', 'german', 'greek', 'hebrew', 'hinglish', 'hungarian', 'indonesian', 'italian', 'kazakh', 'nepali', 'norwegian', 'portuguese', 'romanian', 'russian', 'slovene', 'spanish', 'swedish', 'tajik', 'turkish']\n"
     ]
    }
   ],
   "source": [
    "from nltk import wordpunct_tokenize\n",
    "from nltk.corpus import stopwords\n",
    "print(stopwords.fileids())"
   ]
  },
  {
   "cell_type": "code",
   "execution_count": 38,
   "metadata": {},
   "outputs": [],
   "source": [
    "def detecte_langage(message):\n",
    "    # on definie un dictionnaire vide\n",
    "    # {langue : nbre de stopwords communs \n",
    "    # entre langue et les mots de message}\n",
    "    languages_shared_words = {}\n",
    "    # tokenization en mots\n",
    "    words = wordpunct_tokenize(message)\n",
    "    for language in stopwords.fileids():\n",
    "        # stopwords pour chaque langue\n",
    "        stopwords_liste = stopwords.words(language)\n",
    "        # on retire les doublons\n",
    "        words = set(words)\n",
    "        # les mots communs entre stopwords \n",
    "        # d'une langue et les mots de message\n",
    "        common_elements = words.intersection(stopwords_liste)\n",
    "        # ajout du couple au dictionnaire\n",
    "        languages_shared_words[language] = len(common_elements)\n",
    "    # on retourne la langue avec le max de mots commun\n",
    "    return  max(languages_shared_words, key = languages_shared_words.get)"
   ]
  },
  {
   "cell_type": "code",
   "execution_count": 39,
   "metadata": {},
   "outputs": [],
   "source": [
    "# on applique la fonction pour chaque message sur la colonne review et on ne garde que les lignes ou la langue est en francais\n",
    "revsample_df[\"langue\"] = revsample_df[\"review\"].apply(detecte_langage)"
   ]
  },
  {
   "cell_type": "code",
   "execution_count": 40,
   "metadata": {},
   "outputs": [
    {
     "data": {
      "text/plain": [
       "company_name    7729\n",
       "score           7729\n",
       "review_score    7729\n",
       "review_title    7729\n",
       "review_text     7729\n",
       "category        7729\n",
       "review          7729\n",
       "langue          7729\n",
       "dtype: int64"
      ]
     },
     "execution_count": 40,
     "metadata": {},
     "output_type": "execute_result"
    }
   ],
   "source": [
    "revsample_df[revsample_df[\"langue\"] == \"french\"].count()"
   ]
  },
  {
   "cell_type": "code",
   "execution_count": 41,
   "metadata": {},
   "outputs": [],
   "source": [
    "revsample_df_fr = revsample_df[revsample_df[\"langue\"] == \"french\"]"
   ]
  },
  {
   "cell_type": "code",
   "execution_count": 58,
   "metadata": {},
   "outputs": [],
   "source": [
    "revsample_df_fr.to_csv(\"data/revsample_df_fr.csv\", sep=\";\")"
   ]
  },
  {
   "cell_type": "code",
   "execution_count": 5,
   "metadata": {},
   "outputs": [],
   "source": [
    "revsample_df_fr = pd.read_csv(\"data/revsample_df_fr.csv\", sep=\";\")"
   ]
  },
  {
   "cell_type": "markdown",
   "metadata": {},
   "source": [
    "### Trying CamemBERT model : "
   ]
  },
  {
   "cell_type": "code",
   "execution_count": 6,
   "metadata": {},
   "outputs": [
    {
     "name": "stderr",
     "output_type": "stream",
     "text": [
      "c:\\Users\\gdetr\\Documents\\ESILV A5\\Machine Learning for NLP\\NLP_Project\\myenv\\lib\\site-packages\\tqdm\\auto.py:21: TqdmWarning: IProgress not found. Please update jupyter and ipywidgets. See https://ipywidgets.readthedocs.io/en/stable/user_install.html\n",
      "  from .autonotebook import tqdm as notebook_tqdm\n"
     ]
    }
   ],
   "source": [
    "from transformers import CamembertTokenizer"
   ]
  },
  {
   "cell_type": "code",
   "execution_count": 7,
   "metadata": {},
   "outputs": [
    {
     "name": "stderr",
     "output_type": "stream",
     "text": [
      "sentencepiece.bpe.model: 100%|██████████| 811k/811k [00:00<00:00, 2.50MB/s]\n",
      "c:\\Users\\gdetr\\Documents\\ESILV A5\\Machine Learning for NLP\\NLP_Project\\myenv\\lib\\site-packages\\huggingface_hub\\file_download.py:149: UserWarning: `huggingface_hub` cache-system uses symlinks by default to efficiently store duplicated files but your machine does not support them in C:\\Users\\gdetr\\.cache\\huggingface\\hub\\models--camembert-base. Caching files will still work but in a degraded version that might require more space on your disk. This warning can be disabled by setting the `HF_HUB_DISABLE_SYMLINKS_WARNING` environment variable. For more details, see https://huggingface.co/docs/huggingface_hub/how-to-cache#limitations.\n",
      "To support symlinks on Windows, you either need to activate Developer Mode or to run Python as an administrator. In order to see activate developer mode, see this article: https://docs.microsoft.com/en-us/windows/apps/get-started/enable-your-device-for-development\n",
      "  warnings.warn(message)\n",
      "tokenizer.json: 100%|██████████| 1.40M/1.40M [00:00<00:00, 4.27MB/s]\n",
      "config.json: 100%|██████████| 508/508 [00:00<?, ?B/s] \n",
      "Special tokens have been added in the vocabulary, make sure the associated word embeddings are fine-tuned or trained.\n"
     ]
    }
   ],
   "source": [
    "# let's use Cambembert model for French\n",
    "tokenizer = CamembertTokenizer.from_pretrained(\"camembert-base\")"
   ]
  },
  {
   "cell_type": "code",
   "execution_count": null,
   "metadata": {},
   "outputs": [],
   "source": [
    "# # we tokenize the reviews\n",
    "# revsample_df_fr[\"review\"] = revsample_df_fr[\"review\"].apply(lambda x: tokenizer.encode(x, add_special_tokens=True))\n",
    "\n",
    "# revsample_df_fr[\"review\"].values[0]"
   ]
  },
  {
   "cell_type": "code",
   "execution_count": 8,
   "metadata": {},
   "outputs": [
    {
     "data": {
      "text/plain": [
       "((6183, 9), (1546, 9))"
      ]
     },
     "execution_count": 8,
     "metadata": {},
     "output_type": "execute_result"
    }
   ],
   "source": [
    "# we split the dataset into train and test\n",
    "from sklearn.model_selection import train_test_split\n",
    "\n",
    "train, test = train_test_split(revsample_df_fr, test_size=0.2, random_state=42)\n",
    "\n",
    "train.shape, test.shape"
   ]
  },
  {
   "cell_type": "code",
   "execution_count": 9,
   "metadata": {},
   "outputs": [
    {
     "data": {
      "text/html": [
       "<div>\n",
       "<style scoped>\n",
       "    .dataframe tbody tr th:only-of-type {\n",
       "        vertical-align: middle;\n",
       "    }\n",
       "\n",
       "    .dataframe tbody tr th {\n",
       "        vertical-align: top;\n",
       "    }\n",
       "\n",
       "    .dataframe thead th {\n",
       "        text-align: right;\n",
       "    }\n",
       "</style>\n",
       "<table border=\"1\" class=\"dataframe\">\n",
       "  <thead>\n",
       "    <tr style=\"text-align: right;\">\n",
       "      <th></th>\n",
       "      <th>Unnamed: 0</th>\n",
       "      <th>company_name</th>\n",
       "      <th>score</th>\n",
       "      <th>review_score</th>\n",
       "      <th>review_title</th>\n",
       "      <th>review_text</th>\n",
       "      <th>category</th>\n",
       "      <th>review</th>\n",
       "      <th>langue</th>\n",
       "    </tr>\n",
       "  </thead>\n",
       "  <tbody>\n",
       "    <tr>\n",
       "      <th>1512</th>\n",
       "      <td>1638</td>\n",
       "      <td>Plaquedeces.fr</td>\n",
       "      <td>4,6</td>\n",
       "      <td>5</td>\n",
       "      <td>Plaque réalisé très vite et très bien livraiso...</td>\n",
       "      <td>Plaque commandée un vendredi tard dans la soir...</td>\n",
       "      <td>construction_manufactoring</td>\n",
       "      <td>Plaque realise tres vite et tres bien livraiso...</td>\n",
       "      <td>french</td>\n",
       "    </tr>\n",
       "    <tr>\n",
       "      <th>2404</th>\n",
       "      <td>2598</td>\n",
       "      <td>Recharge.fr</td>\n",
       "      <td>4,3</td>\n",
       "      <td>5</td>\n",
       "      <td>Site fiable</td>\n",
       "      <td>J'ai fait plusieurs rechargement en passant pa...</td>\n",
       "      <td>events_entertainment</td>\n",
       "      <td>Site fiable J'ai fait plusieurs rechargement e...</td>\n",
       "      <td>french</td>\n",
       "    </tr>\n",
       "    <tr>\n",
       "      <th>5167</th>\n",
       "      <td>5612</td>\n",
       "      <td>Taskrabbit France</td>\n",
       "      <td>4,5</td>\n",
       "      <td>5</td>\n",
       "      <td>Service impeccable</td>\n",
       "      <td>J'ai acheté un meuble chez Ikea et j'ai demand...</td>\n",
       "      <td>home_services</td>\n",
       "      <td>Service impeccable J'ai achete un meuble chez ...</td>\n",
       "      <td>french</td>\n",
       "    </tr>\n",
       "  </tbody>\n",
       "</table>\n",
       "</div>"
      ],
      "text/plain": [
       "      Unnamed: 0       company_name score  review_score  \\\n",
       "1512        1638     Plaquedeces.fr   4,6             5   \n",
       "2404        2598        Recharge.fr   4,3             5   \n",
       "5167        5612  Taskrabbit France   4,5             5   \n",
       "\n",
       "                                           review_title  \\\n",
       "1512  Plaque réalisé très vite et très bien livraiso...   \n",
       "2404                                        Site fiable   \n",
       "5167                                 Service impeccable   \n",
       "\n",
       "                                            review_text  \\\n",
       "1512  Plaque commandée un vendredi tard dans la soir...   \n",
       "2404  J'ai fait plusieurs rechargement en passant pa...   \n",
       "5167  J'ai acheté un meuble chez Ikea et j'ai demand...   \n",
       "\n",
       "                        category  \\\n",
       "1512  construction_manufactoring   \n",
       "2404        events_entertainment   \n",
       "5167               home_services   \n",
       "\n",
       "                                                 review  langue  \n",
       "1512  Plaque realise tres vite et tres bien livraiso...  french  \n",
       "2404  Site fiable J'ai fait plusieurs rechargement e...  french  \n",
       "5167  Service impeccable J'ai achete un meuble chez ...  french  "
      ]
     },
     "execution_count": 9,
     "metadata": {},
     "output_type": "execute_result"
    }
   ],
   "source": [
    "train.head(3)"
   ]
  },
  {
   "cell_type": "code",
   "execution_count": 10,
   "metadata": {},
   "outputs": [],
   "source": [
    "# function to encode the reviews with a max_length of 512\n",
    "max_length = 512\n",
    "def encode_reviews(tokenizer, reviews, max_length):\n",
    "    token_ids = np.zeros(shape=(len(reviews), max_length),\n",
    "                         dtype=np.int32)\n",
    "    for i, review in enumerate(reviews):\n",
    "        encoded = tokenizer.encode(review, max_length=max_length)\n",
    "        token_ids[i, 0:len(encoded)] = encoded\n",
    "    attention_mask = (token_ids != 0).astype(np.int32)\n",
    "    return {\"input_ids\": token_ids, \"attention_mask\": attention_mask}"
   ]
  },
  {
   "cell_type": "code",
   "execution_count": 11,
   "metadata": {},
   "outputs": [
    {
     "name": "stderr",
     "output_type": "stream",
     "text": [
      "Truncation was not explicitly activated but `max_length` is provided a specific value, please use `truncation=True` to explicitly truncate examples to max length. Defaulting to 'longest_first' truncation strategy. If you encode pairs of sequences (GLUE-style) with the tokenizer you can select this strategy more precisely by providing a specific strategy to `truncation`.\n"
     ]
    }
   ],
   "source": [
    "# we encode the reviews\n",
    "train_encoded = encode_reviews(tokenizer, train[\"review\"].values, max_length)\n",
    "test_encoded = encode_reviews(tokenizer, test[\"review\"].values, max_length)"
   ]
  },
  {
   "cell_type": "code",
   "execution_count": 12,
   "metadata": {},
   "outputs": [
    {
     "data": {
      "text/plain": [
       "{'input_ids': array([[    5, 21921,   343, ...,     0,     0,     0],\n",
       "        [    5,  1082,  5758, ...,     0,     0,     0],\n",
       "        [    5,  2953, 10931, ...,     0,     0,     0],\n",
       "        ...,\n",
       "        [    5,    74,  4324, ...,     0,     0,     0],\n",
       "        [    5,  9519,    22, ...,     0,     0,     0],\n",
       "        [    5,  1082, 14951, ...,     0,     0,     0]]),\n",
       " 'attention_mask': array([[1, 1, 1, ..., 0, 0, 0],\n",
       "        [1, 1, 1, ..., 0, 0, 0],\n",
       "        [1, 1, 1, ..., 0, 0, 0],\n",
       "        ...,\n",
       "        [1, 1, 1, ..., 0, 0, 0],\n",
       "        [1, 1, 1, ..., 0, 0, 0],\n",
       "        [1, 1, 1, ..., 0, 0, 0]])}"
      ]
     },
     "execution_count": 12,
     "metadata": {},
     "output_type": "execute_result"
    }
   ],
   "source": [
    "train_encoded"
   ]
  },
  {
   "cell_type": "code",
   "execution_count": 13,
   "metadata": {},
   "outputs": [
    {
     "data": {
      "text/plain": [
       "array([5, 5, 5, ..., 5, 5, 5], dtype=int64)"
      ]
     },
     "execution_count": 13,
     "metadata": {},
     "output_type": "execute_result"
    }
   ],
   "source": [
    "# creation of train and test labels\n",
    "train_labels = train[\"review_score\"].values\n",
    "test_labels = test[\"review_score\"].values\n",
    "\n",
    "train_labels"
   ]
  },
  {
   "cell_type": "code",
   "execution_count": 14,
   "metadata": {},
   "outputs": [],
   "source": [
    "import tensorflow as tf"
   ]
  },
  {
   "cell_type": "code",
   "execution_count": 15,
   "metadata": {},
   "outputs": [],
   "source": [
    "from transformers import TFCamembertForSequenceClassification"
   ]
  },
  {
   "cell_type": "code",
   "execution_count": 16,
   "metadata": {},
   "outputs": [
    {
     "name": "stderr",
     "output_type": "stream",
     "text": [
      "model.safetensors: 100%|██████████| 445M/445M [00:03<00:00, 118MB/s] "
     ]
    },
    {
     "name": "stdout",
     "output_type": "stream",
     "text": [
      "WARNING:tensorflow:From c:\\Users\\gdetr\\Documents\\ESILV A5\\Machine Learning for NLP\\NLP_Project\\myenv\\lib\\site-packages\\keras\\src\\backend.py:873: The name tf.get_default_graph is deprecated. Please use tf.compat.v1.get_default_graph instead.\n",
      "\n"
     ]
    },
    {
     "name": "stderr",
     "output_type": "stream",
     "text": [
      "\n",
      "All PyTorch model weights were used when initializing TFCamembertForSequenceClassification.\n",
      "\n",
      "Some weights or buffers of the TF 2.0 model TFCamembertForSequenceClassification were not initialized from the PyTorch model and are newly initialized: ['classifier.dense.weight', 'classifier.dense.bias', 'classifier.out_proj.weight', 'classifier.out_proj.bias']\n",
      "You should probably TRAIN this model on a down-stream task to be able to use it for predictions and inference.\n"
     ]
    }
   ],
   "source": [
    "# now, we train the Camembert model\n",
    "# loading the Camembert model\n",
    "camembert_model = TFCamembertForSequenceClassification.from_pretrained(\"camembert-base\")\n",
    "\n",
    "# defining the optimizer\n",
    "optimizer = tf.keras.optimizers.Adam(learning_rate=5e-6, epsilon=1e-08)\n",
    "\n",
    "# defining the loss function\n",
    "loss = tf.keras.losses.SparseCategoricalCrossentropy(from_logits=True) # 'sparse_categorical_crossentropy' for integers"
   ]
  },
  {
   "cell_type": "code",
   "execution_count": 17,
   "metadata": {},
   "outputs": [
    {
     "name": "stdout",
     "output_type": "stream",
     "text": [
      "[1 2 3 4 5]\n",
      "[1 2 3 4 5]\n"
     ]
    }
   ],
   "source": [
    "#we verify the range of the labels (between 0 and 5) in the train and test datasets\n",
    "print(np.unique(train_labels))\n",
    "print(np.unique(test_labels))"
   ]
  },
  {
   "cell_type": "code",
   "execution_count": 18,
   "metadata": {},
   "outputs": [],
   "source": [
    "from sklearn.preprocessing import normalize"
   ]
  },
  {
   "cell_type": "code",
   "execution_count": 19,
   "metadata": {},
   "outputs": [],
   "source": [
    "# normalization of the values of the array train_labels and test_labels\n",
    "train_labels = normalize(train_labels.reshape(1, -1), norm=\"max\").reshape(-1)\n",
    "test_labels = normalize(test_labels.reshape(1, -1), norm=\"max\").reshape(-1)"
   ]
  },
  {
   "cell_type": "code",
   "execution_count": 20,
   "metadata": {},
   "outputs": [
    {
     "name": "stdout",
     "output_type": "stream",
     "text": [
      "[0.2 0.4 0.6 0.8 1. ]\n",
      "[0.2 0.4 0.6 0.8 1. ]\n"
     ]
    }
   ],
   "source": [
    "print(np.unique(train_labels))\n",
    "print(np.unique(test_labels))"
   ]
  },
  {
   "cell_type": "code",
   "execution_count": 21,
   "metadata": {},
   "outputs": [
    {
     "data": {
      "text/plain": [
       "dtype('float64')"
      ]
     },
     "execution_count": 21,
     "metadata": {},
     "output_type": "execute_result"
    }
   ],
   "source": [
    "train_labels.dtype"
   ]
  },
  {
   "cell_type": "code",
   "execution_count": null,
   "metadata": {},
   "outputs": [],
   "source": [
    "# we compile the model\n",
    "camembert_model.compile(optimizer=optimizer, loss=loss, metrics=[\"accuracy\"]) \n",
    "\n",
    "initial_weights = camembert_model.get_weights()\n",
    "camembert_model.set_weights(initial_weights)"
   ]
  },
  {
   "cell_type": "code",
   "execution_count": null,
   "metadata": {},
   "outputs": [
    {
     "name": "stdout",
     "output_type": "stream",
     "text": [
      "Epoch 1/3\n"
     ]
    }
   ],
   "source": [
    "# we train the model\n",
    "camembert_model.fit(train_encoded, train_labels, epochs=3, batch_size=16)"
   ]
  },
  {
   "cell_type": "code",
   "execution_count": null,
   "metadata": {},
   "outputs": [],
   "source": [
    "# # we evaluate the model\n",
    "# camembert_model.evaluate(test_encoded, test_labels)\n",
    "\n",
    "# # we predict the test labels\n",
    "# test_pred = camembert_model.predict(test_encoded)\n",
    "\n",
    "# test_pred"
   ]
  },
  {
   "cell_type": "markdown",
   "metadata": {},
   "source": [
    "### With RNN-LSTM model"
   ]
  },
  {
   "cell_type": "code",
   "execution_count": 22,
   "metadata": {},
   "outputs": [],
   "source": [
    "### With RNN-LSTM model\n",
    "import keras as keras\n",
    "from tensorflow.keras.preprocessing.text import Tokenizer\n",
    "from tensorflow.keras.preprocessing.sequence import pad_sequences"
   ]
  },
  {
   "cell_type": "code",
   "execution_count": 23,
   "metadata": {},
   "outputs": [
    {
     "data": {
      "text/plain": [
       "[493,\n",
       " 407,\n",
       " 9,\n",
       " 256,\n",
       " 3,\n",
       " 9,\n",
       " 26,\n",
       " 31,\n",
       " 44,\n",
       " 3,\n",
       " 56,\n",
       " 2258,\n",
       " 493,\n",
       " 1243,\n",
       " 10,\n",
       " 1424,\n",
       " 507,\n",
       " 28,\n",
       " 6,\n",
       " 1839,\n",
       " 90,\n",
       " 5,\n",
       " 3581,\n",
       " 8,\n",
       " 18,\n",
       " 8380,\n",
       " 5,\n",
       " 1190,\n",
       " 12,\n",
       " 1467,\n",
       " 8381,\n",
       " 8,\n",
       " 14,\n",
       " 8382,\n",
       " 5,\n",
       " 1701,\n",
       " 47,\n",
       " 150,\n",
       " 732,\n",
       " 6,\n",
       " 31,\n",
       " 927,\n",
       " 6,\n",
       " 493,\n",
       " 16,\n",
       " 364,\n",
       " 12,\n",
       " 9,\n",
       " 56,\n",
       " 2258]"
      ]
     },
     "execution_count": 23,
     "metadata": {},
     "output_type": "execute_result"
    }
   ],
   "source": [
    "# we tokenize the reviews\n",
    "tokenizer = Tokenizer(num_words=10000, oov_token=\"<OOV>\")\n",
    "tokenizer.fit_on_texts(train[\"review\"].values)\n",
    "\n",
    "train_sequences = tokenizer.texts_to_sequences(train[\"review\"].values)\n",
    "test_sequences = tokenizer.texts_to_sequences(test[\"review\"].values)\n",
    "\n",
    "train_sequences[0]"
   ]
  },
  {
   "cell_type": "code",
   "execution_count": 24,
   "metadata": {},
   "outputs": [
    {
     "data": {
      "text/plain": [
       "array([ 493,  407,    9,  256,    3,    9,   26,   31,   44,    3,   56,\n",
       "       2258,  493, 1243,   10, 1424,  507,   28,    6, 1839,   90,    5,\n",
       "       3581,    8,   18, 8380,    5, 1190,   12, 1467, 8381,    8,   14,\n",
       "       8382,    5, 1701,   47,  150,  732,    6,   31,  927,    6,  493,\n",
       "         16,  364,   12,    9,   56, 2258,    0,    0,    0,    0,    0,\n",
       "          0,    0,    0,    0,    0,    0,    0,    0,    0,    0,    0,\n",
       "          0,    0,    0,    0,    0,    0,    0,    0,    0,    0,    0,\n",
       "          0,    0,    0,    0,    0,    0,    0,    0,    0,    0,    0,\n",
       "          0,    0,    0,    0,    0,    0,    0,    0,    0,    0,    0,\n",
       "          0,    0,    0,    0,    0,    0,    0,    0,    0,    0,    0,\n",
       "          0,    0,    0,    0,    0,    0,    0,    0,    0,    0,    0,\n",
       "          0,    0,    0,    0,    0,    0,    0,    0,    0,    0,    0,\n",
       "          0,    0,    0,    0,    0,    0,    0,    0,    0,    0,    0,\n",
       "          0,    0,    0,    0,    0,    0,    0,    0,    0,    0,    0,\n",
       "          0,    0,    0,    0,    0,    0,    0,    0,    0,    0,    0,\n",
       "          0,    0,    0,    0,    0,    0,    0,    0,    0,    0,    0,\n",
       "          0,    0,    0,    0,    0,    0,    0,    0,    0,    0,    0,\n",
       "          0,    0,    0,    0,    0,    0,    0,    0,    0,    0,    0,\n",
       "          0,    0,    0,    0,    0,    0,    0,    0,    0,    0,    0,\n",
       "          0,    0,    0,    0,    0,    0,    0,    0,    0,    0,    0,\n",
       "          0,    0,    0,    0,    0,    0,    0,    0,    0,    0,    0,\n",
       "          0,    0,    0,    0,    0,    0,    0,    0,    0,    0,    0,\n",
       "          0,    0,    0,    0,    0,    0,    0,    0,    0,    0,    0,\n",
       "          0,    0,    0,    0,    0,    0,    0,    0,    0,    0,    0,\n",
       "          0,    0,    0,    0,    0,    0,    0,    0,    0,    0,    0,\n",
       "          0,    0,    0,    0,    0,    0,    0,    0,    0,    0,    0,\n",
       "          0,    0,    0,    0,    0,    0,    0,    0,    0,    0,    0,\n",
       "          0,    0,    0,    0,    0,    0,    0,    0,    0,    0,    0,\n",
       "          0,    0,    0,    0,    0,    0,    0,    0,    0,    0,    0,\n",
       "          0,    0,    0,    0,    0,    0,    0,    0,    0,    0,    0,\n",
       "          0,    0,    0,    0,    0,    0,    0,    0,    0,    0,    0,\n",
       "          0,    0,    0,    0,    0,    0,    0,    0,    0,    0,    0,\n",
       "          0,    0,    0,    0,    0,    0,    0,    0,    0,    0,    0,\n",
       "          0,    0,    0,    0,    0,    0,    0,    0,    0,    0,    0,\n",
       "          0,    0,    0,    0,    0,    0,    0,    0,    0,    0,    0,\n",
       "          0,    0,    0,    0,    0,    0,    0,    0,    0,    0,    0,\n",
       "          0,    0,    0,    0,    0,    0,    0,    0,    0,    0,    0,\n",
       "          0,    0,    0,    0,    0,    0,    0,    0,    0,    0,    0,\n",
       "          0,    0,    0,    0,    0,    0,    0,    0,    0,    0,    0,\n",
       "          0,    0,    0,    0,    0,    0,    0,    0,    0,    0,    0,\n",
       "          0,    0,    0,    0,    0,    0,    0,    0,    0,    0,    0,\n",
       "          0,    0,    0,    0,    0,    0,    0,    0,    0,    0,    0,\n",
       "          0,    0,    0,    0,    0,    0,    0,    0,    0,    0,    0,\n",
       "          0,    0,    0,    0,    0,    0,    0,    0,    0,    0,    0,\n",
       "          0,    0,    0,    0,    0,    0,    0,    0,    0,    0,    0,\n",
       "          0,    0,    0,    0,    0,    0,    0,    0,    0,    0,    0,\n",
       "          0,    0,    0,    0,    0,    0])"
      ]
     },
     "execution_count": 24,
     "metadata": {},
     "output_type": "execute_result"
    }
   ],
   "source": [
    "# we pad the sequences\n",
    "train_padded = pad_sequences(train_sequences, maxlen=max_length, padding=\"post\", truncating=\"post\")\n",
    "test_padded = pad_sequences(test_sequences, maxlen=max_length, padding=\"post\", truncating=\"post\")\n",
    "\n",
    "train_padded[0]"
   ]
  },
  {
   "cell_type": "code",
   "execution_count": 25,
   "metadata": {},
   "outputs": [
    {
     "name": "stdout",
     "output_type": "stream",
     "text": [
      "Model: \"sequential\"\n",
      "_________________________________________________________________\n",
      " Layer (type)                Output Shape              Param #   \n",
      "=================================================================\n",
      " embedding (Embedding)       (None, 512, 128)          1280000   \n",
      "                                                                 \n",
      " bidirectional (Bidirection  (None, 512, 128)          98816     \n",
      " al)                                                             \n",
      "                                                                 \n",
      " bidirectional_1 (Bidirecti  (None, 128)               98816     \n",
      " onal)                                                           \n",
      "                                                                 \n",
      " dense (Dense)               (None, 64)                8256      \n",
      "                                                                 \n",
      " dropout_38 (Dropout)        (None, 64)                0         \n",
      "                                                                 \n",
      " dense_1 (Dense)             (None, 1)                 65        \n",
      "                                                                 \n",
      "=================================================================\n",
      "Total params: 1485953 (5.67 MB)\n",
      "Trainable params: 1485953 (5.67 MB)\n",
      "Non-trainable params: 0 (0.00 Byte)\n",
      "_________________________________________________________________\n"
     ]
    }
   ],
   "source": [
    "# we create the model\n",
    "from tensorflow.keras import Sequential\n",
    "from tensorflow.keras.layers import Embedding, LSTM, Dense, Bidirectional, Dropout\n",
    "\n",
    "model = Sequential()\n",
    "model.add(Embedding(10000, 128, input_length=max_length))\n",
    "model.add(Bidirectional(LSTM(64, return_sequences=True)))\n",
    "model.add(Bidirectional(LSTM(64)))\n",
    "model.add(Dense(64, activation=\"relu\"))\n",
    "model.add(Dropout(0.5))\n",
    "model.add(Dense(1, activation=\"sigmoid\"))\n",
    "\n",
    "model.summary()"
   ]
  },
  {
   "cell_type": "code",
   "execution_count": 26,
   "metadata": {},
   "outputs": [
    {
     "name": "stdout",
     "output_type": "stream",
     "text": [
      "WARNING:tensorflow:From c:\\Users\\gdetr\\Documents\\ESILV A5\\Machine Learning for NLP\\NLP_Project\\myenv\\lib\\site-packages\\keras\\src\\optimizers\\__init__.py:309: The name tf.train.Optimizer is deprecated. Please use tf.compat.v1.train.Optimizer instead.\n",
      "\n"
     ]
    }
   ],
   "source": [
    "# we compile the model\n",
    "model.compile(optimizer=\"adam\", loss=\"binary_crossentropy\", metrics=[\"accuracy\"])"
   ]
  },
  {
   "cell_type": "code",
   "execution_count": 27,
   "metadata": {},
   "outputs": [
    {
     "name": "stdout",
     "output_type": "stream",
     "text": [
      "Epoch 1/3\n",
      "WARNING:tensorflow:From c:\\Users\\gdetr\\Documents\\ESILV A5\\Machine Learning for NLP\\NLP_Project\\myenv\\lib\\site-packages\\keras\\src\\utils\\tf_utils.py:492: The name tf.ragged.RaggedTensorValue is deprecated. Please use tf.compat.v1.ragged.RaggedTensorValue instead.\n",
      "\n",
      "WARNING:tensorflow:From c:\\Users\\gdetr\\Documents\\ESILV A5\\Machine Learning for NLP\\NLP_Project\\myenv\\lib\\site-packages\\keras\\src\\engine\\base_layer_utils.py:384: The name tf.executing_eagerly_outside_functions is deprecated. Please use tf.compat.v1.executing_eagerly_outside_functions instead.\n",
      "\n",
      "387/387 [==============================] - 123s 307ms/step - loss: 0.2582 - accuracy: 0.7252\n",
      "Epoch 2/3\n",
      "387/387 [==============================] - 114s 295ms/step - loss: 0.1666 - accuracy: 0.7297\n",
      "Epoch 3/3\n",
      "387/387 [==============================] - 114s 296ms/step - loss: 0.1564 - accuracy: 0.7299\n"
     ]
    },
    {
     "data": {
      "text/plain": [
       "<keras.src.callbacks.History at 0x1b5f431a080>"
      ]
     },
     "execution_count": 27,
     "metadata": {},
     "output_type": "execute_result"
    }
   ],
   "source": [
    "# we train the model\n",
    "model.fit(train_padded, train_labels, epochs=3, batch_size=16)"
   ]
  },
  {
   "cell_type": "code",
   "execution_count": 28,
   "metadata": {},
   "outputs": [
    {
     "name": "stdout",
     "output_type": "stream",
     "text": [
      "49/49 [==============================] - 6s 91ms/step - loss: 0.1549 - accuracy: 0.7316\n"
     ]
    },
    {
     "data": {
      "text/plain": [
       "[0.15491537749767303, 0.7315653562545776]"
      ]
     },
     "execution_count": 28,
     "metadata": {},
     "output_type": "execute_result"
    }
   ],
   "source": [
    "# we evaluate the model\n",
    "model.evaluate(test_padded, test_labels)"
   ]
  },
  {
   "cell_type": "code",
   "execution_count": 29,
   "metadata": {},
   "outputs": [
    {
     "name": "stdout",
     "output_type": "stream",
     "text": [
      "49/49 [==============================] - 6s 111ms/step\n"
     ]
    },
    {
     "data": {
      "text/plain": [
       "array([[0.82217866],\n",
       "       [0.99999905],\n",
       "       [0.99998844],\n",
       "       ...,\n",
       "       [0.99999905],\n",
       "       [0.99999857],\n",
       "       [0.99999785]], dtype=float32)"
      ]
     },
     "execution_count": 29,
     "metadata": {},
     "output_type": "execute_result"
    }
   ],
   "source": [
    "# we predict the test labels\n",
    "test_pred = model.predict(test_padded)\n",
    "test_pred"
   ]
  },
  {
   "cell_type": "code",
   "execution_count": null,
   "metadata": {},
   "outputs": [],
   "source": [
    "### With RNN-LSTM model\n",
    "from tensorflow.keras.preprocessing.text import Tokenizer\n",
    "from tensorflow.keras.preprocessing.sequence import pad_sequences\n",
    "\n",
    "# we tokenize the reviews\n",
    "tokenizer = Tokenizer(num_words=10000, oov_token=\"<OOV>\")\n",
    "tokenizer.fit_on_texts(train[\"review\"].values)\n",
    "\n",
    "train_sequences = tokenizer.texts_to_sequences(train[\"review\"].values)\n",
    "test_sequences = tokenizer.texts_to_sequences(test[\"review\"].values)\n",
    "\n",
    "train_sequences[0]\n",
    "\n",
    "# we pad the sequences\n",
    "train_padded = pad_sequences(train_sequences, maxlen=max_length, padding=\"post\", truncating=\"post\")\n",
    "test_padded = pad_sequences(test_sequences, maxlen=max_length, padding=\"post\", truncating=\"post\")\n",
    "\n",
    "train_padded[0]\n",
    "\n",
    "# we create the model\n",
    "from tensorflow.keras import Sequential\n",
    "from tensorflow.keras.layers import Embedding, LSTM, Dense, Bidirectional, Dropout\n",
    "\n",
    "model = Sequential()\n",
    "model.add(Embedding(10000, 128, input_length=max_length))\n",
    "model.add(Bidirectional(LSTM(64, return_sequences=True)))\n",
    "model.add(Bidirectional(LSTM(64)))\n",
    "model.add(Dense(64, activation=\"relu\"))\n",
    "model.add(Dropout(0.5))\n",
    "model.add(Dense(1, activation=\"sigmoid\"))\n",
    "\n",
    "model.summary()\n",
    "\n",
    "# we compile the model\n",
    "model.compile(optimizer=\"adam\", loss=\"binary_crossentropy\", metrics=[\"accuracy\"])\n",
    "\n",
    "# we train the model\n",
    "model.fit(train_padded, train_labels, epochs=3, batch_size=16)\n",
    "\n",
    "# we evaluate the model\n",
    "model.evaluate(test_padded, test_labels)\n",
    "\n",
    "# we predict the test labels\n",
    "test_pred = model.predict(test_padded)\n",
    "\n",
    "test_pred\n",
    "\n",
    "# we save the model\n",
    "model.save(\"model.h5\")"
   ]
  }
 ],
 "metadata": {
  "kernelspec": {
   "display_name": "global",
   "language": "python",
   "name": "python3"
  },
  "language_info": {
   "codemirror_mode": {
    "name": "ipython",
    "version": 3
   },
   "file_extension": ".py",
   "mimetype": "text/x-python",
   "name": "python",
   "nbconvert_exporter": "python",
   "pygments_lexer": "ipython3",
   "version": "3.10.11"
  }
 },
 "nbformat": 4,
 "nbformat_minor": 2
}
