{
 "cells": [
  {
   "cell_type": "markdown",
   "metadata": {},
   "source": [
    "## Supervised Learning using BERT for Sentiment Analysis and Notation Prediction"
   ]
  },
  {
   "cell_type": "markdown",
   "metadata": {},
   "source": [
    "### Data Extraction and Preprocessing (we follow the same process as in data_cleaning but we keep a different sample of the data)"
   ]
  },
  {
   "cell_type": "code",
   "execution_count": 6,
   "metadata": {},
   "outputs": [
    {
     "name": "stderr",
     "output_type": "stream",
     "text": [
      "Since the GPL-licensed package `unidecode` is not installed, using Python's `unicodedata` package which yields worse results.\n"
     ]
    }
   ],
   "source": [
    "import pandas as pd\n",
    "import nltk\n",
    "from cleantext import clean\n",
    "import tqdm\n",
    "import numpy as np\n",
    "from deep_translator import GoogleTranslator\n",
    "import torch"
   ]
  },
  {
   "cell_type": "code",
   "execution_count": 7,
   "metadata": {},
   "outputs": [
    {
     "data": {
      "text/plain": [
       "True"
      ]
     },
     "execution_count": 7,
     "metadata": {},
     "output_type": "execute_result"
    }
   ],
   "source": [
    "torch.cuda.is_available()"
   ]
  },
  {
   "cell_type": "code",
   "execution_count": 8,
   "metadata": {},
   "outputs": [
    {
     "data": {
      "text/html": [
       "<div>\n",
       "<style scoped>\n",
       "    .dataframe tbody tr th:only-of-type {\n",
       "        vertical-align: middle;\n",
       "    }\n",
       "\n",
       "    .dataframe tbody tr th {\n",
       "        vertical-align: top;\n",
       "    }\n",
       "\n",
       "    .dataframe thead th {\n",
       "        text-align: right;\n",
       "    }\n",
       "</style>\n",
       "<table border=\"1\" class=\"dataframe\">\n",
       "  <thead>\n",
       "    <tr style=\"text-align: right;\">\n",
       "      <th></th>\n",
       "      <th>category_link</th>\n",
       "      <th>company_link</th>\n",
       "      <th>company_name</th>\n",
       "      <th>score</th>\n",
       "      <th>description</th>\n",
       "      <th>review_page_nb</th>\n",
       "      <th>review_link</th>\n",
       "      <th>review_score</th>\n",
       "      <th>review_title</th>\n",
       "      <th>review_text</th>\n",
       "      <th>category</th>\n",
       "    </tr>\n",
       "  </thead>\n",
       "  <tbody>\n",
       "    <tr>\n",
       "      <th>0</th>\n",
       "      <td>https://fr.trustpilot.com/categories/food_beve...</td>\n",
       "      <td>https://fr.trustpilot.com/review/lefourgon.com</td>\n",
       "      <td>Le Fourgon</td>\n",
       "      <td>4,9</td>\n",
       "      <td>Le Fourgon vous livre vos boissons consignées ...</td>\n",
       "      <td>329</td>\n",
       "      <td>https://fr.trustpilot.com/reviews/65a5388a60d6...</td>\n",
       "      <td>5</td>\n",
       "      <td>Application conviviale pour passer ses…</td>\n",
       "      <td>Application conviviale pour passer ses command...</td>\n",
       "      <td>food_beverages_tobacco</td>\n",
       "    </tr>\n",
       "    <tr>\n",
       "      <th>1</th>\n",
       "      <td>https://fr.trustpilot.com/categories/food_beve...</td>\n",
       "      <td>https://fr.trustpilot.com/review/lefourgon.com</td>\n",
       "      <td>Le Fourgon</td>\n",
       "      <td>4,9</td>\n",
       "      <td>Le Fourgon vous livre vos boissons consignées ...</td>\n",
       "      <td>329</td>\n",
       "      <td>https://fr.trustpilot.com/reviews/65a53245a223...</td>\n",
       "      <td>5</td>\n",
       "      <td>Très facile pour la commande</td>\n",
       "      <td>Très facile pour la commande, très rapide et l...</td>\n",
       "      <td>food_beverages_tobacco</td>\n",
       "    </tr>\n",
       "    <tr>\n",
       "      <th>2</th>\n",
       "      <td>https://fr.trustpilot.com/categories/food_beve...</td>\n",
       "      <td>https://fr.trustpilot.com/review/lefourgon.com</td>\n",
       "      <td>Le Fourgon</td>\n",
       "      <td>4,9</td>\n",
       "      <td>Le Fourgon vous livre vos boissons consignées ...</td>\n",
       "      <td>329</td>\n",
       "      <td>https://fr.trustpilot.com/reviews/659f0e15dd57...</td>\n",
       "      <td>5</td>\n",
       "      <td>Première expérience réussie !</td>\n",
       "      <td>Pour nous, c'était une première.Ravis d'avoir ...</td>\n",
       "      <td>food_beverages_tobacco</td>\n",
       "    </tr>\n",
       "  </tbody>\n",
       "</table>\n",
       "</div>"
      ],
      "text/plain": [
       "                                       category_link  \\\n",
       "0  https://fr.trustpilot.com/categories/food_beve...   \n",
       "1  https://fr.trustpilot.com/categories/food_beve...   \n",
       "2  https://fr.trustpilot.com/categories/food_beve...   \n",
       "\n",
       "                                     company_link company_name score  \\\n",
       "0  https://fr.trustpilot.com/review/lefourgon.com  Le Fourgon    4,9   \n",
       "1  https://fr.trustpilot.com/review/lefourgon.com  Le Fourgon    4,9   \n",
       "2  https://fr.trustpilot.com/review/lefourgon.com  Le Fourgon    4,9   \n",
       "\n",
       "                                         description  review_page_nb  \\\n",
       "0  Le Fourgon vous livre vos boissons consignées ...             329   \n",
       "1  Le Fourgon vous livre vos boissons consignées ...             329   \n",
       "2  Le Fourgon vous livre vos boissons consignées ...             329   \n",
       "\n",
       "                                         review_link  review_score  \\\n",
       "0  https://fr.trustpilot.com/reviews/65a5388a60d6...             5   \n",
       "1  https://fr.trustpilot.com/reviews/65a53245a223...             5   \n",
       "2  https://fr.trustpilot.com/reviews/659f0e15dd57...             5   \n",
       "\n",
       "                              review_title  \\\n",
       "0  Application conviviale pour passer ses…   \n",
       "1             Très facile pour la commande   \n",
       "2            Première expérience réussie !   \n",
       "\n",
       "                                         review_text                category  \n",
       "0  Application conviviale pour passer ses command...  food_beverages_tobacco  \n",
       "1  Très facile pour la commande, très rapide et l...  food_beverages_tobacco  \n",
       "2  Pour nous, c'était une première.Ravis d'avoir ...  food_beverages_tobacco  "
      ]
     },
     "execution_count": 8,
     "metadata": {},
     "output_type": "execute_result"
    }
   ],
   "source": [
    "reviews_df = pd.read_csv(\"data/reviews.csv\", sep=\";\")\n",
    "reviews_df.head(3)"
   ]
  },
  {
   "cell_type": "code",
   "execution_count": 9,
   "metadata": {},
   "outputs": [],
   "source": [
    "reviews_df = reviews_df[[\"company_name\", \"score\", \"review_score\", \"review_title\", \"review_text\", \"category\"]]"
   ]
  },
  {
   "cell_type": "code",
   "execution_count": 10,
   "metadata": {},
   "outputs": [
    {
     "data": {
      "text/html": [
       "<div>\n",
       "<style scoped>\n",
       "    .dataframe tbody tr th:only-of-type {\n",
       "        vertical-align: middle;\n",
       "    }\n",
       "\n",
       "    .dataframe tbody tr th {\n",
       "        vertical-align: top;\n",
       "    }\n",
       "\n",
       "    .dataframe thead th {\n",
       "        text-align: right;\n",
       "    }\n",
       "</style>\n",
       "<table border=\"1\" class=\"dataframe\">\n",
       "  <thead>\n",
       "    <tr style=\"text-align: right;\">\n",
       "      <th></th>\n",
       "      <th>company_name</th>\n",
       "      <th>score</th>\n",
       "      <th>review_score</th>\n",
       "      <th>review_title</th>\n",
       "      <th>review_text</th>\n",
       "      <th>category</th>\n",
       "      <th>review</th>\n",
       "    </tr>\n",
       "  </thead>\n",
       "  <tbody>\n",
       "    <tr>\n",
       "      <th>0</th>\n",
       "      <td>Le Fourgon</td>\n",
       "      <td>4,9</td>\n",
       "      <td>5</td>\n",
       "      <td>Application conviviale pour passer ses…</td>\n",
       "      <td>Application conviviale pour passer ses command...</td>\n",
       "      <td>food_beverages_tobacco</td>\n",
       "      <td>Application conviviale pour passer ses… Applic...</td>\n",
       "    </tr>\n",
       "    <tr>\n",
       "      <th>1</th>\n",
       "      <td>Le Fourgon</td>\n",
       "      <td>4,9</td>\n",
       "      <td>5</td>\n",
       "      <td>Très facile pour la commande</td>\n",
       "      <td>Très facile pour la commande, très rapide et l...</td>\n",
       "      <td>food_beverages_tobacco</td>\n",
       "      <td>Très facile pour la commande Très facile pour ...</td>\n",
       "    </tr>\n",
       "    <tr>\n",
       "      <th>2</th>\n",
       "      <td>Le Fourgon</td>\n",
       "      <td>4,9</td>\n",
       "      <td>5</td>\n",
       "      <td>Première expérience réussie !</td>\n",
       "      <td>Pour nous, c'était une première.Ravis d'avoir ...</td>\n",
       "      <td>food_beverages_tobacco</td>\n",
       "      <td>Première expérience réussie ! Pour nous, c'éta...</td>\n",
       "    </tr>\n",
       "  </tbody>\n",
       "</table>\n",
       "</div>"
      ],
      "text/plain": [
       "  company_name score  review_score                             review_title  \\\n",
       "0  Le Fourgon    4,9             5  Application conviviale pour passer ses…   \n",
       "1  Le Fourgon    4,9             5             Très facile pour la commande   \n",
       "2  Le Fourgon    4,9             5            Première expérience réussie !   \n",
       "\n",
       "                                         review_text                category  \\\n",
       "0  Application conviviale pour passer ses command...  food_beverages_tobacco   \n",
       "1  Très facile pour la commande, très rapide et l...  food_beverages_tobacco   \n",
       "2  Pour nous, c'était une première.Ravis d'avoir ...  food_beverages_tobacco   \n",
       "\n",
       "                                              review  \n",
       "0  Application conviviale pour passer ses… Applic...  \n",
       "1  Très facile pour la commande Très facile pour ...  \n",
       "2  Première expérience réussie ! Pour nous, c'éta...  "
      ]
     },
     "execution_count": 10,
     "metadata": {},
     "output_type": "execute_result"
    }
   ],
   "source": [
    "# we merge the title and the text of the review\n",
    "reviews_df[\"review\"] = reviews_df[\"review_title\"] + \" \" + reviews_df[\"review_text\"]\n",
    "reviews_df.head(3)"
   ]
  },
  {
   "cell_type": "code",
   "execution_count": 11,
   "metadata": {},
   "outputs": [
    {
     "data": {
      "text/plain": [
       "'Application conviviale pour passer ses Application conviviale pour passer ses commandes. Manquent juste les ingredients pas evidents a trouver.Notification par SMS peu de temps avant le creneau choisi pour un creneau precis de 20 minutes.Livreurs agreables.Merci le Fourgon !'"
      ]
     },
     "execution_count": 11,
     "metadata": {},
     "output_type": "execute_result"
    }
   ],
   "source": [
    "clean(reviews_df[\"review\"].values[0], no_emoji=True, no_line_breaks=True, lower=False).replace(\"#\", \"\")"
   ]
  },
  {
   "cell_type": "code",
   "execution_count": 12,
   "metadata": {},
   "outputs": [],
   "source": [
    "reviews_df[\"review\"] = reviews_df[\"review\"].apply(lambda x: clean(x, no_emoji=True, no_line_breaks=True, lower=False).replace(\"#\", \"\"))"
   ]
  },
  {
   "cell_type": "code",
   "execution_count": 13,
   "metadata": {},
   "outputs": [
    {
     "data": {
      "text/plain": [
       "\"Exceptionnel La brulerie Belleville est devenue mon unique fournisseur en cafe, le cafe est vraiment d'une qualite exceptionnelle ! De plus, le service apres-vente est d'une qualite humaine devenue bien rare a present !\""
      ]
     },
     "execution_count": 13,
     "metadata": {},
     "output_type": "execute_result"
    }
   ],
   "source": [
    "reviews_df[\"review\"].values[100]"
   ]
  },
  {
   "cell_type": "markdown",
   "metadata": {},
   "source": [
    "#### We Keep only a sample of the data (the top 100 companies with the most reviews) Because of the traduction cost of the \"review\" column"
   ]
  },
  {
   "cell_type": "code",
   "execution_count": 14,
   "metadata": {},
   "outputs": [
    {
     "data": {
      "text/plain": [
       "company_name\n",
       "Hardloop           236\n",
       "Alltricks          210\n",
       "Ekosport           140\n",
       "vertbaudet         140\n",
       "Mode Tactique      120\n",
       "Weenect            120\n",
       "AAAEP              120\n",
       "Handball Store     111\n",
       "Meyclub            100\n",
       "Bleen              100\n",
       "Name: count, dtype: int64"
      ]
     },
     "execution_count": 14,
     "metadata": {},
     "output_type": "execute_result"
    }
   ],
   "source": [
    "# number of reviews per company\n",
    "reviews_df[\"company_name\"].value_counts()[:10]"
   ]
  },
  {
   "cell_type": "code",
   "execution_count": 15,
   "metadata": {},
   "outputs": [
    {
     "data": {
      "text/plain": [
       "235503"
      ]
     },
     "execution_count": 15,
     "metadata": {},
     "output_type": "execute_result"
    }
   ],
   "source": [
    "# number of reviews in all the dataset\n",
    "len(reviews_df)"
   ]
  },
  {
   "cell_type": "code",
   "execution_count": 16,
   "metadata": {},
   "outputs": [
    {
     "data": {
      "text/plain": [
       "'Hardloop\\xa0'"
      ]
     },
     "execution_count": 16,
     "metadata": {},
     "output_type": "execute_result"
    }
   ],
   "source": [
    "# print the first company name\n",
    "reviews_df[\"company_name\"].value_counts().index[0]"
   ]
  },
  {
   "cell_type": "code",
   "execution_count": 17,
   "metadata": {},
   "outputs": [
    {
     "data": {
      "text/plain": [
       "'Hardloop'"
      ]
     },
     "execution_count": 17,
     "metadata": {},
     "output_type": "execute_result"
    }
   ],
   "source": [
    "reviews_df[\"company_name\"] = reviews_df[\"company_name\"].apply(lambda x: x.replace(\"\\xa0\", \"\") if x != \"\\xa0\" else x)\n",
    "reviews_df[\"company_name\"].value_counts().index[0]"
   ]
  },
  {
   "cell_type": "code",
   "execution_count": 18,
   "metadata": {},
   "outputs": [
    {
     "data": {
      "text/plain": [
       "8972"
      ]
     },
     "execution_count": 18,
     "metadata": {},
     "output_type": "execute_result"
    }
   ],
   "source": [
    "# we keep only the reviews of the first 100 companies in terms of number of reviews\n",
    "revsample_df = reviews_df[reviews_df[\"company_name\"].isin(reviews_df[\"company_name\"].value_counts()[:100].index)]\n",
    "revsample_df[\"company_name\"].value_counts().sum()"
   ]
  },
  {
   "cell_type": "code",
   "execution_count": 19,
   "metadata": {},
   "outputs": [
    {
     "data": {
      "text/plain": [
       "company_name\n",
       "Hardloop          236\n",
       "Alltricks         210\n",
       "vertbaudet        140\n",
       "Ekosport          140\n",
       "Weenect           120\n",
       "Mode Tactique     120\n",
       "AAAEP             120\n",
       "Handball Store    111\n",
       "Plaquedeces.fr    100\n",
       "JACQUEMUS         100\n",
       "Name: count, dtype: int64"
      ]
     },
     "execution_count": 19,
     "metadata": {},
     "output_type": "execute_result"
    }
   ],
   "source": [
    "revsample_df[\"company_name\"].value_counts()[:10]"
   ]
  },
  {
   "cell_type": "code",
   "execution_count": 20,
   "metadata": {},
   "outputs": [],
   "source": [
    "revsample_df = revsample_df.dropna(ignore_index=True)"
   ]
  },
  {
   "cell_type": "code",
   "execution_count": 21,
   "metadata": {},
   "outputs": [
    {
     "data": {
      "text/html": [
       "<div>\n",
       "<style scoped>\n",
       "    .dataframe tbody tr th:only-of-type {\n",
       "        vertical-align: middle;\n",
       "    }\n",
       "\n",
       "    .dataframe tbody tr th {\n",
       "        vertical-align: top;\n",
       "    }\n",
       "\n",
       "    .dataframe thead th {\n",
       "        text-align: right;\n",
       "    }\n",
       "</style>\n",
       "<table border=\"1\" class=\"dataframe\">\n",
       "  <thead>\n",
       "    <tr style=\"text-align: right;\">\n",
       "      <th></th>\n",
       "      <th>company_name</th>\n",
       "      <th>score</th>\n",
       "      <th>review_score</th>\n",
       "      <th>review_title</th>\n",
       "      <th>review_text</th>\n",
       "      <th>category</th>\n",
       "      <th>review</th>\n",
       "    </tr>\n",
       "  </thead>\n",
       "  <tbody>\n",
       "    <tr>\n",
       "      <th>7658</th>\n",
       "      <td>Hardloop</td>\n",
       "      <td>4,5</td>\n",
       "      <td>1</td>\n",
       "      <td>Première commande sur ce site</td>\n",
       "      <td>Première commande sur ce site, et extrêmement déçue !Pantalon de randonnée commandé pour un cadeau de Noël début décembre, il n’est toujours pas réceptionné malgré les dates indiquées sur le site. Diverses relances auprès du service client par e-mail et Instagram afin d’obtenir à minima un retour sur la livraison ou sur un remboursement éventuel pour l’acheter ailleurs : aucun retour.Une honte.À fuir…Merci de supprimer mon adresse e-mail privée à ce commentaire (méthode très douteuse pour que je supprime mon commentaire négatif).</td>\n",
       "      <td>sports</td>\n",
       "      <td>Premiere commande sur ce site Premiere commande sur ce site, et extremement decue !Pantalon de randonnee commande pour un cadeau de Noel debut decembre, il n'est toujours pas receptionne malgre les dates indiquees sur le site. Diverses relances aupres du service client par e-mail et Instagram afin d'obtenir a minima un retour sur la livraison ou sur un remboursement eventuel pour l'acheter ailleurs : aucun retour.Une honte.A fuirMerci de supprimer mon adresse e-mail privee a ce commentaire (methode tres douteuse pour que je supprime mon commentaire negatif).</td>\n",
       "    </tr>\n",
       "    <tr>\n",
       "      <th>7659</th>\n",
       "      <td>Hardloop</td>\n",
       "      <td>4,5</td>\n",
       "      <td>1</td>\n",
       "      <td>Pantalon à 150€ reçu 10 jours après la…</td>\n",
       "      <td>Pantalon à 150€ reçu 10 jours après la commande. Pour cause de taille trop grande, impossible d'obtenir un bon de retour pour retourner l'article, car le site émet systématiquement un message d'erreur quand on en fait la demande. Le numéro de tel du prétendu standard n'est en fait qu'un simple répondeur, où il n'est même pas possible de laisser un message.Finalement, après deux mails envoyés, j'ai fini par recevoir un bon de retour imprimable. Pas de remboursement reçu un mois après l'envoi... mais reçu immédiatement après après que j'aie renvoyé un mailde reclamation. À fuir.</td>\n",
       "      <td>sports</td>\n",
       "      <td>Pantalon a 150 recu 10 jours apres la Pantalon a 150 recu 10 jours apres la commande. Pour cause de taille trop grande, impossible d'obtenir un bon de retour pour retourner l'article, car le site emet systematiquement un message d'erreur quand on en fait la demande. Le numero de tel du pretendu standard n'est en fait qu'un simple repondeur, ou il n'est meme pas possible de laisser un message.Finalement, apres deux mails envoyes, j'ai fini par recevoir un bon de retour imprimable. Pas de remboursement recu un mois apres l'envoi... mais recu immediatement apres apres que j'aie renvoye un mailde reclamation. A fuir.</td>\n",
       "    </tr>\n",
       "    <tr>\n",
       "      <th>7660</th>\n",
       "      <td>Hardloop</td>\n",
       "      <td>4,5</td>\n",
       "      <td>5</td>\n",
       "      <td>Equipe très réactive en cas de problème…</td>\n",
       "      <td>Equipe très réactive en cas de problème sur une commande pour trouver des solutions.</td>\n",
       "      <td>sports</td>\n",
       "      <td>Equipe tres reactive en cas de probleme Equipe tres reactive en cas de probleme sur une commande pour trouver des solutions.</td>\n",
       "    </tr>\n",
       "    <tr>\n",
       "      <th>7661</th>\n",
       "      <td>Hardloop</td>\n",
       "      <td>4,5</td>\n",
       "      <td>4</td>\n",
       "      <td>Très bon service</td>\n",
       "      <td>Beaucoup de choix, produits bien emballés, et livraison rapide.</td>\n",
       "      <td>sports</td>\n",
       "      <td>Tres bon service Beaucoup de choix, produits bien emballes, et livraison rapide.</td>\n",
       "    </tr>\n",
       "    <tr>\n",
       "      <th>7662</th>\n",
       "      <td>Hardloop</td>\n",
       "      <td>4,5</td>\n",
       "      <td>5</td>\n",
       "      <td>Parfait</td>\n",
       "      <td>Parfait,  livraison rapide et service optimal,  je recommande</td>\n",
       "      <td>sports</td>\n",
       "      <td>Parfait Parfait, livraison rapide et service optimal, je recommande</td>\n",
       "    </tr>\n",
       "    <tr>\n",
       "      <th>...</th>\n",
       "      <td>...</td>\n",
       "      <td>...</td>\n",
       "      <td>...</td>\n",
       "      <td>...</td>\n",
       "      <td>...</td>\n",
       "      <td>...</td>\n",
       "      <td>...</td>\n",
       "    </tr>\n",
       "    <tr>\n",
       "      <th>8676</th>\n",
       "      <td>Hardloop</td>\n",
       "      <td>4,0</td>\n",
       "      <td>5</td>\n",
       "      <td>Competitive price, rapid delivery</td>\n",
       "      <td>Competitive price, rapid delivery to Poland</td>\n",
       "      <td>vehicles_transportation</td>\n",
       "      <td>Competitive price, rapid delivery Competitive price, rapid delivery to Poland</td>\n",
       "    </tr>\n",
       "    <tr>\n",
       "      <th>8677</th>\n",
       "      <td>Hardloop</td>\n",
       "      <td>4,0</td>\n",
       "      <td>1</td>\n",
       "      <td>Szczytem chamstwa nie jest dostarczyć…</td>\n",
       "      <td>Szczytem chamstwa nie jest dostarczyć produkt, który zgodnie z prawem zakupiłem, i który jest dostępny w sklepie, tylko dlatego, że właścicielowi nie podoba się kwota, za którą został sprzedany. W systemie była widoczna cena w promocji. I z niej korzystając kupiłem kurtkę Helly Hannsena. Anulowanie mojego kupna i zwrot pieniędzy zasłaniając się rzekomym błędem w wyświetlaniu ceny jest co najmniej nie na miejscu. Jeżeli nawet do takiego doszło właściciel powinien rozwiązywać tą kwestię, wśród swoich pracowników odpowiedzialnych za to, następnie wyciągać konsekwencje i żądać zadośćuczynienia z ich strony. A nie traktować kupującego jakby nie miał żadnych praw i nic nie znaczył. Sprawę moi prawnicy kierują do rzecznika praw konsumenta we Francji. Jeżeli trzeba będzie wejdą na ścieżkę prawną. W życiu nie zostałem w ten sposób potraktowany, zwłaszcza przed wyjazdem na narty, kiedy zamówiona przeze mnie odzież jest mi niezbędna. Zdecydowanie nie polecam tego sklepu.</td>\n",
       "      <td>vehicles_transportation</td>\n",
       "      <td>Szczytem chamstwa nie jest dostarczyc Szczytem chamstwa nie jest dostarczyc produkt, ktory zgodnie z prawem zakupiem, i ktory jest dostepny w sklepie, tylko dlatego, ze wascicielowi nie podoba sie kwota, za ktora zosta sprzedany. W systemie bya widoczna cena w promocji. I z niej korzystajac kupiem kurtke Helly Hannsena. Anulowanie mojego kupna i zwrot pieniedzy zasaniajac sie rzekomym bedem w wyswietlaniu ceny jest co najmniej nie na miejscu. Jezeli nawet do takiego doszo wasciciel powinien rozwiazywac ta kwestie, wsrod swoich pracownikow odpowiedzialnych za to, nastepnie wyciagac konsekwencje i zadac zadoscuczynienia z ich strony. A nie traktowac kupujacego jakby nie mia zadnych praw i nic nie znaczy. Sprawe moi prawnicy kieruja do rzecznika praw konsumenta we Francji. Jezeli trzeba bedzie wejda na sciezke prawna. W zyciu nie zostaem w ten sposob potraktowany, zwaszcza przed wyjazdem na narty, kiedy zamowiona przeze mnie odziez jest mi niezbedna. Zdecydowanie nie polecam tego sklepu.</td>\n",
       "    </tr>\n",
       "    <tr>\n",
       "      <th>8678</th>\n",
       "      <td>Hardloop</td>\n",
       "      <td>4,0</td>\n",
       "      <td>2</td>\n",
       "      <td>Wrong product in my shipment.</td>\n",
       "      <td>Wrong product in my shipment.No contact with information what to do - after my claim - no answer.</td>\n",
       "      <td>vehicles_transportation</td>\n",
       "      <td>Wrong product in my shipment. Wrong product in my shipment.No contact with information what to do - after my claim - no answer.</td>\n",
       "    </tr>\n",
       "    <tr>\n",
       "      <th>8679</th>\n",
       "      <td>Hardloop</td>\n",
       "      <td>4,0</td>\n",
       "      <td>1</td>\n",
       "      <td>Bad customer service</td>\n",
       "      <td>The order itself is ok but I wanted to return the product and no response from customer service :/</td>\n",
       "      <td>vehicles_transportation</td>\n",
       "      <td>Bad customer service The order itself is ok but I wanted to return the product and no response from customer service :/</td>\n",
       "    </tr>\n",
       "    <tr>\n",
       "      <th>8680</th>\n",
       "      <td>Hardloop</td>\n",
       "      <td>4,0</td>\n",
       "      <td>5</td>\n",
       "      <td>Dobra cena</td>\n",
       "      <td>Dobra cena, szybka wysyłka - firma i strona godna zaufania.</td>\n",
       "      <td>vehicles_transportation</td>\n",
       "      <td>Dobra cena Dobra cena, szybka wysyka - firma i strona godna zaufania.</td>\n",
       "    </tr>\n",
       "  </tbody>\n",
       "</table>\n",
       "<p>208 rows × 7 columns</p>\n",
       "</div>"
      ],
      "text/plain": [
       "     company_name score  review_score  \\\n",
       "7658     Hardloop   4,5             1   \n",
       "7659     Hardloop   4,5             1   \n",
       "7660     Hardloop   4,5             5   \n",
       "7661     Hardloop   4,5             4   \n",
       "7662     Hardloop   4,5             5   \n",
       "...           ...   ...           ...   \n",
       "8676     Hardloop   4,0             5   \n",
       "8677     Hardloop   4,0             1   \n",
       "8678     Hardloop   4,0             2   \n",
       "8679     Hardloop   4,0             1   \n",
       "8680     Hardloop   4,0             5   \n",
       "\n",
       "                                  review_title  \\\n",
       "7658             Première commande sur ce site   \n",
       "7659   Pantalon à 150€ reçu 10 jours après la…   \n",
       "7660  Equipe très réactive en cas de problème…   \n",
       "7661                          Très bon service   \n",
       "7662                                   Parfait   \n",
       "...                                        ...   \n",
       "8676         Competitive price, rapid delivery   \n",
       "8677    Szczytem chamstwa nie jest dostarczyć…   \n",
       "8678             Wrong product in my shipment.   \n",
       "8679                      Bad customer service   \n",
       "8680                                Dobra cena   \n",
       "\n",
       "                                                                                                                                                                                                                                                                                                                                                                                                                                                                                                                                                                                                                                                                                                                                                                                                                                                                                                                                                                                                         review_text  \\\n",
       "7658                                                                                                                                                                                                                                                                                                                                                                                                                                                         Première commande sur ce site, et extrêmement déçue !Pantalon de randonnée commandé pour un cadeau de Noël début décembre, il n’est toujours pas réceptionné malgré les dates indiquées sur le site. Diverses relances auprès du service client par e-mail et Instagram afin d’obtenir à minima un retour sur la livraison ou sur un remboursement éventuel pour l’acheter ailleurs : aucun retour.Une honte.À fuir…Merci de supprimer mon adresse e-mail privée à ce commentaire (méthode très douteuse pour que je supprime mon commentaire négatif).   \n",
       "7659                                                                                                                                                                                                                                                                                                                                                                                                         Pantalon à 150€ reçu 10 jours après la commande. Pour cause de taille trop grande, impossible d'obtenir un bon de retour pour retourner l'article, car le site émet systématiquement un message d'erreur quand on en fait la demande. Le numéro de tel du prétendu standard n'est en fait qu'un simple répondeur, où il n'est même pas possible de laisser un message.Finalement, après deux mails envoyés, j'ai fini par recevoir un bon de retour imprimable. Pas de remboursement reçu un mois après l'envoi... mais reçu immédiatement après après que j'aie renvoyé un mailde reclamation. À fuir.   \n",
       "7660                                                                                                                                                                                                                                                                                                                                                                                                                                                                                                                                                                                                                                                                                                                                                                                                                                                                                                                            Equipe très réactive en cas de problème sur une commande pour trouver des solutions.   \n",
       "7661                                                                                                                                                                                                                                                                                                                                                                                                                                                                                                                                                                                                                                                                                                                                                                                                                                                                                                                                                 Beaucoup de choix, produits bien emballés, et livraison rapide.   \n",
       "7662                                                                                                                                                                                                                                                                                                                                                                                                                                                                                                                                                                                                                                                                                                                                                                                                                                                                                                                                                   Parfait,  livraison rapide et service optimal,  je recommande   \n",
       "...                                                                                                                                                                                                                                                                                                                                                                                                                                                                                                                                                                                                                                                                                                                                                                                                                                                                                                                                                                                                              ...   \n",
       "8676                                                                                                                                                                                                                                                                                                                                                                                                                                                                                                                                                                                                                                                                                                                                                                                                                                                                                                                                                                     Competitive price, rapid delivery to Poland   \n",
       "8677  Szczytem chamstwa nie jest dostarczyć produkt, który zgodnie z prawem zakupiłem, i który jest dostępny w sklepie, tylko dlatego, że właścicielowi nie podoba się kwota, za którą został sprzedany. W systemie była widoczna cena w promocji. I z niej korzystając kupiłem kurtkę Helly Hannsena. Anulowanie mojego kupna i zwrot pieniędzy zasłaniając się rzekomym błędem w wyświetlaniu ceny jest co najmniej nie na miejscu. Jeżeli nawet do takiego doszło właściciel powinien rozwiązywać tą kwestię, wśród swoich pracowników odpowiedzialnych za to, następnie wyciągać konsekwencje i żądać zadośćuczynienia z ich strony. A nie traktować kupującego jakby nie miał żadnych praw i nic nie znaczył. Sprawę moi prawnicy kierują do rzecznika praw konsumenta we Francji. Jeżeli trzeba będzie wejdą na ścieżkę prawną. W życiu nie zostałem w ten sposób potraktowany, zwłaszcza przed wyjazdem na narty, kiedy zamówiona przeze mnie odzież jest mi niezbędna. Zdecydowanie nie polecam tego sklepu.   \n",
       "8678                                                                                                                                                                                                                                                                                                                                                                                                                                                                                                                                                                                                                                                                                                                                                                                                                                                                                                               Wrong product in my shipment.No contact with information what to do - after my claim - no answer.   \n",
       "8679                                                                                                                                                                                                                                                                                                                                                                                                                                                                                                                                                                                                                                                                                                                                                                                                                                                                                                              The order itself is ok but I wanted to return the product and no response from customer service :/   \n",
       "8680                                                                                                                                                                                                                                                                                                                                                                                                                                                                                                                                                                                                                                                                                                                                                                                                                                                                                                                                                     Dobra cena, szybka wysyłka - firma i strona godna zaufania.   \n",
       "\n",
       "                     category  \\\n",
       "7658                   sports   \n",
       "7659                   sports   \n",
       "7660                   sports   \n",
       "7661                   sports   \n",
       "7662                   sports   \n",
       "...                       ...   \n",
       "8676  vehicles_transportation   \n",
       "8677  vehicles_transportation   \n",
       "8678  vehicles_transportation   \n",
       "8679  vehicles_transportation   \n",
       "8680  vehicles_transportation   \n",
       "\n",
       "                                                                                                                                                                                                                                                                                                                                                                                                                                                                                                                                                                                                                                                                                                                                                                                                                                                                                                                                                                                                                                       review  \n",
       "7658                                                                                                                                                                                                                                                                                                                                                                                                                                                     Premiere commande sur ce site Premiere commande sur ce site, et extremement decue !Pantalon de randonnee commande pour un cadeau de Noel debut decembre, il n'est toujours pas receptionne malgre les dates indiquees sur le site. Diverses relances aupres du service client par e-mail et Instagram afin d'obtenir a minima un retour sur la livraison ou sur un remboursement eventuel pour l'acheter ailleurs : aucun retour.Une honte.A fuirMerci de supprimer mon adresse e-mail privee a ce commentaire (methode tres douteuse pour que je supprime mon commentaire negatif).  \n",
       "7659                                                                                                                                                                                                                                                                                                                                                                                             Pantalon a 150 recu 10 jours apres la Pantalon a 150 recu 10 jours apres la commande. Pour cause de taille trop grande, impossible d'obtenir un bon de retour pour retourner l'article, car le site emet systematiquement un message d'erreur quand on en fait la demande. Le numero de tel du pretendu standard n'est en fait qu'un simple repondeur, ou il n'est meme pas possible de laisser un message.Finalement, apres deux mails envoyes, j'ai fini par recevoir un bon de retour imprimable. Pas de remboursement recu un mois apres l'envoi... mais recu immediatement apres apres que j'aie renvoye un mailde reclamation. A fuir.  \n",
       "7660                                                                                                                                                                                                                                                                                                                                                                                                                                                                                                                                                                                                                                                                                                                                                                                                                                                                                                             Equipe tres reactive en cas de probleme Equipe tres reactive en cas de probleme sur une commande pour trouver des solutions.  \n",
       "7661                                                                                                                                                                                                                                                                                                                                                                                                                                                                                                                                                                                                                                                                                                                                                                                                                                                                                                                                                         Tres bon service Beaucoup de choix, produits bien emballes, et livraison rapide.  \n",
       "7662                                                                                                                                                                                                                                                                                                                                                                                                                                                                                                                                                                                                                                                                                                                                                                                                                                                                                                                                                                      Parfait Parfait, livraison rapide et service optimal, je recommande  \n",
       "...                                                                                                                                                                                                                                                                                                                                                                                                                                                                                                                                                                                                                                                                                                                                                                                                                                                                                                                                                                                                                                       ...  \n",
       "8676                                                                                                                                                                                                                                                                                                                                                                                                                                                                                                                                                                                                                                                                                                                                                                                                                                                                                                                                                            Competitive price, rapid delivery Competitive price, rapid delivery to Poland  \n",
       "8677  Szczytem chamstwa nie jest dostarczyc Szczytem chamstwa nie jest dostarczyc produkt, ktory zgodnie z prawem zakupiem, i ktory jest dostepny w sklepie, tylko dlatego, ze wascicielowi nie podoba sie kwota, za ktora zosta sprzedany. W systemie bya widoczna cena w promocji. I z niej korzystajac kupiem kurtke Helly Hannsena. Anulowanie mojego kupna i zwrot pieniedzy zasaniajac sie rzekomym bedem w wyswietlaniu ceny jest co najmniej nie na miejscu. Jezeli nawet do takiego doszo wasciciel powinien rozwiazywac ta kwestie, wsrod swoich pracownikow odpowiedzialnych za to, nastepnie wyciagac konsekwencje i zadac zadoscuczynienia z ich strony. A nie traktowac kupujacego jakby nie mia zadnych praw i nic nie znaczy. Sprawe moi prawnicy kieruja do rzecznika praw konsumenta we Francji. Jezeli trzeba bedzie wejda na sciezke prawna. W zyciu nie zostaem w ten sposob potraktowany, zwaszcza przed wyjazdem na narty, kiedy zamowiona przeze mnie odziez jest mi niezbedna. Zdecydowanie nie polecam tego sklepu.  \n",
       "8678                                                                                                                                                                                                                                                                                                                                                                                                                                                                                                                                                                                                                                                                                                                                                                                                                                                                                                          Wrong product in my shipment. Wrong product in my shipment.No contact with information what to do - after my claim - no answer.  \n",
       "8679                                                                                                                                                                                                                                                                                                                                                                                                                                                                                                                                                                                                                                                                                                                                                                                                                                                                                                                  Bad customer service The order itself is ok but I wanted to return the product and no response from customer service :/  \n",
       "8680                                                                                                                                                                                                                                                                                                                                                                                                                                                                                                                                                                                                                                                                                                                                                                                                                                                                                                                                                                    Dobra cena Dobra cena, szybka wysyka - firma i strona godna zaufania.  \n",
       "\n",
       "[208 rows x 7 columns]"
      ]
     },
     "execution_count": 21,
     "metadata": {},
     "output_type": "execute_result"
    }
   ],
   "source": [
    "# we display all the lines of the first company\n",
    "pd.set_option(\"display.max_colwidth\", None)\n",
    "revsample_df[revsample_df[\"company_name\"] == \"Hardloop\"]"
   ]
  },
  {
   "cell_type": "markdown",
   "metadata": {},
   "source": [
    "We keep only the reviews in french"
   ]
  },
  {
   "cell_type": "code",
   "execution_count": 22,
   "metadata": {},
   "outputs": [
    {
     "name": "stdout",
     "output_type": "stream",
     "text": [
      "['arabic', 'azerbaijani', 'basque', 'bengali', 'catalan', 'chinese', 'danish', 'dutch', 'english', 'finnish', 'french', 'german', 'greek', 'hebrew', 'hinglish', 'hungarian', 'indonesian', 'italian', 'kazakh', 'nepali', 'norwegian', 'portuguese', 'romanian', 'russian', 'slovene', 'spanish', 'swedish', 'tajik', 'turkish']\n"
     ]
    }
   ],
   "source": [
    "from nltk import wordpunct_tokenize\n",
    "from nltk.corpus import stopwords\n",
    "print(stopwords.fileids())"
   ]
  },
  {
   "cell_type": "code",
   "execution_count": 23,
   "metadata": {},
   "outputs": [],
   "source": [
    "def detecte_langage(message):\n",
    "    # on definie un dictionnaire vide\n",
    "    # {langue : nbre de stopwords communs \n",
    "    # entre langue et les mots de message}\n",
    "    languages_shared_words = {}\n",
    "    # tokenization en mots\n",
    "    words = wordpunct_tokenize(message)\n",
    "    for language in stopwords.fileids():\n",
    "        # stopwords pour chaque langue\n",
    "        stopwords_liste = stopwords.words(language)\n",
    "        # on retire les doublons\n",
    "        words = set(words)\n",
    "        # les mots communs entre stopwords \n",
    "        # d'une langue et les mots de message\n",
    "        common_elements = words.intersection(stopwords_liste)\n",
    "        # ajout du couple au dictionnaire\n",
    "        languages_shared_words[language] = len(common_elements)\n",
    "    # on retourne la langue avec le max de mots commun\n",
    "    return  max(languages_shared_words, key = languages_shared_words.get)"
   ]
  },
  {
   "cell_type": "code",
   "execution_count": 24,
   "metadata": {},
   "outputs": [],
   "source": [
    "# on applique la fonction pour chaque message sur la colonne review et on ne garde que les lignes ou la langue est en francais\n",
    "revsample_df[\"langue\"] = revsample_df[\"review\"].apply(detecte_langage)"
   ]
  },
  {
   "cell_type": "code",
   "execution_count": 25,
   "metadata": {},
   "outputs": [
    {
     "data": {
      "text/plain": [
       "company_name    7729\n",
       "score           7729\n",
       "review_score    7729\n",
       "review_title    7729\n",
       "review_text     7729\n",
       "category        7729\n",
       "review          7729\n",
       "langue          7729\n",
       "dtype: int64"
      ]
     },
     "execution_count": 25,
     "metadata": {},
     "output_type": "execute_result"
    }
   ],
   "source": [
    "revsample_df[revsample_df[\"langue\"] == \"french\"].count()"
   ]
  },
  {
   "cell_type": "code",
   "execution_count": 26,
   "metadata": {},
   "outputs": [],
   "source": [
    "revsample_df_fr = revsample_df[revsample_df[\"langue\"] == \"french\"]"
   ]
  },
  {
   "cell_type": "markdown",
   "metadata": {},
   "source": [
    "Training CamemBERT : "
   ]
  },
  {
   "cell_type": "code",
   "execution_count": 27,
   "metadata": {},
   "outputs": [],
   "source": [
    "from transformers import CamembertTokenizer"
   ]
  },
  {
   "cell_type": "code",
   "execution_count": 28,
   "metadata": {},
   "outputs": [
    {
     "name": "stderr",
     "output_type": "stream",
     "text": [
      "Special tokens have been added in the vocabulary, make sure the associated word embeddings are fine-tuned or trained.\n"
     ]
    }
   ],
   "source": [
    "# let's use Cambembert model for French\n",
    "tokenizer = CamembertTokenizer.from_pretrained(\"camembert-base\")"
   ]
  },
  {
   "cell_type": "code",
   "execution_count": 29,
   "metadata": {},
   "outputs": [],
   "source": [
    "# # we tokenize the reviews\n",
    "# revsample_df_fr[\"review\"] = revsample_df_fr[\"review\"].apply(lambda x: tokenizer.encode(x, add_special_tokens=True))\n",
    "\n",
    "# revsample_df_fr[\"review\"].values[0]"
   ]
  },
  {
   "cell_type": "code",
   "execution_count": 30,
   "metadata": {},
   "outputs": [
    {
     "data": {
      "text/plain": [
       "((6183, 8), (1546, 8))"
      ]
     },
     "execution_count": 30,
     "metadata": {},
     "output_type": "execute_result"
    }
   ],
   "source": [
    "# we split the dataset into train and test\n",
    "from sklearn.model_selection import train_test_split\n",
    "\n",
    "train, test = train_test_split(revsample_df_fr, test_size=0.2, random_state=42)\n",
    "\n",
    "train.shape, test.shape"
   ]
  },
  {
   "cell_type": "code",
   "execution_count": 31,
   "metadata": {},
   "outputs": [
    {
     "data": {
      "text/html": [
       "<div>\n",
       "<style scoped>\n",
       "    .dataframe tbody tr th:only-of-type {\n",
       "        vertical-align: middle;\n",
       "    }\n",
       "\n",
       "    .dataframe tbody tr th {\n",
       "        vertical-align: top;\n",
       "    }\n",
       "\n",
       "    .dataframe thead th {\n",
       "        text-align: right;\n",
       "    }\n",
       "</style>\n",
       "<table border=\"1\" class=\"dataframe\">\n",
       "  <thead>\n",
       "    <tr style=\"text-align: right;\">\n",
       "      <th></th>\n",
       "      <th>company_name</th>\n",
       "      <th>score</th>\n",
       "      <th>review_score</th>\n",
       "      <th>review_title</th>\n",
       "      <th>review_text</th>\n",
       "      <th>category</th>\n",
       "      <th>review</th>\n",
       "      <th>langue</th>\n",
       "    </tr>\n",
       "  </thead>\n",
       "  <tbody>\n",
       "    <tr>\n",
       "      <th>1638</th>\n",
       "      <td>Plaquedeces.fr</td>\n",
       "      <td>4,6</td>\n",
       "      <td>5</td>\n",
       "      <td>Plaque réalisé très vite et très bien livraison rapide et bonne condition</td>\n",
       "      <td>Plaque commandée un vendredi tard dans la soirée depuis le Québec pour une distribution le mardi en région Parisienne pour des funérailles le mercredi. Nous avons utilisé la livraison express. La plaque est arrivée en très bonne condition</td>\n",
       "      <td>construction_manufactoring</td>\n",
       "      <td>Plaque realise tres vite et tres bien livraison rapide et bonne condition Plaque commandee un vendredi tard dans la soiree depuis le Quebec pour une distribution le mardi en region Parisienne pour des funerailles le mercredi. Nous avons utilise la livraison express. La plaque est arrivee en tres bonne condition</td>\n",
       "      <td>french</td>\n",
       "    </tr>\n",
       "    <tr>\n",
       "      <th>2598</th>\n",
       "      <td>Recharge.fr</td>\n",
       "      <td>4,3</td>\n",
       "      <td>5</td>\n",
       "      <td>Site fiable</td>\n",
       "      <td>J'ai fait plusieurs rechargement en passant par ce site \"Recharge.fr\" et j'en suis totalement content, cela est rapide et payable en plus par PayPal, c'est vraiment tout bénéfique, les chiffres donné pour pouvoir recharger fonctionne très bien franchement rien a redire, parfait</td>\n",
       "      <td>events_entertainment</td>\n",
       "      <td>Site fiable J'ai fait plusieurs rechargement en passant par ce site \"Recharge.fr\" et j'en suis totalement content, cela est rapide et payable en plus par PayPal, c'est vraiment tout benefique, les chiffres donne pour pouvoir recharger fonctionne tres bien franchement rien a redire, parfait</td>\n",
       "      <td>french</td>\n",
       "    </tr>\n",
       "    <tr>\n",
       "      <th>5612</th>\n",
       "      <td>Taskrabbit France</td>\n",
       "      <td>4,5</td>\n",
       "      <td>5</td>\n",
       "      <td>Service impeccable</td>\n",
       "      <td>J'ai acheté un meuble chez Ikea et j'ai demandé un service de montage à domicile. L'entreprise Taskrabbit m'a contactée et le \"taskeur\" qui est venu chez moi a vraiment été très efficace. Le meuble a été monté de manière rapide et efficace. Le montant payé est dérisoire face à la prestation réalisée. Je recommande ++</td>\n",
       "      <td>home_services</td>\n",
       "      <td>Service impeccable J'ai achete un meuble chez Ikea et j'ai demande un service de montage a domicile. L'entreprise Taskrabbit m'a contactee et le \"taskeur\" qui est venu chez moi a vraiment ete tres efficace. Le meuble a ete monte de maniere rapide et efficace. Le montant paye est derisoire face a la prestation realisee. Je recommande ++</td>\n",
       "      <td>french</td>\n",
       "    </tr>\n",
       "  </tbody>\n",
       "</table>\n",
       "</div>"
      ],
      "text/plain": [
       "           company_name score  review_score  \\\n",
       "1638     Plaquedeces.fr   4,6             5   \n",
       "2598        Recharge.fr   4,3             5   \n",
       "5612  Taskrabbit France   4,5             5   \n",
       "\n",
       "                                                                   review_title  \\\n",
       "1638  Plaque réalisé très vite et très bien livraison rapide et bonne condition   \n",
       "2598                                                                Site fiable   \n",
       "5612                                                         Service impeccable   \n",
       "\n",
       "                                                                                                                                                                                                                                                                                                                         review_text  \\\n",
       "1638                                                                                  Plaque commandée un vendredi tard dans la soirée depuis le Québec pour une distribution le mardi en région Parisienne pour des funérailles le mercredi. Nous avons utilisé la livraison express. La plaque est arrivée en très bonne condition   \n",
       "2598                                          J'ai fait plusieurs rechargement en passant par ce site \"Recharge.fr\" et j'en suis totalement content, cela est rapide et payable en plus par PayPal, c'est vraiment tout bénéfique, les chiffres donné pour pouvoir recharger fonctionne très bien franchement rien a redire, parfait   \n",
       "5612  J'ai acheté un meuble chez Ikea et j'ai demandé un service de montage à domicile. L'entreprise Taskrabbit m'a contactée et le \"taskeur\" qui est venu chez moi a vraiment été très efficace. Le meuble a été monté de manière rapide et efficace. Le montant payé est dérisoire face à la prestation réalisée. Je recommande ++   \n",
       "\n",
       "                        category  \\\n",
       "1638  construction_manufactoring   \n",
       "2598        events_entertainment   \n",
       "5612               home_services   \n",
       "\n",
       "                                                                                                                                                                                                                                                                                                                                                 review  \\\n",
       "1638                           Plaque realise tres vite et tres bien livraison rapide et bonne condition Plaque commandee un vendredi tard dans la soiree depuis le Quebec pour une distribution le mardi en region Parisienne pour des funerailles le mercredi. Nous avons utilise la livraison express. La plaque est arrivee en tres bonne condition   \n",
       "2598                                                 Site fiable J'ai fait plusieurs rechargement en passant par ce site \"Recharge.fr\" et j'en suis totalement content, cela est rapide et payable en plus par PayPal, c'est vraiment tout benefique, les chiffres donne pour pouvoir recharger fonctionne tres bien franchement rien a redire, parfait   \n",
       "5612  Service impeccable J'ai achete un meuble chez Ikea et j'ai demande un service de montage a domicile. L'entreprise Taskrabbit m'a contactee et le \"taskeur\" qui est venu chez moi a vraiment ete tres efficace. Le meuble a ete monte de maniere rapide et efficace. Le montant paye est derisoire face a la prestation realisee. Je recommande ++   \n",
       "\n",
       "      langue  \n",
       "1638  french  \n",
       "2598  french  \n",
       "5612  french  "
      ]
     },
     "execution_count": 31,
     "metadata": {},
     "output_type": "execute_result"
    }
   ],
   "source": [
    "train.head(3)"
   ]
  },
  {
   "cell_type": "code",
   "execution_count": 32,
   "metadata": {},
   "outputs": [],
   "source": [
    "# function to encode the reviews with a max_length of 512\n",
    "max_length = 512\n",
    "def encode_reviews(tokenizer, reviews, max_length):\n",
    "    token_ids = np.zeros(shape=(len(reviews), max_length),\n",
    "                         dtype=np.int32)\n",
    "    for i, review in enumerate(reviews):\n",
    "        encoded = tokenizer.encode(review, max_length=max_length)\n",
    "        token_ids[i, 0:len(encoded)] = encoded\n",
    "    attention_mask = (token_ids != 0).astype(np.int32)\n",
    "    return {\"input_ids\": token_ids, \"attention_mask\": attention_mask}"
   ]
  },
  {
   "cell_type": "code",
   "execution_count": 33,
   "metadata": {},
   "outputs": [
    {
     "name": "stderr",
     "output_type": "stream",
     "text": [
      "Truncation was not explicitly activated but `max_length` is provided a specific value, please use `truncation=True` to explicitly truncate examples to max length. Defaulting to 'longest_first' truncation strategy. If you encode pairs of sequences (GLUE-style) with the tokenizer you can select this strategy more precisely by providing a specific strategy to `truncation`.\n"
     ]
    }
   ],
   "source": [
    "# we encode the reviews\n",
    "train_encoded = encode_reviews(tokenizer, train[\"review\"].values, max_length)\n",
    "test_encoded = encode_reviews(tokenizer, test[\"review\"].values, max_length)"
   ]
  },
  {
   "cell_type": "code",
   "execution_count": 34,
   "metadata": {},
   "outputs": [
    {
     "data": {
      "text/plain": [
       "{'input_ids': array([[    5, 21921,   343, ...,     0,     0,     0],\n",
       "        [    5,  1082,  5758, ...,     0,     0,     0],\n",
       "        [    5,  2953, 10931, ...,     0,     0,     0],\n",
       "        ...,\n",
       "        [    5,    74,  4324, ...,     0,     0,     0],\n",
       "        [    5,  9519,    22, ...,     0,     0,     0],\n",
       "        [    5,  1082, 14951, ...,     0,     0,     0]]),\n",
       " 'attention_mask': array([[1, 1, 1, ..., 0, 0, 0],\n",
       "        [1, 1, 1, ..., 0, 0, 0],\n",
       "        [1, 1, 1, ..., 0, 0, 0],\n",
       "        ...,\n",
       "        [1, 1, 1, ..., 0, 0, 0],\n",
       "        [1, 1, 1, ..., 0, 0, 0],\n",
       "        [1, 1, 1, ..., 0, 0, 0]])}"
      ]
     },
     "execution_count": 34,
     "metadata": {},
     "output_type": "execute_result"
    }
   ],
   "source": [
    "train_encoded"
   ]
  },
  {
   "cell_type": "code",
   "execution_count": 41,
   "metadata": {},
   "outputs": [
    {
     "data": {
      "text/plain": [
       "array([5, 5, 5, ..., 5, 5, 5], dtype=int64)"
      ]
     },
     "execution_count": 41,
     "metadata": {},
     "output_type": "execute_result"
    }
   ],
   "source": [
    "# creation of train and test labels\n",
    "train_labels = train[\"review_score\"].values\n",
    "test_labels = test[\"review_score\"].values\n",
    "\n",
    "train_labels"
   ]
  },
  {
   "cell_type": "code",
   "execution_count": 42,
   "metadata": {},
   "outputs": [],
   "source": [
    "import tensorflow as tf"
   ]
  },
  {
   "cell_type": "code",
   "execution_count": 43,
   "metadata": {},
   "outputs": [],
   "source": [
    "from transformers import TFCamembertForSequenceClassification"
   ]
  },
  {
   "cell_type": "code",
   "execution_count": 44,
   "metadata": {},
   "outputs": [
    {
     "name": "stderr",
     "output_type": "stream",
     "text": [
      "All PyTorch model weights were used when initializing TFCamembertForSequenceClassification.\n",
      "\n",
      "Some weights or buffers of the TF 2.0 model TFCamembertForSequenceClassification were not initialized from the PyTorch model and are newly initialized: ['classifier.dense.weight', 'classifier.dense.bias', 'classifier.out_proj.weight', 'classifier.out_proj.bias']\n",
      "You should probably TRAIN this model on a down-stream task to be able to use it for predictions and inference.\n"
     ]
    }
   ],
   "source": [
    "# now, we train the Camembert model\n",
    "# loading the Camembert model\n",
    "camembert_model = TFCamembertForSequenceClassification.from_pretrained(\"camembert-base\")\n",
    "\n",
    "# defining the optimizer\n",
    "optimizer = tf.keras.optimizers.Adam(learning_rate=3e-5)\n",
    "\n",
    "# defining the loss function\n",
    "loss = tf.keras.losses.SparseCategoricalCrossentropy(from_logits=True)"
   ]
  },
  {
   "cell_type": "code",
   "execution_count": 45,
   "metadata": {},
   "outputs": [
    {
     "name": "stdout",
     "output_type": "stream",
     "text": [
      "Epoch 1/3\n"
     ]
    },
    {
     "ename": "InvalidArgumentError",
     "evalue": "Graph execution error:\n\nDetected at node sparse_categorical_crossentropy/SparseSoftmaxCrossEntropyWithLogits/SparseSoftmaxCrossEntropyWithLogits defined at (most recent call last):\n  File \"C:\\Program Files\\WindowsApps\\PythonSoftwareFoundation.Python.3.10_3.10.3056.0_x64__qbz5n2kfra8p0\\lib\\runpy.py\", line 196, in _run_module_as_main\n\n  File \"C:\\Program Files\\WindowsApps\\PythonSoftwareFoundation.Python.3.10_3.10.3056.0_x64__qbz5n2kfra8p0\\lib\\runpy.py\", line 86, in _run_code\n\n  File \"c:\\Users\\gdetr\\Documents\\ESILV A5\\Machine Learning for NLP\\NLP_Project\\myenv\\lib\\site-packages\\ipykernel_launcher.py\", line 17, in <module>\n\n  File \"c:\\Users\\gdetr\\Documents\\ESILV A5\\Machine Learning for NLP\\NLP_Project\\myenv\\lib\\site-packages\\traitlets\\config\\application.py\", line 1075, in launch_instance\n\n  File \"c:\\Users\\gdetr\\Documents\\ESILV A5\\Machine Learning for NLP\\NLP_Project\\myenv\\lib\\site-packages\\ipykernel\\kernelapp.py\", line 739, in start\n\n  File \"c:\\Users\\gdetr\\Documents\\ESILV A5\\Machine Learning for NLP\\NLP_Project\\myenv\\lib\\site-packages\\tornado\\platform\\asyncio.py\", line 205, in start\n\n  File \"C:\\Program Files\\WindowsApps\\PythonSoftwareFoundation.Python.3.10_3.10.3056.0_x64__qbz5n2kfra8p0\\lib\\asyncio\\base_events.py\", line 603, in run_forever\n\n  File \"C:\\Program Files\\WindowsApps\\PythonSoftwareFoundation.Python.3.10_3.10.3056.0_x64__qbz5n2kfra8p0\\lib\\asyncio\\base_events.py\", line 1909, in _run_once\n\n  File \"C:\\Program Files\\WindowsApps\\PythonSoftwareFoundation.Python.3.10_3.10.3056.0_x64__qbz5n2kfra8p0\\lib\\asyncio\\events.py\", line 80, in _run\n\n  File \"c:\\Users\\gdetr\\Documents\\ESILV A5\\Machine Learning for NLP\\NLP_Project\\myenv\\lib\\site-packages\\ipykernel\\kernelbase.py\", line 542, in dispatch_queue\n\n  File \"c:\\Users\\gdetr\\Documents\\ESILV A5\\Machine Learning for NLP\\NLP_Project\\myenv\\lib\\site-packages\\ipykernel\\kernelbase.py\", line 531, in process_one\n\n  File \"c:\\Users\\gdetr\\Documents\\ESILV A5\\Machine Learning for NLP\\NLP_Project\\myenv\\lib\\site-packages\\ipykernel\\kernelbase.py\", line 437, in dispatch_shell\n\n  File \"c:\\Users\\gdetr\\Documents\\ESILV A5\\Machine Learning for NLP\\NLP_Project\\myenv\\lib\\site-packages\\ipykernel\\ipkernel.py\", line 359, in execute_request\n\n  File \"c:\\Users\\gdetr\\Documents\\ESILV A5\\Machine Learning for NLP\\NLP_Project\\myenv\\lib\\site-packages\\ipykernel\\kernelbase.py\", line 775, in execute_request\n\n  File \"c:\\Users\\gdetr\\Documents\\ESILV A5\\Machine Learning for NLP\\NLP_Project\\myenv\\lib\\site-packages\\ipykernel\\ipkernel.py\", line 446, in do_execute\n\n  File \"c:\\Users\\gdetr\\Documents\\ESILV A5\\Machine Learning for NLP\\NLP_Project\\myenv\\lib\\site-packages\\ipykernel\\zmqshell.py\", line 549, in run_cell\n\n  File \"c:\\Users\\gdetr\\Documents\\ESILV A5\\Machine Learning for NLP\\NLP_Project\\myenv\\lib\\site-packages\\IPython\\core\\interactiveshell.py\", line 3051, in run_cell\n\n  File \"c:\\Users\\gdetr\\Documents\\ESILV A5\\Machine Learning for NLP\\NLP_Project\\myenv\\lib\\site-packages\\IPython\\core\\interactiveshell.py\", line 3106, in _run_cell\n\n  File \"c:\\Users\\gdetr\\Documents\\ESILV A5\\Machine Learning for NLP\\NLP_Project\\myenv\\lib\\site-packages\\IPython\\core\\async_helpers.py\", line 129, in _pseudo_sync_runner\n\n  File \"c:\\Users\\gdetr\\Documents\\ESILV A5\\Machine Learning for NLP\\NLP_Project\\myenv\\lib\\site-packages\\IPython\\core\\interactiveshell.py\", line 3311, in run_cell_async\n\n  File \"c:\\Users\\gdetr\\Documents\\ESILV A5\\Machine Learning for NLP\\NLP_Project\\myenv\\lib\\site-packages\\IPython\\core\\interactiveshell.py\", line 3493, in run_ast_nodes\n\n  File \"c:\\Users\\gdetr\\Documents\\ESILV A5\\Machine Learning for NLP\\NLP_Project\\myenv\\lib\\site-packages\\IPython\\core\\interactiveshell.py\", line 3553, in run_code\n\n  File \"C:\\Users\\gdetr\\AppData\\Local\\Temp\\ipykernel_23868\\1043666964.py\", line 5, in <module>\n\n  File \"c:\\Users\\gdetr\\Documents\\ESILV A5\\Machine Learning for NLP\\NLP_Project\\myenv\\lib\\site-packages\\keras\\src\\utils\\traceback_utils.py\", line 65, in error_handler\n\n  File \"c:\\Users\\gdetr\\Documents\\ESILV A5\\Machine Learning for NLP\\NLP_Project\\myenv\\lib\\site-packages\\keras\\src\\engine\\training.py\", line 1807, in fit\n\n  File \"c:\\Users\\gdetr\\Documents\\ESILV A5\\Machine Learning for NLP\\NLP_Project\\myenv\\lib\\site-packages\\keras\\src\\engine\\training.py\", line 1401, in train_function\n\n  File \"c:\\Users\\gdetr\\Documents\\ESILV A5\\Machine Learning for NLP\\NLP_Project\\myenv\\lib\\site-packages\\keras\\src\\engine\\training.py\", line 1384, in step_function\n\n  File \"c:\\Users\\gdetr\\Documents\\ESILV A5\\Machine Learning for NLP\\NLP_Project\\myenv\\lib\\site-packages\\keras\\src\\engine\\training.py\", line 1373, in run_step\n\n  File \"c:\\Users\\gdetr\\Documents\\ESILV A5\\Machine Learning for NLP\\NLP_Project\\myenv\\lib\\site-packages\\transformers\\modeling_tf_utils.py\", line 1675, in train_step\n\n  File \"c:\\Users\\gdetr\\Documents\\ESILV A5\\Machine Learning for NLP\\NLP_Project\\myenv\\lib\\site-packages\\keras\\src\\engine\\compile_utils.py\", line 277, in __call__\n\n  File \"c:\\Users\\gdetr\\Documents\\ESILV A5\\Machine Learning for NLP\\NLP_Project\\myenv\\lib\\site-packages\\keras\\src\\losses.py\", line 143, in __call__\n\n  File \"c:\\Users\\gdetr\\Documents\\ESILV A5\\Machine Learning for NLP\\NLP_Project\\myenv\\lib\\site-packages\\keras\\src\\losses.py\", line 270, in call\n\n  File \"c:\\Users\\gdetr\\Documents\\ESILV A5\\Machine Learning for NLP\\NLP_Project\\myenv\\lib\\site-packages\\keras\\src\\losses.py\", line 2454, in sparse_categorical_crossentropy\n\n  File \"c:\\Users\\gdetr\\Documents\\ESILV A5\\Machine Learning for NLP\\NLP_Project\\myenv\\lib\\site-packages\\keras\\src\\backend.py\", line 5775, in sparse_categorical_crossentropy\n\nReceived a label value of 5 which is outside the valid range of [0, 2).  Label values: 5 5 5 5 1 4 5 5 5 5 5 5 3 5 5 5\n\t [[{{node sparse_categorical_crossentropy/SparseSoftmaxCrossEntropyWithLogits/SparseSoftmaxCrossEntropyWithLogits}}]] [Op:__inference_train_function_76528]",
     "output_type": "error",
     "traceback": [
      "\u001b[1;31m---------------------------------------------------------------------------\u001b[0m",
      "\u001b[1;31mInvalidArgumentError\u001b[0m                      Traceback (most recent call last)",
      "Cell \u001b[1;32mIn[45], line 5\u001b[0m\n\u001b[0;32m      2\u001b[0m camembert_model\u001b[38;5;241m.\u001b[39mcompile(optimizer\u001b[38;5;241m=\u001b[39moptimizer, loss\u001b[38;5;241m=\u001b[39mloss, metrics\u001b[38;5;241m=\u001b[39m[\u001b[38;5;124m\"\u001b[39m\u001b[38;5;124maccuracy\u001b[39m\u001b[38;5;124m\"\u001b[39m])\n\u001b[0;32m      4\u001b[0m \u001b[38;5;66;03m# we train the model\u001b[39;00m\n\u001b[1;32m----> 5\u001b[0m \u001b[43mcamembert_model\u001b[49m\u001b[38;5;241;43m.\u001b[39;49m\u001b[43mfit\u001b[49m\u001b[43m(\u001b[49m\u001b[43mtrain_encoded\u001b[49m\u001b[43m,\u001b[49m\u001b[43m \u001b[49m\u001b[43mtrain_labels\u001b[49m\u001b[43m,\u001b[49m\u001b[43m \u001b[49m\u001b[43mepochs\u001b[49m\u001b[38;5;241;43m=\u001b[39;49m\u001b[38;5;241;43m3\u001b[39;49m\u001b[43m,\u001b[49m\u001b[43m \u001b[49m\u001b[43mbatch_size\u001b[49m\u001b[38;5;241;43m=\u001b[39;49m\u001b[38;5;241;43m16\u001b[39;49m\u001b[43m)\u001b[49m\n",
      "File \u001b[1;32mc:\\Users\\gdetr\\Documents\\ESILV A5\\Machine Learning for NLP\\NLP_Project\\myenv\\lib\\site-packages\\keras\\src\\utils\\traceback_utils.py:70\u001b[0m, in \u001b[0;36mfilter_traceback.<locals>.error_handler\u001b[1;34m(*args, **kwargs)\u001b[0m\n\u001b[0;32m     67\u001b[0m     filtered_tb \u001b[38;5;241m=\u001b[39m _process_traceback_frames(e\u001b[38;5;241m.\u001b[39m__traceback__)\n\u001b[0;32m     68\u001b[0m     \u001b[38;5;66;03m# To get the full stack trace, call:\u001b[39;00m\n\u001b[0;32m     69\u001b[0m     \u001b[38;5;66;03m# `tf.debugging.disable_traceback_filtering()`\u001b[39;00m\n\u001b[1;32m---> 70\u001b[0m     \u001b[38;5;28;01mraise\u001b[39;00m e\u001b[38;5;241m.\u001b[39mwith_traceback(filtered_tb) \u001b[38;5;28;01mfrom\u001b[39;00m \u001b[38;5;28;01mNone\u001b[39;00m\n\u001b[0;32m     71\u001b[0m \u001b[38;5;28;01mfinally\u001b[39;00m:\n\u001b[0;32m     72\u001b[0m     \u001b[38;5;28;01mdel\u001b[39;00m filtered_tb\n",
      "File \u001b[1;32mc:\\Users\\gdetr\\Documents\\ESILV A5\\Machine Learning for NLP\\NLP_Project\\myenv\\lib\\site-packages\\tensorflow\\python\\eager\\execute.py:53\u001b[0m, in \u001b[0;36mquick_execute\u001b[1;34m(op_name, num_outputs, inputs, attrs, ctx, name)\u001b[0m\n\u001b[0;32m     51\u001b[0m \u001b[38;5;28;01mtry\u001b[39;00m:\n\u001b[0;32m     52\u001b[0m   ctx\u001b[38;5;241m.\u001b[39mensure_initialized()\n\u001b[1;32m---> 53\u001b[0m   tensors \u001b[38;5;241m=\u001b[39m pywrap_tfe\u001b[38;5;241m.\u001b[39mTFE_Py_Execute(ctx\u001b[38;5;241m.\u001b[39m_handle, device_name, op_name,\n\u001b[0;32m     54\u001b[0m                                       inputs, attrs, num_outputs)\n\u001b[0;32m     55\u001b[0m \u001b[38;5;28;01mexcept\u001b[39;00m core\u001b[38;5;241m.\u001b[39m_NotOkStatusException \u001b[38;5;28;01mas\u001b[39;00m e:\n\u001b[0;32m     56\u001b[0m   \u001b[38;5;28;01mif\u001b[39;00m name \u001b[38;5;129;01mis\u001b[39;00m \u001b[38;5;129;01mnot\u001b[39;00m \u001b[38;5;28;01mNone\u001b[39;00m:\n",
      "\u001b[1;31mInvalidArgumentError\u001b[0m: Graph execution error:\n\nDetected at node sparse_categorical_crossentropy/SparseSoftmaxCrossEntropyWithLogits/SparseSoftmaxCrossEntropyWithLogits defined at (most recent call last):\n  File \"C:\\Program Files\\WindowsApps\\PythonSoftwareFoundation.Python.3.10_3.10.3056.0_x64__qbz5n2kfra8p0\\lib\\runpy.py\", line 196, in _run_module_as_main\n\n  File \"C:\\Program Files\\WindowsApps\\PythonSoftwareFoundation.Python.3.10_3.10.3056.0_x64__qbz5n2kfra8p0\\lib\\runpy.py\", line 86, in _run_code\n\n  File \"c:\\Users\\gdetr\\Documents\\ESILV A5\\Machine Learning for NLP\\NLP_Project\\myenv\\lib\\site-packages\\ipykernel_launcher.py\", line 17, in <module>\n\n  File \"c:\\Users\\gdetr\\Documents\\ESILV A5\\Machine Learning for NLP\\NLP_Project\\myenv\\lib\\site-packages\\traitlets\\config\\application.py\", line 1075, in launch_instance\n\n  File \"c:\\Users\\gdetr\\Documents\\ESILV A5\\Machine Learning for NLP\\NLP_Project\\myenv\\lib\\site-packages\\ipykernel\\kernelapp.py\", line 739, in start\n\n  File \"c:\\Users\\gdetr\\Documents\\ESILV A5\\Machine Learning for NLP\\NLP_Project\\myenv\\lib\\site-packages\\tornado\\platform\\asyncio.py\", line 205, in start\n\n  File \"C:\\Program Files\\WindowsApps\\PythonSoftwareFoundation.Python.3.10_3.10.3056.0_x64__qbz5n2kfra8p0\\lib\\asyncio\\base_events.py\", line 603, in run_forever\n\n  File \"C:\\Program Files\\WindowsApps\\PythonSoftwareFoundation.Python.3.10_3.10.3056.0_x64__qbz5n2kfra8p0\\lib\\asyncio\\base_events.py\", line 1909, in _run_once\n\n  File \"C:\\Program Files\\WindowsApps\\PythonSoftwareFoundation.Python.3.10_3.10.3056.0_x64__qbz5n2kfra8p0\\lib\\asyncio\\events.py\", line 80, in _run\n\n  File \"c:\\Users\\gdetr\\Documents\\ESILV A5\\Machine Learning for NLP\\NLP_Project\\myenv\\lib\\site-packages\\ipykernel\\kernelbase.py\", line 542, in dispatch_queue\n\n  File \"c:\\Users\\gdetr\\Documents\\ESILV A5\\Machine Learning for NLP\\NLP_Project\\myenv\\lib\\site-packages\\ipykernel\\kernelbase.py\", line 531, in process_one\n\n  File \"c:\\Users\\gdetr\\Documents\\ESILV A5\\Machine Learning for NLP\\NLP_Project\\myenv\\lib\\site-packages\\ipykernel\\kernelbase.py\", line 437, in dispatch_shell\n\n  File \"c:\\Users\\gdetr\\Documents\\ESILV A5\\Machine Learning for NLP\\NLP_Project\\myenv\\lib\\site-packages\\ipykernel\\ipkernel.py\", line 359, in execute_request\n\n  File \"c:\\Users\\gdetr\\Documents\\ESILV A5\\Machine Learning for NLP\\NLP_Project\\myenv\\lib\\site-packages\\ipykernel\\kernelbase.py\", line 775, in execute_request\n\n  File \"c:\\Users\\gdetr\\Documents\\ESILV A5\\Machine Learning for NLP\\NLP_Project\\myenv\\lib\\site-packages\\ipykernel\\ipkernel.py\", line 446, in do_execute\n\n  File \"c:\\Users\\gdetr\\Documents\\ESILV A5\\Machine Learning for NLP\\NLP_Project\\myenv\\lib\\site-packages\\ipykernel\\zmqshell.py\", line 549, in run_cell\n\n  File \"c:\\Users\\gdetr\\Documents\\ESILV A5\\Machine Learning for NLP\\NLP_Project\\myenv\\lib\\site-packages\\IPython\\core\\interactiveshell.py\", line 3051, in run_cell\n\n  File \"c:\\Users\\gdetr\\Documents\\ESILV A5\\Machine Learning for NLP\\NLP_Project\\myenv\\lib\\site-packages\\IPython\\core\\interactiveshell.py\", line 3106, in _run_cell\n\n  File \"c:\\Users\\gdetr\\Documents\\ESILV A5\\Machine Learning for NLP\\NLP_Project\\myenv\\lib\\site-packages\\IPython\\core\\async_helpers.py\", line 129, in _pseudo_sync_runner\n\n  File \"c:\\Users\\gdetr\\Documents\\ESILV A5\\Machine Learning for NLP\\NLP_Project\\myenv\\lib\\site-packages\\IPython\\core\\interactiveshell.py\", line 3311, in run_cell_async\n\n  File \"c:\\Users\\gdetr\\Documents\\ESILV A5\\Machine Learning for NLP\\NLP_Project\\myenv\\lib\\site-packages\\IPython\\core\\interactiveshell.py\", line 3493, in run_ast_nodes\n\n  File \"c:\\Users\\gdetr\\Documents\\ESILV A5\\Machine Learning for NLP\\NLP_Project\\myenv\\lib\\site-packages\\IPython\\core\\interactiveshell.py\", line 3553, in run_code\n\n  File \"C:\\Users\\gdetr\\AppData\\Local\\Temp\\ipykernel_23868\\1043666964.py\", line 5, in <module>\n\n  File \"c:\\Users\\gdetr\\Documents\\ESILV A5\\Machine Learning for NLP\\NLP_Project\\myenv\\lib\\site-packages\\keras\\src\\utils\\traceback_utils.py\", line 65, in error_handler\n\n  File \"c:\\Users\\gdetr\\Documents\\ESILV A5\\Machine Learning for NLP\\NLP_Project\\myenv\\lib\\site-packages\\keras\\src\\engine\\training.py\", line 1807, in fit\n\n  File \"c:\\Users\\gdetr\\Documents\\ESILV A5\\Machine Learning for NLP\\NLP_Project\\myenv\\lib\\site-packages\\keras\\src\\engine\\training.py\", line 1401, in train_function\n\n  File \"c:\\Users\\gdetr\\Documents\\ESILV A5\\Machine Learning for NLP\\NLP_Project\\myenv\\lib\\site-packages\\keras\\src\\engine\\training.py\", line 1384, in step_function\n\n  File \"c:\\Users\\gdetr\\Documents\\ESILV A5\\Machine Learning for NLP\\NLP_Project\\myenv\\lib\\site-packages\\keras\\src\\engine\\training.py\", line 1373, in run_step\n\n  File \"c:\\Users\\gdetr\\Documents\\ESILV A5\\Machine Learning for NLP\\NLP_Project\\myenv\\lib\\site-packages\\transformers\\modeling_tf_utils.py\", line 1675, in train_step\n\n  File \"c:\\Users\\gdetr\\Documents\\ESILV A5\\Machine Learning for NLP\\NLP_Project\\myenv\\lib\\site-packages\\keras\\src\\engine\\compile_utils.py\", line 277, in __call__\n\n  File \"c:\\Users\\gdetr\\Documents\\ESILV A5\\Machine Learning for NLP\\NLP_Project\\myenv\\lib\\site-packages\\keras\\src\\losses.py\", line 143, in __call__\n\n  File \"c:\\Users\\gdetr\\Documents\\ESILV A5\\Machine Learning for NLP\\NLP_Project\\myenv\\lib\\site-packages\\keras\\src\\losses.py\", line 270, in call\n\n  File \"c:\\Users\\gdetr\\Documents\\ESILV A5\\Machine Learning for NLP\\NLP_Project\\myenv\\lib\\site-packages\\keras\\src\\losses.py\", line 2454, in sparse_categorical_crossentropy\n\n  File \"c:\\Users\\gdetr\\Documents\\ESILV A5\\Machine Learning for NLP\\NLP_Project\\myenv\\lib\\site-packages\\keras\\src\\backend.py\", line 5775, in sparse_categorical_crossentropy\n\nReceived a label value of 5 which is outside the valid range of [0, 2).  Label values: 5 5 5 5 1 4 5 5 5 5 5 5 3 5 5 5\n\t [[{{node sparse_categorical_crossentropy/SparseSoftmaxCrossEntropyWithLogits/SparseSoftmaxCrossEntropyWithLogits}}]] [Op:__inference_train_function_76528]"
     ]
    }
   ],
   "source": [
    "# we compile the model\n",
    "camembert_model.compile(optimizer=optimizer, loss=loss, metrics=[\"accuracy\"])\n",
    "\n",
    "# we train the model\n",
    "camembert_model.fit(train_encoded, train_labels, epochs=3, batch_size=16)"
   ]
  },
  {
   "cell_type": "code",
   "execution_count": null,
   "metadata": {},
   "outputs": [],
   "source": [
    "# we evaluate the model\n",
    "camembert_model.evaluate(test_encoded, test_labels)\n",
    "\n",
    "# we predict the test labels\n",
    "test_pred = camembert_model.predict(test_encoded)\n",
    "\n",
    "test_pred"
   ]
  }
 ],
 "metadata": {
  "kernelspec": {
   "display_name": "global",
   "language": "python",
   "name": "python3"
  },
  "language_info": {
   "codemirror_mode": {
    "name": "ipython",
    "version": 3
   },
   "file_extension": ".py",
   "mimetype": "text/x-python",
   "name": "python",
   "nbconvert_exporter": "python",
   "pygments_lexer": "ipython3",
   "version": "3.10.11"
  }
 },
 "nbformat": 4,
 "nbformat_minor": 2
}
