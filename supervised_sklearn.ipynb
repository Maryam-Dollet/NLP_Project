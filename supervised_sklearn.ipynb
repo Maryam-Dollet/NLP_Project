{
 "cells": [
  {
   "cell_type": "code",
   "execution_count": 1,
   "metadata": {},
   "outputs": [],
   "source": [
    "import pandas as pd\n",
    "import plotly.express as px\n",
    "from gensim.models.doc2vec import Doc2Vec"
   ]
  },
  {
   "cell_type": "markdown",
   "metadata": {},
   "source": [
    "# Supervised Learning Classic ML Classificatin Models using Scikit-Learn"
   ]
  },
  {
   "cell_type": "code",
   "execution_count": 2,
   "metadata": {},
   "outputs": [
    {
     "data": {
      "text/html": [
       "<div>\n",
       "<style scoped>\n",
       "    .dataframe tbody tr th:only-of-type {\n",
       "        vertical-align: middle;\n",
       "    }\n",
       "\n",
       "    .dataframe tbody tr th {\n",
       "        vertical-align: top;\n",
       "    }\n",
       "\n",
       "    .dataframe thead th {\n",
       "        text-align: right;\n",
       "    }\n",
       "</style>\n",
       "<table border=\"1\" class=\"dataframe\">\n",
       "  <thead>\n",
       "    <tr style=\"text-align: right;\">\n",
       "      <th></th>\n",
       "      <th>company_name</th>\n",
       "      <th>description_en</th>\n",
       "      <th>category</th>\n",
       "      <th>score</th>\n",
       "      <th>tokenized_desc</th>\n",
       "      <th>tag</th>\n",
       "    </tr>\n",
       "  </thead>\n",
       "  <tbody>\n",
       "    <tr>\n",
       "      <th>0</th>\n",
       "      <td>Le Fourgon</td>\n",
       "      <td>Le Fourgon delivers your stored drinks to your...</td>\n",
       "      <td>food_beverages_tobacco</td>\n",
       "      <td>4,9</td>\n",
       "      <td>fourgon deliver store drink home order place l...</td>\n",
       "      <td>0</td>\n",
       "    </tr>\n",
       "    <tr>\n",
       "      <th>1</th>\n",
       "      <td>Comptoir des Vignes</td>\n",
       "      <td>Comptoir des Vignes is a brand of cellars spec...</td>\n",
       "      <td>food_beverages_tobacco</td>\n",
       "      <td>4,9</td>\n",
       "      <td>comptoir des vigne brand cellar specialize win...</td>\n",
       "      <td>1</td>\n",
       "    </tr>\n",
       "    <tr>\n",
       "      <th>2</th>\n",
       "      <td>Shin Sekai</td>\n",
       "      <td>Welcome to our Trustpilot page! Shin Sekai is ...</td>\n",
       "      <td>food_beverages_tobacco</td>\n",
       "      <td>4,9</td>\n",
       "      <td>welcome trustpilot page shin sekai online figu...</td>\n",
       "      <td>2</td>\n",
       "    </tr>\n",
       "    <tr>\n",
       "      <th>3</th>\n",
       "      <td>Nutri Naturel</td>\n",
       "      <td>Nutri-Naturel.com, the leading online organic ...</td>\n",
       "      <td>food_beverages_tobacco</td>\n",
       "      <td>4,9</td>\n",
       "      <td>nutri naturel com lead online organic grocery ...</td>\n",
       "      <td>3</td>\n",
       "    </tr>\n",
       "    <tr>\n",
       "      <th>4</th>\n",
       "      <td>Maison Martin - Le Piment Français</td>\n",
       "      <td>Maison Martin - Le Piment Francais is the firs...</td>\n",
       "      <td>food_beverages_tobacco</td>\n",
       "      <td>4,9</td>\n",
       "      <td>maison martin piment francais brand artisanal ...</td>\n",
       "      <td>4</td>\n",
       "    </tr>\n",
       "    <tr>\n",
       "      <th>...</th>\n",
       "      <td>...</td>\n",
       "      <td>...</td>\n",
       "      <td>...</td>\n",
       "      <td>...</td>\n",
       "      <td>...</td>\n",
       "      <td>...</td>\n",
       "    </tr>\n",
       "    <tr>\n",
       "      <th>11385</th>\n",
       "      <td>Ljbautoparts</td>\n",
       "      <td>Sale of auto body spare parts online: fender, ...</td>\n",
       "      <td>vehicles_transportation</td>\n",
       "      <td>1,2</td>\n",
       "      <td>sale auto body spare part online fender bumper...</td>\n",
       "      <td>11385</td>\n",
       "    </tr>\n",
       "    <tr>\n",
       "      <th>11386</th>\n",
       "      <td>Aéroports de Paris</td>\n",
       "      <td>Aeroports de Paris, with its three platforms, ...</td>\n",
       "      <td>vehicles_transportation</td>\n",
       "      <td>1,2</td>\n",
       "      <td>aeroport paris platform major connection point...</td>\n",
       "      <td>11386</td>\n",
       "    </tr>\n",
       "    <tr>\n",
       "      <th>11387</th>\n",
       "      <td>Online SAS</td>\n",
       "      <td>Shared hosting with unlimited traffic, domain ...</td>\n",
       "      <td>vehicles_transportation</td>\n",
       "      <td>1,7</td>\n",
       "      <td>share host unlimited traffic domain dedicated ...</td>\n",
       "      <td>11387</td>\n",
       "    </tr>\n",
       "    <tr>\n",
       "      <th>11388</th>\n",
       "      <td>shopequitation</td>\n",
       "      <td>Online specialist in the sale of horse riding ...</td>\n",
       "      <td>vehicles_transportation</td>\n",
       "      <td>1,2</td>\n",
       "      <td>online specialist sale horse ride equipment sa...</td>\n",
       "      <td>11388</td>\n",
       "    </tr>\n",
       "    <tr>\n",
       "      <th>11389</th>\n",
       "      <td>Odyssee Transfer</td>\n",
       "      <td>Private shuttle company between airports, trai...</td>\n",
       "      <td>vehicles_transportation</td>\n",
       "      <td>1,1</td>\n",
       "      <td>private shuttle company airport train station ...</td>\n",
       "      <td>11389</td>\n",
       "    </tr>\n",
       "  </tbody>\n",
       "</table>\n",
       "<p>11390 rows × 6 columns</p>\n",
       "</div>"
      ],
      "text/plain": [
       "                             company_name  \\\n",
       "0                              Le Fourgon   \n",
       "1                     Comptoir des Vignes   \n",
       "2                              Shin Sekai   \n",
       "3                           Nutri Naturel   \n",
       "4      Maison Martin - Le Piment Français   \n",
       "...                                   ...   \n",
       "11385                        Ljbautoparts   \n",
       "11386                  Aéroports de Paris   \n",
       "11387                          Online SAS   \n",
       "11388                      shopequitation   \n",
       "11389                    Odyssee Transfer   \n",
       "\n",
       "                                          description_en  \\\n",
       "0      Le Fourgon delivers your stored drinks to your...   \n",
       "1      Comptoir des Vignes is a brand of cellars spec...   \n",
       "2      Welcome to our Trustpilot page! Shin Sekai is ...   \n",
       "3      Nutri-Naturel.com, the leading online organic ...   \n",
       "4      Maison Martin - Le Piment Francais is the firs...   \n",
       "...                                                  ...   \n",
       "11385  Sale of auto body spare parts online: fender, ...   \n",
       "11386  Aeroports de Paris, with its three platforms, ...   \n",
       "11387  Shared hosting with unlimited traffic, domain ...   \n",
       "11388  Online specialist in the sale of horse riding ...   \n",
       "11389  Private shuttle company between airports, trai...   \n",
       "\n",
       "                      category score  \\\n",
       "0       food_beverages_tobacco   4,9   \n",
       "1       food_beverages_tobacco   4,9   \n",
       "2       food_beverages_tobacco   4,9   \n",
       "3       food_beverages_tobacco   4,9   \n",
       "4       food_beverages_tobacco   4,9   \n",
       "...                        ...   ...   \n",
       "11385  vehicles_transportation   1,2   \n",
       "11386  vehicles_transportation   1,2   \n",
       "11387  vehicles_transportation   1,7   \n",
       "11388  vehicles_transportation   1,2   \n",
       "11389  vehicles_transportation   1,1   \n",
       "\n",
       "                                          tokenized_desc    tag  \n",
       "0      fourgon deliver store drink home order place l...      0  \n",
       "1      comptoir des vigne brand cellar specialize win...      1  \n",
       "2      welcome trustpilot page shin sekai online figu...      2  \n",
       "3      nutri naturel com lead online organic grocery ...      3  \n",
       "4      maison martin piment francais brand artisanal ...      4  \n",
       "...                                                  ...    ...  \n",
       "11385  sale auto body spare part online fender bumper...  11385  \n",
       "11386  aeroport paris platform major connection point...  11386  \n",
       "11387  share host unlimited traffic domain dedicated ...  11387  \n",
       "11388  online specialist sale horse ride equipment sa...  11388  \n",
       "11389  private shuttle company airport train station ...  11389  \n",
       "\n",
       "[11390 rows x 6 columns]"
      ]
     },
     "execution_count": 2,
     "metadata": {},
     "output_type": "execute_result"
    }
   ],
   "source": [
    "df = pd.read_csv(\"data/company_tagged.csv\", sep=\";\")\n",
    "df"
   ]
  },
  {
   "cell_type": "code",
   "execution_count": 3,
   "metadata": {},
   "outputs": [
    {
     "data": {
      "text/html": [
       "<div>\n",
       "<style scoped>\n",
       "    .dataframe tbody tr th:only-of-type {\n",
       "        vertical-align: middle;\n",
       "    }\n",
       "\n",
       "    .dataframe tbody tr th {\n",
       "        vertical-align: top;\n",
       "    }\n",
       "\n",
       "    .dataframe thead th {\n",
       "        text-align: right;\n",
       "    }\n",
       "</style>\n",
       "<table border=\"1\" class=\"dataframe\">\n",
       "  <thead>\n",
       "    <tr style=\"text-align: right;\">\n",
       "      <th></th>\n",
       "      <th>category</th>\n",
       "      <th>count</th>\n",
       "    </tr>\n",
       "  </thead>\n",
       "  <tbody>\n",
       "    <tr>\n",
       "      <th>0</th>\n",
       "      <td>electronics_technology</td>\n",
       "      <td>1172</td>\n",
       "    </tr>\n",
       "    <tr>\n",
       "      <th>1</th>\n",
       "      <td>home_garden</td>\n",
       "      <td>1101</td>\n",
       "    </tr>\n",
       "    <tr>\n",
       "      <th>2</th>\n",
       "      <td>shopping_fashion</td>\n",
       "      <td>1054</td>\n",
       "    </tr>\n",
       "    <tr>\n",
       "      <th>3</th>\n",
       "      <td>money_insurance</td>\n",
       "      <td>1030</td>\n",
       "    </tr>\n",
       "    <tr>\n",
       "      <th>4</th>\n",
       "      <td>events_entertainment</td>\n",
       "      <td>761</td>\n",
       "    </tr>\n",
       "    <tr>\n",
       "      <th>5</th>\n",
       "      <td>beauty_wellbeing</td>\n",
       "      <td>755</td>\n",
       "    </tr>\n",
       "    <tr>\n",
       "      <th>6</th>\n",
       "      <td>food_beverages_tobacco</td>\n",
       "      <td>736</td>\n",
       "    </tr>\n",
       "    <tr>\n",
       "      <th>7</th>\n",
       "      <td>construction_manufactoring</td>\n",
       "      <td>704</td>\n",
       "    </tr>\n",
       "    <tr>\n",
       "      <th>8</th>\n",
       "      <td>business_services</td>\n",
       "      <td>679</td>\n",
       "    </tr>\n",
       "    <tr>\n",
       "      <th>9</th>\n",
       "      <td>education_training</td>\n",
       "      <td>648</td>\n",
       "    </tr>\n",
       "    <tr>\n",
       "      <th>10</th>\n",
       "      <td>vehicles_transportation</td>\n",
       "      <td>612</td>\n",
       "    </tr>\n",
       "    <tr>\n",
       "      <th>11</th>\n",
       "      <td>hobbies_crafts</td>\n",
       "      <td>412</td>\n",
       "    </tr>\n",
       "    <tr>\n",
       "      <th>12</th>\n",
       "      <td>travel_vacation</td>\n",
       "      <td>406</td>\n",
       "    </tr>\n",
       "    <tr>\n",
       "      <th>13</th>\n",
       "      <td>media_publishing</td>\n",
       "      <td>322</td>\n",
       "    </tr>\n",
       "    <tr>\n",
       "      <th>14</th>\n",
       "      <td>sports</td>\n",
       "      <td>207</td>\n",
       "    </tr>\n",
       "    <tr>\n",
       "      <th>15</th>\n",
       "      <td>animals_pets</td>\n",
       "      <td>199</td>\n",
       "    </tr>\n",
       "    <tr>\n",
       "      <th>16</th>\n",
       "      <td>home_services</td>\n",
       "      <td>143</td>\n",
       "    </tr>\n",
       "    <tr>\n",
       "      <th>17</th>\n",
       "      <td>legal_services_government</td>\n",
       "      <td>132</td>\n",
       "    </tr>\n",
       "    <tr>\n",
       "      <th>18</th>\n",
       "      <td>health_medical</td>\n",
       "      <td>131</td>\n",
       "    </tr>\n",
       "    <tr>\n",
       "      <th>19</th>\n",
       "      <td>public_local_services</td>\n",
       "      <td>114</td>\n",
       "    </tr>\n",
       "    <tr>\n",
       "      <th>20</th>\n",
       "      <td>restaurants_bars</td>\n",
       "      <td>64</td>\n",
       "    </tr>\n",
       "    <tr>\n",
       "      <th>21</th>\n",
       "      <td>utilities</td>\n",
       "      <td>8</td>\n",
       "    </tr>\n",
       "  </tbody>\n",
       "</table>\n",
       "</div>"
      ],
      "text/plain": [
       "                      category  count\n",
       "0       electronics_technology   1172\n",
       "1                  home_garden   1101\n",
       "2             shopping_fashion   1054\n",
       "3              money_insurance   1030\n",
       "4         events_entertainment    761\n",
       "5             beauty_wellbeing    755\n",
       "6       food_beverages_tobacco    736\n",
       "7   construction_manufactoring    704\n",
       "8            business_services    679\n",
       "9           education_training    648\n",
       "10     vehicles_transportation    612\n",
       "11              hobbies_crafts    412\n",
       "12             travel_vacation    406\n",
       "13            media_publishing    322\n",
       "14                      sports    207\n",
       "15                animals_pets    199\n",
       "16               home_services    143\n",
       "17   legal_services_government    132\n",
       "18              health_medical    131\n",
       "19       public_local_services    114\n",
       "20            restaurants_bars     64\n",
       "21                   utilities      8"
      ]
     },
     "execution_count": 3,
     "metadata": {},
     "output_type": "execute_result"
    }
   ],
   "source": [
    "category_count = df[\"category\"].value_counts().reset_index()\n",
    "category_count"
   ]
  },
  {
   "cell_type": "code",
   "execution_count": 4,
   "metadata": {},
   "outputs": [
    {
     "data": {
      "application/vnd.plotly.v1+json": {
       "config": {
        "plotlyServerURL": "https://plot.ly"
       },
       "data": [
        {
         "alignmentgroup": "True",
         "hovertemplate": "category=%{x}<br>count=%{y}<extra></extra>",
         "legendgroup": "",
         "marker": {
          "color": "#636efa",
          "pattern": {
           "shape": ""
          }
         },
         "name": "",
         "offsetgroup": "",
         "orientation": "v",
         "showlegend": false,
         "textposition": "auto",
         "type": "bar",
         "x": [
          "electronics_technology",
          "home_garden",
          "shopping_fashion",
          "money_insurance",
          "events_entertainment",
          "beauty_wellbeing",
          "food_beverages_tobacco",
          "construction_manufactoring",
          "business_services",
          "education_training",
          "vehicles_transportation",
          "hobbies_crafts",
          "travel_vacation",
          "media_publishing",
          "sports",
          "animals_pets",
          "home_services",
          "legal_services_government",
          "health_medical",
          "public_local_services",
          "restaurants_bars",
          "utilities"
         ],
         "xaxis": "x",
         "y": [
          1172,
          1101,
          1054,
          1030,
          761,
          755,
          736,
          704,
          679,
          648,
          612,
          412,
          406,
          322,
          207,
          199,
          143,
          132,
          131,
          114,
          64,
          8
         ],
         "yaxis": "y"
        }
       ],
       "layout": {
        "barmode": "relative",
        "legend": {
         "tracegroupgap": 0
        },
        "template": {
         "data": {
          "bar": [
           {
            "error_x": {
             "color": "#2a3f5f"
            },
            "error_y": {
             "color": "#2a3f5f"
            },
            "marker": {
             "line": {
              "color": "#E5ECF6",
              "width": 0.5
             },
             "pattern": {
              "fillmode": "overlay",
              "size": 10,
              "solidity": 0.2
             }
            },
            "type": "bar"
           }
          ],
          "barpolar": [
           {
            "marker": {
             "line": {
              "color": "#E5ECF6",
              "width": 0.5
             },
             "pattern": {
              "fillmode": "overlay",
              "size": 10,
              "solidity": 0.2
             }
            },
            "type": "barpolar"
           }
          ],
          "carpet": [
           {
            "aaxis": {
             "endlinecolor": "#2a3f5f",
             "gridcolor": "white",
             "linecolor": "white",
             "minorgridcolor": "white",
             "startlinecolor": "#2a3f5f"
            },
            "baxis": {
             "endlinecolor": "#2a3f5f",
             "gridcolor": "white",
             "linecolor": "white",
             "minorgridcolor": "white",
             "startlinecolor": "#2a3f5f"
            },
            "type": "carpet"
           }
          ],
          "choropleth": [
           {
            "colorbar": {
             "outlinewidth": 0,
             "ticks": ""
            },
            "type": "choropleth"
           }
          ],
          "contour": [
           {
            "colorbar": {
             "outlinewidth": 0,
             "ticks": ""
            },
            "colorscale": [
             [
              0,
              "#0d0887"
             ],
             [
              0.1111111111111111,
              "#46039f"
             ],
             [
              0.2222222222222222,
              "#7201a8"
             ],
             [
              0.3333333333333333,
              "#9c179e"
             ],
             [
              0.4444444444444444,
              "#bd3786"
             ],
             [
              0.5555555555555556,
              "#d8576b"
             ],
             [
              0.6666666666666666,
              "#ed7953"
             ],
             [
              0.7777777777777778,
              "#fb9f3a"
             ],
             [
              0.8888888888888888,
              "#fdca26"
             ],
             [
              1,
              "#f0f921"
             ]
            ],
            "type": "contour"
           }
          ],
          "contourcarpet": [
           {
            "colorbar": {
             "outlinewidth": 0,
             "ticks": ""
            },
            "type": "contourcarpet"
           }
          ],
          "heatmap": [
           {
            "colorbar": {
             "outlinewidth": 0,
             "ticks": ""
            },
            "colorscale": [
             [
              0,
              "#0d0887"
             ],
             [
              0.1111111111111111,
              "#46039f"
             ],
             [
              0.2222222222222222,
              "#7201a8"
             ],
             [
              0.3333333333333333,
              "#9c179e"
             ],
             [
              0.4444444444444444,
              "#bd3786"
             ],
             [
              0.5555555555555556,
              "#d8576b"
             ],
             [
              0.6666666666666666,
              "#ed7953"
             ],
             [
              0.7777777777777778,
              "#fb9f3a"
             ],
             [
              0.8888888888888888,
              "#fdca26"
             ],
             [
              1,
              "#f0f921"
             ]
            ],
            "type": "heatmap"
           }
          ],
          "heatmapgl": [
           {
            "colorbar": {
             "outlinewidth": 0,
             "ticks": ""
            },
            "colorscale": [
             [
              0,
              "#0d0887"
             ],
             [
              0.1111111111111111,
              "#46039f"
             ],
             [
              0.2222222222222222,
              "#7201a8"
             ],
             [
              0.3333333333333333,
              "#9c179e"
             ],
             [
              0.4444444444444444,
              "#bd3786"
             ],
             [
              0.5555555555555556,
              "#d8576b"
             ],
             [
              0.6666666666666666,
              "#ed7953"
             ],
             [
              0.7777777777777778,
              "#fb9f3a"
             ],
             [
              0.8888888888888888,
              "#fdca26"
             ],
             [
              1,
              "#f0f921"
             ]
            ],
            "type": "heatmapgl"
           }
          ],
          "histogram": [
           {
            "marker": {
             "pattern": {
              "fillmode": "overlay",
              "size": 10,
              "solidity": 0.2
             }
            },
            "type": "histogram"
           }
          ],
          "histogram2d": [
           {
            "colorbar": {
             "outlinewidth": 0,
             "ticks": ""
            },
            "colorscale": [
             [
              0,
              "#0d0887"
             ],
             [
              0.1111111111111111,
              "#46039f"
             ],
             [
              0.2222222222222222,
              "#7201a8"
             ],
             [
              0.3333333333333333,
              "#9c179e"
             ],
             [
              0.4444444444444444,
              "#bd3786"
             ],
             [
              0.5555555555555556,
              "#d8576b"
             ],
             [
              0.6666666666666666,
              "#ed7953"
             ],
             [
              0.7777777777777778,
              "#fb9f3a"
             ],
             [
              0.8888888888888888,
              "#fdca26"
             ],
             [
              1,
              "#f0f921"
             ]
            ],
            "type": "histogram2d"
           }
          ],
          "histogram2dcontour": [
           {
            "colorbar": {
             "outlinewidth": 0,
             "ticks": ""
            },
            "colorscale": [
             [
              0,
              "#0d0887"
             ],
             [
              0.1111111111111111,
              "#46039f"
             ],
             [
              0.2222222222222222,
              "#7201a8"
             ],
             [
              0.3333333333333333,
              "#9c179e"
             ],
             [
              0.4444444444444444,
              "#bd3786"
             ],
             [
              0.5555555555555556,
              "#d8576b"
             ],
             [
              0.6666666666666666,
              "#ed7953"
             ],
             [
              0.7777777777777778,
              "#fb9f3a"
             ],
             [
              0.8888888888888888,
              "#fdca26"
             ],
             [
              1,
              "#f0f921"
             ]
            ],
            "type": "histogram2dcontour"
           }
          ],
          "mesh3d": [
           {
            "colorbar": {
             "outlinewidth": 0,
             "ticks": ""
            },
            "type": "mesh3d"
           }
          ],
          "parcoords": [
           {
            "line": {
             "colorbar": {
              "outlinewidth": 0,
              "ticks": ""
             }
            },
            "type": "parcoords"
           }
          ],
          "pie": [
           {
            "automargin": true,
            "type": "pie"
           }
          ],
          "scatter": [
           {
            "fillpattern": {
             "fillmode": "overlay",
             "size": 10,
             "solidity": 0.2
            },
            "type": "scatter"
           }
          ],
          "scatter3d": [
           {
            "line": {
             "colorbar": {
              "outlinewidth": 0,
              "ticks": ""
             }
            },
            "marker": {
             "colorbar": {
              "outlinewidth": 0,
              "ticks": ""
             }
            },
            "type": "scatter3d"
           }
          ],
          "scattercarpet": [
           {
            "marker": {
             "colorbar": {
              "outlinewidth": 0,
              "ticks": ""
             }
            },
            "type": "scattercarpet"
           }
          ],
          "scattergeo": [
           {
            "marker": {
             "colorbar": {
              "outlinewidth": 0,
              "ticks": ""
             }
            },
            "type": "scattergeo"
           }
          ],
          "scattergl": [
           {
            "marker": {
             "colorbar": {
              "outlinewidth": 0,
              "ticks": ""
             }
            },
            "type": "scattergl"
           }
          ],
          "scattermapbox": [
           {
            "marker": {
             "colorbar": {
              "outlinewidth": 0,
              "ticks": ""
             }
            },
            "type": "scattermapbox"
           }
          ],
          "scatterpolar": [
           {
            "marker": {
             "colorbar": {
              "outlinewidth": 0,
              "ticks": ""
             }
            },
            "type": "scatterpolar"
           }
          ],
          "scatterpolargl": [
           {
            "marker": {
             "colorbar": {
              "outlinewidth": 0,
              "ticks": ""
             }
            },
            "type": "scatterpolargl"
           }
          ],
          "scatterternary": [
           {
            "marker": {
             "colorbar": {
              "outlinewidth": 0,
              "ticks": ""
             }
            },
            "type": "scatterternary"
           }
          ],
          "surface": [
           {
            "colorbar": {
             "outlinewidth": 0,
             "ticks": ""
            },
            "colorscale": [
             [
              0,
              "#0d0887"
             ],
             [
              0.1111111111111111,
              "#46039f"
             ],
             [
              0.2222222222222222,
              "#7201a8"
             ],
             [
              0.3333333333333333,
              "#9c179e"
             ],
             [
              0.4444444444444444,
              "#bd3786"
             ],
             [
              0.5555555555555556,
              "#d8576b"
             ],
             [
              0.6666666666666666,
              "#ed7953"
             ],
             [
              0.7777777777777778,
              "#fb9f3a"
             ],
             [
              0.8888888888888888,
              "#fdca26"
             ],
             [
              1,
              "#f0f921"
             ]
            ],
            "type": "surface"
           }
          ],
          "table": [
           {
            "cells": {
             "fill": {
              "color": "#EBF0F8"
             },
             "line": {
              "color": "white"
             }
            },
            "header": {
             "fill": {
              "color": "#C8D4E3"
             },
             "line": {
              "color": "white"
             }
            },
            "type": "table"
           }
          ]
         },
         "layout": {
          "annotationdefaults": {
           "arrowcolor": "#2a3f5f",
           "arrowhead": 0,
           "arrowwidth": 1
          },
          "autotypenumbers": "strict",
          "coloraxis": {
           "colorbar": {
            "outlinewidth": 0,
            "ticks": ""
           }
          },
          "colorscale": {
           "diverging": [
            [
             0,
             "#8e0152"
            ],
            [
             0.1,
             "#c51b7d"
            ],
            [
             0.2,
             "#de77ae"
            ],
            [
             0.3,
             "#f1b6da"
            ],
            [
             0.4,
             "#fde0ef"
            ],
            [
             0.5,
             "#f7f7f7"
            ],
            [
             0.6,
             "#e6f5d0"
            ],
            [
             0.7,
             "#b8e186"
            ],
            [
             0.8,
             "#7fbc41"
            ],
            [
             0.9,
             "#4d9221"
            ],
            [
             1,
             "#276419"
            ]
           ],
           "sequential": [
            [
             0,
             "#0d0887"
            ],
            [
             0.1111111111111111,
             "#46039f"
            ],
            [
             0.2222222222222222,
             "#7201a8"
            ],
            [
             0.3333333333333333,
             "#9c179e"
            ],
            [
             0.4444444444444444,
             "#bd3786"
            ],
            [
             0.5555555555555556,
             "#d8576b"
            ],
            [
             0.6666666666666666,
             "#ed7953"
            ],
            [
             0.7777777777777778,
             "#fb9f3a"
            ],
            [
             0.8888888888888888,
             "#fdca26"
            ],
            [
             1,
             "#f0f921"
            ]
           ],
           "sequentialminus": [
            [
             0,
             "#0d0887"
            ],
            [
             0.1111111111111111,
             "#46039f"
            ],
            [
             0.2222222222222222,
             "#7201a8"
            ],
            [
             0.3333333333333333,
             "#9c179e"
            ],
            [
             0.4444444444444444,
             "#bd3786"
            ],
            [
             0.5555555555555556,
             "#d8576b"
            ],
            [
             0.6666666666666666,
             "#ed7953"
            ],
            [
             0.7777777777777778,
             "#fb9f3a"
            ],
            [
             0.8888888888888888,
             "#fdca26"
            ],
            [
             1,
             "#f0f921"
            ]
           ]
          },
          "colorway": [
           "#636efa",
           "#EF553B",
           "#00cc96",
           "#ab63fa",
           "#FFA15A",
           "#19d3f3",
           "#FF6692",
           "#B6E880",
           "#FF97FF",
           "#FECB52"
          ],
          "font": {
           "color": "#2a3f5f"
          },
          "geo": {
           "bgcolor": "white",
           "lakecolor": "white",
           "landcolor": "#E5ECF6",
           "showlakes": true,
           "showland": true,
           "subunitcolor": "white"
          },
          "hoverlabel": {
           "align": "left"
          },
          "hovermode": "closest",
          "mapbox": {
           "style": "light"
          },
          "paper_bgcolor": "white",
          "plot_bgcolor": "#E5ECF6",
          "polar": {
           "angularaxis": {
            "gridcolor": "white",
            "linecolor": "white",
            "ticks": ""
           },
           "bgcolor": "#E5ECF6",
           "radialaxis": {
            "gridcolor": "white",
            "linecolor": "white",
            "ticks": ""
           }
          },
          "scene": {
           "xaxis": {
            "backgroundcolor": "#E5ECF6",
            "gridcolor": "white",
            "gridwidth": 2,
            "linecolor": "white",
            "showbackground": true,
            "ticks": "",
            "zerolinecolor": "white"
           },
           "yaxis": {
            "backgroundcolor": "#E5ECF6",
            "gridcolor": "white",
            "gridwidth": 2,
            "linecolor": "white",
            "showbackground": true,
            "ticks": "",
            "zerolinecolor": "white"
           },
           "zaxis": {
            "backgroundcolor": "#E5ECF6",
            "gridcolor": "white",
            "gridwidth": 2,
            "linecolor": "white",
            "showbackground": true,
            "ticks": "",
            "zerolinecolor": "white"
           }
          },
          "shapedefaults": {
           "line": {
            "color": "#2a3f5f"
           }
          },
          "ternary": {
           "aaxis": {
            "gridcolor": "white",
            "linecolor": "white",
            "ticks": ""
           },
           "baxis": {
            "gridcolor": "white",
            "linecolor": "white",
            "ticks": ""
           },
           "bgcolor": "#E5ECF6",
           "caxis": {
            "gridcolor": "white",
            "linecolor": "white",
            "ticks": ""
           }
          },
          "title": {
           "x": 0.05
          },
          "xaxis": {
           "automargin": true,
           "gridcolor": "white",
           "linecolor": "white",
           "ticks": "",
           "title": {
            "standoff": 15
           },
           "zerolinecolor": "white",
           "zerolinewidth": 2
          },
          "yaxis": {
           "automargin": true,
           "gridcolor": "white",
           "linecolor": "white",
           "ticks": "",
           "title": {
            "standoff": 15
           },
           "zerolinecolor": "white",
           "zerolinewidth": 2
          }
         }
        },
        "title": {
         "text": "Number of Companies per Category"
        },
        "xaxis": {
         "anchor": "y",
         "domain": [
          0,
          1
         ],
         "title": {
          "text": "category"
         }
        },
        "yaxis": {
         "anchor": "x",
         "domain": [
          0,
          1
         ],
         "title": {
          "text": "count"
         }
        }
       }
      }
     },
     "metadata": {},
     "output_type": "display_data"
    }
   ],
   "source": [
    "fig = px.bar(category_count, x=\"category\", y=\"count\", title=\"Number of Companies per Category\")\n",
    "fig.show()"
   ]
  },
  {
   "cell_type": "code",
   "execution_count": 5,
   "metadata": {},
   "outputs": [
    {
     "data": {
      "text/plain": [
       "['electronics_technology',\n",
       " 'home_garden',\n",
       " 'shopping_fashion',\n",
       " 'money_insurance',\n",
       " 'events_entertainment',\n",
       " 'beauty_wellbeing',\n",
       " 'food_beverages_tobacco',\n",
       " 'construction_manufactoring',\n",
       " 'business_services',\n",
       " 'education_training',\n",
       " 'vehicles_transportation']"
      ]
     },
     "execution_count": 5,
     "metadata": {},
     "output_type": "execute_result"
    }
   ],
   "source": [
    "category_list = list(category_count[category_count[\"count\"] >= 450][\"category\"])\n",
    "category_list"
   ]
  },
  {
   "cell_type": "code",
   "execution_count": 6,
   "metadata": {},
   "outputs": [
    {
     "data": {
      "text/html": [
       "<div>\n",
       "<style scoped>\n",
       "    .dataframe tbody tr th:only-of-type {\n",
       "        vertical-align: middle;\n",
       "    }\n",
       "\n",
       "    .dataframe tbody tr th {\n",
       "        vertical-align: top;\n",
       "    }\n",
       "\n",
       "    .dataframe thead th {\n",
       "        text-align: right;\n",
       "    }\n",
       "</style>\n",
       "<table border=\"1\" class=\"dataframe\">\n",
       "  <thead>\n",
       "    <tr style=\"text-align: right;\">\n",
       "      <th></th>\n",
       "      <th>category</th>\n",
       "      <th>count</th>\n",
       "    </tr>\n",
       "  </thead>\n",
       "  <tbody>\n",
       "    <tr>\n",
       "      <th>0</th>\n",
       "      <td>electronics_technology</td>\n",
       "      <td>1172</td>\n",
       "    </tr>\n",
       "    <tr>\n",
       "      <th>1</th>\n",
       "      <td>home_garden</td>\n",
       "      <td>1101</td>\n",
       "    </tr>\n",
       "    <tr>\n",
       "      <th>2</th>\n",
       "      <td>shopping_fashion</td>\n",
       "      <td>1054</td>\n",
       "    </tr>\n",
       "    <tr>\n",
       "      <th>3</th>\n",
       "      <td>money_insurance</td>\n",
       "      <td>1030</td>\n",
       "    </tr>\n",
       "    <tr>\n",
       "      <th>4</th>\n",
       "      <td>events_entertainment</td>\n",
       "      <td>761</td>\n",
       "    </tr>\n",
       "    <tr>\n",
       "      <th>5</th>\n",
       "      <td>beauty_wellbeing</td>\n",
       "      <td>755</td>\n",
       "    </tr>\n",
       "    <tr>\n",
       "      <th>6</th>\n",
       "      <td>food_beverages_tobacco</td>\n",
       "      <td>736</td>\n",
       "    </tr>\n",
       "    <tr>\n",
       "      <th>7</th>\n",
       "      <td>construction_manufactoring</td>\n",
       "      <td>704</td>\n",
       "    </tr>\n",
       "    <tr>\n",
       "      <th>8</th>\n",
       "      <td>business_services</td>\n",
       "      <td>679</td>\n",
       "    </tr>\n",
       "    <tr>\n",
       "      <th>9</th>\n",
       "      <td>education_training</td>\n",
       "      <td>648</td>\n",
       "    </tr>\n",
       "    <tr>\n",
       "      <th>10</th>\n",
       "      <td>vehicles_transportation</td>\n",
       "      <td>612</td>\n",
       "    </tr>\n",
       "  </tbody>\n",
       "</table>\n",
       "</div>"
      ],
      "text/plain": [
       "                      category  count\n",
       "0       electronics_technology   1172\n",
       "1                  home_garden   1101\n",
       "2             shopping_fashion   1054\n",
       "3              money_insurance   1030\n",
       "4         events_entertainment    761\n",
       "5             beauty_wellbeing    755\n",
       "6       food_beverages_tobacco    736\n",
       "7   construction_manufactoring    704\n",
       "8            business_services    679\n",
       "9           education_training    648\n",
       "10     vehicles_transportation    612"
      ]
     },
     "execution_count": 6,
     "metadata": {},
     "output_type": "execute_result"
    }
   ],
   "source": [
    "company_sample = df[df[\"category\"].isin(category_list)].dropna()\n",
    "company_sample[\"category\"].value_counts().reset_index()"
   ]
  },
  {
   "cell_type": "code",
   "execution_count": 7,
   "metadata": {},
   "outputs": [
    {
     "data": {
      "text/html": [
       "<div>\n",
       "<style scoped>\n",
       "    .dataframe tbody tr th:only-of-type {\n",
       "        vertical-align: middle;\n",
       "    }\n",
       "\n",
       "    .dataframe tbody tr th {\n",
       "        vertical-align: top;\n",
       "    }\n",
       "\n",
       "    .dataframe thead th {\n",
       "        text-align: right;\n",
       "    }\n",
       "</style>\n",
       "<table border=\"1\" class=\"dataframe\">\n",
       "  <thead>\n",
       "    <tr style=\"text-align: right;\">\n",
       "      <th></th>\n",
       "      <th>company_name</th>\n",
       "      <th>description_en</th>\n",
       "      <th>category</th>\n",
       "      <th>score</th>\n",
       "      <th>tokenized_desc</th>\n",
       "      <th>tag</th>\n",
       "    </tr>\n",
       "  </thead>\n",
       "  <tbody>\n",
       "    <tr>\n",
       "      <th>0</th>\n",
       "      <td>Oscilance Sophrologie</td>\n",
       "      <td>Develop your well-being with sophrology Diplom...</td>\n",
       "      <td>beauty_wellbeing</td>\n",
       "      <td>4,7</td>\n",
       "      <td>develop sophrology diploma rncp certification ...</td>\n",
       "      <td>2256</td>\n",
       "    </tr>\n",
       "    <tr>\n",
       "      <th>1</th>\n",
       "      <td>Lesentiergeobio</td>\n",
       "      <td>Welcome to my little ecological store which is...</td>\n",
       "      <td>beauty_wellbeing</td>\n",
       "      <td>4,0</td>\n",
       "      <td>welcome little ecological store grow little da...</td>\n",
       "      <td>2501</td>\n",
       "    </tr>\n",
       "    <tr>\n",
       "      <th>2</th>\n",
       "      <td>Salvia Nutrition</td>\n",
       "      <td>Expert in aromatherapy Essential oils and cosm...</td>\n",
       "      <td>beauty_wellbeing</td>\n",
       "      <td>4,7</td>\n",
       "      <td>expert aromatherapy essential oil cosmetic fre...</td>\n",
       "      <td>2004</td>\n",
       "    </tr>\n",
       "    <tr>\n",
       "      <th>3</th>\n",
       "      <td>Mahasoa</td>\n",
       "      <td>Buy your hairdresser's products online thanks ...</td>\n",
       "      <td>beauty_wellbeing</td>\n",
       "      <td>4,6</td>\n",
       "      <td>buy hairdresser product online thank mahasoa m...</td>\n",
       "      <td>2042</td>\n",
       "    </tr>\n",
       "    <tr>\n",
       "      <th>4</th>\n",
       "      <td>Cannibia</td>\n",
       "      <td>To respect our commitment, the efficiency, saf...</td>\n",
       "      <td>beauty_wellbeing</td>\n",
       "      <td>4,1</td>\n",
       "      <td>respect commitment efficiency safety quality p...</td>\n",
       "      <td>2458</td>\n",
       "    </tr>\n",
       "    <tr>\n",
       "      <th>...</th>\n",
       "      <td>...</td>\n",
       "      <td>...</td>\n",
       "      <td>...</td>\n",
       "      <td>...</td>\n",
       "      <td>...</td>\n",
       "      <td>...</td>\n",
       "    </tr>\n",
       "    <tr>\n",
       "      <th>4472</th>\n",
       "      <td>Colmar Auto Bilan</td>\n",
       "      <td>Colmar Auto Bilan is a technical inspection ce...</td>\n",
       "      <td>vehicles_transportation</td>\n",
       "      <td>3,8</td>\n",
       "      <td>colmar auto bilan technical inspection center ...</td>\n",
       "      <td>11183</td>\n",
       "    </tr>\n",
       "    <tr>\n",
       "      <th>4473</th>\n",
       "      <td>CapCar</td>\n",
       "      <td>CapCar is revolutionizing the buying and selli...</td>\n",
       "      <td>vehicles_transportation</td>\n",
       "      <td>3,2</td>\n",
       "      <td>capcar revolutionize buying selling car trust ...</td>\n",
       "      <td>11274</td>\n",
       "    </tr>\n",
       "    <tr>\n",
       "      <th>4474</th>\n",
       "      <td>macadam cycles</td>\n",
       "      <td>Merchant of unique bicycles and accessories! W...</td>\n",
       "      <td>vehicles_transportation</td>\n",
       "      <td>2,4</td>\n",
       "      <td>merchant unique bicycle accessory official dis...</td>\n",
       "      <td>11333</td>\n",
       "    </tr>\n",
       "    <tr>\n",
       "      <th>4475</th>\n",
       "      <td>Vélo service Travu</td>\n",
       "      <td>Are you planning to buy a bike or have yours r...</td>\n",
       "      <td>vehicles_transportation</td>\n",
       "      <td>3,8</td>\n",
       "      <td>plan buy bike repair come talk support</td>\n",
       "      <td>11185</td>\n",
       "    </tr>\n",
       "    <tr>\n",
       "      <th>4476</th>\n",
       "      <td>Yescapa</td>\n",
       "      <td>Yescapa is a platform that makes it simple and...</td>\n",
       "      <td>vehicles_transportation</td>\n",
       "      <td>2,9</td>\n",
       "      <td>yescapa platform make simple secure rent motor...</td>\n",
       "      <td>11302</td>\n",
       "    </tr>\n",
       "  </tbody>\n",
       "</table>\n",
       "<p>4477 rows × 6 columns</p>\n",
       "</div>"
      ],
      "text/plain": [
       "               company_name  \\\n",
       "0     Oscilance Sophrologie   \n",
       "1           Lesentiergeobio   \n",
       "2          Salvia Nutrition   \n",
       "3                   Mahasoa   \n",
       "4                  Cannibia   \n",
       "...                     ...   \n",
       "4472      Colmar Auto Bilan   \n",
       "4473                 CapCar   \n",
       "4474         macadam cycles   \n",
       "4475     Vélo service Travu   \n",
       "4476                Yescapa   \n",
       "\n",
       "                                         description_en  \\\n",
       "0     Develop your well-being with sophrology Diplom...   \n",
       "1     Welcome to my little ecological store which is...   \n",
       "2     Expert in aromatherapy Essential oils and cosm...   \n",
       "3     Buy your hairdresser's products online thanks ...   \n",
       "4     To respect our commitment, the efficiency, saf...   \n",
       "...                                                 ...   \n",
       "4472  Colmar Auto Bilan is a technical inspection ce...   \n",
       "4473  CapCar is revolutionizing the buying and selli...   \n",
       "4474  Merchant of unique bicycles and accessories! W...   \n",
       "4475  Are you planning to buy a bike or have yours r...   \n",
       "4476  Yescapa is a platform that makes it simple and...   \n",
       "\n",
       "                     category score  \\\n",
       "0            beauty_wellbeing   4,7   \n",
       "1            beauty_wellbeing   4,0   \n",
       "2            beauty_wellbeing   4,7   \n",
       "3            beauty_wellbeing   4,6   \n",
       "4            beauty_wellbeing   4,1   \n",
       "...                       ...   ...   \n",
       "4472  vehicles_transportation   3,8   \n",
       "4473  vehicles_transportation   3,2   \n",
       "4474  vehicles_transportation   2,4   \n",
       "4475  vehicles_transportation   3,8   \n",
       "4476  vehicles_transportation   2,9   \n",
       "\n",
       "                                         tokenized_desc    tag  \n",
       "0     develop sophrology diploma rncp certification ...   2256  \n",
       "1     welcome little ecological store grow little da...   2501  \n",
       "2     expert aromatherapy essential oil cosmetic fre...   2004  \n",
       "3     buy hairdresser product online thank mahasoa m...   2042  \n",
       "4     respect commitment efficiency safety quality p...   2458  \n",
       "...                                                 ...    ...  \n",
       "4472  colmar auto bilan technical inspection center ...  11183  \n",
       "4473  capcar revolutionize buying selling car trust ...  11274  \n",
       "4474  merchant unique bicycle accessory official dis...  11333  \n",
       "4475             plan buy bike repair come talk support  11185  \n",
       "4476  yescapa platform make simple secure rent motor...  11302  \n",
       "\n",
       "[4477 rows x 6 columns]"
      ]
     },
     "execution_count": 7,
     "metadata": {},
     "output_type": "execute_result"
    }
   ],
   "source": [
    "company_sample = company_sample.groupby('category').apply(lambda x: x.sample(n=407, random_state=42)).reset_index(drop=True)\n",
    "company_sample"
   ]
  },
  {
   "cell_type": "code",
   "execution_count": 8,
   "metadata": {},
   "outputs": [],
   "source": [
    "d2v = Doc2Vec.load(\"models/d2v.model\")"
   ]
  },
  {
   "cell_type": "code",
   "execution_count": 9,
   "metadata": {},
   "outputs": [],
   "source": [
    "tags = company_sample[\"tag\"]\n",
    "labels = company_sample[\"company_name\"]\n",
    "category = company_sample[\"category\"]\n",
    "vectors = [d2v.dv[tag] for tag in tags]"
   ]
  },
  {
   "cell_type": "code",
   "execution_count": 10,
   "metadata": {},
   "outputs": [
    {
     "data": {
      "text/plain": [
       "4477"
      ]
     },
     "execution_count": 10,
     "metadata": {},
     "output_type": "execute_result"
    }
   ],
   "source": [
    "len(tags)"
   ]
  },
  {
   "cell_type": "code",
   "execution_count": 11,
   "metadata": {},
   "outputs": [
    {
     "data": {
      "text/plain": [
       "4477"
      ]
     },
     "execution_count": 11,
     "metadata": {},
     "output_type": "execute_result"
    }
   ],
   "source": [
    "len(vectors)"
   ]
  },
  {
   "cell_type": "code",
   "execution_count": 12,
   "metadata": {},
   "outputs": [],
   "source": [
    "vectors_df = pd.DataFrame(vectors)"
   ]
  },
  {
   "cell_type": "code",
   "execution_count": 13,
   "metadata": {},
   "outputs": [
    {
     "data": {
      "text/html": [
       "<div>\n",
       "<style scoped>\n",
       "    .dataframe tbody tr th:only-of-type {\n",
       "        vertical-align: middle;\n",
       "    }\n",
       "\n",
       "    .dataframe tbody tr th {\n",
       "        vertical-align: top;\n",
       "    }\n",
       "\n",
       "    .dataframe thead th {\n",
       "        text-align: right;\n",
       "    }\n",
       "</style>\n",
       "<table border=\"1\" class=\"dataframe\">\n",
       "  <thead>\n",
       "    <tr style=\"text-align: right;\">\n",
       "      <th></th>\n",
       "      <th>0</th>\n",
       "      <th>1</th>\n",
       "      <th>2</th>\n",
       "      <th>3</th>\n",
       "      <th>4</th>\n",
       "      <th>5</th>\n",
       "      <th>6</th>\n",
       "      <th>7</th>\n",
       "      <th>8</th>\n",
       "      <th>9</th>\n",
       "      <th>10</th>\n",
       "      <th>11</th>\n",
       "      <th>12</th>\n",
       "      <th>13</th>\n",
       "      <th>14</th>\n",
       "      <th>15</th>\n",
       "      <th>16</th>\n",
       "      <th>17</th>\n",
       "      <th>18</th>\n",
       "      <th>19</th>\n",
       "    </tr>\n",
       "  </thead>\n",
       "  <tbody>\n",
       "    <tr>\n",
       "      <th>0</th>\n",
       "      <td>1.555916</td>\n",
       "      <td>3.732630</td>\n",
       "      <td>3.569272</td>\n",
       "      <td>-1.574828</td>\n",
       "      <td>3.526356</td>\n",
       "      <td>-1.541315</td>\n",
       "      <td>-5.257199</td>\n",
       "      <td>0.213623</td>\n",
       "      <td>0.593278</td>\n",
       "      <td>3.616737</td>\n",
       "      <td>-16.275211</td>\n",
       "      <td>0.581281</td>\n",
       "      <td>-3.401930</td>\n",
       "      <td>2.320469</td>\n",
       "      <td>3.157410</td>\n",
       "      <td>4.393044</td>\n",
       "      <td>12.101939</td>\n",
       "      <td>-0.747775</td>\n",
       "      <td>-0.511097</td>\n",
       "      <td>1.408481</td>\n",
       "    </tr>\n",
       "    <tr>\n",
       "      <th>1</th>\n",
       "      <td>1.348109</td>\n",
       "      <td>1.019928</td>\n",
       "      <td>-9.346064</td>\n",
       "      <td>-5.572748</td>\n",
       "      <td>-4.856998</td>\n",
       "      <td>-6.188309</td>\n",
       "      <td>-3.559583</td>\n",
       "      <td>5.256246</td>\n",
       "      <td>-8.304394</td>\n",
       "      <td>-1.915268</td>\n",
       "      <td>3.382292</td>\n",
       "      <td>6.648015</td>\n",
       "      <td>-1.871945</td>\n",
       "      <td>9.686320</td>\n",
       "      <td>2.735891</td>\n",
       "      <td>1.763738</td>\n",
       "      <td>8.780616</td>\n",
       "      <td>1.186969</td>\n",
       "      <td>1.999301</td>\n",
       "      <td>2.743771</td>\n",
       "    </tr>\n",
       "    <tr>\n",
       "      <th>2</th>\n",
       "      <td>9.066367</td>\n",
       "      <td>-3.344702</td>\n",
       "      <td>-1.788065</td>\n",
       "      <td>1.012523</td>\n",
       "      <td>-2.358032</td>\n",
       "      <td>-3.962410</td>\n",
       "      <td>-4.055778</td>\n",
       "      <td>-1.833944</td>\n",
       "      <td>2.938650</td>\n",
       "      <td>1.612116</td>\n",
       "      <td>-1.374383</td>\n",
       "      <td>5.778584</td>\n",
       "      <td>-4.997014</td>\n",
       "      <td>2.162220</td>\n",
       "      <td>3.363889</td>\n",
       "      <td>4.667016</td>\n",
       "      <td>13.557610</td>\n",
       "      <td>-5.855724</td>\n",
       "      <td>-5.707810</td>\n",
       "      <td>1.010891</td>\n",
       "    </tr>\n",
       "    <tr>\n",
       "      <th>3</th>\n",
       "      <td>1.495197</td>\n",
       "      <td>-2.396264</td>\n",
       "      <td>-4.005068</td>\n",
       "      <td>-4.147858</td>\n",
       "      <td>3.863000</td>\n",
       "      <td>-1.856706</td>\n",
       "      <td>-1.879233</td>\n",
       "      <td>1.139206</td>\n",
       "      <td>-9.948735</td>\n",
       "      <td>5.715406</td>\n",
       "      <td>-2.385922</td>\n",
       "      <td>3.473161</td>\n",
       "      <td>-0.575435</td>\n",
       "      <td>-2.402317</td>\n",
       "      <td>-3.309796</td>\n",
       "      <td>1.950958</td>\n",
       "      <td>8.737164</td>\n",
       "      <td>-6.225251</td>\n",
       "      <td>1.628477</td>\n",
       "      <td>-2.316124</td>\n",
       "    </tr>\n",
       "    <tr>\n",
       "      <th>4</th>\n",
       "      <td>4.377453</td>\n",
       "      <td>-9.588228</td>\n",
       "      <td>0.572681</td>\n",
       "      <td>-1.564694</td>\n",
       "      <td>-2.288914</td>\n",
       "      <td>-9.874044</td>\n",
       "      <td>-3.364615</td>\n",
       "      <td>5.585204</td>\n",
       "      <td>-2.070639</td>\n",
       "      <td>-2.879122</td>\n",
       "      <td>-5.677154</td>\n",
       "      <td>2.318398</td>\n",
       "      <td>-5.963313</td>\n",
       "      <td>-1.794160</td>\n",
       "      <td>5.300523</td>\n",
       "      <td>4.461276</td>\n",
       "      <td>7.500114</td>\n",
       "      <td>-5.311936</td>\n",
       "      <td>-2.008378</td>\n",
       "      <td>4.261292</td>\n",
       "    </tr>\n",
       "    <tr>\n",
       "      <th>...</th>\n",
       "      <td>...</td>\n",
       "      <td>...</td>\n",
       "      <td>...</td>\n",
       "      <td>...</td>\n",
       "      <td>...</td>\n",
       "      <td>...</td>\n",
       "      <td>...</td>\n",
       "      <td>...</td>\n",
       "      <td>...</td>\n",
       "      <td>...</td>\n",
       "      <td>...</td>\n",
       "      <td>...</td>\n",
       "      <td>...</td>\n",
       "      <td>...</td>\n",
       "      <td>...</td>\n",
       "      <td>...</td>\n",
       "      <td>...</td>\n",
       "      <td>...</td>\n",
       "      <td>...</td>\n",
       "      <td>...</td>\n",
       "    </tr>\n",
       "    <tr>\n",
       "      <th>4472</th>\n",
       "      <td>-6.717722</td>\n",
       "      <td>0.349456</td>\n",
       "      <td>3.132945</td>\n",
       "      <td>-0.401000</td>\n",
       "      <td>-0.441590</td>\n",
       "      <td>-1.189616</td>\n",
       "      <td>1.708816</td>\n",
       "      <td>-0.146644</td>\n",
       "      <td>-0.190129</td>\n",
       "      <td>7.019242</td>\n",
       "      <td>-2.543383</td>\n",
       "      <td>-2.808481</td>\n",
       "      <td>-3.841403</td>\n",
       "      <td>-0.658023</td>\n",
       "      <td>2.433311</td>\n",
       "      <td>0.312751</td>\n",
       "      <td>11.966047</td>\n",
       "      <td>-3.948421</td>\n",
       "      <td>3.102744</td>\n",
       "      <td>-6.873521</td>\n",
       "    </tr>\n",
       "    <tr>\n",
       "      <th>4473</th>\n",
       "      <td>-6.911193</td>\n",
       "      <td>1.440823</td>\n",
       "      <td>2.548128</td>\n",
       "      <td>-3.100884</td>\n",
       "      <td>8.822441</td>\n",
       "      <td>4.941241</td>\n",
       "      <td>2.198640</td>\n",
       "      <td>5.161830</td>\n",
       "      <td>-9.020262</td>\n",
       "      <td>-3.514540</td>\n",
       "      <td>2.992202</td>\n",
       "      <td>-2.823585</td>\n",
       "      <td>-9.801691</td>\n",
       "      <td>5.680787</td>\n",
       "      <td>-6.144229</td>\n",
       "      <td>1.151869</td>\n",
       "      <td>5.331325</td>\n",
       "      <td>-5.028971</td>\n",
       "      <td>3.836699</td>\n",
       "      <td>-10.583253</td>\n",
       "    </tr>\n",
       "    <tr>\n",
       "      <th>4474</th>\n",
       "      <td>1.455796</td>\n",
       "      <td>-2.668402</td>\n",
       "      <td>-1.389625</td>\n",
       "      <td>-3.062446</td>\n",
       "      <td>-2.821195</td>\n",
       "      <td>-0.383443</td>\n",
       "      <td>-1.318816</td>\n",
       "      <td>-0.228552</td>\n",
       "      <td>-7.144111</td>\n",
       "      <td>-2.114722</td>\n",
       "      <td>0.626333</td>\n",
       "      <td>-8.447633</td>\n",
       "      <td>3.005778</td>\n",
       "      <td>-2.626287</td>\n",
       "      <td>2.584342</td>\n",
       "      <td>-6.401578</td>\n",
       "      <td>6.933508</td>\n",
       "      <td>4.941571</td>\n",
       "      <td>-4.600127</td>\n",
       "      <td>-5.776989</td>\n",
       "    </tr>\n",
       "    <tr>\n",
       "      <th>4475</th>\n",
       "      <td>-5.760660</td>\n",
       "      <td>5.931286</td>\n",
       "      <td>-2.306327</td>\n",
       "      <td>-6.683461</td>\n",
       "      <td>-0.256726</td>\n",
       "      <td>-6.611842</td>\n",
       "      <td>6.459180</td>\n",
       "      <td>-4.065218</td>\n",
       "      <td>-8.164078</td>\n",
       "      <td>-0.796073</td>\n",
       "      <td>-3.951172</td>\n",
       "      <td>3.274068</td>\n",
       "      <td>5.370887</td>\n",
       "      <td>5.028344</td>\n",
       "      <td>-1.199682</td>\n",
       "      <td>1.805775</td>\n",
       "      <td>7.411559</td>\n",
       "      <td>-5.398070</td>\n",
       "      <td>6.530111</td>\n",
       "      <td>-2.206319</td>\n",
       "    </tr>\n",
       "    <tr>\n",
       "      <th>4476</th>\n",
       "      <td>0.669686</td>\n",
       "      <td>5.065714</td>\n",
       "      <td>2.416343</td>\n",
       "      <td>-2.992714</td>\n",
       "      <td>6.880853</td>\n",
       "      <td>3.398763</td>\n",
       "      <td>0.632753</td>\n",
       "      <td>0.095392</td>\n",
       "      <td>-0.114188</td>\n",
       "      <td>-6.765610</td>\n",
       "      <td>-5.175272</td>\n",
       "      <td>-0.696416</td>\n",
       "      <td>-7.445188</td>\n",
       "      <td>4.269611</td>\n",
       "      <td>0.633538</td>\n",
       "      <td>-11.543733</td>\n",
       "      <td>7.195770</td>\n",
       "      <td>-1.308770</td>\n",
       "      <td>-2.764221</td>\n",
       "      <td>-11.262305</td>\n",
       "    </tr>\n",
       "  </tbody>\n",
       "</table>\n",
       "<p>4477 rows × 20 columns</p>\n",
       "</div>"
      ],
      "text/plain": [
       "            0         1         2         3         4         5         6   \\\n",
       "0     1.555916  3.732630  3.569272 -1.574828  3.526356 -1.541315 -5.257199   \n",
       "1     1.348109  1.019928 -9.346064 -5.572748 -4.856998 -6.188309 -3.559583   \n",
       "2     9.066367 -3.344702 -1.788065  1.012523 -2.358032 -3.962410 -4.055778   \n",
       "3     1.495197 -2.396264 -4.005068 -4.147858  3.863000 -1.856706 -1.879233   \n",
       "4     4.377453 -9.588228  0.572681 -1.564694 -2.288914 -9.874044 -3.364615   \n",
       "...        ...       ...       ...       ...       ...       ...       ...   \n",
       "4472 -6.717722  0.349456  3.132945 -0.401000 -0.441590 -1.189616  1.708816   \n",
       "4473 -6.911193  1.440823  2.548128 -3.100884  8.822441  4.941241  2.198640   \n",
       "4474  1.455796 -2.668402 -1.389625 -3.062446 -2.821195 -0.383443 -1.318816   \n",
       "4475 -5.760660  5.931286 -2.306327 -6.683461 -0.256726 -6.611842  6.459180   \n",
       "4476  0.669686  5.065714  2.416343 -2.992714  6.880853  3.398763  0.632753   \n",
       "\n",
       "            7         8         9          10        11        12        13  \\\n",
       "0     0.213623  0.593278  3.616737 -16.275211  0.581281 -3.401930  2.320469   \n",
       "1     5.256246 -8.304394 -1.915268   3.382292  6.648015 -1.871945  9.686320   \n",
       "2    -1.833944  2.938650  1.612116  -1.374383  5.778584 -4.997014  2.162220   \n",
       "3     1.139206 -9.948735  5.715406  -2.385922  3.473161 -0.575435 -2.402317   \n",
       "4     5.585204 -2.070639 -2.879122  -5.677154  2.318398 -5.963313 -1.794160   \n",
       "...        ...       ...       ...        ...       ...       ...       ...   \n",
       "4472 -0.146644 -0.190129  7.019242  -2.543383 -2.808481 -3.841403 -0.658023   \n",
       "4473  5.161830 -9.020262 -3.514540   2.992202 -2.823585 -9.801691  5.680787   \n",
       "4474 -0.228552 -7.144111 -2.114722   0.626333 -8.447633  3.005778 -2.626287   \n",
       "4475 -4.065218 -8.164078 -0.796073  -3.951172  3.274068  5.370887  5.028344   \n",
       "4476  0.095392 -0.114188 -6.765610  -5.175272 -0.696416 -7.445188  4.269611   \n",
       "\n",
       "            14         15         16        17        18         19  \n",
       "0     3.157410   4.393044  12.101939 -0.747775 -0.511097   1.408481  \n",
       "1     2.735891   1.763738   8.780616  1.186969  1.999301   2.743771  \n",
       "2     3.363889   4.667016  13.557610 -5.855724 -5.707810   1.010891  \n",
       "3    -3.309796   1.950958   8.737164 -6.225251  1.628477  -2.316124  \n",
       "4     5.300523   4.461276   7.500114 -5.311936 -2.008378   4.261292  \n",
       "...        ...        ...        ...       ...       ...        ...  \n",
       "4472  2.433311   0.312751  11.966047 -3.948421  3.102744  -6.873521  \n",
       "4473 -6.144229   1.151869   5.331325 -5.028971  3.836699 -10.583253  \n",
       "4474  2.584342  -6.401578   6.933508  4.941571 -4.600127  -5.776989  \n",
       "4475 -1.199682   1.805775   7.411559 -5.398070  6.530111  -2.206319  \n",
       "4476  0.633538 -11.543733   7.195770 -1.308770 -2.764221 -11.262305  \n",
       "\n",
       "[4477 rows x 20 columns]"
      ]
     },
     "execution_count": 13,
     "metadata": {},
     "output_type": "execute_result"
    }
   ],
   "source": [
    "vectors_df"
   ]
  },
  {
   "cell_type": "code",
   "execution_count": 14,
   "metadata": {},
   "outputs": [],
   "source": [
    "vectors_df[\"category\"] = category"
   ]
  },
  {
   "cell_type": "code",
   "execution_count": 15,
   "metadata": {},
   "outputs": [
    {
     "data": {
      "text/html": [
       "<div>\n",
       "<style scoped>\n",
       "    .dataframe tbody tr th:only-of-type {\n",
       "        vertical-align: middle;\n",
       "    }\n",
       "\n",
       "    .dataframe tbody tr th {\n",
       "        vertical-align: top;\n",
       "    }\n",
       "\n",
       "    .dataframe thead th {\n",
       "        text-align: right;\n",
       "    }\n",
       "</style>\n",
       "<table border=\"1\" class=\"dataframe\">\n",
       "  <thead>\n",
       "    <tr style=\"text-align: right;\">\n",
       "      <th></th>\n",
       "      <th>0</th>\n",
       "      <th>1</th>\n",
       "      <th>2</th>\n",
       "      <th>3</th>\n",
       "      <th>4</th>\n",
       "      <th>5</th>\n",
       "      <th>6</th>\n",
       "      <th>7</th>\n",
       "      <th>8</th>\n",
       "      <th>9</th>\n",
       "      <th>...</th>\n",
       "      <th>11</th>\n",
       "      <th>12</th>\n",
       "      <th>13</th>\n",
       "      <th>14</th>\n",
       "      <th>15</th>\n",
       "      <th>16</th>\n",
       "      <th>17</th>\n",
       "      <th>18</th>\n",
       "      <th>19</th>\n",
       "      <th>category</th>\n",
       "    </tr>\n",
       "  </thead>\n",
       "  <tbody>\n",
       "    <tr>\n",
       "      <th>0</th>\n",
       "      <td>1.555916</td>\n",
       "      <td>3.732630</td>\n",
       "      <td>3.569272</td>\n",
       "      <td>-1.574828</td>\n",
       "      <td>3.526356</td>\n",
       "      <td>-1.541315</td>\n",
       "      <td>-5.257199</td>\n",
       "      <td>0.213623</td>\n",
       "      <td>0.593278</td>\n",
       "      <td>3.616737</td>\n",
       "      <td>...</td>\n",
       "      <td>0.581281</td>\n",
       "      <td>-3.401930</td>\n",
       "      <td>2.320469</td>\n",
       "      <td>3.157410</td>\n",
       "      <td>4.393044</td>\n",
       "      <td>12.101939</td>\n",
       "      <td>-0.747775</td>\n",
       "      <td>-0.511097</td>\n",
       "      <td>1.408481</td>\n",
       "      <td>beauty_wellbeing</td>\n",
       "    </tr>\n",
       "    <tr>\n",
       "      <th>1</th>\n",
       "      <td>1.348109</td>\n",
       "      <td>1.019928</td>\n",
       "      <td>-9.346064</td>\n",
       "      <td>-5.572748</td>\n",
       "      <td>-4.856998</td>\n",
       "      <td>-6.188309</td>\n",
       "      <td>-3.559583</td>\n",
       "      <td>5.256246</td>\n",
       "      <td>-8.304394</td>\n",
       "      <td>-1.915268</td>\n",
       "      <td>...</td>\n",
       "      <td>6.648015</td>\n",
       "      <td>-1.871945</td>\n",
       "      <td>9.686320</td>\n",
       "      <td>2.735891</td>\n",
       "      <td>1.763738</td>\n",
       "      <td>8.780616</td>\n",
       "      <td>1.186969</td>\n",
       "      <td>1.999301</td>\n",
       "      <td>2.743771</td>\n",
       "      <td>beauty_wellbeing</td>\n",
       "    </tr>\n",
       "    <tr>\n",
       "      <th>2</th>\n",
       "      <td>9.066367</td>\n",
       "      <td>-3.344702</td>\n",
       "      <td>-1.788065</td>\n",
       "      <td>1.012523</td>\n",
       "      <td>-2.358032</td>\n",
       "      <td>-3.962410</td>\n",
       "      <td>-4.055778</td>\n",
       "      <td>-1.833944</td>\n",
       "      <td>2.938650</td>\n",
       "      <td>1.612116</td>\n",
       "      <td>...</td>\n",
       "      <td>5.778584</td>\n",
       "      <td>-4.997014</td>\n",
       "      <td>2.162220</td>\n",
       "      <td>3.363889</td>\n",
       "      <td>4.667016</td>\n",
       "      <td>13.557610</td>\n",
       "      <td>-5.855724</td>\n",
       "      <td>-5.707810</td>\n",
       "      <td>1.010891</td>\n",
       "      <td>beauty_wellbeing</td>\n",
       "    </tr>\n",
       "    <tr>\n",
       "      <th>3</th>\n",
       "      <td>1.495197</td>\n",
       "      <td>-2.396264</td>\n",
       "      <td>-4.005068</td>\n",
       "      <td>-4.147858</td>\n",
       "      <td>3.863000</td>\n",
       "      <td>-1.856706</td>\n",
       "      <td>-1.879233</td>\n",
       "      <td>1.139206</td>\n",
       "      <td>-9.948735</td>\n",
       "      <td>5.715406</td>\n",
       "      <td>...</td>\n",
       "      <td>3.473161</td>\n",
       "      <td>-0.575435</td>\n",
       "      <td>-2.402317</td>\n",
       "      <td>-3.309796</td>\n",
       "      <td>1.950958</td>\n",
       "      <td>8.737164</td>\n",
       "      <td>-6.225251</td>\n",
       "      <td>1.628477</td>\n",
       "      <td>-2.316124</td>\n",
       "      <td>beauty_wellbeing</td>\n",
       "    </tr>\n",
       "    <tr>\n",
       "      <th>4</th>\n",
       "      <td>4.377453</td>\n",
       "      <td>-9.588228</td>\n",
       "      <td>0.572681</td>\n",
       "      <td>-1.564694</td>\n",
       "      <td>-2.288914</td>\n",
       "      <td>-9.874044</td>\n",
       "      <td>-3.364615</td>\n",
       "      <td>5.585204</td>\n",
       "      <td>-2.070639</td>\n",
       "      <td>-2.879122</td>\n",
       "      <td>...</td>\n",
       "      <td>2.318398</td>\n",
       "      <td>-5.963313</td>\n",
       "      <td>-1.794160</td>\n",
       "      <td>5.300523</td>\n",
       "      <td>4.461276</td>\n",
       "      <td>7.500114</td>\n",
       "      <td>-5.311936</td>\n",
       "      <td>-2.008378</td>\n",
       "      <td>4.261292</td>\n",
       "      <td>beauty_wellbeing</td>\n",
       "    </tr>\n",
       "    <tr>\n",
       "      <th>...</th>\n",
       "      <td>...</td>\n",
       "      <td>...</td>\n",
       "      <td>...</td>\n",
       "      <td>...</td>\n",
       "      <td>...</td>\n",
       "      <td>...</td>\n",
       "      <td>...</td>\n",
       "      <td>...</td>\n",
       "      <td>...</td>\n",
       "      <td>...</td>\n",
       "      <td>...</td>\n",
       "      <td>...</td>\n",
       "      <td>...</td>\n",
       "      <td>...</td>\n",
       "      <td>...</td>\n",
       "      <td>...</td>\n",
       "      <td>...</td>\n",
       "      <td>...</td>\n",
       "      <td>...</td>\n",
       "      <td>...</td>\n",
       "      <td>...</td>\n",
       "    </tr>\n",
       "    <tr>\n",
       "      <th>4472</th>\n",
       "      <td>-6.717722</td>\n",
       "      <td>0.349456</td>\n",
       "      <td>3.132945</td>\n",
       "      <td>-0.401000</td>\n",
       "      <td>-0.441590</td>\n",
       "      <td>-1.189616</td>\n",
       "      <td>1.708816</td>\n",
       "      <td>-0.146644</td>\n",
       "      <td>-0.190129</td>\n",
       "      <td>7.019242</td>\n",
       "      <td>...</td>\n",
       "      <td>-2.808481</td>\n",
       "      <td>-3.841403</td>\n",
       "      <td>-0.658023</td>\n",
       "      <td>2.433311</td>\n",
       "      <td>0.312751</td>\n",
       "      <td>11.966047</td>\n",
       "      <td>-3.948421</td>\n",
       "      <td>3.102744</td>\n",
       "      <td>-6.873521</td>\n",
       "      <td>vehicles_transportation</td>\n",
       "    </tr>\n",
       "    <tr>\n",
       "      <th>4473</th>\n",
       "      <td>-6.911193</td>\n",
       "      <td>1.440823</td>\n",
       "      <td>2.548128</td>\n",
       "      <td>-3.100884</td>\n",
       "      <td>8.822441</td>\n",
       "      <td>4.941241</td>\n",
       "      <td>2.198640</td>\n",
       "      <td>5.161830</td>\n",
       "      <td>-9.020262</td>\n",
       "      <td>-3.514540</td>\n",
       "      <td>...</td>\n",
       "      <td>-2.823585</td>\n",
       "      <td>-9.801691</td>\n",
       "      <td>5.680787</td>\n",
       "      <td>-6.144229</td>\n",
       "      <td>1.151869</td>\n",
       "      <td>5.331325</td>\n",
       "      <td>-5.028971</td>\n",
       "      <td>3.836699</td>\n",
       "      <td>-10.583253</td>\n",
       "      <td>vehicles_transportation</td>\n",
       "    </tr>\n",
       "    <tr>\n",
       "      <th>4474</th>\n",
       "      <td>1.455796</td>\n",
       "      <td>-2.668402</td>\n",
       "      <td>-1.389625</td>\n",
       "      <td>-3.062446</td>\n",
       "      <td>-2.821195</td>\n",
       "      <td>-0.383443</td>\n",
       "      <td>-1.318816</td>\n",
       "      <td>-0.228552</td>\n",
       "      <td>-7.144111</td>\n",
       "      <td>-2.114722</td>\n",
       "      <td>...</td>\n",
       "      <td>-8.447633</td>\n",
       "      <td>3.005778</td>\n",
       "      <td>-2.626287</td>\n",
       "      <td>2.584342</td>\n",
       "      <td>-6.401578</td>\n",
       "      <td>6.933508</td>\n",
       "      <td>4.941571</td>\n",
       "      <td>-4.600127</td>\n",
       "      <td>-5.776989</td>\n",
       "      <td>vehicles_transportation</td>\n",
       "    </tr>\n",
       "    <tr>\n",
       "      <th>4475</th>\n",
       "      <td>-5.760660</td>\n",
       "      <td>5.931286</td>\n",
       "      <td>-2.306327</td>\n",
       "      <td>-6.683461</td>\n",
       "      <td>-0.256726</td>\n",
       "      <td>-6.611842</td>\n",
       "      <td>6.459180</td>\n",
       "      <td>-4.065218</td>\n",
       "      <td>-8.164078</td>\n",
       "      <td>-0.796073</td>\n",
       "      <td>...</td>\n",
       "      <td>3.274068</td>\n",
       "      <td>5.370887</td>\n",
       "      <td>5.028344</td>\n",
       "      <td>-1.199682</td>\n",
       "      <td>1.805775</td>\n",
       "      <td>7.411559</td>\n",
       "      <td>-5.398070</td>\n",
       "      <td>6.530111</td>\n",
       "      <td>-2.206319</td>\n",
       "      <td>vehicles_transportation</td>\n",
       "    </tr>\n",
       "    <tr>\n",
       "      <th>4476</th>\n",
       "      <td>0.669686</td>\n",
       "      <td>5.065714</td>\n",
       "      <td>2.416343</td>\n",
       "      <td>-2.992714</td>\n",
       "      <td>6.880853</td>\n",
       "      <td>3.398763</td>\n",
       "      <td>0.632753</td>\n",
       "      <td>0.095392</td>\n",
       "      <td>-0.114188</td>\n",
       "      <td>-6.765610</td>\n",
       "      <td>...</td>\n",
       "      <td>-0.696416</td>\n",
       "      <td>-7.445188</td>\n",
       "      <td>4.269611</td>\n",
       "      <td>0.633538</td>\n",
       "      <td>-11.543733</td>\n",
       "      <td>7.195770</td>\n",
       "      <td>-1.308770</td>\n",
       "      <td>-2.764221</td>\n",
       "      <td>-11.262305</td>\n",
       "      <td>vehicles_transportation</td>\n",
       "    </tr>\n",
       "  </tbody>\n",
       "</table>\n",
       "<p>4477 rows × 21 columns</p>\n",
       "</div>"
      ],
      "text/plain": [
       "             0         1         2         3         4         5         6  \\\n",
       "0     1.555916  3.732630  3.569272 -1.574828  3.526356 -1.541315 -5.257199   \n",
       "1     1.348109  1.019928 -9.346064 -5.572748 -4.856998 -6.188309 -3.559583   \n",
       "2     9.066367 -3.344702 -1.788065  1.012523 -2.358032 -3.962410 -4.055778   \n",
       "3     1.495197 -2.396264 -4.005068 -4.147858  3.863000 -1.856706 -1.879233   \n",
       "4     4.377453 -9.588228  0.572681 -1.564694 -2.288914 -9.874044 -3.364615   \n",
       "...        ...       ...       ...       ...       ...       ...       ...   \n",
       "4472 -6.717722  0.349456  3.132945 -0.401000 -0.441590 -1.189616  1.708816   \n",
       "4473 -6.911193  1.440823  2.548128 -3.100884  8.822441  4.941241  2.198640   \n",
       "4474  1.455796 -2.668402 -1.389625 -3.062446 -2.821195 -0.383443 -1.318816   \n",
       "4475 -5.760660  5.931286 -2.306327 -6.683461 -0.256726 -6.611842  6.459180   \n",
       "4476  0.669686  5.065714  2.416343 -2.992714  6.880853  3.398763  0.632753   \n",
       "\n",
       "             7         8         9  ...        11        12        13  \\\n",
       "0     0.213623  0.593278  3.616737  ...  0.581281 -3.401930  2.320469   \n",
       "1     5.256246 -8.304394 -1.915268  ...  6.648015 -1.871945  9.686320   \n",
       "2    -1.833944  2.938650  1.612116  ...  5.778584 -4.997014  2.162220   \n",
       "3     1.139206 -9.948735  5.715406  ...  3.473161 -0.575435 -2.402317   \n",
       "4     5.585204 -2.070639 -2.879122  ...  2.318398 -5.963313 -1.794160   \n",
       "...        ...       ...       ...  ...       ...       ...       ...   \n",
       "4472 -0.146644 -0.190129  7.019242  ... -2.808481 -3.841403 -0.658023   \n",
       "4473  5.161830 -9.020262 -3.514540  ... -2.823585 -9.801691  5.680787   \n",
       "4474 -0.228552 -7.144111 -2.114722  ... -8.447633  3.005778 -2.626287   \n",
       "4475 -4.065218 -8.164078 -0.796073  ...  3.274068  5.370887  5.028344   \n",
       "4476  0.095392 -0.114188 -6.765610  ... -0.696416 -7.445188  4.269611   \n",
       "\n",
       "            14         15         16        17        18         19  \\\n",
       "0     3.157410   4.393044  12.101939 -0.747775 -0.511097   1.408481   \n",
       "1     2.735891   1.763738   8.780616  1.186969  1.999301   2.743771   \n",
       "2     3.363889   4.667016  13.557610 -5.855724 -5.707810   1.010891   \n",
       "3    -3.309796   1.950958   8.737164 -6.225251  1.628477  -2.316124   \n",
       "4     5.300523   4.461276   7.500114 -5.311936 -2.008378   4.261292   \n",
       "...        ...        ...        ...       ...       ...        ...   \n",
       "4472  2.433311   0.312751  11.966047 -3.948421  3.102744  -6.873521   \n",
       "4473 -6.144229   1.151869   5.331325 -5.028971  3.836699 -10.583253   \n",
       "4474  2.584342  -6.401578   6.933508  4.941571 -4.600127  -5.776989   \n",
       "4475 -1.199682   1.805775   7.411559 -5.398070  6.530111  -2.206319   \n",
       "4476  0.633538 -11.543733   7.195770 -1.308770 -2.764221 -11.262305   \n",
       "\n",
       "                     category  \n",
       "0            beauty_wellbeing  \n",
       "1            beauty_wellbeing  \n",
       "2            beauty_wellbeing  \n",
       "3            beauty_wellbeing  \n",
       "4            beauty_wellbeing  \n",
       "...                       ...  \n",
       "4472  vehicles_transportation  \n",
       "4473  vehicles_transportation  \n",
       "4474  vehicles_transportation  \n",
       "4475  vehicles_transportation  \n",
       "4476  vehicles_transportation  \n",
       "\n",
       "[4477 rows x 21 columns]"
      ]
     },
     "execution_count": 15,
     "metadata": {},
     "output_type": "execute_result"
    }
   ],
   "source": [
    "vectors_df"
   ]
  },
  {
   "cell_type": "code",
   "execution_count": 16,
   "metadata": {},
   "outputs": [],
   "source": [
    "df_shuffled = vectors_df.sample(frac = 1)"
   ]
  },
  {
   "cell_type": "code",
   "execution_count": 17,
   "metadata": {},
   "outputs": [
    {
     "data": {
      "text/html": [
       "<div>\n",
       "<style scoped>\n",
       "    .dataframe tbody tr th:only-of-type {\n",
       "        vertical-align: middle;\n",
       "    }\n",
       "\n",
       "    .dataframe tbody tr th {\n",
       "        vertical-align: top;\n",
       "    }\n",
       "\n",
       "    .dataframe thead th {\n",
       "        text-align: right;\n",
       "    }\n",
       "</style>\n",
       "<table border=\"1\" class=\"dataframe\">\n",
       "  <thead>\n",
       "    <tr style=\"text-align: right;\">\n",
       "      <th></th>\n",
       "      <th>0</th>\n",
       "      <th>1</th>\n",
       "      <th>2</th>\n",
       "      <th>3</th>\n",
       "      <th>4</th>\n",
       "      <th>5</th>\n",
       "      <th>6</th>\n",
       "      <th>7</th>\n",
       "      <th>8</th>\n",
       "      <th>9</th>\n",
       "      <th>...</th>\n",
       "      <th>11</th>\n",
       "      <th>12</th>\n",
       "      <th>13</th>\n",
       "      <th>14</th>\n",
       "      <th>15</th>\n",
       "      <th>16</th>\n",
       "      <th>17</th>\n",
       "      <th>18</th>\n",
       "      <th>19</th>\n",
       "      <th>category</th>\n",
       "    </tr>\n",
       "  </thead>\n",
       "  <tbody>\n",
       "    <tr>\n",
       "      <th>2085</th>\n",
       "      <td>1.224406</td>\n",
       "      <td>3.384380</td>\n",
       "      <td>0.322843</td>\n",
       "      <td>1.342431</td>\n",
       "      <td>-0.289813</td>\n",
       "      <td>-2.298068</td>\n",
       "      <td>-1.124613</td>\n",
       "      <td>0.848236</td>\n",
       "      <td>-2.104766</td>\n",
       "      <td>-0.956906</td>\n",
       "      <td>...</td>\n",
       "      <td>0.483626</td>\n",
       "      <td>0.062560</td>\n",
       "      <td>-1.762253</td>\n",
       "      <td>-2.342299</td>\n",
       "      <td>-0.414950</td>\n",
       "      <td>4.476934</td>\n",
       "      <td>0.071476</td>\n",
       "      <td>-0.337353</td>\n",
       "      <td>-3.793461</td>\n",
       "      <td>events_entertainment</td>\n",
       "    </tr>\n",
       "    <tr>\n",
       "      <th>3744</th>\n",
       "      <td>-6.885200</td>\n",
       "      <td>1.457719</td>\n",
       "      <td>0.291891</td>\n",
       "      <td>-4.906013</td>\n",
       "      <td>0.596729</td>\n",
       "      <td>-3.110317</td>\n",
       "      <td>-0.331666</td>\n",
       "      <td>3.179823</td>\n",
       "      <td>-4.502203</td>\n",
       "      <td>-6.758286</td>\n",
       "      <td>...</td>\n",
       "      <td>3.510781</td>\n",
       "      <td>-5.100393</td>\n",
       "      <td>-5.028840</td>\n",
       "      <td>-0.280375</td>\n",
       "      <td>-1.996063</td>\n",
       "      <td>1.724986</td>\n",
       "      <td>0.138318</td>\n",
       "      <td>-1.151723</td>\n",
       "      <td>-4.873713</td>\n",
       "      <td>shopping_fashion</td>\n",
       "    </tr>\n",
       "    <tr>\n",
       "      <th>2736</th>\n",
       "      <td>1.088331</td>\n",
       "      <td>-4.643239</td>\n",
       "      <td>-1.429445</td>\n",
       "      <td>-2.709188</td>\n",
       "      <td>-7.896357</td>\n",
       "      <td>-3.144679</td>\n",
       "      <td>-0.951984</td>\n",
       "      <td>10.489480</td>\n",
       "      <td>-4.401153</td>\n",
       "      <td>-7.203173</td>\n",
       "      <td>...</td>\n",
       "      <td>-0.770394</td>\n",
       "      <td>1.043401</td>\n",
       "      <td>-1.008071</td>\n",
       "      <td>1.354683</td>\n",
       "      <td>2.899529</td>\n",
       "      <td>0.735733</td>\n",
       "      <td>0.657103</td>\n",
       "      <td>-2.020345</td>\n",
       "      <td>4.575097</td>\n",
       "      <td>food_beverages_tobacco</td>\n",
       "    </tr>\n",
       "    <tr>\n",
       "      <th>470</th>\n",
       "      <td>5.676783</td>\n",
       "      <td>-1.974664</td>\n",
       "      <td>1.303457</td>\n",
       "      <td>-2.249200</td>\n",
       "      <td>-1.645018</td>\n",
       "      <td>1.190687</td>\n",
       "      <td>-4.632554</td>\n",
       "      <td>15.975235</td>\n",
       "      <td>-3.482816</td>\n",
       "      <td>-9.925109</td>\n",
       "      <td>...</td>\n",
       "      <td>5.706667</td>\n",
       "      <td>3.216900</td>\n",
       "      <td>-1.295587</td>\n",
       "      <td>-3.196220</td>\n",
       "      <td>9.752891</td>\n",
       "      <td>8.637935</td>\n",
       "      <td>-1.675328</td>\n",
       "      <td>6.178218</td>\n",
       "      <td>4.520153</td>\n",
       "      <td>business_services</td>\n",
       "    </tr>\n",
       "    <tr>\n",
       "      <th>2128</th>\n",
       "      <td>-5.062718</td>\n",
       "      <td>-1.171038</td>\n",
       "      <td>1.665671</td>\n",
       "      <td>-0.698343</td>\n",
       "      <td>-7.040158</td>\n",
       "      <td>-5.058622</td>\n",
       "      <td>0.265715</td>\n",
       "      <td>2.210385</td>\n",
       "      <td>-2.705788</td>\n",
       "      <td>-7.182459</td>\n",
       "      <td>...</td>\n",
       "      <td>5.793700</td>\n",
       "      <td>-4.967267</td>\n",
       "      <td>-0.355086</td>\n",
       "      <td>-8.555696</td>\n",
       "      <td>-3.867837</td>\n",
       "      <td>7.872692</td>\n",
       "      <td>3.496317</td>\n",
       "      <td>-5.296865</td>\n",
       "      <td>-7.974826</td>\n",
       "      <td>events_entertainment</td>\n",
       "    </tr>\n",
       "    <tr>\n",
       "      <th>...</th>\n",
       "      <td>...</td>\n",
       "      <td>...</td>\n",
       "      <td>...</td>\n",
       "      <td>...</td>\n",
       "      <td>...</td>\n",
       "      <td>...</td>\n",
       "      <td>...</td>\n",
       "      <td>...</td>\n",
       "      <td>...</td>\n",
       "      <td>...</td>\n",
       "      <td>...</td>\n",
       "      <td>...</td>\n",
       "      <td>...</td>\n",
       "      <td>...</td>\n",
       "      <td>...</td>\n",
       "      <td>...</td>\n",
       "      <td>...</td>\n",
       "      <td>...</td>\n",
       "      <td>...</td>\n",
       "      <td>...</td>\n",
       "      <td>...</td>\n",
       "    </tr>\n",
       "    <tr>\n",
       "      <th>379</th>\n",
       "      <td>-2.492742</td>\n",
       "      <td>-4.193331</td>\n",
       "      <td>-0.118954</td>\n",
       "      <td>-3.792245</td>\n",
       "      <td>-3.854279</td>\n",
       "      <td>-1.917014</td>\n",
       "      <td>3.587872</td>\n",
       "      <td>5.773516</td>\n",
       "      <td>-2.907598</td>\n",
       "      <td>2.174008</td>\n",
       "      <td>...</td>\n",
       "      <td>-4.768588</td>\n",
       "      <td>-0.898678</td>\n",
       "      <td>-5.521359</td>\n",
       "      <td>-4.377561</td>\n",
       "      <td>0.656628</td>\n",
       "      <td>7.197237</td>\n",
       "      <td>-3.659373</td>\n",
       "      <td>-0.213172</td>\n",
       "      <td>-0.662499</td>\n",
       "      <td>beauty_wellbeing</td>\n",
       "    </tr>\n",
       "    <tr>\n",
       "      <th>3230</th>\n",
       "      <td>1.017589</td>\n",
       "      <td>-3.327535</td>\n",
       "      <td>-0.758948</td>\n",
       "      <td>-0.906026</td>\n",
       "      <td>2.060287</td>\n",
       "      <td>-2.666766</td>\n",
       "      <td>5.542036</td>\n",
       "      <td>2.425282</td>\n",
       "      <td>-6.711596</td>\n",
       "      <td>-9.750267</td>\n",
       "      <td>...</td>\n",
       "      <td>-0.128969</td>\n",
       "      <td>-0.526617</td>\n",
       "      <td>-2.393811</td>\n",
       "      <td>4.213388</td>\n",
       "      <td>-6.744339</td>\n",
       "      <td>8.520102</td>\n",
       "      <td>-3.912719</td>\n",
       "      <td>-6.889428</td>\n",
       "      <td>0.729159</td>\n",
       "      <td>home_garden</td>\n",
       "    </tr>\n",
       "    <tr>\n",
       "      <th>1123</th>\n",
       "      <td>3.044461</td>\n",
       "      <td>-2.552159</td>\n",
       "      <td>2.310256</td>\n",
       "      <td>9.462728</td>\n",
       "      <td>2.196751</td>\n",
       "      <td>-3.280374</td>\n",
       "      <td>4.472308</td>\n",
       "      <td>4.085920</td>\n",
       "      <td>-10.613445</td>\n",
       "      <td>-7.233757</td>\n",
       "      <td>...</td>\n",
       "      <td>-3.513761</td>\n",
       "      <td>5.417091</td>\n",
       "      <td>6.037434</td>\n",
       "      <td>3.134390</td>\n",
       "      <td>1.053260</td>\n",
       "      <td>-0.229303</td>\n",
       "      <td>-6.701207</td>\n",
       "      <td>6.326281</td>\n",
       "      <td>-10.399705</td>\n",
       "      <td>construction_manufactoring</td>\n",
       "    </tr>\n",
       "    <tr>\n",
       "      <th>2046</th>\n",
       "      <td>3.849948</td>\n",
       "      <td>0.488308</td>\n",
       "      <td>0.084381</td>\n",
       "      <td>0.578820</td>\n",
       "      <td>-4.431014</td>\n",
       "      <td>-0.703103</td>\n",
       "      <td>2.800950</td>\n",
       "      <td>8.625644</td>\n",
       "      <td>4.904677</td>\n",
       "      <td>-10.856080</td>\n",
       "      <td>...</td>\n",
       "      <td>-5.291849</td>\n",
       "      <td>8.312619</td>\n",
       "      <td>0.098279</td>\n",
       "      <td>4.747036</td>\n",
       "      <td>5.768453</td>\n",
       "      <td>1.689818</td>\n",
       "      <td>-1.451958</td>\n",
       "      <td>0.987114</td>\n",
       "      <td>-0.253188</td>\n",
       "      <td>events_entertainment</td>\n",
       "    </tr>\n",
       "    <tr>\n",
       "      <th>4220</th>\n",
       "      <td>1.972054</td>\n",
       "      <td>0.118121</td>\n",
       "      <td>6.606615</td>\n",
       "      <td>0.368142</td>\n",
       "      <td>0.336839</td>\n",
       "      <td>2.186977</td>\n",
       "      <td>10.875636</td>\n",
       "      <td>1.855407</td>\n",
       "      <td>-3.986163</td>\n",
       "      <td>-3.137912</td>\n",
       "      <td>...</td>\n",
       "      <td>-6.221025</td>\n",
       "      <td>7.218754</td>\n",
       "      <td>7.854308</td>\n",
       "      <td>-1.065044</td>\n",
       "      <td>2.966583</td>\n",
       "      <td>0.175661</td>\n",
       "      <td>-5.619166</td>\n",
       "      <td>3.126266</td>\n",
       "      <td>-15.211768</td>\n",
       "      <td>vehicles_transportation</td>\n",
       "    </tr>\n",
       "  </tbody>\n",
       "</table>\n",
       "<p>4477 rows × 21 columns</p>\n",
       "</div>"
      ],
      "text/plain": [
       "             0         1         2         3         4         5          6  \\\n",
       "2085  1.224406  3.384380  0.322843  1.342431 -0.289813 -2.298068  -1.124613   \n",
       "3744 -6.885200  1.457719  0.291891 -4.906013  0.596729 -3.110317  -0.331666   \n",
       "2736  1.088331 -4.643239 -1.429445 -2.709188 -7.896357 -3.144679  -0.951984   \n",
       "470   5.676783 -1.974664  1.303457 -2.249200 -1.645018  1.190687  -4.632554   \n",
       "2128 -5.062718 -1.171038  1.665671 -0.698343 -7.040158 -5.058622   0.265715   \n",
       "...        ...       ...       ...       ...       ...       ...        ...   \n",
       "379  -2.492742 -4.193331 -0.118954 -3.792245 -3.854279 -1.917014   3.587872   \n",
       "3230  1.017589 -3.327535 -0.758948 -0.906026  2.060287 -2.666766   5.542036   \n",
       "1123  3.044461 -2.552159  2.310256  9.462728  2.196751 -3.280374   4.472308   \n",
       "2046  3.849948  0.488308  0.084381  0.578820 -4.431014 -0.703103   2.800950   \n",
       "4220  1.972054  0.118121  6.606615  0.368142  0.336839  2.186977  10.875636   \n",
       "\n",
       "              7          8          9  ...        11        12        13  \\\n",
       "2085   0.848236  -2.104766  -0.956906  ...  0.483626  0.062560 -1.762253   \n",
       "3744   3.179823  -4.502203  -6.758286  ...  3.510781 -5.100393 -5.028840   \n",
       "2736  10.489480  -4.401153  -7.203173  ... -0.770394  1.043401 -1.008071   \n",
       "470   15.975235  -3.482816  -9.925109  ...  5.706667  3.216900 -1.295587   \n",
       "2128   2.210385  -2.705788  -7.182459  ...  5.793700 -4.967267 -0.355086   \n",
       "...         ...        ...        ...  ...       ...       ...       ...   \n",
       "379    5.773516  -2.907598   2.174008  ... -4.768588 -0.898678 -5.521359   \n",
       "3230   2.425282  -6.711596  -9.750267  ... -0.128969 -0.526617 -2.393811   \n",
       "1123   4.085920 -10.613445  -7.233757  ... -3.513761  5.417091  6.037434   \n",
       "2046   8.625644   4.904677 -10.856080  ... -5.291849  8.312619  0.098279   \n",
       "4220   1.855407  -3.986163  -3.137912  ... -6.221025  7.218754  7.854308   \n",
       "\n",
       "            14        15        16        17        18         19  \\\n",
       "2085 -2.342299 -0.414950  4.476934  0.071476 -0.337353  -3.793461   \n",
       "3744 -0.280375 -1.996063  1.724986  0.138318 -1.151723  -4.873713   \n",
       "2736  1.354683  2.899529  0.735733  0.657103 -2.020345   4.575097   \n",
       "470  -3.196220  9.752891  8.637935 -1.675328  6.178218   4.520153   \n",
       "2128 -8.555696 -3.867837  7.872692  3.496317 -5.296865  -7.974826   \n",
       "...        ...       ...       ...       ...       ...        ...   \n",
       "379  -4.377561  0.656628  7.197237 -3.659373 -0.213172  -0.662499   \n",
       "3230  4.213388 -6.744339  8.520102 -3.912719 -6.889428   0.729159   \n",
       "1123  3.134390  1.053260 -0.229303 -6.701207  6.326281 -10.399705   \n",
       "2046  4.747036  5.768453  1.689818 -1.451958  0.987114  -0.253188   \n",
       "4220 -1.065044  2.966583  0.175661 -5.619166  3.126266 -15.211768   \n",
       "\n",
       "                        category  \n",
       "2085        events_entertainment  \n",
       "3744            shopping_fashion  \n",
       "2736      food_beverages_tobacco  \n",
       "470            business_services  \n",
       "2128        events_entertainment  \n",
       "...                          ...  \n",
       "379             beauty_wellbeing  \n",
       "3230                 home_garden  \n",
       "1123  construction_manufactoring  \n",
       "2046        events_entertainment  \n",
       "4220     vehicles_transportation  \n",
       "\n",
       "[4477 rows x 21 columns]"
      ]
     },
     "execution_count": 17,
     "metadata": {},
     "output_type": "execute_result"
    }
   ],
   "source": [
    "df_shuffled"
   ]
  },
  {
   "cell_type": "markdown",
   "metadata": {},
   "source": [
    "### Split Train Test"
   ]
  },
  {
   "cell_type": "code",
   "execution_count": 18,
   "metadata": {},
   "outputs": [],
   "source": [
    "from sklearn.model_selection import train_test_split"
   ]
  },
  {
   "cell_type": "code",
   "execution_count": 19,
   "metadata": {},
   "outputs": [],
   "source": [
    "y = df_shuffled[\"category\"]\n",
    "X = df_shuffled.drop(columns=[\"category\"])"
   ]
  },
  {
   "cell_type": "code",
   "execution_count": 20,
   "metadata": {},
   "outputs": [],
   "source": [
    "X_train, X_test, y_train, y_test = train_test_split(X, y, test_size=0.20, random_state=2)"
   ]
  },
  {
   "cell_type": "markdown",
   "metadata": {},
   "source": [
    "### Classification Models"
   ]
  },
  {
   "cell_type": "code",
   "execution_count": 21,
   "metadata": {},
   "outputs": [],
   "source": [
    "from sklearn.svm import SVC\n",
    "from sklearn.naive_bayes import GaussianNB\n",
    "from sklearn.linear_model import SGDClassifier\n",
    "from sklearn.neighbors import KNeighborsClassifier\n",
    "from sklearn.tree import DecisionTreeClassifier\n",
    "from sklearn.ensemble import RandomForestClassifier\n",
    "from sklearn.ensemble import GradientBoostingClassifier\n",
    "from lightgbm import LGBMClassifier\n",
    "from xgboost.sklearn import XGBClassifier"
   ]
  },
  {
   "cell_type": "markdown",
   "metadata": {},
   "source": [
    "### SVM"
   ]
  },
  {
   "cell_type": "code",
   "execution_count": 22,
   "metadata": {},
   "outputs": [],
   "source": [
    "svm = SVC(kernel = 'linear', random_state = 0)\n",
    "svm.fit(X_train, y_train)\n",
    "#Prediction sur le Test set\n",
    "y_pred = svm.predict(X_test)"
   ]
  },
  {
   "cell_type": "code",
   "execution_count": 23,
   "metadata": {},
   "outputs": [],
   "source": [
    "from sklearn.metrics import classification_report\n",
    "from sklearn.metrics  import f1_score,accuracy_score"
   ]
  },
  {
   "cell_type": "code",
   "execution_count": 24,
   "metadata": {},
   "outputs": [],
   "source": [
    "report = classification_report(y_test, y_pred, output_dict=True)"
   ]
  },
  {
   "cell_type": "code",
   "execution_count": 25,
   "metadata": {},
   "outputs": [
    {
     "name": "stdout",
     "output_type": "stream",
     "text": [
      "                            precision    recall  f1-score   support\n",
      "\n",
      "          beauty_wellbeing       0.53      0.58      0.56        77\n",
      "         business_services       0.40      0.28      0.33        90\n",
      "construction_manufactoring       0.38      0.33      0.36        75\n",
      "        education_training       0.66      0.73      0.69        93\n",
      "    electronics_technology       0.52      0.63      0.57        83\n",
      "      events_entertainment       0.49      0.39      0.44       100\n",
      "    food_beverages_tobacco       0.59      0.64      0.61        84\n",
      "               home_garden       0.40      0.31      0.35        80\n",
      "           money_insurance       0.60      0.67      0.63        67\n",
      "          shopping_fashion       0.52      0.64      0.57        75\n",
      "   vehicles_transportation       0.60      0.67      0.63        72\n",
      "\n",
      "                  accuracy                           0.53       896\n",
      "                 macro avg       0.52      0.53      0.52       896\n",
      "              weighted avg       0.52      0.53      0.52       896\n",
      "\n"
     ]
    }
   ],
   "source": [
    "print(classification_report(y_test, y_pred))"
   ]
  },
  {
   "cell_type": "markdown",
   "metadata": {},
   "source": [
    "### GaussianNB"
   ]
  },
  {
   "cell_type": "code",
   "execution_count": 26,
   "metadata": {},
   "outputs": [],
   "source": [
    "nb = GaussianNB()\n",
    "nb.fit(X_train, y_train)\n",
    "y_pred = nb.predict(X_test)"
   ]
  },
  {
   "cell_type": "code",
   "execution_count": 27,
   "metadata": {},
   "outputs": [],
   "source": [
    "report = classification_report(y_test, y_pred, output_dict=True)"
   ]
  },
  {
   "cell_type": "code",
   "execution_count": 28,
   "metadata": {},
   "outputs": [
    {
     "name": "stdout",
     "output_type": "stream",
     "text": [
      "                            precision    recall  f1-score   support\n",
      "\n",
      "          beauty_wellbeing       0.52      0.57      0.54        77\n",
      "         business_services       0.43      0.30      0.35        90\n",
      "construction_manufactoring       0.42      0.43      0.42        75\n",
      "        education_training       0.67      0.71      0.69        93\n",
      "    electronics_technology       0.56      0.52      0.54        83\n",
      "      events_entertainment       0.42      0.30      0.35       100\n",
      "    food_beverages_tobacco       0.64      0.64      0.64        84\n",
      "               home_garden       0.42      0.34      0.38        80\n",
      "           money_insurance       0.55      0.67      0.60        67\n",
      "          shopping_fashion       0.44      0.60      0.51        75\n",
      "   vehicles_transportation       0.53      0.68      0.60        72\n",
      "\n",
      "                  accuracy                           0.52       896\n",
      "                 macro avg       0.51      0.52      0.51       896\n",
      "              weighted avg       0.51      0.52      0.51       896\n",
      "\n"
     ]
    }
   ],
   "source": [
    "print(classification_report(y_test, y_pred))"
   ]
  },
  {
   "cell_type": "markdown",
   "metadata": {},
   "source": [
    "### SGDClassifier"
   ]
  },
  {
   "cell_type": "code",
   "execution_count": null,
   "metadata": {},
   "outputs": [],
   "source": [
    "clf = SGDClassifier(loss=\"log_loss\", penalty=\"l2\")\n",
    "clf.fit(X_train, y_train)\n",
    "y_pred = clf.predict(X_test)"
   ]
  },
  {
   "cell_type": "code",
   "execution_count": null,
   "metadata": {},
   "outputs": [
    {
     "name": "stdout",
     "output_type": "stream",
     "text": [
      "                            precision    recall  f1-score   support\n",
      "\n",
      "          beauty_wellbeing       0.50      0.38      0.43        69\n",
      "         business_services       0.08      0.03      0.05        94\n",
      "construction_manufactoring       0.20      0.21      0.21        76\n",
      "        education_training       0.58      0.80      0.67        70\n",
      "    electronics_technology       0.30      0.48      0.37        79\n",
      "      events_entertainment       0.17      0.15      0.16        78\n",
      "    food_beverages_tobacco       0.49      0.33      0.39        85\n",
      "               home_garden       0.22      0.64      0.32        81\n",
      "           money_insurance       0.61      0.21      0.31        90\n",
      "          shopping_fashion       0.46      0.39      0.42        85\n",
      "   vehicles_transportation       0.61      0.22      0.33        89\n",
      "\n",
      "                  accuracy                           0.34       896\n",
      "                 macro avg       0.38      0.35      0.33       896\n",
      "              weighted avg       0.38      0.34      0.33       896\n",
      "\n"
     ]
    }
   ],
   "source": [
    "print(classification_report(y_test, y_pred))"
   ]
  },
  {
   "cell_type": "markdown",
   "metadata": {},
   "source": [
    "### KNeighborsClassifier"
   ]
  },
  {
   "cell_type": "code",
   "execution_count": 38,
   "metadata": {},
   "outputs": [],
   "source": [
    "knn_clf=KNeighborsClassifier(n_neighbors=150)\n",
    "knn_clf.fit(X_train,y_train)\n",
    "ypred=knn_clf.predict(X_test)"
   ]
  },
  {
   "cell_type": "code",
   "execution_count": 39,
   "metadata": {},
   "outputs": [
    {
     "name": "stdout",
     "output_type": "stream",
     "text": [
      "                            precision    recall  f1-score   support\n",
      "\n",
      "          beauty_wellbeing       0.52      0.57      0.54        77\n",
      "         business_services       0.43      0.30      0.35        90\n",
      "construction_manufactoring       0.42      0.43      0.42        75\n",
      "        education_training       0.67      0.71      0.69        93\n",
      "    electronics_technology       0.56      0.52      0.54        83\n",
      "      events_entertainment       0.42      0.30      0.35       100\n",
      "    food_beverages_tobacco       0.64      0.64      0.64        84\n",
      "               home_garden       0.42      0.34      0.38        80\n",
      "           money_insurance       0.55      0.67      0.60        67\n",
      "          shopping_fashion       0.44      0.60      0.51        75\n",
      "   vehicles_transportation       0.53      0.68      0.60        72\n",
      "\n",
      "                  accuracy                           0.52       896\n",
      "                 macro avg       0.51      0.52      0.51       896\n",
      "              weighted avg       0.51      0.52      0.51       896\n",
      "\n"
     ]
    }
   ],
   "source": [
    "print(classification_report(y_test, y_pred))"
   ]
  },
  {
   "cell_type": "markdown",
   "metadata": {},
   "source": [
    "### DecisionTreeClassifier"
   ]
  },
  {
   "cell_type": "code",
   "execution_count": 46,
   "metadata": {},
   "outputs": [],
   "source": [
    "# Create Decision Tree classifer object\n",
    "clf = DecisionTreeClassifier(criterion=\"entropy\", max_depth=10)\n",
    "\n",
    "# Train Decision Tree Classifer\n",
    "clf = clf.fit(X_train,y_train)\n",
    "\n",
    "#Predict the response for test dataset\n",
    "y_pred = clf.predict(X_test)"
   ]
  },
  {
   "cell_type": "code",
   "execution_count": 47,
   "metadata": {},
   "outputs": [
    {
     "name": "stdout",
     "output_type": "stream",
     "text": [
      "                            precision    recall  f1-score   support\n",
      "\n",
      "          beauty_wellbeing       0.25      0.34      0.29        77\n",
      "         business_services       0.25      0.19      0.22        90\n",
      "construction_manufactoring       0.23      0.23      0.23        75\n",
      "        education_training       0.40      0.33      0.36        93\n",
      "    electronics_technology       0.26      0.29      0.28        83\n",
      "      events_entertainment       0.21      0.21      0.21       100\n",
      "    food_beverages_tobacco       0.42      0.42      0.42        84\n",
      "               home_garden       0.28      0.29      0.29        80\n",
      "           money_insurance       0.36      0.33      0.34        67\n",
      "          shopping_fashion       0.28      0.31      0.29        75\n",
      "   vehicles_transportation       0.36      0.38      0.37        72\n",
      "\n",
      "                  accuracy                           0.30       896\n",
      "                 macro avg       0.30      0.30      0.30       896\n",
      "              weighted avg       0.30      0.30      0.30       896\n",
      "\n"
     ]
    }
   ],
   "source": [
    "print(classification_report(y_test, y_pred))"
   ]
  },
  {
   "cell_type": "markdown",
   "metadata": {},
   "source": [
    "### RandomForestClassifier"
   ]
  },
  {
   "cell_type": "code",
   "execution_count": 48,
   "metadata": {},
   "outputs": [],
   "source": [
    "rf = RandomForestClassifier()\n",
    "rf.fit(X_train, y_train)\n",
    "y_pred = rf.predict(X_test)"
   ]
  },
  {
   "cell_type": "code",
   "execution_count": 49,
   "metadata": {},
   "outputs": [
    {
     "name": "stdout",
     "output_type": "stream",
     "text": [
      "                            precision    recall  f1-score   support\n",
      "\n",
      "          beauty_wellbeing       0.51      0.53      0.52        77\n",
      "         business_services       0.35      0.21      0.26        90\n",
      "construction_manufactoring       0.38      0.36      0.37        75\n",
      "        education_training       0.64      0.70      0.67        93\n",
      "    electronics_technology       0.47      0.49      0.48        83\n",
      "      events_entertainment       0.49      0.22      0.30       100\n",
      "    food_beverages_tobacco       0.51      0.63      0.57        84\n",
      "               home_garden       0.47      0.33      0.39        80\n",
      "           money_insurance       0.50      0.64      0.56        67\n",
      "          shopping_fashion       0.40      0.61      0.48        75\n",
      "   vehicles_transportation       0.46      0.62      0.53        72\n",
      "\n",
      "                  accuracy                           0.48       896\n",
      "                 macro avg       0.47      0.49      0.47       896\n",
      "              weighted avg       0.47      0.48      0.46       896\n",
      "\n"
     ]
    }
   ],
   "source": [
    "print(classification_report(y_test, y_pred))"
   ]
  },
  {
   "cell_type": "code",
   "execution_count": 51,
   "metadata": {},
   "outputs": [],
   "source": [
    "from sklearn.model_selection import RandomizedSearchCV\n",
    "from scipy.stats import randint"
   ]
  },
  {
   "cell_type": "code",
   "execution_count": 52,
   "metadata": {},
   "outputs": [
    {
     "data": {
      "text/html": [
       "<style>#sk-container-id-1 {\n",
       "  /* Definition of color scheme common for light and dark mode */\n",
       "  --sklearn-color-text: black;\n",
       "  --sklearn-color-line: gray;\n",
       "  /* Definition of color scheme for unfitted estimators */\n",
       "  --sklearn-color-unfitted-level-0: #fff5e6;\n",
       "  --sklearn-color-unfitted-level-1: #f6e4d2;\n",
       "  --sklearn-color-unfitted-level-2: #ffe0b3;\n",
       "  --sklearn-color-unfitted-level-3: chocolate;\n",
       "  /* Definition of color scheme for fitted estimators */\n",
       "  --sklearn-color-fitted-level-0: #f0f8ff;\n",
       "  --sklearn-color-fitted-level-1: #d4ebff;\n",
       "  --sklearn-color-fitted-level-2: #b3dbfd;\n",
       "  --sklearn-color-fitted-level-3: cornflowerblue;\n",
       "\n",
       "  /* Specific color for light theme */\n",
       "  --sklearn-color-text-on-default-background: var(--sg-text-color, var(--theme-code-foreground, var(--jp-content-font-color1, black)));\n",
       "  --sklearn-color-background: var(--sg-background-color, var(--theme-background, var(--jp-layout-color0, white)));\n",
       "  --sklearn-color-border-box: var(--sg-text-color, var(--theme-code-foreground, var(--jp-content-font-color1, black)));\n",
       "  --sklearn-color-icon: #696969;\n",
       "\n",
       "  @media (prefers-color-scheme: dark) {\n",
       "    /* Redefinition of color scheme for dark theme */\n",
       "    --sklearn-color-text-on-default-background: var(--sg-text-color, var(--theme-code-foreground, var(--jp-content-font-color1, white)));\n",
       "    --sklearn-color-background: var(--sg-background-color, var(--theme-background, var(--jp-layout-color0, #111)));\n",
       "    --sklearn-color-border-box: var(--sg-text-color, var(--theme-code-foreground, var(--jp-content-font-color1, white)));\n",
       "    --sklearn-color-icon: #878787;\n",
       "  }\n",
       "}\n",
       "\n",
       "#sk-container-id-1 {\n",
       "  color: var(--sklearn-color-text);\n",
       "}\n",
       "\n",
       "#sk-container-id-1 pre {\n",
       "  padding: 0;\n",
       "}\n",
       "\n",
       "#sk-container-id-1 input.sk-hidden--visually {\n",
       "  border: 0;\n",
       "  clip: rect(1px 1px 1px 1px);\n",
       "  clip: rect(1px, 1px, 1px, 1px);\n",
       "  height: 1px;\n",
       "  margin: -1px;\n",
       "  overflow: hidden;\n",
       "  padding: 0;\n",
       "  position: absolute;\n",
       "  width: 1px;\n",
       "}\n",
       "\n",
       "#sk-container-id-1 div.sk-dashed-wrapped {\n",
       "  border: 1px dashed var(--sklearn-color-line);\n",
       "  margin: 0 0.4em 0.5em 0.4em;\n",
       "  box-sizing: border-box;\n",
       "  padding-bottom: 0.4em;\n",
       "  background-color: var(--sklearn-color-background);\n",
       "}\n",
       "\n",
       "#sk-container-id-1 div.sk-container {\n",
       "  /* jupyter's `normalize.less` sets `[hidden] { display: none; }`\n",
       "     but bootstrap.min.css set `[hidden] { display: none !important; }`\n",
       "     so we also need the `!important` here to be able to override the\n",
       "     default hidden behavior on the sphinx rendered scikit-learn.org.\n",
       "     See: https://github.com/scikit-learn/scikit-learn/issues/21755 */\n",
       "  display: inline-block !important;\n",
       "  position: relative;\n",
       "}\n",
       "\n",
       "#sk-container-id-1 div.sk-text-repr-fallback {\n",
       "  display: none;\n",
       "}\n",
       "\n",
       "div.sk-parallel-item,\n",
       "div.sk-serial,\n",
       "div.sk-item {\n",
       "  /* draw centered vertical line to link estimators */\n",
       "  background-image: linear-gradient(var(--sklearn-color-text-on-default-background), var(--sklearn-color-text-on-default-background));\n",
       "  background-size: 2px 100%;\n",
       "  background-repeat: no-repeat;\n",
       "  background-position: center center;\n",
       "}\n",
       "\n",
       "/* Parallel-specific style estimator block */\n",
       "\n",
       "#sk-container-id-1 div.sk-parallel-item::after {\n",
       "  content: \"\";\n",
       "  width: 100%;\n",
       "  border-bottom: 2px solid var(--sklearn-color-text-on-default-background);\n",
       "  flex-grow: 1;\n",
       "}\n",
       "\n",
       "#sk-container-id-1 div.sk-parallel {\n",
       "  display: flex;\n",
       "  align-items: stretch;\n",
       "  justify-content: center;\n",
       "  background-color: var(--sklearn-color-background);\n",
       "  position: relative;\n",
       "}\n",
       "\n",
       "#sk-container-id-1 div.sk-parallel-item {\n",
       "  display: flex;\n",
       "  flex-direction: column;\n",
       "}\n",
       "\n",
       "#sk-container-id-1 div.sk-parallel-item:first-child::after {\n",
       "  align-self: flex-end;\n",
       "  width: 50%;\n",
       "}\n",
       "\n",
       "#sk-container-id-1 div.sk-parallel-item:last-child::after {\n",
       "  align-self: flex-start;\n",
       "  width: 50%;\n",
       "}\n",
       "\n",
       "#sk-container-id-1 div.sk-parallel-item:only-child::after {\n",
       "  width: 0;\n",
       "}\n",
       "\n",
       "/* Serial-specific style estimator block */\n",
       "\n",
       "#sk-container-id-1 div.sk-serial {\n",
       "  display: flex;\n",
       "  flex-direction: column;\n",
       "  align-items: center;\n",
       "  background-color: var(--sklearn-color-background);\n",
       "  padding-right: 1em;\n",
       "  padding-left: 1em;\n",
       "}\n",
       "\n",
       "\n",
       "/* Toggleable style: style used for estimator/Pipeline/ColumnTransformer box that is\n",
       "clickable and can be expanded/collapsed.\n",
       "- Pipeline and ColumnTransformer use this feature and define the default style\n",
       "- Estimators will overwrite some part of the style using the `sk-estimator` class\n",
       "*/\n",
       "\n",
       "/* Pipeline and ColumnTransformer style (default) */\n",
       "\n",
       "#sk-container-id-1 div.sk-toggleable {\n",
       "  /* Default theme specific background. It is overwritten whether we have a\n",
       "  specific estimator or a Pipeline/ColumnTransformer */\n",
       "  background-color: var(--sklearn-color-background);\n",
       "}\n",
       "\n",
       "/* Toggleable label */\n",
       "#sk-container-id-1 label.sk-toggleable__label {\n",
       "  cursor: pointer;\n",
       "  display: block;\n",
       "  width: 100%;\n",
       "  margin-bottom: 0;\n",
       "  padding: 0.5em;\n",
       "  box-sizing: border-box;\n",
       "  text-align: center;\n",
       "}\n",
       "\n",
       "#sk-container-id-1 label.sk-toggleable__label-arrow:before {\n",
       "  /* Arrow on the left of the label */\n",
       "  content: \"▸\";\n",
       "  float: left;\n",
       "  margin-right: 0.25em;\n",
       "  color: var(--sklearn-color-icon);\n",
       "}\n",
       "\n",
       "#sk-container-id-1 label.sk-toggleable__label-arrow:hover:before {\n",
       "  color: var(--sklearn-color-text);\n",
       "}\n",
       "\n",
       "/* Toggleable content - dropdown */\n",
       "\n",
       "#sk-container-id-1 div.sk-toggleable__content {\n",
       "  max-height: 0;\n",
       "  max-width: 0;\n",
       "  overflow: hidden;\n",
       "  text-align: left;\n",
       "  /* unfitted */\n",
       "  background-color: var(--sklearn-color-unfitted-level-0);\n",
       "}\n",
       "\n",
       "#sk-container-id-1 div.sk-toggleable__content.fitted {\n",
       "  /* fitted */\n",
       "  background-color: var(--sklearn-color-fitted-level-0);\n",
       "}\n",
       "\n",
       "#sk-container-id-1 div.sk-toggleable__content pre {\n",
       "  margin: 0.2em;\n",
       "  border-radius: 0.25em;\n",
       "  color: var(--sklearn-color-text);\n",
       "  /* unfitted */\n",
       "  background-color: var(--sklearn-color-unfitted-level-0);\n",
       "}\n",
       "\n",
       "#sk-container-id-1 div.sk-toggleable__content.fitted pre {\n",
       "  /* unfitted */\n",
       "  background-color: var(--sklearn-color-fitted-level-0);\n",
       "}\n",
       "\n",
       "#sk-container-id-1 input.sk-toggleable__control:checked~div.sk-toggleable__content {\n",
       "  /* Expand drop-down */\n",
       "  max-height: 200px;\n",
       "  max-width: 100%;\n",
       "  overflow: auto;\n",
       "}\n",
       "\n",
       "#sk-container-id-1 input.sk-toggleable__control:checked~label.sk-toggleable__label-arrow:before {\n",
       "  content: \"▾\";\n",
       "}\n",
       "\n",
       "/* Pipeline/ColumnTransformer-specific style */\n",
       "\n",
       "#sk-container-id-1 div.sk-label input.sk-toggleable__control:checked~label.sk-toggleable__label {\n",
       "  color: var(--sklearn-color-text);\n",
       "  background-color: var(--sklearn-color-unfitted-level-2);\n",
       "}\n",
       "\n",
       "#sk-container-id-1 div.sk-label.fitted input.sk-toggleable__control:checked~label.sk-toggleable__label {\n",
       "  background-color: var(--sklearn-color-fitted-level-2);\n",
       "}\n",
       "\n",
       "/* Estimator-specific style */\n",
       "\n",
       "/* Colorize estimator box */\n",
       "#sk-container-id-1 div.sk-estimator input.sk-toggleable__control:checked~label.sk-toggleable__label {\n",
       "  /* unfitted */\n",
       "  background-color: var(--sklearn-color-unfitted-level-2);\n",
       "}\n",
       "\n",
       "#sk-container-id-1 div.sk-estimator.fitted input.sk-toggleable__control:checked~label.sk-toggleable__label {\n",
       "  /* fitted */\n",
       "  background-color: var(--sklearn-color-fitted-level-2);\n",
       "}\n",
       "\n",
       "#sk-container-id-1 div.sk-label label.sk-toggleable__label,\n",
       "#sk-container-id-1 div.sk-label label {\n",
       "  /* The background is the default theme color */\n",
       "  color: var(--sklearn-color-text-on-default-background);\n",
       "}\n",
       "\n",
       "/* On hover, darken the color of the background */\n",
       "#sk-container-id-1 div.sk-label:hover label.sk-toggleable__label {\n",
       "  color: var(--sklearn-color-text);\n",
       "  background-color: var(--sklearn-color-unfitted-level-2);\n",
       "}\n",
       "\n",
       "/* Label box, darken color on hover, fitted */\n",
       "#sk-container-id-1 div.sk-label.fitted:hover label.sk-toggleable__label.fitted {\n",
       "  color: var(--sklearn-color-text);\n",
       "  background-color: var(--sklearn-color-fitted-level-2);\n",
       "}\n",
       "\n",
       "/* Estimator label */\n",
       "\n",
       "#sk-container-id-1 div.sk-label label {\n",
       "  font-family: monospace;\n",
       "  font-weight: bold;\n",
       "  display: inline-block;\n",
       "  line-height: 1.2em;\n",
       "}\n",
       "\n",
       "#sk-container-id-1 div.sk-label-container {\n",
       "  text-align: center;\n",
       "}\n",
       "\n",
       "/* Estimator-specific */\n",
       "#sk-container-id-1 div.sk-estimator {\n",
       "  font-family: monospace;\n",
       "  border: 1px dotted var(--sklearn-color-border-box);\n",
       "  border-radius: 0.25em;\n",
       "  box-sizing: border-box;\n",
       "  margin-bottom: 0.5em;\n",
       "  /* unfitted */\n",
       "  background-color: var(--sklearn-color-unfitted-level-0);\n",
       "}\n",
       "\n",
       "#sk-container-id-1 div.sk-estimator.fitted {\n",
       "  /* fitted */\n",
       "  background-color: var(--sklearn-color-fitted-level-0);\n",
       "}\n",
       "\n",
       "/* on hover */\n",
       "#sk-container-id-1 div.sk-estimator:hover {\n",
       "  /* unfitted */\n",
       "  background-color: var(--sklearn-color-unfitted-level-2);\n",
       "}\n",
       "\n",
       "#sk-container-id-1 div.sk-estimator.fitted:hover {\n",
       "  /* fitted */\n",
       "  background-color: var(--sklearn-color-fitted-level-2);\n",
       "}\n",
       "\n",
       "/* Specification for estimator info (e.g. \"i\" and \"?\") */\n",
       "\n",
       "/* Common style for \"i\" and \"?\" */\n",
       "\n",
       ".sk-estimator-doc-link,\n",
       "a:link.sk-estimator-doc-link,\n",
       "a:visited.sk-estimator-doc-link {\n",
       "  float: right;\n",
       "  font-size: smaller;\n",
       "  line-height: 1em;\n",
       "  font-family: monospace;\n",
       "  background-color: var(--sklearn-color-background);\n",
       "  border-radius: 1em;\n",
       "  height: 1em;\n",
       "  width: 1em;\n",
       "  text-decoration: none !important;\n",
       "  margin-left: 1ex;\n",
       "  /* unfitted */\n",
       "  border: var(--sklearn-color-unfitted-level-1) 1pt solid;\n",
       "  color: var(--sklearn-color-unfitted-level-1);\n",
       "}\n",
       "\n",
       ".sk-estimator-doc-link.fitted,\n",
       "a:link.sk-estimator-doc-link.fitted,\n",
       "a:visited.sk-estimator-doc-link.fitted {\n",
       "  /* fitted */\n",
       "  border: var(--sklearn-color-fitted-level-1) 1pt solid;\n",
       "  color: var(--sklearn-color-fitted-level-1);\n",
       "}\n",
       "\n",
       "/* On hover */\n",
       "div.sk-estimator:hover .sk-estimator-doc-link:hover,\n",
       ".sk-estimator-doc-link:hover,\n",
       "div.sk-label-container:hover .sk-estimator-doc-link:hover,\n",
       ".sk-estimator-doc-link:hover {\n",
       "  /* unfitted */\n",
       "  background-color: var(--sklearn-color-unfitted-level-3);\n",
       "  color: var(--sklearn-color-background);\n",
       "  text-decoration: none;\n",
       "}\n",
       "\n",
       "div.sk-estimator.fitted:hover .sk-estimator-doc-link.fitted:hover,\n",
       ".sk-estimator-doc-link.fitted:hover,\n",
       "div.sk-label-container:hover .sk-estimator-doc-link.fitted:hover,\n",
       ".sk-estimator-doc-link.fitted:hover {\n",
       "  /* fitted */\n",
       "  background-color: var(--sklearn-color-fitted-level-3);\n",
       "  color: var(--sklearn-color-background);\n",
       "  text-decoration: none;\n",
       "}\n",
       "\n",
       "/* Span, style for the box shown on hovering the info icon */\n",
       ".sk-estimator-doc-link span {\n",
       "  display: none;\n",
       "  z-index: 9999;\n",
       "  position: relative;\n",
       "  font-weight: normal;\n",
       "  right: .2ex;\n",
       "  padding: .5ex;\n",
       "  margin: .5ex;\n",
       "  width: min-content;\n",
       "  min-width: 20ex;\n",
       "  max-width: 50ex;\n",
       "  color: var(--sklearn-color-text);\n",
       "  box-shadow: 2pt 2pt 4pt #999;\n",
       "  /* unfitted */\n",
       "  background: var(--sklearn-color-unfitted-level-0);\n",
       "  border: .5pt solid var(--sklearn-color-unfitted-level-3);\n",
       "}\n",
       "\n",
       ".sk-estimator-doc-link.fitted span {\n",
       "  /* fitted */\n",
       "  background: var(--sklearn-color-fitted-level-0);\n",
       "  border: var(--sklearn-color-fitted-level-3);\n",
       "}\n",
       "\n",
       ".sk-estimator-doc-link:hover span {\n",
       "  display: block;\n",
       "}\n",
       "\n",
       "/* \"?\"-specific style due to the `<a>` HTML tag */\n",
       "\n",
       "#sk-container-id-1 a.estimator_doc_link {\n",
       "  float: right;\n",
       "  font-size: 1rem;\n",
       "  line-height: 1em;\n",
       "  font-family: monospace;\n",
       "  background-color: var(--sklearn-color-background);\n",
       "  border-radius: 1rem;\n",
       "  height: 1rem;\n",
       "  width: 1rem;\n",
       "  text-decoration: none;\n",
       "  /* unfitted */\n",
       "  color: var(--sklearn-color-unfitted-level-1);\n",
       "  border: var(--sklearn-color-unfitted-level-1) 1pt solid;\n",
       "}\n",
       "\n",
       "#sk-container-id-1 a.estimator_doc_link.fitted {\n",
       "  /* fitted */\n",
       "  border: var(--sklearn-color-fitted-level-1) 1pt solid;\n",
       "  color: var(--sklearn-color-fitted-level-1);\n",
       "}\n",
       "\n",
       "/* On hover */\n",
       "#sk-container-id-1 a.estimator_doc_link:hover {\n",
       "  /* unfitted */\n",
       "  background-color: var(--sklearn-color-unfitted-level-3);\n",
       "  color: var(--sklearn-color-background);\n",
       "  text-decoration: none;\n",
       "}\n",
       "\n",
       "#sk-container-id-1 a.estimator_doc_link.fitted:hover {\n",
       "  /* fitted */\n",
       "  background-color: var(--sklearn-color-fitted-level-3);\n",
       "}\n",
       "</style><div id=\"sk-container-id-1\" class=\"sk-top-container\"><div class=\"sk-text-repr-fallback\"><pre>RandomizedSearchCV(cv=5, estimator=RandomForestClassifier(), n_iter=5,\n",
       "                   param_distributions={&#x27;max_depth&#x27;: &lt;scipy.stats._distn_infrastructure.rv_discrete_frozen object at 0x00000208B74F48B0&gt;,\n",
       "                                        &#x27;n_estimators&#x27;: &lt;scipy.stats._distn_infrastructure.rv_discrete_frozen object at 0x00000208B74A6E60&gt;})</pre><b>In a Jupyter environment, please rerun this cell to show the HTML representation or trust the notebook. <br />On GitHub, the HTML representation is unable to render, please try loading this page with nbviewer.org.</b></div><div class=\"sk-container\" hidden><div class=\"sk-item sk-dashed-wrapped\"><div class=\"sk-label-container\"><div class=\"sk-label fitted sk-toggleable\"><input class=\"sk-toggleable__control sk-hidden--visually\" id=\"sk-estimator-id-1\" type=\"checkbox\" ><label for=\"sk-estimator-id-1\" class=\"sk-toggleable__label fitted sk-toggleable__label-arrow fitted\">&nbsp;&nbsp;RandomizedSearchCV<a class=\"sk-estimator-doc-link fitted\" rel=\"noreferrer\" target=\"_blank\" href=\"https://scikit-learn.org/1.4/modules/generated/sklearn.model_selection.RandomizedSearchCV.html\">?<span>Documentation for RandomizedSearchCV</span></a><span class=\"sk-estimator-doc-link fitted\">i<span>Fitted</span></span></label><div class=\"sk-toggleable__content fitted\"><pre>RandomizedSearchCV(cv=5, estimator=RandomForestClassifier(), n_iter=5,\n",
       "                   param_distributions={&#x27;max_depth&#x27;: &lt;scipy.stats._distn_infrastructure.rv_discrete_frozen object at 0x00000208B74F48B0&gt;,\n",
       "                                        &#x27;n_estimators&#x27;: &lt;scipy.stats._distn_infrastructure.rv_discrete_frozen object at 0x00000208B74A6E60&gt;})</pre></div> </div></div><div class=\"sk-parallel\"><div class=\"sk-parallel-item\"><div class=\"sk-item\"><div class=\"sk-label-container\"><div class=\"sk-label fitted sk-toggleable\"><input class=\"sk-toggleable__control sk-hidden--visually\" id=\"sk-estimator-id-2\" type=\"checkbox\" ><label for=\"sk-estimator-id-2\" class=\"sk-toggleable__label fitted sk-toggleable__label-arrow fitted\">estimator: RandomForestClassifier</label><div class=\"sk-toggleable__content fitted\"><pre>RandomForestClassifier()</pre></div> </div></div><div class=\"sk-serial\"><div class=\"sk-item\"><div class=\"sk-estimator fitted sk-toggleable\"><input class=\"sk-toggleable__control sk-hidden--visually\" id=\"sk-estimator-id-3\" type=\"checkbox\" ><label for=\"sk-estimator-id-3\" class=\"sk-toggleable__label fitted sk-toggleable__label-arrow fitted\">&nbsp;RandomForestClassifier<a class=\"sk-estimator-doc-link fitted\" rel=\"noreferrer\" target=\"_blank\" href=\"https://scikit-learn.org/1.4/modules/generated/sklearn.ensemble.RandomForestClassifier.html\">?<span>Documentation for RandomForestClassifier</span></a></label><div class=\"sk-toggleable__content fitted\"><pre>RandomForestClassifier()</pre></div> </div></div></div></div></div></div></div></div></div>"
      ],
      "text/plain": [
       "RandomizedSearchCV(cv=5, estimator=RandomForestClassifier(), n_iter=5,\n",
       "                   param_distributions={'max_depth': <scipy.stats._distn_infrastructure.rv_discrete_frozen object at 0x00000208B74F48B0>,\n",
       "                                        'n_estimators': <scipy.stats._distn_infrastructure.rv_discrete_frozen object at 0x00000208B74A6E60>})"
      ]
     },
     "execution_count": 52,
     "metadata": {},
     "output_type": "execute_result"
    }
   ],
   "source": [
    "param_dist = {'n_estimators': randint(50,500),\n",
    "              'max_depth': randint(1,20)}\n",
    "\n",
    "# Create a random forest classifier\n",
    "rf = RandomForestClassifier()\n",
    "\n",
    "# Use random search to find the best hyperparameters\n",
    "rand_search = RandomizedSearchCV(rf, \n",
    "                                 param_distributions = param_dist, \n",
    "                                 n_iter=5, \n",
    "                                 cv=5)\n",
    "\n",
    "# Fit the random search object to the data\n",
    "rand_search.fit(X_train, y_train)"
   ]
  },
  {
   "cell_type": "code",
   "execution_count": 53,
   "metadata": {},
   "outputs": [
    {
     "name": "stdout",
     "output_type": "stream",
     "text": [
      "Best hyperparameters: {'max_depth': 13, 'n_estimators': 393}\n"
     ]
    }
   ],
   "source": [
    "# Create a variable for the best model\n",
    "best_rf = rand_search.best_estimator_\n",
    "\n",
    "# Print the best hyperparameters\n",
    "print('Best hyperparameters:',  rand_search.best_params_)"
   ]
  },
  {
   "cell_type": "code",
   "execution_count": 54,
   "metadata": {},
   "outputs": [],
   "source": [
    "rf = RandomForestClassifier(max_depth=13, n_estimators=393)\n",
    "rf.fit(X_train, y_train)\n",
    "y_pred = rf.predict(X_test)"
   ]
  },
  {
   "cell_type": "code",
   "execution_count": 55,
   "metadata": {},
   "outputs": [
    {
     "name": "stdout",
     "output_type": "stream",
     "text": [
      "                            precision    recall  f1-score   support\n",
      "\n",
      "          beauty_wellbeing       0.58      0.56      0.57        77\n",
      "         business_services       0.38      0.29      0.33        90\n",
      "construction_manufactoring       0.37      0.37      0.37        75\n",
      "        education_training       0.68      0.72      0.70        93\n",
      "    electronics_technology       0.44      0.42      0.43        83\n",
      "      events_entertainment       0.48      0.24      0.32       100\n",
      "    food_beverages_tobacco       0.55      0.71      0.62        84\n",
      "               home_garden       0.50      0.33      0.39        80\n",
      "           money_insurance       0.56      0.70      0.62        67\n",
      "          shopping_fashion       0.41      0.61      0.49        75\n",
      "   vehicles_transportation       0.49      0.62      0.55        72\n",
      "\n",
      "                  accuracy                           0.50       896\n",
      "                 macro avg       0.49      0.51      0.49       896\n",
      "              weighted avg       0.50      0.50      0.49       896\n",
      "\n"
     ]
    }
   ],
   "source": [
    "print(classification_report(y_test, y_pred))"
   ]
  },
  {
   "cell_type": "markdown",
   "metadata": {},
   "source": [
    "### GradientBoostingClassifier"
   ]
  },
  {
   "cell_type": "code",
   "execution_count": 56,
   "metadata": {},
   "outputs": [],
   "source": [
    "clf = GradientBoostingClassifier(n_estimators=100, learning_rate=1.0,  max_depth=1, random_state=0)\n",
    "clf.fit(X_train, y_train)\n",
    "y_pred = clf.predict(X_test)"
   ]
  },
  {
   "cell_type": "code",
   "execution_count": 57,
   "metadata": {},
   "outputs": [
    {
     "name": "stdout",
     "output_type": "stream",
     "text": [
      "                            precision    recall  f1-score   support\n",
      "\n",
      "          beauty_wellbeing       0.40      0.47      0.43        77\n",
      "         business_services       0.29      0.22      0.25        90\n",
      "construction_manufactoring       0.34      0.32      0.33        75\n",
      "        education_training       0.59      0.65      0.62        93\n",
      "    electronics_technology       0.43      0.49      0.46        83\n",
      "      events_entertainment       0.30      0.22      0.25       100\n",
      "    food_beverages_tobacco       0.48      0.52      0.50        84\n",
      "               home_garden       0.32      0.28      0.30        80\n",
      "           money_insurance       0.54      0.57      0.55        67\n",
      "          shopping_fashion       0.40      0.47      0.43        75\n",
      "   vehicles_transportation       0.53      0.58      0.56        72\n",
      "\n",
      "                  accuracy                           0.43       896\n",
      "                 macro avg       0.42      0.43      0.43       896\n",
      "              weighted avg       0.42      0.43      0.42       896\n",
      "\n"
     ]
    }
   ],
   "source": [
    "print(classification_report(y_test, y_pred))"
   ]
  },
  {
   "cell_type": "markdown",
   "metadata": {},
   "source": [
    "### LGBMClassifier"
   ]
  },
  {
   "cell_type": "code",
   "execution_count": 58,
   "metadata": {},
   "outputs": [
    {
     "name": "stdout",
     "output_type": "stream",
     "text": [
      "[LightGBM] [Info] Auto-choosing row-wise multi-threading, the overhead of testing was 0.000728 seconds.\n",
      "You can set `force_row_wise=true` to remove the overhead.\n",
      "And if memory is not enough, you can set `force_col_wise=true`.\n",
      "[LightGBM] [Info] Total Bins 5100\n",
      "[LightGBM] [Info] Number of data points in the train set: 3581, number of used features: 20\n",
      "[LightGBM] [Info] Start training from score -2.384305\n",
      "[LightGBM] [Info] Start training from score -2.424496\n",
      "[LightGBM] [Info] Start training from score -2.378262\n",
      "[LightGBM] [Info] Start training from score -2.434004\n",
      "[LightGBM] [Info] Start training from score -2.402654\n",
      "[LightGBM] [Info] Start training from score -2.456550\n",
      "[LightGBM] [Info] Start training from score -2.405745\n",
      "[LightGBM] [Info] Start training from score -2.393437\n",
      "[LightGBM] [Info] Start training from score -2.354452\n",
      "[LightGBM] [Info] Start training from score -2.378262\n",
      "[LightGBM] [Info] Start training from score -2.369267\n"
     ]
    }
   ],
   "source": [
    "clf = LGBMClassifier()\n",
    "clf.fit(X_train, y_train)\n",
    "y_pred=clf.predict(X_test)"
   ]
  },
  {
   "cell_type": "code",
   "execution_count": 59,
   "metadata": {},
   "outputs": [
    {
     "name": "stdout",
     "output_type": "stream",
     "text": [
      "                            precision    recall  f1-score   support\n",
      "\n",
      "          beauty_wellbeing       0.56      0.52      0.54        77\n",
      "         business_services       0.39      0.30      0.34        90\n",
      "construction_manufactoring       0.38      0.36      0.37        75\n",
      "        education_training       0.71      0.69      0.70        93\n",
      "    electronics_technology       0.46      0.45      0.45        83\n",
      "      events_entertainment       0.43      0.33      0.37       100\n",
      "    food_beverages_tobacco       0.58      0.67      0.62        84\n",
      "               home_garden       0.39      0.36      0.38        80\n",
      "           money_insurance       0.54      0.61      0.57        67\n",
      "          shopping_fashion       0.43      0.59      0.50        75\n",
      "   vehicles_transportation       0.54      0.65      0.59        72\n",
      "\n",
      "                  accuracy                           0.50       896\n",
      "                 macro avg       0.49      0.50      0.49       896\n",
      "              weighted avg       0.49      0.50      0.49       896\n",
      "\n"
     ]
    }
   ],
   "source": [
    "print(classification_report(y_test, y_pred))"
   ]
  },
  {
   "cell_type": "markdown",
   "metadata": {},
   "source": [
    "### XGBClassifier"
   ]
  },
  {
   "cell_type": "code",
   "execution_count": null,
   "metadata": {},
   "outputs": [],
   "source": []
  }
 ],
 "metadata": {
  "kernelspec": {
   "display_name": "nlp_project",
   "language": "python",
   "name": "python3"
  },
  "language_info": {
   "codemirror_mode": {
    "name": "ipython",
    "version": 3
   },
   "file_extension": ".py",
   "mimetype": "text/x-python",
   "name": "python",
   "nbconvert_exporter": "python",
   "pygments_lexer": "ipython3",
   "version": "3.10.13"
  }
 },
 "nbformat": 4,
 "nbformat_minor": 2
}
