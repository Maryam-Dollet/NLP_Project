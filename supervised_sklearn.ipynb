{
 "cells": [
  {
   "cell_type": "code",
   "execution_count": 4,
   "metadata": {},
   "outputs": [],
   "source": [
    "import pandas as pd\n",
    "from gensim.models.doc2vec import Doc2Vec"
   ]
  },
  {
   "cell_type": "code",
   "execution_count": 3,
   "metadata": {},
   "outputs": [
    {
     "data": {
      "text/html": [
       "<div>\n",
       "<style scoped>\n",
       "    .dataframe tbody tr th:only-of-type {\n",
       "        vertical-align: middle;\n",
       "    }\n",
       "\n",
       "    .dataframe tbody tr th {\n",
       "        vertical-align: top;\n",
       "    }\n",
       "\n",
       "    .dataframe thead th {\n",
       "        text-align: right;\n",
       "    }\n",
       "</style>\n",
       "<table border=\"1\" class=\"dataframe\">\n",
       "  <thead>\n",
       "    <tr style=\"text-align: right;\">\n",
       "      <th></th>\n",
       "      <th>company_name</th>\n",
       "      <th>description_en</th>\n",
       "      <th>category</th>\n",
       "      <th>score</th>\n",
       "      <th>tokenized_desc</th>\n",
       "      <th>tag</th>\n",
       "    </tr>\n",
       "  </thead>\n",
       "  <tbody>\n",
       "    <tr>\n",
       "      <th>0</th>\n",
       "      <td>Le Fourgon</td>\n",
       "      <td>Le Fourgon delivers your stored drinks to your...</td>\n",
       "      <td>food_beverages_tobacco</td>\n",
       "      <td>4,9</td>\n",
       "      <td>fourgon deliver store drink home order place l...</td>\n",
       "      <td>0</td>\n",
       "    </tr>\n",
       "    <tr>\n",
       "      <th>1</th>\n",
       "      <td>Comptoir des Vignes</td>\n",
       "      <td>Comptoir des Vignes is a brand of cellars spec...</td>\n",
       "      <td>food_beverages_tobacco</td>\n",
       "      <td>4,9</td>\n",
       "      <td>comptoir des vigne brand cellar specialize win...</td>\n",
       "      <td>1</td>\n",
       "    </tr>\n",
       "    <tr>\n",
       "      <th>2</th>\n",
       "      <td>Shin Sekai</td>\n",
       "      <td>Welcome to our Trustpilot page! Shin Sekai is ...</td>\n",
       "      <td>food_beverages_tobacco</td>\n",
       "      <td>4,9</td>\n",
       "      <td>welcome trustpilot page shin sekai online figu...</td>\n",
       "      <td>2</td>\n",
       "    </tr>\n",
       "    <tr>\n",
       "      <th>3</th>\n",
       "      <td>Nutri Naturel</td>\n",
       "      <td>Nutri-Naturel.com, the leading online organic ...</td>\n",
       "      <td>food_beverages_tobacco</td>\n",
       "      <td>4,9</td>\n",
       "      <td>nutri naturel com lead online organic grocery ...</td>\n",
       "      <td>3</td>\n",
       "    </tr>\n",
       "    <tr>\n",
       "      <th>4</th>\n",
       "      <td>Maison Martin - Le Piment Français</td>\n",
       "      <td>Maison Martin - Le Piment Francais is the firs...</td>\n",
       "      <td>food_beverages_tobacco</td>\n",
       "      <td>4,9</td>\n",
       "      <td>maison martin piment francais brand artisanal ...</td>\n",
       "      <td>4</td>\n",
       "    </tr>\n",
       "    <tr>\n",
       "      <th>...</th>\n",
       "      <td>...</td>\n",
       "      <td>...</td>\n",
       "      <td>...</td>\n",
       "      <td>...</td>\n",
       "      <td>...</td>\n",
       "      <td>...</td>\n",
       "    </tr>\n",
       "    <tr>\n",
       "      <th>11385</th>\n",
       "      <td>Ljbautoparts</td>\n",
       "      <td>Sale of auto body spare parts online: fender, ...</td>\n",
       "      <td>vehicles_transportation</td>\n",
       "      <td>1,2</td>\n",
       "      <td>sale auto body spare part online fender bumper...</td>\n",
       "      <td>11385</td>\n",
       "    </tr>\n",
       "    <tr>\n",
       "      <th>11386</th>\n",
       "      <td>Aéroports de Paris</td>\n",
       "      <td>Aeroports de Paris, with its three platforms, ...</td>\n",
       "      <td>vehicles_transportation</td>\n",
       "      <td>1,2</td>\n",
       "      <td>aeroport paris platform major connection point...</td>\n",
       "      <td>11386</td>\n",
       "    </tr>\n",
       "    <tr>\n",
       "      <th>11387</th>\n",
       "      <td>Online SAS</td>\n",
       "      <td>Shared hosting with unlimited traffic, domain ...</td>\n",
       "      <td>vehicles_transportation</td>\n",
       "      <td>1,7</td>\n",
       "      <td>share host unlimited traffic domain dedicated ...</td>\n",
       "      <td>11387</td>\n",
       "    </tr>\n",
       "    <tr>\n",
       "      <th>11388</th>\n",
       "      <td>shopequitation</td>\n",
       "      <td>Online specialist in the sale of horse riding ...</td>\n",
       "      <td>vehicles_transportation</td>\n",
       "      <td>1,2</td>\n",
       "      <td>online specialist sale horse ride equipment sa...</td>\n",
       "      <td>11388</td>\n",
       "    </tr>\n",
       "    <tr>\n",
       "      <th>11389</th>\n",
       "      <td>Odyssee Transfer</td>\n",
       "      <td>Private shuttle company between airports, trai...</td>\n",
       "      <td>vehicles_transportation</td>\n",
       "      <td>1,1</td>\n",
       "      <td>private shuttle company airport train station ...</td>\n",
       "      <td>11389</td>\n",
       "    </tr>\n",
       "  </tbody>\n",
       "</table>\n",
       "<p>11390 rows × 6 columns</p>\n",
       "</div>"
      ],
      "text/plain": [
       "                             company_name  \\\n",
       "0                              Le Fourgon   \n",
       "1                     Comptoir des Vignes   \n",
       "2                              Shin Sekai   \n",
       "3                           Nutri Naturel   \n",
       "4      Maison Martin - Le Piment Français   \n",
       "...                                   ...   \n",
       "11385                        Ljbautoparts   \n",
       "11386                  Aéroports de Paris   \n",
       "11387                          Online SAS   \n",
       "11388                      shopequitation   \n",
       "11389                    Odyssee Transfer   \n",
       "\n",
       "                                          description_en  \\\n",
       "0      Le Fourgon delivers your stored drinks to your...   \n",
       "1      Comptoir des Vignes is a brand of cellars spec...   \n",
       "2      Welcome to our Trustpilot page! Shin Sekai is ...   \n",
       "3      Nutri-Naturel.com, the leading online organic ...   \n",
       "4      Maison Martin - Le Piment Francais is the firs...   \n",
       "...                                                  ...   \n",
       "11385  Sale of auto body spare parts online: fender, ...   \n",
       "11386  Aeroports de Paris, with its three platforms, ...   \n",
       "11387  Shared hosting with unlimited traffic, domain ...   \n",
       "11388  Online specialist in the sale of horse riding ...   \n",
       "11389  Private shuttle company between airports, trai...   \n",
       "\n",
       "                      category score  \\\n",
       "0       food_beverages_tobacco   4,9   \n",
       "1       food_beverages_tobacco   4,9   \n",
       "2       food_beverages_tobacco   4,9   \n",
       "3       food_beverages_tobacco   4,9   \n",
       "4       food_beverages_tobacco   4,9   \n",
       "...                        ...   ...   \n",
       "11385  vehicles_transportation   1,2   \n",
       "11386  vehicles_transportation   1,2   \n",
       "11387  vehicles_transportation   1,7   \n",
       "11388  vehicles_transportation   1,2   \n",
       "11389  vehicles_transportation   1,1   \n",
       "\n",
       "                                          tokenized_desc    tag  \n",
       "0      fourgon deliver store drink home order place l...      0  \n",
       "1      comptoir des vigne brand cellar specialize win...      1  \n",
       "2      welcome trustpilot page shin sekai online figu...      2  \n",
       "3      nutri naturel com lead online organic grocery ...      3  \n",
       "4      maison martin piment francais brand artisanal ...      4  \n",
       "...                                                  ...    ...  \n",
       "11385  sale auto body spare part online fender bumper...  11385  \n",
       "11386  aeroport paris platform major connection point...  11386  \n",
       "11387  share host unlimited traffic domain dedicated ...  11387  \n",
       "11388  online specialist sale horse ride equipment sa...  11388  \n",
       "11389  private shuttle company airport train station ...  11389  \n",
       "\n",
       "[11390 rows x 6 columns]"
      ]
     },
     "execution_count": 3,
     "metadata": {},
     "output_type": "execute_result"
    }
   ],
   "source": [
    "df = pd.read_csv(\"data/company_tagged.csv\", sep=\";\")\n",
    "df"
   ]
  },
  {
   "cell_type": "code",
   "execution_count": 5,
   "metadata": {},
   "outputs": [],
   "source": [
    "d2v = Doc2Vec.load(\"models/d2v.model\")"
   ]
  },
  {
   "cell_type": "code",
   "execution_count": 6,
   "metadata": {},
   "outputs": [],
   "source": [
    "tags = df[\"tag\"]\n",
    "labels = df[\"company_name\"]\n",
    "category = df[\"category\"]\n",
    "vectors = [d2v.dv[tag] for tag in tags]"
   ]
  },
  {
   "cell_type": "code",
   "execution_count": 7,
   "metadata": {},
   "outputs": [
    {
     "data": {
      "text/plain": [
       "11390"
      ]
     },
     "execution_count": 7,
     "metadata": {},
     "output_type": "execute_result"
    }
   ],
   "source": [
    "len(tags)"
   ]
  },
  {
   "cell_type": "code",
   "execution_count": 8,
   "metadata": {},
   "outputs": [
    {
     "data": {
      "text/plain": [
       "11390"
      ]
     },
     "execution_count": 8,
     "metadata": {},
     "output_type": "execute_result"
    }
   ],
   "source": [
    "len(vectors)"
   ]
  },
  {
   "cell_type": "code",
   "execution_count": null,
   "metadata": {},
   "outputs": [],
   "source": []
  }
 ],
 "metadata": {
  "kernelspec": {
   "display_name": "nlp_project",
   "language": "python",
   "name": "python3"
  },
  "language_info": {
   "codemirror_mode": {
    "name": "ipython",
    "version": 3
   },
   "file_extension": ".py",
   "mimetype": "text/x-python",
   "name": "python",
   "nbconvert_exporter": "python",
   "pygments_lexer": "ipython3",
   "version": "3.10.13"
  }
 },
 "nbformat": 4,
 "nbformat_minor": 2
}
