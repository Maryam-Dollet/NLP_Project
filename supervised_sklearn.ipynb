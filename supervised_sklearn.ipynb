{
 "cells": [
  {
   "cell_type": "code",
   "execution_count": 1,
   "metadata": {},
   "outputs": [],
   "source": [
    "import pandas as pd\n",
    "import plotly.express as px\n",
    "from gensim.models.doc2vec import Doc2Vec"
   ]
  },
  {
   "cell_type": "markdown",
   "metadata": {},
   "source": [
    "# Supervised Learning Classic ML Classificatin Models using Scikit-Learn"
   ]
  },
  {
   "cell_type": "code",
   "execution_count": 2,
   "metadata": {},
   "outputs": [
    {
     "data": {
      "text/html": [
       "<div>\n",
       "<style scoped>\n",
       "    .dataframe tbody tr th:only-of-type {\n",
       "        vertical-align: middle;\n",
       "    }\n",
       "\n",
       "    .dataframe tbody tr th {\n",
       "        vertical-align: top;\n",
       "    }\n",
       "\n",
       "    .dataframe thead th {\n",
       "        text-align: right;\n",
       "    }\n",
       "</style>\n",
       "<table border=\"1\" class=\"dataframe\">\n",
       "  <thead>\n",
       "    <tr style=\"text-align: right;\">\n",
       "      <th></th>\n",
       "      <th>company_name</th>\n",
       "      <th>description_en</th>\n",
       "      <th>category</th>\n",
       "      <th>score</th>\n",
       "      <th>tokenized_desc</th>\n",
       "      <th>tag</th>\n",
       "    </tr>\n",
       "  </thead>\n",
       "  <tbody>\n",
       "    <tr>\n",
       "      <th>0</th>\n",
       "      <td>Le Fourgon</td>\n",
       "      <td>Le Fourgon delivers your stored drinks to your...</td>\n",
       "      <td>food_beverages_tobacco</td>\n",
       "      <td>4,9</td>\n",
       "      <td>fourgon deliver store drink home order place l...</td>\n",
       "      <td>0</td>\n",
       "    </tr>\n",
       "    <tr>\n",
       "      <th>1</th>\n",
       "      <td>Comptoir des Vignes</td>\n",
       "      <td>Comptoir des Vignes is a brand of cellars spec...</td>\n",
       "      <td>food_beverages_tobacco</td>\n",
       "      <td>4,9</td>\n",
       "      <td>comptoir des vigne brand cellar specialize win...</td>\n",
       "      <td>1</td>\n",
       "    </tr>\n",
       "    <tr>\n",
       "      <th>2</th>\n",
       "      <td>Shin Sekai</td>\n",
       "      <td>Welcome to our Trustpilot page! Shin Sekai is ...</td>\n",
       "      <td>food_beverages_tobacco</td>\n",
       "      <td>4,9</td>\n",
       "      <td>welcome trustpilot page shin sekai online figu...</td>\n",
       "      <td>2</td>\n",
       "    </tr>\n",
       "    <tr>\n",
       "      <th>3</th>\n",
       "      <td>Nutri Naturel</td>\n",
       "      <td>Nutri-Naturel.com, the leading online organic ...</td>\n",
       "      <td>food_beverages_tobacco</td>\n",
       "      <td>4,9</td>\n",
       "      <td>nutri naturel com lead online organic grocery ...</td>\n",
       "      <td>3</td>\n",
       "    </tr>\n",
       "    <tr>\n",
       "      <th>4</th>\n",
       "      <td>Maison Martin - Le Piment Français</td>\n",
       "      <td>Maison Martin - Le Piment Francais is the firs...</td>\n",
       "      <td>food_beverages_tobacco</td>\n",
       "      <td>4,9</td>\n",
       "      <td>maison martin piment francais brand artisanal ...</td>\n",
       "      <td>4</td>\n",
       "    </tr>\n",
       "    <tr>\n",
       "      <th>...</th>\n",
       "      <td>...</td>\n",
       "      <td>...</td>\n",
       "      <td>...</td>\n",
       "      <td>...</td>\n",
       "      <td>...</td>\n",
       "      <td>...</td>\n",
       "    </tr>\n",
       "    <tr>\n",
       "      <th>11385</th>\n",
       "      <td>Ljbautoparts</td>\n",
       "      <td>Sale of auto body spare parts online: fender, ...</td>\n",
       "      <td>vehicles_transportation</td>\n",
       "      <td>1,2</td>\n",
       "      <td>sale auto body spare part online fender bumper...</td>\n",
       "      <td>11385</td>\n",
       "    </tr>\n",
       "    <tr>\n",
       "      <th>11386</th>\n",
       "      <td>Aéroports de Paris</td>\n",
       "      <td>Aeroports de Paris, with its three platforms, ...</td>\n",
       "      <td>vehicles_transportation</td>\n",
       "      <td>1,2</td>\n",
       "      <td>aeroport paris platform major connection point...</td>\n",
       "      <td>11386</td>\n",
       "    </tr>\n",
       "    <tr>\n",
       "      <th>11387</th>\n",
       "      <td>Online SAS</td>\n",
       "      <td>Shared hosting with unlimited traffic, domain ...</td>\n",
       "      <td>vehicles_transportation</td>\n",
       "      <td>1,7</td>\n",
       "      <td>share host unlimited traffic domain dedicated ...</td>\n",
       "      <td>11387</td>\n",
       "    </tr>\n",
       "    <tr>\n",
       "      <th>11388</th>\n",
       "      <td>shopequitation</td>\n",
       "      <td>Online specialist in the sale of horse riding ...</td>\n",
       "      <td>vehicles_transportation</td>\n",
       "      <td>1,2</td>\n",
       "      <td>online specialist sale horse ride equipment sa...</td>\n",
       "      <td>11388</td>\n",
       "    </tr>\n",
       "    <tr>\n",
       "      <th>11389</th>\n",
       "      <td>Odyssee Transfer</td>\n",
       "      <td>Private shuttle company between airports, trai...</td>\n",
       "      <td>vehicles_transportation</td>\n",
       "      <td>1,1</td>\n",
       "      <td>private shuttle company airport train station ...</td>\n",
       "      <td>11389</td>\n",
       "    </tr>\n",
       "  </tbody>\n",
       "</table>\n",
       "<p>11390 rows × 6 columns</p>\n",
       "</div>"
      ],
      "text/plain": [
       "                             company_name  \\\n",
       "0                              Le Fourgon   \n",
       "1                     Comptoir des Vignes   \n",
       "2                              Shin Sekai   \n",
       "3                           Nutri Naturel   \n",
       "4      Maison Martin - Le Piment Français   \n",
       "...                                   ...   \n",
       "11385                        Ljbautoparts   \n",
       "11386                  Aéroports de Paris   \n",
       "11387                          Online SAS   \n",
       "11388                      shopequitation   \n",
       "11389                    Odyssee Transfer   \n",
       "\n",
       "                                          description_en  \\\n",
       "0      Le Fourgon delivers your stored drinks to your...   \n",
       "1      Comptoir des Vignes is a brand of cellars spec...   \n",
       "2      Welcome to our Trustpilot page! Shin Sekai is ...   \n",
       "3      Nutri-Naturel.com, the leading online organic ...   \n",
       "4      Maison Martin - Le Piment Francais is the firs...   \n",
       "...                                                  ...   \n",
       "11385  Sale of auto body spare parts online: fender, ...   \n",
       "11386  Aeroports de Paris, with its three platforms, ...   \n",
       "11387  Shared hosting with unlimited traffic, domain ...   \n",
       "11388  Online specialist in the sale of horse riding ...   \n",
       "11389  Private shuttle company between airports, trai...   \n",
       "\n",
       "                      category score  \\\n",
       "0       food_beverages_tobacco   4,9   \n",
       "1       food_beverages_tobacco   4,9   \n",
       "2       food_beverages_tobacco   4,9   \n",
       "3       food_beverages_tobacco   4,9   \n",
       "4       food_beverages_tobacco   4,9   \n",
       "...                        ...   ...   \n",
       "11385  vehicles_transportation   1,2   \n",
       "11386  vehicles_transportation   1,2   \n",
       "11387  vehicles_transportation   1,7   \n",
       "11388  vehicles_transportation   1,2   \n",
       "11389  vehicles_transportation   1,1   \n",
       "\n",
       "                                          tokenized_desc    tag  \n",
       "0      fourgon deliver store drink home order place l...      0  \n",
       "1      comptoir des vigne brand cellar specialize win...      1  \n",
       "2      welcome trustpilot page shin sekai online figu...      2  \n",
       "3      nutri naturel com lead online organic grocery ...      3  \n",
       "4      maison martin piment francais brand artisanal ...      4  \n",
       "...                                                  ...    ...  \n",
       "11385  sale auto body spare part online fender bumper...  11385  \n",
       "11386  aeroport paris platform major connection point...  11386  \n",
       "11387  share host unlimited traffic domain dedicated ...  11387  \n",
       "11388  online specialist sale horse ride equipment sa...  11388  \n",
       "11389  private shuttle company airport train station ...  11389  \n",
       "\n",
       "[11390 rows x 6 columns]"
      ]
     },
     "execution_count": 2,
     "metadata": {},
     "output_type": "execute_result"
    }
   ],
   "source": [
    "df = pd.read_csv(\"data/company_tagged.csv\", sep=\";\")\n",
    "df"
   ]
  },
  {
   "cell_type": "code",
   "execution_count": 3,
   "metadata": {},
   "outputs": [
    {
     "data": {
      "text/html": [
       "<div>\n",
       "<style scoped>\n",
       "    .dataframe tbody tr th:only-of-type {\n",
       "        vertical-align: middle;\n",
       "    }\n",
       "\n",
       "    .dataframe tbody tr th {\n",
       "        vertical-align: top;\n",
       "    }\n",
       "\n",
       "    .dataframe thead th {\n",
       "        text-align: right;\n",
       "    }\n",
       "</style>\n",
       "<table border=\"1\" class=\"dataframe\">\n",
       "  <thead>\n",
       "    <tr style=\"text-align: right;\">\n",
       "      <th></th>\n",
       "      <th>category</th>\n",
       "      <th>count</th>\n",
       "    </tr>\n",
       "  </thead>\n",
       "  <tbody>\n",
       "    <tr>\n",
       "      <th>0</th>\n",
       "      <td>electronics_technology</td>\n",
       "      <td>1172</td>\n",
       "    </tr>\n",
       "    <tr>\n",
       "      <th>1</th>\n",
       "      <td>home_garden</td>\n",
       "      <td>1101</td>\n",
       "    </tr>\n",
       "    <tr>\n",
       "      <th>2</th>\n",
       "      <td>shopping_fashion</td>\n",
       "      <td>1054</td>\n",
       "    </tr>\n",
       "    <tr>\n",
       "      <th>3</th>\n",
       "      <td>money_insurance</td>\n",
       "      <td>1030</td>\n",
       "    </tr>\n",
       "    <tr>\n",
       "      <th>4</th>\n",
       "      <td>events_entertainment</td>\n",
       "      <td>761</td>\n",
       "    </tr>\n",
       "    <tr>\n",
       "      <th>5</th>\n",
       "      <td>beauty_wellbeing</td>\n",
       "      <td>755</td>\n",
       "    </tr>\n",
       "    <tr>\n",
       "      <th>6</th>\n",
       "      <td>food_beverages_tobacco</td>\n",
       "      <td>736</td>\n",
       "    </tr>\n",
       "    <tr>\n",
       "      <th>7</th>\n",
       "      <td>construction_manufactoring</td>\n",
       "      <td>704</td>\n",
       "    </tr>\n",
       "    <tr>\n",
       "      <th>8</th>\n",
       "      <td>business_services</td>\n",
       "      <td>679</td>\n",
       "    </tr>\n",
       "    <tr>\n",
       "      <th>9</th>\n",
       "      <td>education_training</td>\n",
       "      <td>648</td>\n",
       "    </tr>\n",
       "    <tr>\n",
       "      <th>10</th>\n",
       "      <td>vehicles_transportation</td>\n",
       "      <td>612</td>\n",
       "    </tr>\n",
       "    <tr>\n",
       "      <th>11</th>\n",
       "      <td>hobbies_crafts</td>\n",
       "      <td>412</td>\n",
       "    </tr>\n",
       "    <tr>\n",
       "      <th>12</th>\n",
       "      <td>travel_vacation</td>\n",
       "      <td>406</td>\n",
       "    </tr>\n",
       "    <tr>\n",
       "      <th>13</th>\n",
       "      <td>media_publishing</td>\n",
       "      <td>322</td>\n",
       "    </tr>\n",
       "    <tr>\n",
       "      <th>14</th>\n",
       "      <td>sports</td>\n",
       "      <td>207</td>\n",
       "    </tr>\n",
       "    <tr>\n",
       "      <th>15</th>\n",
       "      <td>animals_pets</td>\n",
       "      <td>199</td>\n",
       "    </tr>\n",
       "    <tr>\n",
       "      <th>16</th>\n",
       "      <td>home_services</td>\n",
       "      <td>143</td>\n",
       "    </tr>\n",
       "    <tr>\n",
       "      <th>17</th>\n",
       "      <td>legal_services_government</td>\n",
       "      <td>132</td>\n",
       "    </tr>\n",
       "    <tr>\n",
       "      <th>18</th>\n",
       "      <td>health_medical</td>\n",
       "      <td>131</td>\n",
       "    </tr>\n",
       "    <tr>\n",
       "      <th>19</th>\n",
       "      <td>public_local_services</td>\n",
       "      <td>114</td>\n",
       "    </tr>\n",
       "    <tr>\n",
       "      <th>20</th>\n",
       "      <td>restaurants_bars</td>\n",
       "      <td>64</td>\n",
       "    </tr>\n",
       "    <tr>\n",
       "      <th>21</th>\n",
       "      <td>utilities</td>\n",
       "      <td>8</td>\n",
       "    </tr>\n",
       "  </tbody>\n",
       "</table>\n",
       "</div>"
      ],
      "text/plain": [
       "                      category  count\n",
       "0       electronics_technology   1172\n",
       "1                  home_garden   1101\n",
       "2             shopping_fashion   1054\n",
       "3              money_insurance   1030\n",
       "4         events_entertainment    761\n",
       "5             beauty_wellbeing    755\n",
       "6       food_beverages_tobacco    736\n",
       "7   construction_manufactoring    704\n",
       "8            business_services    679\n",
       "9           education_training    648\n",
       "10     vehicles_transportation    612\n",
       "11              hobbies_crafts    412\n",
       "12             travel_vacation    406\n",
       "13            media_publishing    322\n",
       "14                      sports    207\n",
       "15                animals_pets    199\n",
       "16               home_services    143\n",
       "17   legal_services_government    132\n",
       "18              health_medical    131\n",
       "19       public_local_services    114\n",
       "20            restaurants_bars     64\n",
       "21                   utilities      8"
      ]
     },
     "execution_count": 3,
     "metadata": {},
     "output_type": "execute_result"
    }
   ],
   "source": [
    "category_count = df[\"category\"].value_counts().reset_index()\n",
    "category_count"
   ]
  },
  {
   "cell_type": "code",
   "execution_count": 13,
   "metadata": {},
   "outputs": [
    {
     "data": {
      "application/vnd.plotly.v1+json": {
       "config": {
        "plotlyServerURL": "https://plot.ly"
       },
       "data": [
        {
         "alignmentgroup": "True",
         "hovertemplate": "category=%{x}<br>count=%{y}<extra></extra>",
         "legendgroup": "",
         "marker": {
          "color": "#636efa",
          "pattern": {
           "shape": ""
          }
         },
         "name": "",
         "offsetgroup": "",
         "orientation": "v",
         "showlegend": false,
         "textposition": "auto",
         "type": "bar",
         "x": [
          "electronics_technology",
          "home_garden",
          "shopping_fashion",
          "money_insurance",
          "events_entertainment",
          "beauty_wellbeing",
          "food_beverages_tobacco",
          "construction_manufactoring",
          "business_services",
          "education_training",
          "vehicles_transportation",
          "hobbies_crafts",
          "travel_vacation",
          "media_publishing",
          "sports",
          "animals_pets",
          "home_services",
          "legal_services_government",
          "health_medical",
          "public_local_services",
          "restaurants_bars",
          "utilities"
         ],
         "xaxis": "x",
         "y": [
          1172,
          1101,
          1054,
          1030,
          761,
          755,
          736,
          704,
          679,
          648,
          612,
          412,
          406,
          322,
          207,
          199,
          143,
          132,
          131,
          114,
          64,
          8
         ],
         "yaxis": "y"
        }
       ],
       "layout": {
        "barmode": "relative",
        "legend": {
         "tracegroupgap": 0
        },
        "template": {
         "data": {
          "bar": [
           {
            "error_x": {
             "color": "#2a3f5f"
            },
            "error_y": {
             "color": "#2a3f5f"
            },
            "marker": {
             "line": {
              "color": "#E5ECF6",
              "width": 0.5
             },
             "pattern": {
              "fillmode": "overlay",
              "size": 10,
              "solidity": 0.2
             }
            },
            "type": "bar"
           }
          ],
          "barpolar": [
           {
            "marker": {
             "line": {
              "color": "#E5ECF6",
              "width": 0.5
             },
             "pattern": {
              "fillmode": "overlay",
              "size": 10,
              "solidity": 0.2
             }
            },
            "type": "barpolar"
           }
          ],
          "carpet": [
           {
            "aaxis": {
             "endlinecolor": "#2a3f5f",
             "gridcolor": "white",
             "linecolor": "white",
             "minorgridcolor": "white",
             "startlinecolor": "#2a3f5f"
            },
            "baxis": {
             "endlinecolor": "#2a3f5f",
             "gridcolor": "white",
             "linecolor": "white",
             "minorgridcolor": "white",
             "startlinecolor": "#2a3f5f"
            },
            "type": "carpet"
           }
          ],
          "choropleth": [
           {
            "colorbar": {
             "outlinewidth": 0,
             "ticks": ""
            },
            "type": "choropleth"
           }
          ],
          "contour": [
           {
            "colorbar": {
             "outlinewidth": 0,
             "ticks": ""
            },
            "colorscale": [
             [
              0,
              "#0d0887"
             ],
             [
              0.1111111111111111,
              "#46039f"
             ],
             [
              0.2222222222222222,
              "#7201a8"
             ],
             [
              0.3333333333333333,
              "#9c179e"
             ],
             [
              0.4444444444444444,
              "#bd3786"
             ],
             [
              0.5555555555555556,
              "#d8576b"
             ],
             [
              0.6666666666666666,
              "#ed7953"
             ],
             [
              0.7777777777777778,
              "#fb9f3a"
             ],
             [
              0.8888888888888888,
              "#fdca26"
             ],
             [
              1,
              "#f0f921"
             ]
            ],
            "type": "contour"
           }
          ],
          "contourcarpet": [
           {
            "colorbar": {
             "outlinewidth": 0,
             "ticks": ""
            },
            "type": "contourcarpet"
           }
          ],
          "heatmap": [
           {
            "colorbar": {
             "outlinewidth": 0,
             "ticks": ""
            },
            "colorscale": [
             [
              0,
              "#0d0887"
             ],
             [
              0.1111111111111111,
              "#46039f"
             ],
             [
              0.2222222222222222,
              "#7201a8"
             ],
             [
              0.3333333333333333,
              "#9c179e"
             ],
             [
              0.4444444444444444,
              "#bd3786"
             ],
             [
              0.5555555555555556,
              "#d8576b"
             ],
             [
              0.6666666666666666,
              "#ed7953"
             ],
             [
              0.7777777777777778,
              "#fb9f3a"
             ],
             [
              0.8888888888888888,
              "#fdca26"
             ],
             [
              1,
              "#f0f921"
             ]
            ],
            "type": "heatmap"
           }
          ],
          "heatmapgl": [
           {
            "colorbar": {
             "outlinewidth": 0,
             "ticks": ""
            },
            "colorscale": [
             [
              0,
              "#0d0887"
             ],
             [
              0.1111111111111111,
              "#46039f"
             ],
             [
              0.2222222222222222,
              "#7201a8"
             ],
             [
              0.3333333333333333,
              "#9c179e"
             ],
             [
              0.4444444444444444,
              "#bd3786"
             ],
             [
              0.5555555555555556,
              "#d8576b"
             ],
             [
              0.6666666666666666,
              "#ed7953"
             ],
             [
              0.7777777777777778,
              "#fb9f3a"
             ],
             [
              0.8888888888888888,
              "#fdca26"
             ],
             [
              1,
              "#f0f921"
             ]
            ],
            "type": "heatmapgl"
           }
          ],
          "histogram": [
           {
            "marker": {
             "pattern": {
              "fillmode": "overlay",
              "size": 10,
              "solidity": 0.2
             }
            },
            "type": "histogram"
           }
          ],
          "histogram2d": [
           {
            "colorbar": {
             "outlinewidth": 0,
             "ticks": ""
            },
            "colorscale": [
             [
              0,
              "#0d0887"
             ],
             [
              0.1111111111111111,
              "#46039f"
             ],
             [
              0.2222222222222222,
              "#7201a8"
             ],
             [
              0.3333333333333333,
              "#9c179e"
             ],
             [
              0.4444444444444444,
              "#bd3786"
             ],
             [
              0.5555555555555556,
              "#d8576b"
             ],
             [
              0.6666666666666666,
              "#ed7953"
             ],
             [
              0.7777777777777778,
              "#fb9f3a"
             ],
             [
              0.8888888888888888,
              "#fdca26"
             ],
             [
              1,
              "#f0f921"
             ]
            ],
            "type": "histogram2d"
           }
          ],
          "histogram2dcontour": [
           {
            "colorbar": {
             "outlinewidth": 0,
             "ticks": ""
            },
            "colorscale": [
             [
              0,
              "#0d0887"
             ],
             [
              0.1111111111111111,
              "#46039f"
             ],
             [
              0.2222222222222222,
              "#7201a8"
             ],
             [
              0.3333333333333333,
              "#9c179e"
             ],
             [
              0.4444444444444444,
              "#bd3786"
             ],
             [
              0.5555555555555556,
              "#d8576b"
             ],
             [
              0.6666666666666666,
              "#ed7953"
             ],
             [
              0.7777777777777778,
              "#fb9f3a"
             ],
             [
              0.8888888888888888,
              "#fdca26"
             ],
             [
              1,
              "#f0f921"
             ]
            ],
            "type": "histogram2dcontour"
           }
          ],
          "mesh3d": [
           {
            "colorbar": {
             "outlinewidth": 0,
             "ticks": ""
            },
            "type": "mesh3d"
           }
          ],
          "parcoords": [
           {
            "line": {
             "colorbar": {
              "outlinewidth": 0,
              "ticks": ""
             }
            },
            "type": "parcoords"
           }
          ],
          "pie": [
           {
            "automargin": true,
            "type": "pie"
           }
          ],
          "scatter": [
           {
            "fillpattern": {
             "fillmode": "overlay",
             "size": 10,
             "solidity": 0.2
            },
            "type": "scatter"
           }
          ],
          "scatter3d": [
           {
            "line": {
             "colorbar": {
              "outlinewidth": 0,
              "ticks": ""
             }
            },
            "marker": {
             "colorbar": {
              "outlinewidth": 0,
              "ticks": ""
             }
            },
            "type": "scatter3d"
           }
          ],
          "scattercarpet": [
           {
            "marker": {
             "colorbar": {
              "outlinewidth": 0,
              "ticks": ""
             }
            },
            "type": "scattercarpet"
           }
          ],
          "scattergeo": [
           {
            "marker": {
             "colorbar": {
              "outlinewidth": 0,
              "ticks": ""
             }
            },
            "type": "scattergeo"
           }
          ],
          "scattergl": [
           {
            "marker": {
             "colorbar": {
              "outlinewidth": 0,
              "ticks": ""
             }
            },
            "type": "scattergl"
           }
          ],
          "scattermapbox": [
           {
            "marker": {
             "colorbar": {
              "outlinewidth": 0,
              "ticks": ""
             }
            },
            "type": "scattermapbox"
           }
          ],
          "scatterpolar": [
           {
            "marker": {
             "colorbar": {
              "outlinewidth": 0,
              "ticks": ""
             }
            },
            "type": "scatterpolar"
           }
          ],
          "scatterpolargl": [
           {
            "marker": {
             "colorbar": {
              "outlinewidth": 0,
              "ticks": ""
             }
            },
            "type": "scatterpolargl"
           }
          ],
          "scatterternary": [
           {
            "marker": {
             "colorbar": {
              "outlinewidth": 0,
              "ticks": ""
             }
            },
            "type": "scatterternary"
           }
          ],
          "surface": [
           {
            "colorbar": {
             "outlinewidth": 0,
             "ticks": ""
            },
            "colorscale": [
             [
              0,
              "#0d0887"
             ],
             [
              0.1111111111111111,
              "#46039f"
             ],
             [
              0.2222222222222222,
              "#7201a8"
             ],
             [
              0.3333333333333333,
              "#9c179e"
             ],
             [
              0.4444444444444444,
              "#bd3786"
             ],
             [
              0.5555555555555556,
              "#d8576b"
             ],
             [
              0.6666666666666666,
              "#ed7953"
             ],
             [
              0.7777777777777778,
              "#fb9f3a"
             ],
             [
              0.8888888888888888,
              "#fdca26"
             ],
             [
              1,
              "#f0f921"
             ]
            ],
            "type": "surface"
           }
          ],
          "table": [
           {
            "cells": {
             "fill": {
              "color": "#EBF0F8"
             },
             "line": {
              "color": "white"
             }
            },
            "header": {
             "fill": {
              "color": "#C8D4E3"
             },
             "line": {
              "color": "white"
             }
            },
            "type": "table"
           }
          ]
         },
         "layout": {
          "annotationdefaults": {
           "arrowcolor": "#2a3f5f",
           "arrowhead": 0,
           "arrowwidth": 1
          },
          "autotypenumbers": "strict",
          "coloraxis": {
           "colorbar": {
            "outlinewidth": 0,
            "ticks": ""
           }
          },
          "colorscale": {
           "diverging": [
            [
             0,
             "#8e0152"
            ],
            [
             0.1,
             "#c51b7d"
            ],
            [
             0.2,
             "#de77ae"
            ],
            [
             0.3,
             "#f1b6da"
            ],
            [
             0.4,
             "#fde0ef"
            ],
            [
             0.5,
             "#f7f7f7"
            ],
            [
             0.6,
             "#e6f5d0"
            ],
            [
             0.7,
             "#b8e186"
            ],
            [
             0.8,
             "#7fbc41"
            ],
            [
             0.9,
             "#4d9221"
            ],
            [
             1,
             "#276419"
            ]
           ],
           "sequential": [
            [
             0,
             "#0d0887"
            ],
            [
             0.1111111111111111,
             "#46039f"
            ],
            [
             0.2222222222222222,
             "#7201a8"
            ],
            [
             0.3333333333333333,
             "#9c179e"
            ],
            [
             0.4444444444444444,
             "#bd3786"
            ],
            [
             0.5555555555555556,
             "#d8576b"
            ],
            [
             0.6666666666666666,
             "#ed7953"
            ],
            [
             0.7777777777777778,
             "#fb9f3a"
            ],
            [
             0.8888888888888888,
             "#fdca26"
            ],
            [
             1,
             "#f0f921"
            ]
           ],
           "sequentialminus": [
            [
             0,
             "#0d0887"
            ],
            [
             0.1111111111111111,
             "#46039f"
            ],
            [
             0.2222222222222222,
             "#7201a8"
            ],
            [
             0.3333333333333333,
             "#9c179e"
            ],
            [
             0.4444444444444444,
             "#bd3786"
            ],
            [
             0.5555555555555556,
             "#d8576b"
            ],
            [
             0.6666666666666666,
             "#ed7953"
            ],
            [
             0.7777777777777778,
             "#fb9f3a"
            ],
            [
             0.8888888888888888,
             "#fdca26"
            ],
            [
             1,
             "#f0f921"
            ]
           ]
          },
          "colorway": [
           "#636efa",
           "#EF553B",
           "#00cc96",
           "#ab63fa",
           "#FFA15A",
           "#19d3f3",
           "#FF6692",
           "#B6E880",
           "#FF97FF",
           "#FECB52"
          ],
          "font": {
           "color": "#2a3f5f"
          },
          "geo": {
           "bgcolor": "white",
           "lakecolor": "white",
           "landcolor": "#E5ECF6",
           "showlakes": true,
           "showland": true,
           "subunitcolor": "white"
          },
          "hoverlabel": {
           "align": "left"
          },
          "hovermode": "closest",
          "mapbox": {
           "style": "light"
          },
          "paper_bgcolor": "white",
          "plot_bgcolor": "#E5ECF6",
          "polar": {
           "angularaxis": {
            "gridcolor": "white",
            "linecolor": "white",
            "ticks": ""
           },
           "bgcolor": "#E5ECF6",
           "radialaxis": {
            "gridcolor": "white",
            "linecolor": "white",
            "ticks": ""
           }
          },
          "scene": {
           "xaxis": {
            "backgroundcolor": "#E5ECF6",
            "gridcolor": "white",
            "gridwidth": 2,
            "linecolor": "white",
            "showbackground": true,
            "ticks": "",
            "zerolinecolor": "white"
           },
           "yaxis": {
            "backgroundcolor": "#E5ECF6",
            "gridcolor": "white",
            "gridwidth": 2,
            "linecolor": "white",
            "showbackground": true,
            "ticks": "",
            "zerolinecolor": "white"
           },
           "zaxis": {
            "backgroundcolor": "#E5ECF6",
            "gridcolor": "white",
            "gridwidth": 2,
            "linecolor": "white",
            "showbackground": true,
            "ticks": "",
            "zerolinecolor": "white"
           }
          },
          "shapedefaults": {
           "line": {
            "color": "#2a3f5f"
           }
          },
          "ternary": {
           "aaxis": {
            "gridcolor": "white",
            "linecolor": "white",
            "ticks": ""
           },
           "baxis": {
            "gridcolor": "white",
            "linecolor": "white",
            "ticks": ""
           },
           "bgcolor": "#E5ECF6",
           "caxis": {
            "gridcolor": "white",
            "linecolor": "white",
            "ticks": ""
           }
          },
          "title": {
           "x": 0.05
          },
          "xaxis": {
           "automargin": true,
           "gridcolor": "white",
           "linecolor": "white",
           "ticks": "",
           "title": {
            "standoff": 15
           },
           "zerolinecolor": "white",
           "zerolinewidth": 2
          },
          "yaxis": {
           "automargin": true,
           "gridcolor": "white",
           "linecolor": "white",
           "ticks": "",
           "title": {
            "standoff": 15
           },
           "zerolinecolor": "white",
           "zerolinewidth": 2
          }
         }
        },
        "title": {
         "text": "Number of Companies per Category"
        },
        "xaxis": {
         "anchor": "y",
         "domain": [
          0,
          1
         ],
         "title": {
          "text": "category"
         }
        },
        "yaxis": {
         "anchor": "x",
         "domain": [
          0,
          1
         ],
         "title": {
          "text": "count"
         }
        }
       }
      }
     },
     "metadata": {},
     "output_type": "display_data"
    }
   ],
   "source": [
    "fig = px.bar(category_count, x=\"category\", y=\"count\", title=\"Number of Companies per Category\")\n",
    "fig.show()"
   ]
  },
  {
   "cell_type": "code",
   "execution_count": 15,
   "metadata": {},
   "outputs": [
    {
     "data": {
      "text/plain": [
       "['electronics_technology',\n",
       " 'home_garden',\n",
       " 'shopping_fashion',\n",
       " 'money_insurance',\n",
       " 'events_entertainment',\n",
       " 'beauty_wellbeing',\n",
       " 'food_beverages_tobacco',\n",
       " 'construction_manufactoring',\n",
       " 'business_services',\n",
       " 'education_training',\n",
       " 'vehicles_transportation']"
      ]
     },
     "execution_count": 15,
     "metadata": {},
     "output_type": "execute_result"
    }
   ],
   "source": [
    "category_list = list(category_count[category_count[\"count\"] >= 450][\"category\"])\n",
    "category_list"
   ]
  },
  {
   "cell_type": "code",
   "execution_count": 16,
   "metadata": {},
   "outputs": [
    {
     "data": {
      "text/html": [
       "<div>\n",
       "<style scoped>\n",
       "    .dataframe tbody tr th:only-of-type {\n",
       "        vertical-align: middle;\n",
       "    }\n",
       "\n",
       "    .dataframe tbody tr th {\n",
       "        vertical-align: top;\n",
       "    }\n",
       "\n",
       "    .dataframe thead th {\n",
       "        text-align: right;\n",
       "    }\n",
       "</style>\n",
       "<table border=\"1\" class=\"dataframe\">\n",
       "  <thead>\n",
       "    <tr style=\"text-align: right;\">\n",
       "      <th></th>\n",
       "      <th>category</th>\n",
       "      <th>count</th>\n",
       "    </tr>\n",
       "  </thead>\n",
       "  <tbody>\n",
       "    <tr>\n",
       "      <th>0</th>\n",
       "      <td>electronics_technology</td>\n",
       "      <td>1172</td>\n",
       "    </tr>\n",
       "    <tr>\n",
       "      <th>1</th>\n",
       "      <td>home_garden</td>\n",
       "      <td>1101</td>\n",
       "    </tr>\n",
       "    <tr>\n",
       "      <th>2</th>\n",
       "      <td>shopping_fashion</td>\n",
       "      <td>1054</td>\n",
       "    </tr>\n",
       "    <tr>\n",
       "      <th>3</th>\n",
       "      <td>money_insurance</td>\n",
       "      <td>1030</td>\n",
       "    </tr>\n",
       "    <tr>\n",
       "      <th>4</th>\n",
       "      <td>events_entertainment</td>\n",
       "      <td>761</td>\n",
       "    </tr>\n",
       "    <tr>\n",
       "      <th>5</th>\n",
       "      <td>beauty_wellbeing</td>\n",
       "      <td>755</td>\n",
       "    </tr>\n",
       "    <tr>\n",
       "      <th>6</th>\n",
       "      <td>food_beverages_tobacco</td>\n",
       "      <td>736</td>\n",
       "    </tr>\n",
       "    <tr>\n",
       "      <th>7</th>\n",
       "      <td>construction_manufactoring</td>\n",
       "      <td>704</td>\n",
       "    </tr>\n",
       "    <tr>\n",
       "      <th>8</th>\n",
       "      <td>business_services</td>\n",
       "      <td>679</td>\n",
       "    </tr>\n",
       "    <tr>\n",
       "      <th>9</th>\n",
       "      <td>education_training</td>\n",
       "      <td>648</td>\n",
       "    </tr>\n",
       "    <tr>\n",
       "      <th>10</th>\n",
       "      <td>vehicles_transportation</td>\n",
       "      <td>612</td>\n",
       "    </tr>\n",
       "  </tbody>\n",
       "</table>\n",
       "</div>"
      ],
      "text/plain": [
       "                      category  count\n",
       "0       electronics_technology   1172\n",
       "1                  home_garden   1101\n",
       "2             shopping_fashion   1054\n",
       "3              money_insurance   1030\n",
       "4         events_entertainment    761\n",
       "5             beauty_wellbeing    755\n",
       "6       food_beverages_tobacco    736\n",
       "7   construction_manufactoring    704\n",
       "8            business_services    679\n",
       "9           education_training    648\n",
       "10     vehicles_transportation    612"
      ]
     },
     "execution_count": 16,
     "metadata": {},
     "output_type": "execute_result"
    }
   ],
   "source": [
    "company_sample = df[df[\"category\"].isin(category_list)].dropna()\n",
    "company_sample[\"category\"].value_counts().reset_index()"
   ]
  },
  {
   "cell_type": "code",
   "execution_count": 17,
   "metadata": {},
   "outputs": [
    {
     "data": {
      "text/html": [
       "<div>\n",
       "<style scoped>\n",
       "    .dataframe tbody tr th:only-of-type {\n",
       "        vertical-align: middle;\n",
       "    }\n",
       "\n",
       "    .dataframe tbody tr th {\n",
       "        vertical-align: top;\n",
       "    }\n",
       "\n",
       "    .dataframe thead th {\n",
       "        text-align: right;\n",
       "    }\n",
       "</style>\n",
       "<table border=\"1\" class=\"dataframe\">\n",
       "  <thead>\n",
       "    <tr style=\"text-align: right;\">\n",
       "      <th></th>\n",
       "      <th>company_name</th>\n",
       "      <th>description_en</th>\n",
       "      <th>category</th>\n",
       "      <th>score</th>\n",
       "      <th>tokenized_desc</th>\n",
       "      <th>tag</th>\n",
       "    </tr>\n",
       "  </thead>\n",
       "  <tbody>\n",
       "    <tr>\n",
       "      <th>0</th>\n",
       "      <td>Oscilance Sophrologie</td>\n",
       "      <td>Develop your well-being with sophrology Diplom...</td>\n",
       "      <td>beauty_wellbeing</td>\n",
       "      <td>4,7</td>\n",
       "      <td>develop sophrology diploma rncp certification ...</td>\n",
       "      <td>2256</td>\n",
       "    </tr>\n",
       "    <tr>\n",
       "      <th>1</th>\n",
       "      <td>Lesentiergeobio</td>\n",
       "      <td>Welcome to my little ecological store which is...</td>\n",
       "      <td>beauty_wellbeing</td>\n",
       "      <td>4,0</td>\n",
       "      <td>welcome little ecological store grow little da...</td>\n",
       "      <td>2501</td>\n",
       "    </tr>\n",
       "    <tr>\n",
       "      <th>2</th>\n",
       "      <td>Salvia Nutrition</td>\n",
       "      <td>Expert in aromatherapy Essential oils and cosm...</td>\n",
       "      <td>beauty_wellbeing</td>\n",
       "      <td>4,7</td>\n",
       "      <td>expert aromatherapy essential oil cosmetic fre...</td>\n",
       "      <td>2004</td>\n",
       "    </tr>\n",
       "    <tr>\n",
       "      <th>3</th>\n",
       "      <td>Mahasoa</td>\n",
       "      <td>Buy your hairdresser's products online thanks ...</td>\n",
       "      <td>beauty_wellbeing</td>\n",
       "      <td>4,6</td>\n",
       "      <td>buy hairdresser product online thank mahasoa m...</td>\n",
       "      <td>2042</td>\n",
       "    </tr>\n",
       "    <tr>\n",
       "      <th>4</th>\n",
       "      <td>Cannibia</td>\n",
       "      <td>To respect our commitment, the efficiency, saf...</td>\n",
       "      <td>beauty_wellbeing</td>\n",
       "      <td>4,1</td>\n",
       "      <td>respect commitment efficiency safety quality p...</td>\n",
       "      <td>2458</td>\n",
       "    </tr>\n",
       "    <tr>\n",
       "      <th>...</th>\n",
       "      <td>...</td>\n",
       "      <td>...</td>\n",
       "      <td>...</td>\n",
       "      <td>...</td>\n",
       "      <td>...</td>\n",
       "      <td>...</td>\n",
       "    </tr>\n",
       "    <tr>\n",
       "      <th>4472</th>\n",
       "      <td>Colmar Auto Bilan</td>\n",
       "      <td>Colmar Auto Bilan is a technical inspection ce...</td>\n",
       "      <td>vehicles_transportation</td>\n",
       "      <td>3,8</td>\n",
       "      <td>colmar auto bilan technical inspection center ...</td>\n",
       "      <td>11183</td>\n",
       "    </tr>\n",
       "    <tr>\n",
       "      <th>4473</th>\n",
       "      <td>CapCar</td>\n",
       "      <td>CapCar is revolutionizing the buying and selli...</td>\n",
       "      <td>vehicles_transportation</td>\n",
       "      <td>3,2</td>\n",
       "      <td>capcar revolutionize buying selling car trust ...</td>\n",
       "      <td>11274</td>\n",
       "    </tr>\n",
       "    <tr>\n",
       "      <th>4474</th>\n",
       "      <td>macadam cycles</td>\n",
       "      <td>Merchant of unique bicycles and accessories! W...</td>\n",
       "      <td>vehicles_transportation</td>\n",
       "      <td>2,4</td>\n",
       "      <td>merchant unique bicycle accessory official dis...</td>\n",
       "      <td>11333</td>\n",
       "    </tr>\n",
       "    <tr>\n",
       "      <th>4475</th>\n",
       "      <td>Vélo service Travu</td>\n",
       "      <td>Are you planning to buy a bike or have yours r...</td>\n",
       "      <td>vehicles_transportation</td>\n",
       "      <td>3,8</td>\n",
       "      <td>plan buy bike repair come talk support</td>\n",
       "      <td>11185</td>\n",
       "    </tr>\n",
       "    <tr>\n",
       "      <th>4476</th>\n",
       "      <td>Yescapa</td>\n",
       "      <td>Yescapa is a platform that makes it simple and...</td>\n",
       "      <td>vehicles_transportation</td>\n",
       "      <td>2,9</td>\n",
       "      <td>yescapa platform make simple secure rent motor...</td>\n",
       "      <td>11302</td>\n",
       "    </tr>\n",
       "  </tbody>\n",
       "</table>\n",
       "<p>4477 rows × 6 columns</p>\n",
       "</div>"
      ],
      "text/plain": [
       "               company_name  \\\n",
       "0     Oscilance Sophrologie   \n",
       "1           Lesentiergeobio   \n",
       "2          Salvia Nutrition   \n",
       "3                   Mahasoa   \n",
       "4                  Cannibia   \n",
       "...                     ...   \n",
       "4472      Colmar Auto Bilan   \n",
       "4473                 CapCar   \n",
       "4474         macadam cycles   \n",
       "4475     Vélo service Travu   \n",
       "4476                Yescapa   \n",
       "\n",
       "                                         description_en  \\\n",
       "0     Develop your well-being with sophrology Diplom...   \n",
       "1     Welcome to my little ecological store which is...   \n",
       "2     Expert in aromatherapy Essential oils and cosm...   \n",
       "3     Buy your hairdresser's products online thanks ...   \n",
       "4     To respect our commitment, the efficiency, saf...   \n",
       "...                                                 ...   \n",
       "4472  Colmar Auto Bilan is a technical inspection ce...   \n",
       "4473  CapCar is revolutionizing the buying and selli...   \n",
       "4474  Merchant of unique bicycles and accessories! W...   \n",
       "4475  Are you planning to buy a bike or have yours r...   \n",
       "4476  Yescapa is a platform that makes it simple and...   \n",
       "\n",
       "                     category score  \\\n",
       "0            beauty_wellbeing   4,7   \n",
       "1            beauty_wellbeing   4,0   \n",
       "2            beauty_wellbeing   4,7   \n",
       "3            beauty_wellbeing   4,6   \n",
       "4            beauty_wellbeing   4,1   \n",
       "...                       ...   ...   \n",
       "4472  vehicles_transportation   3,8   \n",
       "4473  vehicles_transportation   3,2   \n",
       "4474  vehicles_transportation   2,4   \n",
       "4475  vehicles_transportation   3,8   \n",
       "4476  vehicles_transportation   2,9   \n",
       "\n",
       "                                         tokenized_desc    tag  \n",
       "0     develop sophrology diploma rncp certification ...   2256  \n",
       "1     welcome little ecological store grow little da...   2501  \n",
       "2     expert aromatherapy essential oil cosmetic fre...   2004  \n",
       "3     buy hairdresser product online thank mahasoa m...   2042  \n",
       "4     respect commitment efficiency safety quality p...   2458  \n",
       "...                                                 ...    ...  \n",
       "4472  colmar auto bilan technical inspection center ...  11183  \n",
       "4473  capcar revolutionize buying selling car trust ...  11274  \n",
       "4474  merchant unique bicycle accessory official dis...  11333  \n",
       "4475             plan buy bike repair come talk support  11185  \n",
       "4476  yescapa platform make simple secure rent motor...  11302  \n",
       "\n",
       "[4477 rows x 6 columns]"
      ]
     },
     "execution_count": 17,
     "metadata": {},
     "output_type": "execute_result"
    }
   ],
   "source": [
    "company_sample = company_sample.groupby('category').apply(lambda x: x.sample(n=407, random_state=42)).reset_index(drop=True)\n",
    "company_sample"
   ]
  },
  {
   "cell_type": "code",
   "execution_count": 4,
   "metadata": {},
   "outputs": [],
   "source": [
    "d2v = Doc2Vec.load(\"models/d2v.model\")"
   ]
  },
  {
   "cell_type": "code",
   "execution_count": 18,
   "metadata": {},
   "outputs": [],
   "source": [
    "tags = company_sample[\"tag\"]\n",
    "labels = company_sample[\"company_name\"]\n",
    "category = company_sample[\"category\"]\n",
    "vectors = [d2v.dv[tag] for tag in tags]"
   ]
  },
  {
   "cell_type": "code",
   "execution_count": 19,
   "metadata": {},
   "outputs": [
    {
     "data": {
      "text/plain": [
       "4477"
      ]
     },
     "execution_count": 19,
     "metadata": {},
     "output_type": "execute_result"
    }
   ],
   "source": [
    "len(tags)"
   ]
  },
  {
   "cell_type": "code",
   "execution_count": 20,
   "metadata": {},
   "outputs": [
    {
     "data": {
      "text/plain": [
       "4477"
      ]
     },
     "execution_count": 20,
     "metadata": {},
     "output_type": "execute_result"
    }
   ],
   "source": [
    "len(vectors)"
   ]
  },
  {
   "cell_type": "code",
   "execution_count": 23,
   "metadata": {},
   "outputs": [],
   "source": [
    "vectors_df = pd.DataFrame(vectors)"
   ]
  },
  {
   "cell_type": "code",
   "execution_count": 24,
   "metadata": {},
   "outputs": [
    {
     "data": {
      "text/html": [
       "<div>\n",
       "<style scoped>\n",
       "    .dataframe tbody tr th:only-of-type {\n",
       "        vertical-align: middle;\n",
       "    }\n",
       "\n",
       "    .dataframe tbody tr th {\n",
       "        vertical-align: top;\n",
       "    }\n",
       "\n",
       "    .dataframe thead th {\n",
       "        text-align: right;\n",
       "    }\n",
       "</style>\n",
       "<table border=\"1\" class=\"dataframe\">\n",
       "  <thead>\n",
       "    <tr style=\"text-align: right;\">\n",
       "      <th></th>\n",
       "      <th>0</th>\n",
       "      <th>1</th>\n",
       "      <th>2</th>\n",
       "      <th>3</th>\n",
       "      <th>4</th>\n",
       "      <th>5</th>\n",
       "      <th>6</th>\n",
       "      <th>7</th>\n",
       "      <th>8</th>\n",
       "      <th>9</th>\n",
       "      <th>10</th>\n",
       "      <th>11</th>\n",
       "      <th>12</th>\n",
       "      <th>13</th>\n",
       "      <th>14</th>\n",
       "      <th>15</th>\n",
       "      <th>16</th>\n",
       "      <th>17</th>\n",
       "      <th>18</th>\n",
       "      <th>19</th>\n",
       "    </tr>\n",
       "  </thead>\n",
       "  <tbody>\n",
       "    <tr>\n",
       "      <th>0</th>\n",
       "      <td>1.555916</td>\n",
       "      <td>3.732630</td>\n",
       "      <td>3.569272</td>\n",
       "      <td>-1.574828</td>\n",
       "      <td>3.526356</td>\n",
       "      <td>-1.541315</td>\n",
       "      <td>-5.257199</td>\n",
       "      <td>0.213623</td>\n",
       "      <td>0.593278</td>\n",
       "      <td>3.616737</td>\n",
       "      <td>-16.275211</td>\n",
       "      <td>0.581281</td>\n",
       "      <td>-3.401930</td>\n",
       "      <td>2.320469</td>\n",
       "      <td>3.157410</td>\n",
       "      <td>4.393044</td>\n",
       "      <td>12.101939</td>\n",
       "      <td>-0.747775</td>\n",
       "      <td>-0.511097</td>\n",
       "      <td>1.408481</td>\n",
       "    </tr>\n",
       "    <tr>\n",
       "      <th>1</th>\n",
       "      <td>1.348109</td>\n",
       "      <td>1.019928</td>\n",
       "      <td>-9.346064</td>\n",
       "      <td>-5.572748</td>\n",
       "      <td>-4.856998</td>\n",
       "      <td>-6.188309</td>\n",
       "      <td>-3.559583</td>\n",
       "      <td>5.256246</td>\n",
       "      <td>-8.304394</td>\n",
       "      <td>-1.915268</td>\n",
       "      <td>3.382292</td>\n",
       "      <td>6.648015</td>\n",
       "      <td>-1.871945</td>\n",
       "      <td>9.686320</td>\n",
       "      <td>2.735891</td>\n",
       "      <td>1.763738</td>\n",
       "      <td>8.780616</td>\n",
       "      <td>1.186969</td>\n",
       "      <td>1.999301</td>\n",
       "      <td>2.743771</td>\n",
       "    </tr>\n",
       "    <tr>\n",
       "      <th>2</th>\n",
       "      <td>9.066367</td>\n",
       "      <td>-3.344702</td>\n",
       "      <td>-1.788065</td>\n",
       "      <td>1.012523</td>\n",
       "      <td>-2.358032</td>\n",
       "      <td>-3.962410</td>\n",
       "      <td>-4.055778</td>\n",
       "      <td>-1.833944</td>\n",
       "      <td>2.938650</td>\n",
       "      <td>1.612116</td>\n",
       "      <td>-1.374383</td>\n",
       "      <td>5.778584</td>\n",
       "      <td>-4.997014</td>\n",
       "      <td>2.162220</td>\n",
       "      <td>3.363889</td>\n",
       "      <td>4.667016</td>\n",
       "      <td>13.557610</td>\n",
       "      <td>-5.855724</td>\n",
       "      <td>-5.707810</td>\n",
       "      <td>1.010891</td>\n",
       "    </tr>\n",
       "    <tr>\n",
       "      <th>3</th>\n",
       "      <td>1.495197</td>\n",
       "      <td>-2.396264</td>\n",
       "      <td>-4.005068</td>\n",
       "      <td>-4.147858</td>\n",
       "      <td>3.863000</td>\n",
       "      <td>-1.856706</td>\n",
       "      <td>-1.879233</td>\n",
       "      <td>1.139206</td>\n",
       "      <td>-9.948735</td>\n",
       "      <td>5.715406</td>\n",
       "      <td>-2.385922</td>\n",
       "      <td>3.473161</td>\n",
       "      <td>-0.575435</td>\n",
       "      <td>-2.402317</td>\n",
       "      <td>-3.309796</td>\n",
       "      <td>1.950958</td>\n",
       "      <td>8.737164</td>\n",
       "      <td>-6.225251</td>\n",
       "      <td>1.628477</td>\n",
       "      <td>-2.316124</td>\n",
       "    </tr>\n",
       "    <tr>\n",
       "      <th>4</th>\n",
       "      <td>4.377453</td>\n",
       "      <td>-9.588228</td>\n",
       "      <td>0.572681</td>\n",
       "      <td>-1.564694</td>\n",
       "      <td>-2.288914</td>\n",
       "      <td>-9.874044</td>\n",
       "      <td>-3.364615</td>\n",
       "      <td>5.585204</td>\n",
       "      <td>-2.070639</td>\n",
       "      <td>-2.879122</td>\n",
       "      <td>-5.677154</td>\n",
       "      <td>2.318398</td>\n",
       "      <td>-5.963313</td>\n",
       "      <td>-1.794160</td>\n",
       "      <td>5.300523</td>\n",
       "      <td>4.461276</td>\n",
       "      <td>7.500114</td>\n",
       "      <td>-5.311936</td>\n",
       "      <td>-2.008378</td>\n",
       "      <td>4.261292</td>\n",
       "    </tr>\n",
       "    <tr>\n",
       "      <th>...</th>\n",
       "      <td>...</td>\n",
       "      <td>...</td>\n",
       "      <td>...</td>\n",
       "      <td>...</td>\n",
       "      <td>...</td>\n",
       "      <td>...</td>\n",
       "      <td>...</td>\n",
       "      <td>...</td>\n",
       "      <td>...</td>\n",
       "      <td>...</td>\n",
       "      <td>...</td>\n",
       "      <td>...</td>\n",
       "      <td>...</td>\n",
       "      <td>...</td>\n",
       "      <td>...</td>\n",
       "      <td>...</td>\n",
       "      <td>...</td>\n",
       "      <td>...</td>\n",
       "      <td>...</td>\n",
       "      <td>...</td>\n",
       "    </tr>\n",
       "    <tr>\n",
       "      <th>4472</th>\n",
       "      <td>-6.717722</td>\n",
       "      <td>0.349456</td>\n",
       "      <td>3.132945</td>\n",
       "      <td>-0.401000</td>\n",
       "      <td>-0.441590</td>\n",
       "      <td>-1.189616</td>\n",
       "      <td>1.708816</td>\n",
       "      <td>-0.146644</td>\n",
       "      <td>-0.190129</td>\n",
       "      <td>7.019242</td>\n",
       "      <td>-2.543383</td>\n",
       "      <td>-2.808481</td>\n",
       "      <td>-3.841403</td>\n",
       "      <td>-0.658023</td>\n",
       "      <td>2.433311</td>\n",
       "      <td>0.312751</td>\n",
       "      <td>11.966047</td>\n",
       "      <td>-3.948421</td>\n",
       "      <td>3.102744</td>\n",
       "      <td>-6.873521</td>\n",
       "    </tr>\n",
       "    <tr>\n",
       "      <th>4473</th>\n",
       "      <td>-6.911193</td>\n",
       "      <td>1.440823</td>\n",
       "      <td>2.548128</td>\n",
       "      <td>-3.100884</td>\n",
       "      <td>8.822441</td>\n",
       "      <td>4.941241</td>\n",
       "      <td>2.198640</td>\n",
       "      <td>5.161830</td>\n",
       "      <td>-9.020262</td>\n",
       "      <td>-3.514540</td>\n",
       "      <td>2.992202</td>\n",
       "      <td>-2.823585</td>\n",
       "      <td>-9.801691</td>\n",
       "      <td>5.680787</td>\n",
       "      <td>-6.144229</td>\n",
       "      <td>1.151869</td>\n",
       "      <td>5.331325</td>\n",
       "      <td>-5.028971</td>\n",
       "      <td>3.836699</td>\n",
       "      <td>-10.583253</td>\n",
       "    </tr>\n",
       "    <tr>\n",
       "      <th>4474</th>\n",
       "      <td>1.455796</td>\n",
       "      <td>-2.668402</td>\n",
       "      <td>-1.389625</td>\n",
       "      <td>-3.062446</td>\n",
       "      <td>-2.821195</td>\n",
       "      <td>-0.383443</td>\n",
       "      <td>-1.318816</td>\n",
       "      <td>-0.228552</td>\n",
       "      <td>-7.144111</td>\n",
       "      <td>-2.114722</td>\n",
       "      <td>0.626333</td>\n",
       "      <td>-8.447633</td>\n",
       "      <td>3.005778</td>\n",
       "      <td>-2.626287</td>\n",
       "      <td>2.584342</td>\n",
       "      <td>-6.401578</td>\n",
       "      <td>6.933508</td>\n",
       "      <td>4.941571</td>\n",
       "      <td>-4.600127</td>\n",
       "      <td>-5.776989</td>\n",
       "    </tr>\n",
       "    <tr>\n",
       "      <th>4475</th>\n",
       "      <td>-5.760660</td>\n",
       "      <td>5.931286</td>\n",
       "      <td>-2.306327</td>\n",
       "      <td>-6.683461</td>\n",
       "      <td>-0.256726</td>\n",
       "      <td>-6.611842</td>\n",
       "      <td>6.459180</td>\n",
       "      <td>-4.065218</td>\n",
       "      <td>-8.164078</td>\n",
       "      <td>-0.796073</td>\n",
       "      <td>-3.951172</td>\n",
       "      <td>3.274068</td>\n",
       "      <td>5.370887</td>\n",
       "      <td>5.028344</td>\n",
       "      <td>-1.199682</td>\n",
       "      <td>1.805775</td>\n",
       "      <td>7.411559</td>\n",
       "      <td>-5.398070</td>\n",
       "      <td>6.530111</td>\n",
       "      <td>-2.206319</td>\n",
       "    </tr>\n",
       "    <tr>\n",
       "      <th>4476</th>\n",
       "      <td>0.669686</td>\n",
       "      <td>5.065714</td>\n",
       "      <td>2.416343</td>\n",
       "      <td>-2.992714</td>\n",
       "      <td>6.880853</td>\n",
       "      <td>3.398763</td>\n",
       "      <td>0.632753</td>\n",
       "      <td>0.095392</td>\n",
       "      <td>-0.114188</td>\n",
       "      <td>-6.765610</td>\n",
       "      <td>-5.175272</td>\n",
       "      <td>-0.696416</td>\n",
       "      <td>-7.445188</td>\n",
       "      <td>4.269611</td>\n",
       "      <td>0.633538</td>\n",
       "      <td>-11.543733</td>\n",
       "      <td>7.195770</td>\n",
       "      <td>-1.308770</td>\n",
       "      <td>-2.764221</td>\n",
       "      <td>-11.262305</td>\n",
       "    </tr>\n",
       "  </tbody>\n",
       "</table>\n",
       "<p>4477 rows × 20 columns</p>\n",
       "</div>"
      ],
      "text/plain": [
       "            0         1         2         3         4         5         6   \\\n",
       "0     1.555916  3.732630  3.569272 -1.574828  3.526356 -1.541315 -5.257199   \n",
       "1     1.348109  1.019928 -9.346064 -5.572748 -4.856998 -6.188309 -3.559583   \n",
       "2     9.066367 -3.344702 -1.788065  1.012523 -2.358032 -3.962410 -4.055778   \n",
       "3     1.495197 -2.396264 -4.005068 -4.147858  3.863000 -1.856706 -1.879233   \n",
       "4     4.377453 -9.588228  0.572681 -1.564694 -2.288914 -9.874044 -3.364615   \n",
       "...        ...       ...       ...       ...       ...       ...       ...   \n",
       "4472 -6.717722  0.349456  3.132945 -0.401000 -0.441590 -1.189616  1.708816   \n",
       "4473 -6.911193  1.440823  2.548128 -3.100884  8.822441  4.941241  2.198640   \n",
       "4474  1.455796 -2.668402 -1.389625 -3.062446 -2.821195 -0.383443 -1.318816   \n",
       "4475 -5.760660  5.931286 -2.306327 -6.683461 -0.256726 -6.611842  6.459180   \n",
       "4476  0.669686  5.065714  2.416343 -2.992714  6.880853  3.398763  0.632753   \n",
       "\n",
       "            7         8         9          10        11        12        13  \\\n",
       "0     0.213623  0.593278  3.616737 -16.275211  0.581281 -3.401930  2.320469   \n",
       "1     5.256246 -8.304394 -1.915268   3.382292  6.648015 -1.871945  9.686320   \n",
       "2    -1.833944  2.938650  1.612116  -1.374383  5.778584 -4.997014  2.162220   \n",
       "3     1.139206 -9.948735  5.715406  -2.385922  3.473161 -0.575435 -2.402317   \n",
       "4     5.585204 -2.070639 -2.879122  -5.677154  2.318398 -5.963313 -1.794160   \n",
       "...        ...       ...       ...        ...       ...       ...       ...   \n",
       "4472 -0.146644 -0.190129  7.019242  -2.543383 -2.808481 -3.841403 -0.658023   \n",
       "4473  5.161830 -9.020262 -3.514540   2.992202 -2.823585 -9.801691  5.680787   \n",
       "4474 -0.228552 -7.144111 -2.114722   0.626333 -8.447633  3.005778 -2.626287   \n",
       "4475 -4.065218 -8.164078 -0.796073  -3.951172  3.274068  5.370887  5.028344   \n",
       "4476  0.095392 -0.114188 -6.765610  -5.175272 -0.696416 -7.445188  4.269611   \n",
       "\n",
       "            14         15         16        17        18         19  \n",
       "0     3.157410   4.393044  12.101939 -0.747775 -0.511097   1.408481  \n",
       "1     2.735891   1.763738   8.780616  1.186969  1.999301   2.743771  \n",
       "2     3.363889   4.667016  13.557610 -5.855724 -5.707810   1.010891  \n",
       "3    -3.309796   1.950958   8.737164 -6.225251  1.628477  -2.316124  \n",
       "4     5.300523   4.461276   7.500114 -5.311936 -2.008378   4.261292  \n",
       "...        ...        ...        ...       ...       ...        ...  \n",
       "4472  2.433311   0.312751  11.966047 -3.948421  3.102744  -6.873521  \n",
       "4473 -6.144229   1.151869   5.331325 -5.028971  3.836699 -10.583253  \n",
       "4474  2.584342  -6.401578   6.933508  4.941571 -4.600127  -5.776989  \n",
       "4475 -1.199682   1.805775   7.411559 -5.398070  6.530111  -2.206319  \n",
       "4476  0.633538 -11.543733   7.195770 -1.308770 -2.764221 -11.262305  \n",
       "\n",
       "[4477 rows x 20 columns]"
      ]
     },
     "execution_count": 24,
     "metadata": {},
     "output_type": "execute_result"
    }
   ],
   "source": [
    "vectors_df"
   ]
  },
  {
   "cell_type": "code",
   "execution_count": 26,
   "metadata": {},
   "outputs": [],
   "source": [
    "vectors_df[\"category\"] = category"
   ]
  },
  {
   "cell_type": "code",
   "execution_count": 28,
   "metadata": {},
   "outputs": [
    {
     "data": {
      "text/html": [
       "<div>\n",
       "<style scoped>\n",
       "    .dataframe tbody tr th:only-of-type {\n",
       "        vertical-align: middle;\n",
       "    }\n",
       "\n",
       "    .dataframe tbody tr th {\n",
       "        vertical-align: top;\n",
       "    }\n",
       "\n",
       "    .dataframe thead th {\n",
       "        text-align: right;\n",
       "    }\n",
       "</style>\n",
       "<table border=\"1\" class=\"dataframe\">\n",
       "  <thead>\n",
       "    <tr style=\"text-align: right;\">\n",
       "      <th></th>\n",
       "      <th>0</th>\n",
       "      <th>1</th>\n",
       "      <th>2</th>\n",
       "      <th>3</th>\n",
       "      <th>4</th>\n",
       "      <th>5</th>\n",
       "      <th>6</th>\n",
       "      <th>7</th>\n",
       "      <th>8</th>\n",
       "      <th>9</th>\n",
       "      <th>...</th>\n",
       "      <th>11</th>\n",
       "      <th>12</th>\n",
       "      <th>13</th>\n",
       "      <th>14</th>\n",
       "      <th>15</th>\n",
       "      <th>16</th>\n",
       "      <th>17</th>\n",
       "      <th>18</th>\n",
       "      <th>19</th>\n",
       "      <th>category</th>\n",
       "    </tr>\n",
       "  </thead>\n",
       "  <tbody>\n",
       "    <tr>\n",
       "      <th>0</th>\n",
       "      <td>1.555916</td>\n",
       "      <td>3.732630</td>\n",
       "      <td>3.569272</td>\n",
       "      <td>-1.574828</td>\n",
       "      <td>3.526356</td>\n",
       "      <td>-1.541315</td>\n",
       "      <td>-5.257199</td>\n",
       "      <td>0.213623</td>\n",
       "      <td>0.593278</td>\n",
       "      <td>3.616737</td>\n",
       "      <td>...</td>\n",
       "      <td>0.581281</td>\n",
       "      <td>-3.401930</td>\n",
       "      <td>2.320469</td>\n",
       "      <td>3.157410</td>\n",
       "      <td>4.393044</td>\n",
       "      <td>12.101939</td>\n",
       "      <td>-0.747775</td>\n",
       "      <td>-0.511097</td>\n",
       "      <td>1.408481</td>\n",
       "      <td>beauty_wellbeing</td>\n",
       "    </tr>\n",
       "    <tr>\n",
       "      <th>1</th>\n",
       "      <td>1.348109</td>\n",
       "      <td>1.019928</td>\n",
       "      <td>-9.346064</td>\n",
       "      <td>-5.572748</td>\n",
       "      <td>-4.856998</td>\n",
       "      <td>-6.188309</td>\n",
       "      <td>-3.559583</td>\n",
       "      <td>5.256246</td>\n",
       "      <td>-8.304394</td>\n",
       "      <td>-1.915268</td>\n",
       "      <td>...</td>\n",
       "      <td>6.648015</td>\n",
       "      <td>-1.871945</td>\n",
       "      <td>9.686320</td>\n",
       "      <td>2.735891</td>\n",
       "      <td>1.763738</td>\n",
       "      <td>8.780616</td>\n",
       "      <td>1.186969</td>\n",
       "      <td>1.999301</td>\n",
       "      <td>2.743771</td>\n",
       "      <td>beauty_wellbeing</td>\n",
       "    </tr>\n",
       "    <tr>\n",
       "      <th>2</th>\n",
       "      <td>9.066367</td>\n",
       "      <td>-3.344702</td>\n",
       "      <td>-1.788065</td>\n",
       "      <td>1.012523</td>\n",
       "      <td>-2.358032</td>\n",
       "      <td>-3.962410</td>\n",
       "      <td>-4.055778</td>\n",
       "      <td>-1.833944</td>\n",
       "      <td>2.938650</td>\n",
       "      <td>1.612116</td>\n",
       "      <td>...</td>\n",
       "      <td>5.778584</td>\n",
       "      <td>-4.997014</td>\n",
       "      <td>2.162220</td>\n",
       "      <td>3.363889</td>\n",
       "      <td>4.667016</td>\n",
       "      <td>13.557610</td>\n",
       "      <td>-5.855724</td>\n",
       "      <td>-5.707810</td>\n",
       "      <td>1.010891</td>\n",
       "      <td>beauty_wellbeing</td>\n",
       "    </tr>\n",
       "    <tr>\n",
       "      <th>3</th>\n",
       "      <td>1.495197</td>\n",
       "      <td>-2.396264</td>\n",
       "      <td>-4.005068</td>\n",
       "      <td>-4.147858</td>\n",
       "      <td>3.863000</td>\n",
       "      <td>-1.856706</td>\n",
       "      <td>-1.879233</td>\n",
       "      <td>1.139206</td>\n",
       "      <td>-9.948735</td>\n",
       "      <td>5.715406</td>\n",
       "      <td>...</td>\n",
       "      <td>3.473161</td>\n",
       "      <td>-0.575435</td>\n",
       "      <td>-2.402317</td>\n",
       "      <td>-3.309796</td>\n",
       "      <td>1.950958</td>\n",
       "      <td>8.737164</td>\n",
       "      <td>-6.225251</td>\n",
       "      <td>1.628477</td>\n",
       "      <td>-2.316124</td>\n",
       "      <td>beauty_wellbeing</td>\n",
       "    </tr>\n",
       "    <tr>\n",
       "      <th>4</th>\n",
       "      <td>4.377453</td>\n",
       "      <td>-9.588228</td>\n",
       "      <td>0.572681</td>\n",
       "      <td>-1.564694</td>\n",
       "      <td>-2.288914</td>\n",
       "      <td>-9.874044</td>\n",
       "      <td>-3.364615</td>\n",
       "      <td>5.585204</td>\n",
       "      <td>-2.070639</td>\n",
       "      <td>-2.879122</td>\n",
       "      <td>...</td>\n",
       "      <td>2.318398</td>\n",
       "      <td>-5.963313</td>\n",
       "      <td>-1.794160</td>\n",
       "      <td>5.300523</td>\n",
       "      <td>4.461276</td>\n",
       "      <td>7.500114</td>\n",
       "      <td>-5.311936</td>\n",
       "      <td>-2.008378</td>\n",
       "      <td>4.261292</td>\n",
       "      <td>beauty_wellbeing</td>\n",
       "    </tr>\n",
       "    <tr>\n",
       "      <th>...</th>\n",
       "      <td>...</td>\n",
       "      <td>...</td>\n",
       "      <td>...</td>\n",
       "      <td>...</td>\n",
       "      <td>...</td>\n",
       "      <td>...</td>\n",
       "      <td>...</td>\n",
       "      <td>...</td>\n",
       "      <td>...</td>\n",
       "      <td>...</td>\n",
       "      <td>...</td>\n",
       "      <td>...</td>\n",
       "      <td>...</td>\n",
       "      <td>...</td>\n",
       "      <td>...</td>\n",
       "      <td>...</td>\n",
       "      <td>...</td>\n",
       "      <td>...</td>\n",
       "      <td>...</td>\n",
       "      <td>...</td>\n",
       "      <td>...</td>\n",
       "    </tr>\n",
       "    <tr>\n",
       "      <th>4472</th>\n",
       "      <td>-6.717722</td>\n",
       "      <td>0.349456</td>\n",
       "      <td>3.132945</td>\n",
       "      <td>-0.401000</td>\n",
       "      <td>-0.441590</td>\n",
       "      <td>-1.189616</td>\n",
       "      <td>1.708816</td>\n",
       "      <td>-0.146644</td>\n",
       "      <td>-0.190129</td>\n",
       "      <td>7.019242</td>\n",
       "      <td>...</td>\n",
       "      <td>-2.808481</td>\n",
       "      <td>-3.841403</td>\n",
       "      <td>-0.658023</td>\n",
       "      <td>2.433311</td>\n",
       "      <td>0.312751</td>\n",
       "      <td>11.966047</td>\n",
       "      <td>-3.948421</td>\n",
       "      <td>3.102744</td>\n",
       "      <td>-6.873521</td>\n",
       "      <td>vehicles_transportation</td>\n",
       "    </tr>\n",
       "    <tr>\n",
       "      <th>4473</th>\n",
       "      <td>-6.911193</td>\n",
       "      <td>1.440823</td>\n",
       "      <td>2.548128</td>\n",
       "      <td>-3.100884</td>\n",
       "      <td>8.822441</td>\n",
       "      <td>4.941241</td>\n",
       "      <td>2.198640</td>\n",
       "      <td>5.161830</td>\n",
       "      <td>-9.020262</td>\n",
       "      <td>-3.514540</td>\n",
       "      <td>...</td>\n",
       "      <td>-2.823585</td>\n",
       "      <td>-9.801691</td>\n",
       "      <td>5.680787</td>\n",
       "      <td>-6.144229</td>\n",
       "      <td>1.151869</td>\n",
       "      <td>5.331325</td>\n",
       "      <td>-5.028971</td>\n",
       "      <td>3.836699</td>\n",
       "      <td>-10.583253</td>\n",
       "      <td>vehicles_transportation</td>\n",
       "    </tr>\n",
       "    <tr>\n",
       "      <th>4474</th>\n",
       "      <td>1.455796</td>\n",
       "      <td>-2.668402</td>\n",
       "      <td>-1.389625</td>\n",
       "      <td>-3.062446</td>\n",
       "      <td>-2.821195</td>\n",
       "      <td>-0.383443</td>\n",
       "      <td>-1.318816</td>\n",
       "      <td>-0.228552</td>\n",
       "      <td>-7.144111</td>\n",
       "      <td>-2.114722</td>\n",
       "      <td>...</td>\n",
       "      <td>-8.447633</td>\n",
       "      <td>3.005778</td>\n",
       "      <td>-2.626287</td>\n",
       "      <td>2.584342</td>\n",
       "      <td>-6.401578</td>\n",
       "      <td>6.933508</td>\n",
       "      <td>4.941571</td>\n",
       "      <td>-4.600127</td>\n",
       "      <td>-5.776989</td>\n",
       "      <td>vehicles_transportation</td>\n",
       "    </tr>\n",
       "    <tr>\n",
       "      <th>4475</th>\n",
       "      <td>-5.760660</td>\n",
       "      <td>5.931286</td>\n",
       "      <td>-2.306327</td>\n",
       "      <td>-6.683461</td>\n",
       "      <td>-0.256726</td>\n",
       "      <td>-6.611842</td>\n",
       "      <td>6.459180</td>\n",
       "      <td>-4.065218</td>\n",
       "      <td>-8.164078</td>\n",
       "      <td>-0.796073</td>\n",
       "      <td>...</td>\n",
       "      <td>3.274068</td>\n",
       "      <td>5.370887</td>\n",
       "      <td>5.028344</td>\n",
       "      <td>-1.199682</td>\n",
       "      <td>1.805775</td>\n",
       "      <td>7.411559</td>\n",
       "      <td>-5.398070</td>\n",
       "      <td>6.530111</td>\n",
       "      <td>-2.206319</td>\n",
       "      <td>vehicles_transportation</td>\n",
       "    </tr>\n",
       "    <tr>\n",
       "      <th>4476</th>\n",
       "      <td>0.669686</td>\n",
       "      <td>5.065714</td>\n",
       "      <td>2.416343</td>\n",
       "      <td>-2.992714</td>\n",
       "      <td>6.880853</td>\n",
       "      <td>3.398763</td>\n",
       "      <td>0.632753</td>\n",
       "      <td>0.095392</td>\n",
       "      <td>-0.114188</td>\n",
       "      <td>-6.765610</td>\n",
       "      <td>...</td>\n",
       "      <td>-0.696416</td>\n",
       "      <td>-7.445188</td>\n",
       "      <td>4.269611</td>\n",
       "      <td>0.633538</td>\n",
       "      <td>-11.543733</td>\n",
       "      <td>7.195770</td>\n",
       "      <td>-1.308770</td>\n",
       "      <td>-2.764221</td>\n",
       "      <td>-11.262305</td>\n",
       "      <td>vehicles_transportation</td>\n",
       "    </tr>\n",
       "  </tbody>\n",
       "</table>\n",
       "<p>4477 rows × 21 columns</p>\n",
       "</div>"
      ],
      "text/plain": [
       "             0         1         2         3         4         5         6  \\\n",
       "0     1.555916  3.732630  3.569272 -1.574828  3.526356 -1.541315 -5.257199   \n",
       "1     1.348109  1.019928 -9.346064 -5.572748 -4.856998 -6.188309 -3.559583   \n",
       "2     9.066367 -3.344702 -1.788065  1.012523 -2.358032 -3.962410 -4.055778   \n",
       "3     1.495197 -2.396264 -4.005068 -4.147858  3.863000 -1.856706 -1.879233   \n",
       "4     4.377453 -9.588228  0.572681 -1.564694 -2.288914 -9.874044 -3.364615   \n",
       "...        ...       ...       ...       ...       ...       ...       ...   \n",
       "4472 -6.717722  0.349456  3.132945 -0.401000 -0.441590 -1.189616  1.708816   \n",
       "4473 -6.911193  1.440823  2.548128 -3.100884  8.822441  4.941241  2.198640   \n",
       "4474  1.455796 -2.668402 -1.389625 -3.062446 -2.821195 -0.383443 -1.318816   \n",
       "4475 -5.760660  5.931286 -2.306327 -6.683461 -0.256726 -6.611842  6.459180   \n",
       "4476  0.669686  5.065714  2.416343 -2.992714  6.880853  3.398763  0.632753   \n",
       "\n",
       "             7         8         9  ...        11        12        13  \\\n",
       "0     0.213623  0.593278  3.616737  ...  0.581281 -3.401930  2.320469   \n",
       "1     5.256246 -8.304394 -1.915268  ...  6.648015 -1.871945  9.686320   \n",
       "2    -1.833944  2.938650  1.612116  ...  5.778584 -4.997014  2.162220   \n",
       "3     1.139206 -9.948735  5.715406  ...  3.473161 -0.575435 -2.402317   \n",
       "4     5.585204 -2.070639 -2.879122  ...  2.318398 -5.963313 -1.794160   \n",
       "...        ...       ...       ...  ...       ...       ...       ...   \n",
       "4472 -0.146644 -0.190129  7.019242  ... -2.808481 -3.841403 -0.658023   \n",
       "4473  5.161830 -9.020262 -3.514540  ... -2.823585 -9.801691  5.680787   \n",
       "4474 -0.228552 -7.144111 -2.114722  ... -8.447633  3.005778 -2.626287   \n",
       "4475 -4.065218 -8.164078 -0.796073  ...  3.274068  5.370887  5.028344   \n",
       "4476  0.095392 -0.114188 -6.765610  ... -0.696416 -7.445188  4.269611   \n",
       "\n",
       "            14         15         16        17        18         19  \\\n",
       "0     3.157410   4.393044  12.101939 -0.747775 -0.511097   1.408481   \n",
       "1     2.735891   1.763738   8.780616  1.186969  1.999301   2.743771   \n",
       "2     3.363889   4.667016  13.557610 -5.855724 -5.707810   1.010891   \n",
       "3    -3.309796   1.950958   8.737164 -6.225251  1.628477  -2.316124   \n",
       "4     5.300523   4.461276   7.500114 -5.311936 -2.008378   4.261292   \n",
       "...        ...        ...        ...       ...       ...        ...   \n",
       "4472  2.433311   0.312751  11.966047 -3.948421  3.102744  -6.873521   \n",
       "4473 -6.144229   1.151869   5.331325 -5.028971  3.836699 -10.583253   \n",
       "4474  2.584342  -6.401578   6.933508  4.941571 -4.600127  -5.776989   \n",
       "4475 -1.199682   1.805775   7.411559 -5.398070  6.530111  -2.206319   \n",
       "4476  0.633538 -11.543733   7.195770 -1.308770 -2.764221 -11.262305   \n",
       "\n",
       "                     category  \n",
       "0            beauty_wellbeing  \n",
       "1            beauty_wellbeing  \n",
       "2            beauty_wellbeing  \n",
       "3            beauty_wellbeing  \n",
       "4            beauty_wellbeing  \n",
       "...                       ...  \n",
       "4472  vehicles_transportation  \n",
       "4473  vehicles_transportation  \n",
       "4474  vehicles_transportation  \n",
       "4475  vehicles_transportation  \n",
       "4476  vehicles_transportation  \n",
       "\n",
       "[4477 rows x 21 columns]"
      ]
     },
     "execution_count": 28,
     "metadata": {},
     "output_type": "execute_result"
    }
   ],
   "source": [
    "vectors_df"
   ]
  },
  {
   "cell_type": "code",
   "execution_count": 29,
   "metadata": {},
   "outputs": [],
   "source": [
    "df_shuffled = vectors_df.sample(frac = 1)"
   ]
  },
  {
   "cell_type": "code",
   "execution_count": 30,
   "metadata": {},
   "outputs": [
    {
     "data": {
      "text/html": [
       "<div>\n",
       "<style scoped>\n",
       "    .dataframe tbody tr th:only-of-type {\n",
       "        vertical-align: middle;\n",
       "    }\n",
       "\n",
       "    .dataframe tbody tr th {\n",
       "        vertical-align: top;\n",
       "    }\n",
       "\n",
       "    .dataframe thead th {\n",
       "        text-align: right;\n",
       "    }\n",
       "</style>\n",
       "<table border=\"1\" class=\"dataframe\">\n",
       "  <thead>\n",
       "    <tr style=\"text-align: right;\">\n",
       "      <th></th>\n",
       "      <th>0</th>\n",
       "      <th>1</th>\n",
       "      <th>2</th>\n",
       "      <th>3</th>\n",
       "      <th>4</th>\n",
       "      <th>5</th>\n",
       "      <th>6</th>\n",
       "      <th>7</th>\n",
       "      <th>8</th>\n",
       "      <th>9</th>\n",
       "      <th>...</th>\n",
       "      <th>11</th>\n",
       "      <th>12</th>\n",
       "      <th>13</th>\n",
       "      <th>14</th>\n",
       "      <th>15</th>\n",
       "      <th>16</th>\n",
       "      <th>17</th>\n",
       "      <th>18</th>\n",
       "      <th>19</th>\n",
       "      <th>category</th>\n",
       "    </tr>\n",
       "  </thead>\n",
       "  <tbody>\n",
       "    <tr>\n",
       "      <th>1081</th>\n",
       "      <td>6.541297</td>\n",
       "      <td>-0.815324</td>\n",
       "      <td>-3.939956</td>\n",
       "      <td>-6.263523</td>\n",
       "      <td>1.808955</td>\n",
       "      <td>-3.352627</td>\n",
       "      <td>-6.600715</td>\n",
       "      <td>7.023837</td>\n",
       "      <td>-3.947594</td>\n",
       "      <td>-3.919197</td>\n",
       "      <td>...</td>\n",
       "      <td>11.270796</td>\n",
       "      <td>6.953450</td>\n",
       "      <td>3.880023</td>\n",
       "      <td>2.226501</td>\n",
       "      <td>6.297535</td>\n",
       "      <td>9.051797</td>\n",
       "      <td>-6.091050</td>\n",
       "      <td>1.481213</td>\n",
       "      <td>-3.140802</td>\n",
       "      <td>construction_manufactoring</td>\n",
       "    </tr>\n",
       "    <tr>\n",
       "      <th>2082</th>\n",
       "      <td>-0.618672</td>\n",
       "      <td>0.345392</td>\n",
       "      <td>2.485418</td>\n",
       "      <td>-1.270283</td>\n",
       "      <td>-1.775493</td>\n",
       "      <td>-5.008459</td>\n",
       "      <td>3.467735</td>\n",
       "      <td>0.132178</td>\n",
       "      <td>-4.350514</td>\n",
       "      <td>-6.017323</td>\n",
       "      <td>...</td>\n",
       "      <td>3.033274</td>\n",
       "      <td>-5.054965</td>\n",
       "      <td>-2.298960</td>\n",
       "      <td>-2.807877</td>\n",
       "      <td>1.277781</td>\n",
       "      <td>0.252244</td>\n",
       "      <td>0.818393</td>\n",
       "      <td>-4.112368</td>\n",
       "      <td>-3.569856</td>\n",
       "      <td>events_entertainment</td>\n",
       "    </tr>\n",
       "    <tr>\n",
       "      <th>2863</th>\n",
       "      <td>4.022049</td>\n",
       "      <td>-3.814259</td>\n",
       "      <td>2.344724</td>\n",
       "      <td>0.561422</td>\n",
       "      <td>-3.336609</td>\n",
       "      <td>-11.510714</td>\n",
       "      <td>9.556381</td>\n",
       "      <td>1.691595</td>\n",
       "      <td>2.751172</td>\n",
       "      <td>0.883962</td>\n",
       "      <td>...</td>\n",
       "      <td>1.728355</td>\n",
       "      <td>-4.595730</td>\n",
       "      <td>-2.816538</td>\n",
       "      <td>6.475949</td>\n",
       "      <td>-5.289037</td>\n",
       "      <td>8.108959</td>\n",
       "      <td>-4.804143</td>\n",
       "      <td>-5.797626</td>\n",
       "      <td>1.185976</td>\n",
       "      <td>home_garden</td>\n",
       "    </tr>\n",
       "    <tr>\n",
       "      <th>340</th>\n",
       "      <td>4.162011</td>\n",
       "      <td>-0.983407</td>\n",
       "      <td>1.676887</td>\n",
       "      <td>10.365049</td>\n",
       "      <td>2.310977</td>\n",
       "      <td>-5.054031</td>\n",
       "      <td>7.996691</td>\n",
       "      <td>-5.095346</td>\n",
       "      <td>-2.428898</td>\n",
       "      <td>-1.742694</td>\n",
       "      <td>...</td>\n",
       "      <td>2.390860</td>\n",
       "      <td>2.940866</td>\n",
       "      <td>-4.413140</td>\n",
       "      <td>-13.059401</td>\n",
       "      <td>-0.749497</td>\n",
       "      <td>11.924411</td>\n",
       "      <td>-13.432221</td>\n",
       "      <td>-2.552846</td>\n",
       "      <td>-6.932345</td>\n",
       "      <td>beauty_wellbeing</td>\n",
       "    </tr>\n",
       "    <tr>\n",
       "      <th>4363</th>\n",
       "      <td>-3.680501</td>\n",
       "      <td>1.739244</td>\n",
       "      <td>5.985772</td>\n",
       "      <td>-0.198650</td>\n",
       "      <td>2.021580</td>\n",
       "      <td>-2.071955</td>\n",
       "      <td>3.218019</td>\n",
       "      <td>4.508255</td>\n",
       "      <td>4.999179</td>\n",
       "      <td>-1.835213</td>\n",
       "      <td>...</td>\n",
       "      <td>-8.040649</td>\n",
       "      <td>1.145127</td>\n",
       "      <td>2.492670</td>\n",
       "      <td>0.188170</td>\n",
       "      <td>-0.619357</td>\n",
       "      <td>3.581562</td>\n",
       "      <td>0.134774</td>\n",
       "      <td>-7.913675</td>\n",
       "      <td>-3.787195</td>\n",
       "      <td>vehicles_transportation</td>\n",
       "    </tr>\n",
       "    <tr>\n",
       "      <th>...</th>\n",
       "      <td>...</td>\n",
       "      <td>...</td>\n",
       "      <td>...</td>\n",
       "      <td>...</td>\n",
       "      <td>...</td>\n",
       "      <td>...</td>\n",
       "      <td>...</td>\n",
       "      <td>...</td>\n",
       "      <td>...</td>\n",
       "      <td>...</td>\n",
       "      <td>...</td>\n",
       "      <td>...</td>\n",
       "      <td>...</td>\n",
       "      <td>...</td>\n",
       "      <td>...</td>\n",
       "      <td>...</td>\n",
       "      <td>...</td>\n",
       "      <td>...</td>\n",
       "      <td>...</td>\n",
       "      <td>...</td>\n",
       "      <td>...</td>\n",
       "    </tr>\n",
       "    <tr>\n",
       "      <th>2087</th>\n",
       "      <td>-5.905184</td>\n",
       "      <td>4.670362</td>\n",
       "      <td>4.421829</td>\n",
       "      <td>-10.615193</td>\n",
       "      <td>-0.299401</td>\n",
       "      <td>0.515736</td>\n",
       "      <td>-0.784988</td>\n",
       "      <td>0.873134</td>\n",
       "      <td>5.230195</td>\n",
       "      <td>-0.445595</td>\n",
       "      <td>...</td>\n",
       "      <td>-2.211629</td>\n",
       "      <td>-3.181980</td>\n",
       "      <td>3.770318</td>\n",
       "      <td>2.442038</td>\n",
       "      <td>1.284570</td>\n",
       "      <td>4.006274</td>\n",
       "      <td>2.351740</td>\n",
       "      <td>-2.840687</td>\n",
       "      <td>-8.955559</td>\n",
       "      <td>events_entertainment</td>\n",
       "    </tr>\n",
       "    <tr>\n",
       "      <th>3792</th>\n",
       "      <td>7.891746</td>\n",
       "      <td>-0.313694</td>\n",
       "      <td>1.331608</td>\n",
       "      <td>3.915830</td>\n",
       "      <td>0.501735</td>\n",
       "      <td>-16.838417</td>\n",
       "      <td>1.532817</td>\n",
       "      <td>3.156299</td>\n",
       "      <td>-4.271972</td>\n",
       "      <td>-7.602036</td>\n",
       "      <td>...</td>\n",
       "      <td>-2.637449</td>\n",
       "      <td>-0.113682</td>\n",
       "      <td>-5.029354</td>\n",
       "      <td>-2.786252</td>\n",
       "      <td>-4.233665</td>\n",
       "      <td>6.439517</td>\n",
       "      <td>4.757731</td>\n",
       "      <td>-3.295727</td>\n",
       "      <td>-6.526893</td>\n",
       "      <td>shopping_fashion</td>\n",
       "    </tr>\n",
       "    <tr>\n",
       "      <th>4366</th>\n",
       "      <td>1.473349</td>\n",
       "      <td>3.745800</td>\n",
       "      <td>3.230953</td>\n",
       "      <td>-5.410474</td>\n",
       "      <td>-0.517764</td>\n",
       "      <td>2.138712</td>\n",
       "      <td>-0.106387</td>\n",
       "      <td>5.483122</td>\n",
       "      <td>0.139856</td>\n",
       "      <td>4.181675</td>\n",
       "      <td>...</td>\n",
       "      <td>2.989902</td>\n",
       "      <td>1.594776</td>\n",
       "      <td>-6.868550</td>\n",
       "      <td>-0.955377</td>\n",
       "      <td>1.631030</td>\n",
       "      <td>9.306774</td>\n",
       "      <td>-4.865427</td>\n",
       "      <td>-1.964882</td>\n",
       "      <td>-3.181618</td>\n",
       "      <td>vehicles_transportation</td>\n",
       "    </tr>\n",
       "    <tr>\n",
       "      <th>4354</th>\n",
       "      <td>-2.403064</td>\n",
       "      <td>10.233307</td>\n",
       "      <td>-2.335036</td>\n",
       "      <td>-2.257172</td>\n",
       "      <td>0.692191</td>\n",
       "      <td>0.286271</td>\n",
       "      <td>3.565451</td>\n",
       "      <td>4.241732</td>\n",
       "      <td>-3.160410</td>\n",
       "      <td>-0.561408</td>\n",
       "      <td>...</td>\n",
       "      <td>-12.298444</td>\n",
       "      <td>-8.832706</td>\n",
       "      <td>2.666379</td>\n",
       "      <td>-6.567703</td>\n",
       "      <td>-10.108586</td>\n",
       "      <td>4.486042</td>\n",
       "      <td>3.880608</td>\n",
       "      <td>-8.468927</td>\n",
       "      <td>-10.468153</td>\n",
       "      <td>vehicles_transportation</td>\n",
       "    </tr>\n",
       "    <tr>\n",
       "      <th>1992</th>\n",
       "      <td>-0.850709</td>\n",
       "      <td>-6.211889</td>\n",
       "      <td>0.601518</td>\n",
       "      <td>-2.471833</td>\n",
       "      <td>-3.399495</td>\n",
       "      <td>1.565285</td>\n",
       "      <td>-1.543849</td>\n",
       "      <td>1.662194</td>\n",
       "      <td>-1.052553</td>\n",
       "      <td>-3.518823</td>\n",
       "      <td>...</td>\n",
       "      <td>-0.218749</td>\n",
       "      <td>0.040501</td>\n",
       "      <td>-1.628136</td>\n",
       "      <td>2.562212</td>\n",
       "      <td>4.573603</td>\n",
       "      <td>2.957139</td>\n",
       "      <td>-8.031033</td>\n",
       "      <td>4.561162</td>\n",
       "      <td>-9.068095</td>\n",
       "      <td>electronics_technology</td>\n",
       "    </tr>\n",
       "  </tbody>\n",
       "</table>\n",
       "<p>4477 rows × 21 columns</p>\n",
       "</div>"
      ],
      "text/plain": [
       "             0          1         2          3         4          5         6  \\\n",
       "1081  6.541297  -0.815324 -3.939956  -6.263523  1.808955  -3.352627 -6.600715   \n",
       "2082 -0.618672   0.345392  2.485418  -1.270283 -1.775493  -5.008459  3.467735   \n",
       "2863  4.022049  -3.814259  2.344724   0.561422 -3.336609 -11.510714  9.556381   \n",
       "340   4.162011  -0.983407  1.676887  10.365049  2.310977  -5.054031  7.996691   \n",
       "4363 -3.680501   1.739244  5.985772  -0.198650  2.021580  -2.071955  3.218019   \n",
       "...        ...        ...       ...        ...       ...        ...       ...   \n",
       "2087 -5.905184   4.670362  4.421829 -10.615193 -0.299401   0.515736 -0.784988   \n",
       "3792  7.891746  -0.313694  1.331608   3.915830  0.501735 -16.838417  1.532817   \n",
       "4366  1.473349   3.745800  3.230953  -5.410474 -0.517764   2.138712 -0.106387   \n",
       "4354 -2.403064  10.233307 -2.335036  -2.257172  0.692191   0.286271  3.565451   \n",
       "1992 -0.850709  -6.211889  0.601518  -2.471833 -3.399495   1.565285 -1.543849   \n",
       "\n",
       "             7         8         9  ...         11        12        13  \\\n",
       "1081  7.023837 -3.947594 -3.919197  ...  11.270796  6.953450  3.880023   \n",
       "2082  0.132178 -4.350514 -6.017323  ...   3.033274 -5.054965 -2.298960   \n",
       "2863  1.691595  2.751172  0.883962  ...   1.728355 -4.595730 -2.816538   \n",
       "340  -5.095346 -2.428898 -1.742694  ...   2.390860  2.940866 -4.413140   \n",
       "4363  4.508255  4.999179 -1.835213  ...  -8.040649  1.145127  2.492670   \n",
       "...        ...       ...       ...  ...        ...       ...       ...   \n",
       "2087  0.873134  5.230195 -0.445595  ...  -2.211629 -3.181980  3.770318   \n",
       "3792  3.156299 -4.271972 -7.602036  ...  -2.637449 -0.113682 -5.029354   \n",
       "4366  5.483122  0.139856  4.181675  ...   2.989902  1.594776 -6.868550   \n",
       "4354  4.241732 -3.160410 -0.561408  ... -12.298444 -8.832706  2.666379   \n",
       "1992  1.662194 -1.052553 -3.518823  ...  -0.218749  0.040501 -1.628136   \n",
       "\n",
       "             14         15         16         17        18         19  \\\n",
       "1081   2.226501   6.297535   9.051797  -6.091050  1.481213  -3.140802   \n",
       "2082  -2.807877   1.277781   0.252244   0.818393 -4.112368  -3.569856   \n",
       "2863   6.475949  -5.289037   8.108959  -4.804143 -5.797626   1.185976   \n",
       "340  -13.059401  -0.749497  11.924411 -13.432221 -2.552846  -6.932345   \n",
       "4363   0.188170  -0.619357   3.581562   0.134774 -7.913675  -3.787195   \n",
       "...         ...        ...        ...        ...       ...        ...   \n",
       "2087   2.442038   1.284570   4.006274   2.351740 -2.840687  -8.955559   \n",
       "3792  -2.786252  -4.233665   6.439517   4.757731 -3.295727  -6.526893   \n",
       "4366  -0.955377   1.631030   9.306774  -4.865427 -1.964882  -3.181618   \n",
       "4354  -6.567703 -10.108586   4.486042   3.880608 -8.468927 -10.468153   \n",
       "1992   2.562212   4.573603   2.957139  -8.031033  4.561162  -9.068095   \n",
       "\n",
       "                        category  \n",
       "1081  construction_manufactoring  \n",
       "2082        events_entertainment  \n",
       "2863                 home_garden  \n",
       "340             beauty_wellbeing  \n",
       "4363     vehicles_transportation  \n",
       "...                          ...  \n",
       "2087        events_entertainment  \n",
       "3792            shopping_fashion  \n",
       "4366     vehicles_transportation  \n",
       "4354     vehicles_transportation  \n",
       "1992      electronics_technology  \n",
       "\n",
       "[4477 rows x 21 columns]"
      ]
     },
     "execution_count": 30,
     "metadata": {},
     "output_type": "execute_result"
    }
   ],
   "source": [
    "df_shuffled"
   ]
  },
  {
   "cell_type": "markdown",
   "metadata": {},
   "source": [
    "### Split Train Test"
   ]
  },
  {
   "cell_type": "code",
   "execution_count": 31,
   "metadata": {},
   "outputs": [],
   "source": [
    "from sklearn.model_selection import train_test_split"
   ]
  },
  {
   "cell_type": "code",
   "execution_count": 32,
   "metadata": {},
   "outputs": [],
   "source": [
    "y = df_shuffled[\"category\"]\n",
    "X = df_shuffled.drop(columns=[\"category\"])"
   ]
  },
  {
   "cell_type": "code",
   "execution_count": 33,
   "metadata": {},
   "outputs": [],
   "source": [
    "X_train, X_test, y_train, y_test = train_test_split(X, y, test_size=0.20, random_state=2)"
   ]
  },
  {
   "cell_type": "markdown",
   "metadata": {},
   "source": [
    "### Classification Models"
   ]
  },
  {
   "cell_type": "code",
   "execution_count": 21,
   "metadata": {},
   "outputs": [],
   "source": [
    "from sklearn.svm import SVC\n",
    "from sklearn.naive_bayes import GaussianNB\n",
    "from sklearn.naive_bayes import MultinomialNB\n",
    "from sklearn.linear_model import SGDClassifier\n",
    "from sklearn.neighbors import KNeighborsClassifier\n",
    "from sklearn.tree import DecisionTreeClassifier\n",
    "from sklearn.ensemble import RandomForestClassifier\n",
    "from sklearn.ensemble import GradientBoostingClassifier\n",
    "from lightgbm import LGBMClassifier\n",
    "from xgboost.sklearn import XGBClassifier"
   ]
  },
  {
   "cell_type": "markdown",
   "metadata": {},
   "source": [
    "### SVM"
   ]
  },
  {
   "cell_type": "code",
   "execution_count": 40,
   "metadata": {},
   "outputs": [],
   "source": [
    "svm = SVC(kernel = 'linear', random_state = 0)\n",
    "svm.fit(X_train, y_train)\n",
    "#Prediction sur le Test set\n",
    "y_pred = svm.predict(X_test)"
   ]
  },
  {
   "cell_type": "code",
   "execution_count": 41,
   "metadata": {},
   "outputs": [],
   "source": [
    "from sklearn.metrics import classification_report\n",
    "from sklearn.metrics  import f1_score,accuracy_score"
   ]
  },
  {
   "cell_type": "code",
   "execution_count": 53,
   "metadata": {},
   "outputs": [],
   "source": [
    "report = classification_report(y_test, y_pred, output_dict=True)"
   ]
  },
  {
   "cell_type": "code",
   "execution_count": 57,
   "metadata": {},
   "outputs": [
    {
     "name": "stdout",
     "output_type": "stream",
     "text": [
      "                            precision    recall  f1-score   support\n",
      "\n",
      "          beauty_wellbeing       0.48      0.57      0.52        69\n",
      "         business_services       0.46      0.28      0.35        94\n",
      "construction_manufactoring       0.41      0.50      0.45        76\n",
      "        education_training       0.63      0.81      0.71        70\n",
      "    electronics_technology       0.45      0.56      0.50        79\n",
      "      events_entertainment       0.39      0.35      0.36        78\n",
      "    food_beverages_tobacco       0.61      0.61      0.61        85\n",
      "               home_garden       0.55      0.44      0.49        81\n",
      "           money_insurance       0.70      0.60      0.65        90\n",
      "          shopping_fashion       0.58      0.60      0.59        85\n",
      "   vehicles_transportation       0.68      0.72      0.70        89\n",
      "\n",
      "                  accuracy                           0.54       896\n",
      "                 macro avg       0.54      0.55      0.54       896\n",
      "              weighted avg       0.54      0.54      0.54       896\n",
      "\n"
     ]
    }
   ],
   "source": [
    "print(classification_report(y_test, y_pred))"
   ]
  },
  {
   "cell_type": "markdown",
   "metadata": {},
   "source": [
    "### GaussianNB"
   ]
  },
  {
   "cell_type": "code",
   "execution_count": 60,
   "metadata": {},
   "outputs": [],
   "source": [
    "nb = GaussianNB()\n",
    "nb.fit(X_train, y_train)\n",
    "y_pred = nb.predict(X_test)"
   ]
  },
  {
   "cell_type": "code",
   "execution_count": null,
   "metadata": {},
   "outputs": [],
   "source": [
    "report = classification_report(y_test, y_pred, output_dict=True)"
   ]
  },
  {
   "cell_type": "code",
   "execution_count": 61,
   "metadata": {},
   "outputs": [
    {
     "name": "stdout",
     "output_type": "stream",
     "text": [
      "                            precision    recall  f1-score   support\n",
      "\n",
      "          beauty_wellbeing       0.53      0.62      0.57        69\n",
      "         business_services       0.48      0.33      0.39        94\n",
      "construction_manufactoring       0.40      0.49      0.44        76\n",
      "        education_training       0.67      0.86      0.75        70\n",
      "    electronics_technology       0.47      0.47      0.47        79\n",
      "      events_entertainment       0.32      0.26      0.29        78\n",
      "    food_beverages_tobacco       0.57      0.64      0.60        85\n",
      "               home_garden       0.49      0.41      0.45        81\n",
      "           money_insurance       0.65      0.59      0.62        90\n",
      "          shopping_fashion       0.58      0.65      0.61        85\n",
      "   vehicles_transportation       0.64      0.64      0.64        89\n",
      "\n",
      "                  accuracy                           0.54       896\n",
      "                 macro avg       0.53      0.54      0.53       896\n",
      "              weighted avg       0.53      0.54      0.53       896\n",
      "\n"
     ]
    }
   ],
   "source": [
    "print(classification_report(y_test, y_pred))"
   ]
  },
  {
   "cell_type": "markdown",
   "metadata": {},
   "source": [
    "### MultinomialNB"
   ]
  },
  {
   "cell_type": "code",
   "execution_count": 63,
   "metadata": {},
   "outputs": [
    {
     "ename": "ValueError",
     "evalue": "Negative values in data passed to MultinomialNB (input X)",
     "output_type": "error",
     "traceback": [
      "\u001b[1;31m---------------------------------------------------------------------------\u001b[0m",
      "\u001b[1;31mValueError\u001b[0m                                Traceback (most recent call last)",
      "Cell \u001b[1;32mIn[63], line 2\u001b[0m\n\u001b[0;32m      1\u001b[0m mnb \u001b[38;5;241m=\u001b[39m MultinomialNB()\n\u001b[1;32m----> 2\u001b[0m \u001b[43mmnb\u001b[49m\u001b[38;5;241;43m.\u001b[39;49m\u001b[43mfit\u001b[49m\u001b[43m(\u001b[49m\u001b[43mX_train\u001b[49m\u001b[43m,\u001b[49m\u001b[43m \u001b[49m\u001b[43my_train\u001b[49m\u001b[43m)\u001b[49m\n\u001b[0;32m      3\u001b[0m y_pred \u001b[38;5;241m=\u001b[39m mnb\u001b[38;5;241m.\u001b[39mpredict(X_test)\n",
      "File \u001b[1;32mc:\\Users\\marya\\anaconda3\\envs\\nlp_project\\lib\\site-packages\\sklearn\\base.py:1351\u001b[0m, in \u001b[0;36m_fit_context.<locals>.decorator.<locals>.wrapper\u001b[1;34m(estimator, *args, **kwargs)\u001b[0m\n\u001b[0;32m   1344\u001b[0m     estimator\u001b[38;5;241m.\u001b[39m_validate_params()\n\u001b[0;32m   1346\u001b[0m \u001b[38;5;28;01mwith\u001b[39;00m config_context(\n\u001b[0;32m   1347\u001b[0m     skip_parameter_validation\u001b[38;5;241m=\u001b[39m(\n\u001b[0;32m   1348\u001b[0m         prefer_skip_nested_validation \u001b[38;5;129;01mor\u001b[39;00m global_skip_validation\n\u001b[0;32m   1349\u001b[0m     )\n\u001b[0;32m   1350\u001b[0m ):\n\u001b[1;32m-> 1351\u001b[0m     \u001b[38;5;28;01mreturn\u001b[39;00m fit_method(estimator, \u001b[38;5;241m*\u001b[39margs, \u001b[38;5;241m*\u001b[39m\u001b[38;5;241m*\u001b[39mkwargs)\n",
      "File \u001b[1;32mc:\\Users\\marya\\anaconda3\\envs\\nlp_project\\lib\\site-packages\\sklearn\\naive_bayes.py:759\u001b[0m, in \u001b[0;36m_BaseDiscreteNB.fit\u001b[1;34m(self, X, y, sample_weight)\u001b[0m\n\u001b[0;32m    757\u001b[0m n_classes \u001b[38;5;241m=\u001b[39m Y\u001b[38;5;241m.\u001b[39mshape[\u001b[38;5;241m1\u001b[39m]\n\u001b[0;32m    758\u001b[0m \u001b[38;5;28mself\u001b[39m\u001b[38;5;241m.\u001b[39m_init_counters(n_classes, n_features)\n\u001b[1;32m--> 759\u001b[0m \u001b[38;5;28;43mself\u001b[39;49m\u001b[38;5;241;43m.\u001b[39;49m\u001b[43m_count\u001b[49m\u001b[43m(\u001b[49m\u001b[43mX\u001b[49m\u001b[43m,\u001b[49m\u001b[43m \u001b[49m\u001b[43mY\u001b[49m\u001b[43m)\u001b[49m\n\u001b[0;32m    760\u001b[0m alpha \u001b[38;5;241m=\u001b[39m \u001b[38;5;28mself\u001b[39m\u001b[38;5;241m.\u001b[39m_check_alpha()\n\u001b[0;32m    761\u001b[0m \u001b[38;5;28mself\u001b[39m\u001b[38;5;241m.\u001b[39m_update_feature_log_prob(alpha)\n",
      "File \u001b[1;32mc:\\Users\\marya\\anaconda3\\envs\\nlp_project\\lib\\site-packages\\sklearn\\naive_bayes.py:881\u001b[0m, in \u001b[0;36mMultinomialNB._count\u001b[1;34m(self, X, Y)\u001b[0m\n\u001b[0;32m    879\u001b[0m \u001b[38;5;28;01mdef\u001b[39;00m \u001b[38;5;21m_count\u001b[39m(\u001b[38;5;28mself\u001b[39m, X, Y):\n\u001b[0;32m    880\u001b[0m \u001b[38;5;250m    \u001b[39m\u001b[38;5;124;03m\"\"\"Count and smooth feature occurrences.\"\"\"\u001b[39;00m\n\u001b[1;32m--> 881\u001b[0m     \u001b[43mcheck_non_negative\u001b[49m\u001b[43m(\u001b[49m\u001b[43mX\u001b[49m\u001b[43m,\u001b[49m\u001b[43m \u001b[49m\u001b[38;5;124;43m\"\u001b[39;49m\u001b[38;5;124;43mMultinomialNB (input X)\u001b[39;49m\u001b[38;5;124;43m\"\u001b[39;49m\u001b[43m)\u001b[49m\n\u001b[0;32m    882\u001b[0m     \u001b[38;5;28mself\u001b[39m\u001b[38;5;241m.\u001b[39mfeature_count_ \u001b[38;5;241m+\u001b[39m\u001b[38;5;241m=\u001b[39m safe_sparse_dot(Y\u001b[38;5;241m.\u001b[39mT, X)\n\u001b[0;32m    883\u001b[0m     \u001b[38;5;28mself\u001b[39m\u001b[38;5;241m.\u001b[39mclass_count_ \u001b[38;5;241m+\u001b[39m\u001b[38;5;241m=\u001b[39m Y\u001b[38;5;241m.\u001b[39msum(axis\u001b[38;5;241m=\u001b[39m\u001b[38;5;241m0\u001b[39m)\n",
      "File \u001b[1;32mc:\\Users\\marya\\anaconda3\\envs\\nlp_project\\lib\\site-packages\\sklearn\\utils\\validation.py:1572\u001b[0m, in \u001b[0;36mcheck_non_negative\u001b[1;34m(X, whom)\u001b[0m\n\u001b[0;32m   1569\u001b[0m     X_min \u001b[38;5;241m=\u001b[39m xp\u001b[38;5;241m.\u001b[39mmin(X)\n\u001b[0;32m   1571\u001b[0m \u001b[38;5;28;01mif\u001b[39;00m X_min \u001b[38;5;241m<\u001b[39m \u001b[38;5;241m0\u001b[39m:\n\u001b[1;32m-> 1572\u001b[0m     \u001b[38;5;28;01mraise\u001b[39;00m \u001b[38;5;167;01mValueError\u001b[39;00m(\u001b[38;5;124m\"\u001b[39m\u001b[38;5;124mNegative values in data passed to \u001b[39m\u001b[38;5;132;01m%s\u001b[39;00m\u001b[38;5;124m\"\u001b[39m \u001b[38;5;241m%\u001b[39m whom)\n",
      "\u001b[1;31mValueError\u001b[0m: Negative values in data passed to MultinomialNB (input X)"
     ]
    }
   ],
   "source": [
    "mnb = MultinomialNB()\n",
    "mnb.fit(X_train, y_train)\n",
    "y_pred = mnb.predict(X_test)"
   ]
  },
  {
   "cell_type": "markdown",
   "metadata": {},
   "source": [
    "### SGDClassifier"
   ]
  },
  {
   "cell_type": "code",
   "execution_count": 65,
   "metadata": {},
   "outputs": [],
   "source": [
    "clf = SGDClassifier(loss=\"log_loss\", penalty=\"l2\")\n",
    "clf.fit(X_train, y_train)\n",
    "y_pred = clf.predict(X_test)"
   ]
  },
  {
   "cell_type": "code",
   "execution_count": 66,
   "metadata": {},
   "outputs": [
    {
     "name": "stdout",
     "output_type": "stream",
     "text": [
      "                            precision    recall  f1-score   support\n",
      "\n",
      "          beauty_wellbeing       0.50      0.38      0.43        69\n",
      "         business_services       0.08      0.03      0.05        94\n",
      "construction_manufactoring       0.20      0.21      0.21        76\n",
      "        education_training       0.58      0.80      0.67        70\n",
      "    electronics_technology       0.30      0.48      0.37        79\n",
      "      events_entertainment       0.17      0.15      0.16        78\n",
      "    food_beverages_tobacco       0.49      0.33      0.39        85\n",
      "               home_garden       0.22      0.64      0.32        81\n",
      "           money_insurance       0.61      0.21      0.31        90\n",
      "          shopping_fashion       0.46      0.39      0.42        85\n",
      "   vehicles_transportation       0.61      0.22      0.33        89\n",
      "\n",
      "                  accuracy                           0.34       896\n",
      "                 macro avg       0.38      0.35      0.33       896\n",
      "              weighted avg       0.38      0.34      0.33       896\n",
      "\n"
     ]
    }
   ],
   "source": [
    "print(classification_report(y_test, y_pred))"
   ]
  },
  {
   "cell_type": "markdown",
   "metadata": {},
   "source": [
    "### KNeighborsClassifier"
   ]
  },
  {
   "cell_type": "code",
   "execution_count": null,
   "metadata": {},
   "outputs": [],
   "source": []
  }
 ],
 "metadata": {
  "kernelspec": {
   "display_name": "nlp_project",
   "language": "python",
   "name": "python3"
  },
  "language_info": {
   "codemirror_mode": {
    "name": "ipython",
    "version": 3
   },
   "file_extension": ".py",
   "mimetype": "text/x-python",
   "name": "python",
   "nbconvert_exporter": "python",
   "pygments_lexer": "ipython3",
   "version": "3.10.13"
  }
 },
 "nbformat": 4,
 "nbformat_minor": 2
}
