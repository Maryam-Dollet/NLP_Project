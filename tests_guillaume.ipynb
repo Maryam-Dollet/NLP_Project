{
 "cells": [
  {
   "cell_type": "code",
   "execution_count": 14,
   "metadata": {},
   "outputs": [],
   "source": [
    "import pandas as pd\n",
    "import numpy as np\n",
    "from tqdm import tqdm\n",
    "import pickle\n",
    "from deep_translator import GoogleTranslator"
   ]
  },
  {
   "cell_type": "code",
   "execution_count": 15,
   "metadata": {},
   "outputs": [
    {
     "data": {
      "text/html": [
       "<div>\n",
       "<style scoped>\n",
       "    .dataframe tbody tr th:only-of-type {\n",
       "        vertical-align: middle;\n",
       "    }\n",
       "\n",
       "    .dataframe tbody tr th {\n",
       "        vertical-align: top;\n",
       "    }\n",
       "\n",
       "    .dataframe thead th {\n",
       "        text-align: right;\n",
       "    }\n",
       "</style>\n",
       "<table border=\"1\" class=\"dataframe\">\n",
       "  <thead>\n",
       "    <tr style=\"text-align: right;\">\n",
       "      <th></th>\n",
       "      <th>company_name</th>\n",
       "      <th>score</th>\n",
       "      <th>description</th>\n",
       "      <th>description_len</th>\n",
       "    </tr>\n",
       "  </thead>\n",
       "  <tbody>\n",
       "    <tr>\n",
       "      <th>0</th>\n",
       "      <td>Le Fourgon</td>\n",
       "      <td>4,9</td>\n",
       "      <td>Le Fourgon vous livre vos boissons consignees ...</td>\n",
       "      <td>342</td>\n",
       "    </tr>\n",
       "    <tr>\n",
       "      <th>1</th>\n",
       "      <td>Comptoir des Vignes</td>\n",
       "      <td>4,9</td>\n",
       "      <td>Comptoir des Vignes est une enseigne de caves ...</td>\n",
       "      <td>877</td>\n",
       "    </tr>\n",
       "    <tr>\n",
       "      <th>2</th>\n",
       "      <td>Shin Sekai</td>\n",
       "      <td>4,9</td>\n",
       "      <td>Bienvenue sur notre page Trustpilot ! Shin Sek...</td>\n",
       "      <td>391</td>\n",
       "    </tr>\n",
       "    <tr>\n",
       "      <th>3</th>\n",
       "      <td>Nutri Naturel</td>\n",
       "      <td>4,9</td>\n",
       "      <td>Nutri-Naturel.com, l'epicerie bio en ligne de ...</td>\n",
       "      <td>587</td>\n",
       "    </tr>\n",
       "    <tr>\n",
       "      <th>4</th>\n",
       "      <td>Maison Martin - Le Piment Français</td>\n",
       "      <td>4,9</td>\n",
       "      <td>Maison Martin - Le Piment Francais est la prem...</td>\n",
       "      <td>149</td>\n",
       "    </tr>\n",
       "  </tbody>\n",
       "</table>\n",
       "</div>"
      ],
      "text/plain": [
       "                          company_name score  \\\n",
       "0                          Le Fourgon    4,9   \n",
       "1                 Comptoir des Vignes    4,9   \n",
       "2                          Shin Sekai    4,9   \n",
       "3                       Nutri Naturel    4,9   \n",
       "4  Maison Martin - Le Piment Français    4,9   \n",
       "\n",
       "                                         description  description_len  \n",
       "0  Le Fourgon vous livre vos boissons consignees ...              342  \n",
       "1  Comptoir des Vignes est une enseigne de caves ...              877  \n",
       "2  Bienvenue sur notre page Trustpilot ! Shin Sek...              391  \n",
       "3  Nutri-Naturel.com, l'epicerie bio en ligne de ...              587  \n",
       "4  Maison Martin - Le Piment Francais est la prem...              149  "
      ]
     },
     "execution_count": 15,
     "metadata": {},
     "output_type": "execute_result"
    }
   ],
   "source": [
    "des = pd.read_csv('data/company_desc.csv', sep=\";\")\n",
    "des.head()"
   ]
  },
  {
   "cell_type": "code",
   "execution_count": 19,
   "metadata": {},
   "outputs": [
    {
     "name": "stderr",
     "output_type": "stream",
     "text": [
      "  0%|          | 0/12996 [00:00<?, ?it/s]C:\\Users\\gdetr\\AppData\\Local\\Temp\\ipykernel_19500\\1535544660.py:19: SettingWithCopyWarning: \n",
      "A value is trying to be set on a copy of a slice from a DataFrame\n",
      "\n",
      "See the caveats in the documentation: https://pandas.pydata.org/pandas-docs/stable/user_guide/indexing.html#returning-a-view-versus-a-copy\n",
      "  des['description_en'][i] = translator.translate(des['description'][i])\n",
      "C:\\Users\\gdetr\\AppData\\Local\\Temp\\ipykernel_19500\\1535544660.py:19: FutureWarning: Setting an item of incompatible dtype is deprecated and will raise in a future error of pandas. Value 'Le Fourgon delivers your stored drinks to your home: the order is placed on lefourgon.com: beers, juices, sodas, water, milk, wines, soups, spirits, & co. we deliver to your home free of charge in the chosen niche and on the next visit we collect your empty bottles which we return washed to the producer for reuse zerodechet' has dtype incompatible with float64, please explicitly cast to a compatible dtype first.\n",
      "  des['description_en'][i] = translator.translate(des['description'][i])\n",
      "  0%|          | 19/12996 [00:20<5:15:08,  1.46s/it]"
     ]
    }
   ],
   "source": [
    "translator = GoogleTranslator(source='fr', target='en')\n",
    "# we want to translate all the contents of the \"description\" column except the ones that are longer than 4999 character\n",
    "# because the Google Translator API does not support more than 5000 characters\n",
    "# we will translate the longer ones later\n",
    "des['description_en'] = np.nan\n",
    "for i in tqdm(range(len(des['description']))):\n",
    "    if len(des['description'][i]) > 5000:\n",
    "        # we split the description with the \".\" separator\n",
    "        # we will translate each sentence separately\n",
    "        sentences = des['description'][i].split(\".\")\n",
    "        translated = \"\"\n",
    "        for sentence in sentences:\n",
    "            if sentence != None and sentence != \"\":\n",
    "                translated += translator.translate(sentence) \n",
    "            translated += \". \" # we add the \".\" separator back\n",
    "        des['description_en'][i] = translated\n",
    "\n",
    "    else :\n",
    "        des['description_en'][i] = translator.translate(des['description'][i])"
   ]
  }
 ],
 "metadata": {
  "kernelspec": {
   "display_name": "Python 3",
   "language": "python",
   "name": "python3"
  },
  "language_info": {
   "codemirror_mode": {
    "name": "ipython",
    "version": 3
   },
   "file_extension": ".py",
   "mimetype": "text/x-python",
   "name": "python",
   "nbconvert_exporter": "python",
   "pygments_lexer": "ipython3",
   "version": "3.11.7"
  }
 },
 "nbformat": 4,
 "nbformat_minor": 2
}
