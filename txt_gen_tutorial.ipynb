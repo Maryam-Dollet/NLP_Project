{
 "cells": [
  {
   "cell_type": "code",
   "execution_count": 1,
   "metadata": {},
   "outputs": [
    {
     "name": "stderr",
     "output_type": "stream",
     "text": [
      "c:\\Users\\marya\\anaconda3\\envs\\nlp_project\\lib\\site-packages\\tqdm\\auto.py:21: TqdmWarning: IProgress not found. Please update jupyter and ipywidgets. See https://ipywidgets.readthedocs.io/en/stable/user_install.html\n",
      "  from .autonotebook import tqdm as notebook_tqdm\n",
      "None of PyTorch, TensorFlow >= 2.0, or Flax have been found. Models won't be available and only tokenizers, configuration and file/data utilities can be used.\n"
     ]
    }
   ],
   "source": [
    "from transformers import pipeline\n",
    "import pickle"
   ]
  },
  {
   "cell_type": "markdown",
   "metadata": {},
   "source": [
    "## Text Generation with HuggingFace"
   ]
  },
  {
   "cell_type": "markdown",
   "metadata": {},
   "source": [
    "https://medium.com/@lokaregns/text-generation-with-hugging-face-transformers-a-beginners-guide-6b0b4b957379"
   ]
  },
  {
   "cell_type": "code",
   "execution_count": 6,
   "metadata": {},
   "outputs": [
    {
     "name": "stderr",
     "output_type": "stream",
     "text": [
      "No model was supplied, defaulted to gpt2 and revision 6c0e608 (https://huggingface.co/gpt2).\n",
      "Using a pipeline without specifying a model name and revision in production is not recommended.\n"
     ]
    },
    {
     "ename": "RuntimeError",
     "evalue": "At least one of TensorFlow 2.0 or PyTorch should be installed. To install TensorFlow 2.0, read the instructions at https://www.tensorflow.org/install/ To install PyTorch, read the instructions at https://pytorch.org/.",
     "output_type": "error",
     "traceback": [
      "\u001b[1;31m---------------------------------------------------------------------------\u001b[0m",
      "\u001b[1;31mRuntimeError\u001b[0m                              Traceback (most recent call last)",
      "Cell \u001b[1;32mIn[6], line 1\u001b[0m\n\u001b[1;32m----> 1\u001b[0m gen \u001b[38;5;241m=\u001b[39m \u001b[43mpipeline\u001b[49m\u001b[43m(\u001b[49m\u001b[38;5;124;43m'\u001b[39;49m\u001b[38;5;124;43mtext-generation\u001b[39;49m\u001b[38;5;124;43m'\u001b[39;49m\u001b[43m)\u001b[49m\n",
      "File \u001b[1;32mc:\\Users\\marya\\anaconda3\\envs\\nlp_project\\lib\\site-packages\\transformers\\pipelines\\__init__.py:870\u001b[0m, in \u001b[0;36mpipeline\u001b[1;34m(task, model, config, tokenizer, feature_extractor, image_processor, framework, revision, use_fast, token, device, device_map, torch_dtype, trust_remote_code, model_kwargs, pipeline_class, **kwargs)\u001b[0m\n\u001b[0;32m    868\u001b[0m \u001b[38;5;28;01mif\u001b[39;00m \u001b[38;5;28misinstance\u001b[39m(model, \u001b[38;5;28mstr\u001b[39m) \u001b[38;5;129;01mor\u001b[39;00m framework \u001b[38;5;129;01mis\u001b[39;00m \u001b[38;5;28;01mNone\u001b[39;00m:\n\u001b[0;32m    869\u001b[0m     model_classes \u001b[38;5;241m=\u001b[39m {\u001b[38;5;124m\"\u001b[39m\u001b[38;5;124mtf\u001b[39m\u001b[38;5;124m\"\u001b[39m: targeted_task[\u001b[38;5;124m\"\u001b[39m\u001b[38;5;124mtf\u001b[39m\u001b[38;5;124m\"\u001b[39m], \u001b[38;5;124m\"\u001b[39m\u001b[38;5;124mpt\u001b[39m\u001b[38;5;124m\"\u001b[39m: targeted_task[\u001b[38;5;124m\"\u001b[39m\u001b[38;5;124mpt\u001b[39m\u001b[38;5;124m\"\u001b[39m]}\n\u001b[1;32m--> 870\u001b[0m     framework, model \u001b[38;5;241m=\u001b[39m infer_framework_load_model(\n\u001b[0;32m    871\u001b[0m         model,\n\u001b[0;32m    872\u001b[0m         model_classes\u001b[38;5;241m=\u001b[39mmodel_classes,\n\u001b[0;32m    873\u001b[0m         config\u001b[38;5;241m=\u001b[39mconfig,\n\u001b[0;32m    874\u001b[0m         framework\u001b[38;5;241m=\u001b[39mframework,\n\u001b[0;32m    875\u001b[0m         task\u001b[38;5;241m=\u001b[39mtask,\n\u001b[0;32m    876\u001b[0m         \u001b[38;5;241m*\u001b[39m\u001b[38;5;241m*\u001b[39mhub_kwargs,\n\u001b[0;32m    877\u001b[0m         \u001b[38;5;241m*\u001b[39m\u001b[38;5;241m*\u001b[39mmodel_kwargs,\n\u001b[0;32m    878\u001b[0m     )\n\u001b[0;32m    880\u001b[0m model_config \u001b[38;5;241m=\u001b[39m model\u001b[38;5;241m.\u001b[39mconfig\n\u001b[0;32m    881\u001b[0m hub_kwargs[\u001b[38;5;124m\"\u001b[39m\u001b[38;5;124m_commit_hash\u001b[39m\u001b[38;5;124m\"\u001b[39m] \u001b[38;5;241m=\u001b[39m model\u001b[38;5;241m.\u001b[39mconfig\u001b[38;5;241m.\u001b[39m_commit_hash\n",
      "File \u001b[1;32mc:\\Users\\marya\\anaconda3\\envs\\nlp_project\\lib\\site-packages\\transformers\\pipelines\\base.py:220\u001b[0m, in \u001b[0;36minfer_framework_load_model\u001b[1;34m(model, config, model_classes, task, framework, **model_kwargs)\u001b[0m\n\u001b[0;32m    194\u001b[0m \u001b[38;5;250m\u001b[39m\u001b[38;5;124;03m\"\"\"\u001b[39;00m\n\u001b[0;32m    195\u001b[0m \u001b[38;5;124;03mSelect framework (TensorFlow or PyTorch) to use from the `model` passed. Returns a tuple (framework, model).\u001b[39;00m\n\u001b[0;32m    196\u001b[0m \n\u001b[1;32m   (...)\u001b[0m\n\u001b[0;32m    217\u001b[0m \u001b[38;5;124;03m    `Tuple`: A tuple framework, model.\u001b[39;00m\n\u001b[0;32m    218\u001b[0m \u001b[38;5;124;03m\"\"\"\u001b[39;00m\n\u001b[0;32m    219\u001b[0m \u001b[38;5;28;01mif\u001b[39;00m \u001b[38;5;129;01mnot\u001b[39;00m is_tf_available() \u001b[38;5;129;01mand\u001b[39;00m \u001b[38;5;129;01mnot\u001b[39;00m is_torch_available():\n\u001b[1;32m--> 220\u001b[0m     \u001b[38;5;28;01mraise\u001b[39;00m \u001b[38;5;167;01mRuntimeError\u001b[39;00m(\n\u001b[0;32m    221\u001b[0m         \u001b[38;5;124m\"\u001b[39m\u001b[38;5;124mAt least one of TensorFlow 2.0 or PyTorch should be installed. \u001b[39m\u001b[38;5;124m\"\u001b[39m\n\u001b[0;32m    222\u001b[0m         \u001b[38;5;124m\"\u001b[39m\u001b[38;5;124mTo install TensorFlow 2.0, read the instructions at https://www.tensorflow.org/install/ \u001b[39m\u001b[38;5;124m\"\u001b[39m\n\u001b[0;32m    223\u001b[0m         \u001b[38;5;124m\"\u001b[39m\u001b[38;5;124mTo install PyTorch, read the instructions at https://pytorch.org/.\u001b[39m\u001b[38;5;124m\"\u001b[39m\n\u001b[0;32m    224\u001b[0m     )\n\u001b[0;32m    225\u001b[0m \u001b[38;5;28;01mif\u001b[39;00m \u001b[38;5;28misinstance\u001b[39m(model, \u001b[38;5;28mstr\u001b[39m):\n\u001b[0;32m    226\u001b[0m     model_kwargs[\u001b[38;5;124m\"\u001b[39m\u001b[38;5;124m_from_pipeline\u001b[39m\u001b[38;5;124m\"\u001b[39m] \u001b[38;5;241m=\u001b[39m task\n",
      "\u001b[1;31mRuntimeError\u001b[0m: At least one of TensorFlow 2.0 or PyTorch should be installed. To install TensorFlow 2.0, read the instructions at https://www.tensorflow.org/install/ To install PyTorch, read the instructions at https://pytorch.org/."
     ]
    }
   ],
   "source": [
    "gen = pipeline('text-generation')"
   ]
  },
  {
   "cell_type": "code",
   "execution_count": null,
   "metadata": {},
   "outputs": [],
   "source": [
    "gen(\"I am using transformers text-generation pipeline from Hugging Face library to generate\")"
   ]
  },
  {
   "cell_type": "code",
   "execution_count": 35,
   "metadata": {},
   "outputs": [],
   "source": [
    "with open(\"rev/rev_info_2100\", \"rb\") as fp:   # Unpickling\n",
    "    revs = pickle.load(fp)"
   ]
  },
  {
   "cell_type": "code",
   "execution_count": 36,
   "metadata": {},
   "outputs": [
    {
     "data": {
      "text/plain": [
       "2100"
      ]
     },
     "execution_count": 36,
     "metadata": {},
     "output_type": "execute_result"
    }
   ],
   "source": [
    "len(revs)"
   ]
  },
  {
   "cell_type": "code",
   "execution_count": 37,
   "metadata": {},
   "outputs": [
    {
     "data": {
      "text/plain": [
       "['https://fr.trustpilot.com/categories/food_beverages_tobacco?verified=true',\n",
       " 'https://fr.trustpilot.com/review/www.comptoirdesvignes.fr',\n",
       " 'Comptoir des Vignes\\xa0',\n",
       " '4,9',\n",
       " 'Comptoir des Vignes est une enseigne de caves spécialisées en vins, champagnes, spiritueux, bières de spécialités, thés, cafés et épicerie fine.\\nNos caves se différencient par une mise en valeur originale et moderne des produits, mais également sur la base de conseils adaptés aux nouvelles tendances et habitudes de consommation de nos clients.\\nChaque cave Comptoir des Vignes offre un cadre clair et chaleureux qui permet de découvrir les vins en toute simplicité et gourmandise avec :\\n\\nMise en avant des accords\\n\\nMise à disposition de fiches recettes\\n\\nAnimations régulière en boutique\\n\\nOrganisation de soirées dégustation\\n\\nFort de nos 50 caves en France, notre mission est de satisfaire tous les consommateurs quels que soient leurs besoins et envies, à travers une large gamme de produits et services aux bons rapport qualité-prix, mais aussi grâce à la passion de nos cavistes.\\n',\n",
       " 205,\n",
       " [['https://fr.trustpilot.com/reviews/65a53b761acfe825f73396d0',\n",
       "   '5',\n",
       "   'Boutique accueillante + personnel compétent',\n",
       "   \"La boutique est très accueillante, facile d'accès.Le personnel a su m'apporter des conseils sur un vin de glace Québécois dont je n'avais jamais entendu parler.De plus j'ai passé 1 semaine à écumer des dizaines de boutiques spécialisés, à Paris comme en ligne, à la recherche d'une bouteille de Chartreuse.J'ai trouvé mon bonheur au Comptoir des Vignes !Le choix des breuvages est vraiment fabuleux, hâte de participer aux dégustations !\"],\n",
       "  ['https://fr.trustpilot.com/reviews/659cf359cabfac04508d34ec',\n",
       "   '5',\n",
       "   'Entreprise trouvée sur le chemin en…',\n",
       "   'Entreprise trouvée sur le chemin en allant chez des amis. Vins, bières, spiritueux, cafés une gamme élargie de produits de bonnes qualités. Notre cadeau de 6 bières en 75 cl a ravi nos amis ! Super magasin  à découvrir, n’hésitez surtout pas !'],\n",
       "  ['https://fr.trustpilot.com/reviews/65999991528cce391fa62a55',\n",
       "   '5',\n",
       "   'vodka',\n",
       "   \"je profite de votre sollicitation pour faire part du plaisir que j'ai eu à suivre l'avis du caviste de Rochechouart concernant la vodka Green Goose  de Gensac la Pallue et tiens a faire amende honorable , mon mari et moi étions assez dubitatifs, mais, belle découverte. Merci\"],\n",
       "  ['https://fr.trustpilot.com/reviews/65a16d60afbab5a3a8c113d1',\n",
       "   '5',\n",
       "   'Des personnes très dynamiques très…',\n",
       "   'Des personnes très dynamiques très accueillants , toujours à l’écoute et de bons conseils et un magasin près de mon habitation'],\n",
       "  ['https://fr.trustpilot.com/reviews/659293b8307f654a5d321c8a',\n",
       "   '5',\n",
       "   'Bonne Pioche',\n",
       "   'En quête d\\'un vin blanc pour le repas de Noël et sans idée précise de ce que je voulais, je me suis laissé guider par Karine qui a su me diriger vers un Côte de Provence \"Les Terrasses de la Courtade\" qui s\\'est bien marié avec le foie gras et le saumon fumé.Merci encore à Karine pour son aide et son don pour vous dénicher le vin que vous n\\'auriez pas forcement choisi. Faites lui confiance et laissez la vous bousculer :-) Bonne année 2024'],\n",
       "  ['https://fr.trustpilot.com/reviews/65984ffd8d0fd2ee66b18fde',\n",
       "   '5',\n",
       "   'personnels sympathiques et un grand…',\n",
       "   'personnels sympathiques et un grand choix sur les produits .vous  êtes  bien conseiller  .  super qualité prix sur touts les produits. Je recommande vivement'],\n",
       "  ['https://fr.trustpilot.com/reviews/658acffa2211fc16a63df073',\n",
       "   '5',\n",
       "   'Achats de Noël',\n",
       "   \"Proximité, facilité d'accès. L'accueil est toujours très chaleureux, en fonction de nos besoins et de nos goûts les conseils sont toujours utiles, pertinents et justifiés. Les vins proposés sont loin d'être les plus chers et c'est appréciable. Les dégustations souvent proposées, sans aucune obligation d'achat, sont toujours d'excellente qualité.\"],\n",
       "  ['https://fr.trustpilot.com/reviews/65a1c2e76ac7ca5b53113d68',\n",
       "   '5',\n",
       "   'Des commerces comme on aime.',\n",
       "   'Très bons produits, commerçants très sympathiques . Y retournerai-je ?? Oui !'],\n",
       "  ['https://fr.trustpilot.com/reviews/658ff81103741ff05839dbfd',\n",
       "   '5',\n",
       "   'Service de qualité irréprochable',\n",
       "   'Service de qualité irréprochable. Une cave de proximité où l’on trouve des petites pépites pour tout budget, toujours avisés de conseils précis et professionnels. À ne pas manquer !'],\n",
       "  ['https://fr.trustpilot.com/reviews/659933408aa375b1582cbd97',\n",
       "   '5',\n",
       "   'Avis',\n",
       "   'Personnel compétent et agréable le magasin est propre et plein que du bonheur de franchir la porte pour faire ses achats'],\n",
       "  ['https://fr.trustpilot.com/reviews/65924f705ac68fcf8b5a1d9f',\n",
       "   '5',\n",
       "   'Toujours aussi bien…',\n",
       "   'Toujours aussi bien accueilli,renseigner et conseiller dans cette boutique où on peu trouver toute sorte de vin et toujours dans les prix que je veux.'],\n",
       "  ['https://fr.trustpilot.com/reviews/658434633ec9be857363b429',\n",
       "   '5',\n",
       "   'cadeau de Noël',\n",
       "   \"cadeau de Noëlune personne bienveillante et connaisseuse m'a aidé à choisir un whisky que je souhaitais offrir à mon mari.très bel emballage fait et renseignements sur les dégustations, la carte virtuelle que j'ai priseje reviendrai\"],\n",
       "  ['https://fr.trustpilot.com/reviews/659a644ae5a7d892d8e16dd3',\n",
       "   '5',\n",
       "   'Bon conseil',\n",
       "   'Un accueil chaleureux et de bon conseil pour une  association plats vins A des prix raisonnables'],\n",
       "  ['https://fr.trustpilot.com/reviews/657994f6d053ee67b2619272',\n",
       "   '2',\n",
       "   'Réflexion désobligeante du vendeur…',\n",
       "   'Réflexion désobligeante du vendeur présent.     J\\'achète 3 bouteilles du vin que je venais précisément chercher. Pour m\\'entendre dire: \"Ah bon, c\\'est tout?\". Pas de quoi vraiment donner envie de revenir.                                          Didier BRUYAS'],\n",
       "  ['https://fr.trustpilot.com/reviews/659159745d6468c5261d54dc',\n",
       "   '5',\n",
       "   'Toujours une excellente expérience de…',\n",
       "   'Toujours une excellente expérience de ce rendre au comptoir découvrir leurs produits je m’en lasse pas à très bientôt'],\n",
       "  ['https://fr.trustpilot.com/reviews/658d15ab2b75fa9c2fb02dfb',\n",
       "   '5',\n",
       "   \"C'est une bonne entreprise qui produits des vins…\",\n",
       "   \"C'est une bonne entreprise qui produit des vins de qualité supérieure.C'est une entreprise que j'ai connu par ces qualités de production.\"],\n",
       "  ['https://fr.trustpilot.com/reviews/65993bf6c3bdbdc095bc970c',\n",
       "   '5',\n",
       "   'avis positif',\n",
       "   'bon acceuil  et bon conseil  beaucoup de choixvendeur  professionnel  et sympatique'],\n",
       "  ['https://fr.trustpilot.com/reviews/659a76654181f6437bb43971',\n",
       "   '5',\n",
       "   'Magasin agréable  personnel accueillant…',\n",
       "   'Magasin agréable  personnel accueillant et bon produitA conseiller'],\n",
       "  ['https://fr.trustpilot.com/reviews/6593c159d56956bb0724d1d2',\n",
       "   '5',\n",
       "   'Très jolie Cave',\n",
       "   'Très jolie Cave, Bons conseils, accueil très sympathique, a consommer sans modération. (pas le vin).'],\n",
       "  ['https://fr.trustpilot.com/reviews/658840eb9b2daeecd44d9223',\n",
       "   '5',\n",
       "   'Accueil chaleureux conseils avisés',\n",
       "   'Accueil chaleureux, du choix dans les différents alcools, les conseils avisés de Jacky… je ne peux que vous recommander d’y aller !']]]"
      ]
     },
     "execution_count": 37,
     "metadata": {},
     "output_type": "execute_result"
    }
   ],
   "source": [
    "revs[1]"
   ]
  },
  {
   "cell_type": "code",
   "execution_count": null,
   "metadata": {},
   "outputs": [],
   "source": []
  }
 ],
 "metadata": {
  "kernelspec": {
   "display_name": "nlp_project",
   "language": "python",
   "name": "python3"
  },
  "language_info": {
   "codemirror_mode": {
    "name": "ipython",
    "version": 3
   },
   "file_extension": ".py",
   "mimetype": "text/x-python",
   "name": "python",
   "nbconvert_exporter": "python",
   "pygments_lexer": "ipython3",
   "version": "3.10.13"
  }
 },
 "nbformat": 4,
 "nbformat_minor": 2
}
